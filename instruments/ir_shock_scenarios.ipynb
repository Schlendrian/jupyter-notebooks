{
 "cells": [
  {
   "cell_type": "code",
   "execution_count": 1,
   "metadata": {},
   "outputs": [
    {
     "data": {
      "text/html": [
       "        <script type=\"text/javascript\">\n",
       "        window.PlotlyConfig = {MathJaxConfig: 'local'};\n",
       "        if (window.MathJax) {MathJax.Hub.Config({SVG: {font: \"STIX-Web\"}});}\n",
       "        if (typeof require !== 'undefined') {\n",
       "        require.undef(\"plotly\");\n",
       "        requirejs.config({\n",
       "            paths: {\n",
       "                'plotly': ['https://cdn.plot.ly/plotly-latest.min']\n",
       "            }\n",
       "        });\n",
       "        require(['plotly'], function(Plotly) {\n",
       "            window._Plotly = Plotly;\n",
       "        });\n",
       "        }\n",
       "        </script>\n",
       "        "
      ]
     },
     "metadata": {},
     "output_type": "display_data"
    }
   ],
   "source": [
    "import pyvacon\n",
    "import pyvacon.marketdata.testdata as mkt_testdata\n",
    "import pyvacon.tools.enums as enums\n",
    "import pyvacon.marketdata.plot as mkt_plot\n",
    "import pyvacon.models.plot as model_plot\n",
    "import pyvacon.models.tools as model_tools\n",
    "import pyvacon.analytics as analytics\n",
    "import pyvacon.tools.converter as converter\n",
    "\n",
    "import datetime as dt\n",
    "import math\n",
    "import numpy as np\n",
    "\n",
    "import pandas as pd\n",
    "from pandas.plotting import register_matplotlib_converters\n",
    "register_matplotlib_converters()\n",
    "\n",
    "import plotly\n",
    "import plotly.graph_objs as go\n",
    "plotly.offline.init_notebook_mode(connected=True)\n",
    "\n",
    "import ipywidgets as widgets"
   ]
  },
  {
   "cell_type": "code",
   "execution_count": 2,
   "metadata": {
    "code_folding": []
   },
   "outputs": [],
   "source": [
    "# We define some constants, which we'll use repeatedly throughout this notebook\n",
    "grid_alpha = 0.4\n",
    "default_daycounter_type = enums.DayCounter.ACTACT\n",
    "default_interpolation_type = enums.InterpolationType.LINEAR\n",
    "default_extrapolation_type = enums.ExtrapolationType.NONE\n",
    "default_plotly_scatter_mode = 'lines'"
   ]
  },
  {
   "cell_type": "markdown",
   "metadata": {},
   "source": [
    "# Interest Rate Shock Scenarios"
   ]
  },
  {
   "cell_type": "code",
   "execution_count": 3,
   "metadata": {
    "code_folding": [
     2,
     14,
     23,
     32,
     41,
     50
    ]
   },
   "outputs": [],
   "source": [
    "# Define functions to help compute the shock scenarios\n",
    "\n",
    "def shortRateShock(t, basispoints):\n",
    "    if isinstance(t, (list, np.ndarray)):\n",
    "        result = []\n",
    "        for x in t:\n",
    "            result.append(shortRateShock(x, basispoints))\n",
    "        #print('list')\n",
    "        return result\n",
    "    #print('scalar')\n",
    "    #print(type(t))\n",
    "    return np.exp(-t/4) * basispoints\n",
    "\n",
    "\n",
    "def longRateShock(t, basispoints):\n",
    "    if isinstance(t, (list, np.ndarray)):\n",
    "        result = []\n",
    "        for x in t:\n",
    "            result.append(longRateShock(x, basispoints))\n",
    "        return result\n",
    "    return (1-math.exp(-t/4)) * basispoints\n",
    "\n",
    "\n",
    "def steepener(t, basispointsShort, basispointsLong):\n",
    "    if isinstance(t, (list, np.ndarray)):\n",
    "        result = []\n",
    "        for x in t:\n",
    "            result.append(steepener(x, basispointsShort, basispointsLong))\n",
    "        return result\n",
    "    return -0.65 * shortRateShock(t, basispointsShort)  +  0.9 * longRateShock(t, basispointsLong)\n",
    "\n",
    "\n",
    "def flattener(t, basispointsShort, basispointsLong):\n",
    "    if isinstance(t, (list, np.ndarray)):\n",
    "        result = []\n",
    "        for x in t:\n",
    "            result.append(flattener(x, basispointsShort, basispointsLong))\n",
    "        return result\n",
    "    return 0.8 * shortRateShock(t, basispointsShort)  -  0.6 * longRateShock(t, basispointsLong)\n",
    "\n",
    "\n",
    "def lowerBound(t):\n",
    "    if isinstance(t, (list, np.ndarray)):\n",
    "        result = []\n",
    "        for x in t:\n",
    "            result.append(lowerBound(x))\n",
    "        return result\n",
    "    return min(0, -100 + 5*t) # in basispoints\n",
    "\n",
    "\n",
    "def getShockValue(t, shockScenario, parallel = 0, short = 0, long = 0):\n",
    "    \n",
    "    if shockScenario == '':\n",
    "        return 0\n",
    "    \n",
    "    if shockScenario == 'Original':\n",
    "        return 0\n",
    "    \n",
    "    \n",
    "    \n",
    "    if shockScenario == 'Parallel':\n",
    "        return parallel\n",
    "    \n",
    "    if shockScenario == 'ParallelUp':\n",
    "        return parallel\n",
    "    \n",
    "    if shockScenario == 'ParallelDown':\n",
    "        return -parallel\n",
    "    \n",
    "    \n",
    "    \n",
    "    if shockScenario == 'Short':\n",
    "        return shortRateShock(t, short)\n",
    "    \n",
    "    if shockScenario == 'ShortUp':\n",
    "        return shortRateShock(t, short)\n",
    "    \n",
    "    if shockScenario == 'ShortDown':\n",
    "        return shortRateShock(t, -short)\n",
    "    \n",
    "    \n",
    "    \n",
    "    if shockScenario == 'Long':\n",
    "        return longRateShock(t, long)\n",
    "    \n",
    "    if shockScenario == 'LongUp':\n",
    "        return longRateShock(t, long)\n",
    "    \n",
    "    if shockScenario == 'LongDown':\n",
    "        return longRateShock(t, -long)\n",
    "    \n",
    "    \n",
    "    \n",
    "    if shockScenario == 'Flatten':\n",
    "        return flattener(t, short, long)\n",
    "    \n",
    "    if shockScenario == 'Steepen':\n",
    "        return steepener(t, short, long)\n",
    "    \n",
    "    \n",
    "    raise Exception('I don\\'t know a scenario of the name \\'' + shockScenario + '\\'')"
   ]
  },
  {
   "cell_type": "code",
   "execution_count": 4,
   "metadata": {
    "code_folding": [
     2
    ]
   },
   "outputs": [],
   "source": [
    "# Define a function, which shifts a vector of interest rates according to a given shock scenario\n",
    "\n",
    "def getShockedInterestRates(\n",
    "        refdate,\n",
    "        dates,\n",
    "        interestRates,\n",
    "        daycounter,\n",
    "        shockScenario,\n",
    "        parallel = 0,\n",
    "        short = 0,\n",
    "        long = 0,\n",
    "        useLowerBound = True):\n",
    "    if len(interestRates) != len(dates):\n",
    "        raise Exception('You need to provide an equal number of interest rates and sampling dates.')\n",
    "    \n",
    "    shockedInterestRates = []\n",
    "    \n",
    "    for i in range(len(dates)):\n",
    "        t = daycounter.yf(refdate, dates[i])\n",
    "        rate = interestRates[i] + getShockValue(t, shockScenario, parallel, short, long)\n",
    "        if useLowerBound:\n",
    "            rate = max(rate, lowerBound(t))\n",
    "        shockedInterestRates.append(rate)\n",
    "    \n",
    "    #print(shockedInterestRates)\n",
    "    \n",
    "    return shockedInterestRates"
   ]
  },
  {
   "cell_type": "code",
   "execution_count": 5,
   "metadata": {
    "code_folding": [
     2
    ]
   },
   "outputs": [],
   "source": [
    "# Define a function, which shifts a vector of discount factors according to a given shock scenario\n",
    "\n",
    "def getShockedDiscountFactors(\n",
    "        refdate,\n",
    "        dates,\n",
    "        interestRates,\n",
    "        daycounter,\n",
    "        shockScenario,\n",
    "        parallel = 0,\n",
    "        short = 0,\n",
    "        long = 0,\n",
    "        useLowerBound = True):\n",
    "    \n",
    "    if len(interestRates) != len(dates):\n",
    "        raise Exception('You need to provide an equal number of discount factors and sampling dates.')\n",
    "    \n",
    "    shockedInteresRates = getShockedInterestRates(\n",
    "        refdate,\n",
    "        dates,\n",
    "        interestRates,\n",
    "        daycounter,\n",
    "        shockScenario,\n",
    "        parallel,\n",
    "        short,\n",
    "        long,\n",
    "        useLowerBound\n",
    "    )    \n",
    "    \n",
    "    shockedDiscountFactors = []\n",
    "    #shockedDiscountFactors = analytics.vectorDouble(len(dates))\n",
    "    #print(shockedDiscountFactors)\n",
    "    \n",
    "    for i in range(len(dates)):\n",
    "        t = daycounter.yf(refdate, dates[i])\n",
    "        rate = shockedInteresRates[i]/100/100 # are given in basis points -> convert to decimal number\n",
    "        shockedDiscountFactors.append(math.exp(-t*rate))\n",
    "        #shockedDiscountFactors[i] = discountFactors[i] + getShockValue(t, shockScenario, parallel, short, long)\n",
    "        #print(shockedDiscountFactors)\n",
    "    \n",
    "    #print(\"//////////////////////////////////////////////\")\n",
    "    #print(shockedInteresRates)\n",
    "    #print(\"-----------------------\")\n",
    "    #print(shockedDiscountFactors)\n",
    "    #print(\"//////////////////////////////////////////////\")\n",
    "    \n",
    "    return shockedDiscountFactors"
   ]
  },
  {
   "cell_type": "code",
   "execution_count": 6,
   "metadata": {
    "code_folding": [
     3
    ]
   },
   "outputs": [],
   "source": [
    "# Define a function, which shifts a discount curve according to a given shock scenario   \n",
    "# We now use these shifted discount factors to construct shifted discount curves     \n",
    "    \n",
    "def getShockedDiscountCurve(\n",
    "        name,\n",
    "        refdate,\n",
    "        dates,\n",
    "        interestRates,\n",
    "        daycounterType,\n",
    "        interpolationType,\n",
    "        extrapolationType,\n",
    "        shockScenario,\n",
    "        parallel = 0,\n",
    "        short = 0,\n",
    "        long = 0,\n",
    "        useLowerBound = True):\n",
    "    \n",
    "    shockedDFs = getShockedDiscountFactors(\n",
    "        refdate,\n",
    "        dates,\n",
    "        interestRates,\n",
    "        analytics.DayCounter(daycounterType),\n",
    "        shockScenario,\n",
    "        parallel,\n",
    "        short,\n",
    "        long,\n",
    "        useLowerBound\n",
    "    )    \n",
    "    \n",
    "    #print(shockedDFs)\n",
    "    \n",
    "    return analytics.DiscountCurve(\n",
    "        name,\n",
    "        refdate,\n",
    "        dates,\n",
    "        shockedDFs,\n",
    "        daycounterType,\n",
    "        interpolationType,\n",
    "        extrapolationType\n",
    "    )  "
   ]
  },
  {
   "cell_type": "markdown",
   "metadata": {},
   "source": [
    "## The scenarios"
   ]
  },
  {
   "cell_type": "code",
   "execution_count": 7,
   "metadata": {},
   "outputs": [],
   "source": [
    "# Define the parameters for the shock scenarios\n",
    "shockparams_by_currency = pd.DataFrame({'Currency': [], 'Parallel': [], 'Short': [], 'Long': []})\n",
    "shockparams_by_currency = shockparams_by_currency.append({'Currency': 'EUR', 'Parallel': 200, 'Short': 250, 'Long': 100}, ignore_index = True)\n",
    "shockparams_by_currency = shockparams_by_currency.append({'Currency': 'GBP', 'Parallel': 250, 'Short': 300, 'Long': 150}, ignore_index = True)\n",
    "shockparams_by_currency = shockparams_by_currency.append({'Currency': 'USD', 'Parallel': 200, 'Short': 300, 'Long': 150}, ignore_index = True)\n",
    "\n",
    "# Choose the standard params we're using in this notebook\n",
    "shockparams_standard = shockparams_by_currency.loc[shockparams_by_currency['Currency'] == 'EUR'].loc[0]"
   ]
  },
  {
   "cell_type": "markdown",
   "metadata": {},
   "source": [
    "### Plot the shock scenarios\n",
    "In this section, we illustrate the interest rate scenarios by applying them to an interest rate curve with constant interest rate 0."
   ]
  },
  {
   "cell_type": "code",
   "execution_count": 8,
   "metadata": {},
   "outputs": [],
   "source": [
    "refdate_scenarios = dt.datetime(year = 2020, month = 1 , day = 1)\n",
    "\n",
    "sampling_points_simple_example_yf = [1/365] # 1 day\n",
    "sampling_points_simple_example_yf.extend( (np.arange(11)+1)/12 ) # 1 to 11 months\n",
    "sampling_points_simple_example_yf.extend(np.arange(30)+1) # 1 to 30 years\n",
    "\n",
    "sampling_points_simple_example = []\n",
    "sampling_points_simple_example.append(refdate_scenarios + dt.timedelta(days = 1))\n",
    "for i in range(11):\n",
    "    sampling_points_simple_example.append(refdate_scenarios + dt.timedelta(days = (i+1)*30))\n",
    "for i in range(30):\n",
    "    year = refdate_scenarios.year + i + 1\n",
    "    month = refdate_scenarios.month\n",
    "    day = refdate_scenarios.day\n",
    "    sampling_points_simple_example.append(\n",
    "        dt.datetime(year = year, month = month , day = day)\n",
    "    )"
   ]
  },
  {
   "cell_type": "code",
   "execution_count": 9,
   "metadata": {
    "code_folding": [
     0
    ]
   },
   "outputs": [],
   "source": [
    "# def plot_shock_scenarios(\n",
    "#     samplingPoints,\n",
    "#     shockParams\n",
    "# ):\n",
    "#     parallel = shockParams['Parallel']\n",
    "#     short = shockParams['Short']\n",
    "#     long = shockParams['Long']   \n",
    "    \n",
    "#     fig = go.Figure()\n",
    "\n",
    "#     fig.add_trace(go.Scatter(x = samplingPoints, y = [0]*len(samplingPoints), name = 'Original', mode = default_plotly_scatter_mode))\n",
    "#     fig.add_trace(go.Scatter(x = samplingPoints, y = [parallel]*len(samplingPoints), name = 'ParallelUp', mode = default_plotly_scatter_mode))\n",
    "#     fig.add_trace(go.Scatter(x = samplingPoints, y = [-parallel]*len(samplingPoints), name = 'ParallelDown', mode = default_plotly_scatter_mode))\n",
    "#     fig.add_trace(go.Scatter(x = samplingPoints, y = shortRateShock(samplingPoints, short), name = 'ShortUp', mode = default_plotly_scatter_mode))\n",
    "#     fig.add_trace(go.Scatter(x = samplingPoints, y = shortRateShock(samplingPoints, -short), name = 'ShortDown', mode = default_plotly_scatter_mode))\n",
    "#     fig.add_trace(go.Scatter(x = samplingPoints, y = longRateShock(samplingPoints, long), name = 'LongUp', mode = default_plotly_scatter_mode))\n",
    "#     fig.add_trace(go.Scatter(x = samplingPoints, y = longRateShock(samplingPoints, -long), name = 'LongDown', mode = default_plotly_scatter_mode))\n",
    "#     fig.add_trace(go.Scatter(x = samplingPoints, y = flattener(samplingPoints, short, long), name = 'Flattener', mode = default_plotly_scatter_mode))\n",
    "#     fig.add_trace(go.Scatter(x = samplingPoints, y = steepener(samplingPoints, short, long), name = 'Steepener', mode = default_plotly_scatter_mode))\n",
    "\n",
    "#     fig.update_layout(\n",
    "#         showlegend=True,\n",
    "#         xaxis = dict(title_text = \"Expiry (in years)\"),\n",
    "#         yaxis = dict(title_text = \"Interest rate (in basis points)\")\n",
    "#     )\n",
    "\n",
    "#     fig.show()\n",
    "\n",
    "    \n",
    "\n",
    "# plot_shock_scenarios(sampling_points_simple_example_yf, shockparams_standard)"
   ]
  },
  {
   "cell_type": "code",
   "execution_count": 10,
   "metadata": {
    "code_folding": [
     0,
     1,
     8
    ]
   },
   "outputs": [
    {
     "data": {
      "application/vnd.plotly.v1+json": {
       "config": {
        "plotlyServerURL": "https://plot.ly"
       },
       "data": [
        {
         "mode": "lines",
         "name": "Original",
         "type": "scatter",
         "x": [
          0.00273224043715847,
          0.08196721311475409,
          0.16393442622950818,
          0.2459016393442623,
          0.32786885245901637,
          0.4098360655737705,
          0.4918032786885246,
          0.5737704918032787,
          0.6557377049180327,
          0.7377049180327869,
          0.819672131147541,
          0.9016393442622951,
          1,
          2,
          3,
          4,
          5,
          6,
          7,
          8,
          9,
          10,
          11,
          12,
          13,
          14,
          15,
          16,
          17,
          18,
          19,
          20,
          21,
          22,
          23,
          24,
          25,
          26,
          27,
          28,
          29,
          30
         ],
         "y": [
          0,
          0,
          0,
          0,
          0,
          0,
          0,
          0,
          0,
          0,
          0,
          0,
          0,
          0,
          0,
          0,
          0,
          0,
          0,
          0,
          0,
          0,
          0,
          0,
          0,
          0,
          0,
          0,
          0,
          0,
          0,
          0,
          0,
          0,
          0,
          0,
          0,
          0,
          0,
          0,
          0,
          0
         ]
        },
        {
         "mode": "lines",
         "name": "ParallelUp",
         "type": "scatter",
         "x": [
          0.00273224043715847,
          0.08196721311475409,
          0.16393442622950818,
          0.2459016393442623,
          0.32786885245901637,
          0.4098360655737705,
          0.4918032786885246,
          0.5737704918032787,
          0.6557377049180327,
          0.7377049180327869,
          0.819672131147541,
          0.9016393442622951,
          1,
          2,
          3,
          4,
          5,
          6,
          7,
          8,
          9,
          10,
          11,
          12,
          13,
          14,
          15,
          16,
          17,
          18,
          19,
          20,
          21,
          22,
          23,
          24,
          25,
          26,
          27,
          28,
          29,
          30
         ],
         "y": [
          200,
          200,
          200,
          200,
          200,
          200,
          200,
          200,
          200,
          200,
          200,
          200,
          200,
          200,
          200,
          200,
          200,
          200,
          200,
          200,
          200,
          200,
          200,
          200,
          200,
          200,
          200,
          200,
          200,
          200,
          200,
          200,
          200,
          200,
          200,
          200,
          200,
          200,
          200,
          200,
          200,
          200
         ]
        },
        {
         "mode": "lines",
         "name": "ParallelDown",
         "type": "scatter",
         "x": [
          0.00273224043715847,
          0.08196721311475409,
          0.16393442622950818,
          0.2459016393442623,
          0.32786885245901637,
          0.4098360655737705,
          0.4918032786885246,
          0.5737704918032787,
          0.6557377049180327,
          0.7377049180327869,
          0.819672131147541,
          0.9016393442622951,
          1,
          2,
          3,
          4,
          5,
          6,
          7,
          8,
          9,
          10,
          11,
          12,
          13,
          14,
          15,
          16,
          17,
          18,
          19,
          20,
          21,
          22,
          23,
          24,
          25,
          26,
          27,
          28,
          29,
          30
         ],
         "y": [
          -200,
          -200,
          -200,
          -200,
          -200,
          -200,
          -200,
          -200,
          -200,
          -200,
          -200,
          -200,
          -200,
          -200,
          -200,
          -200,
          -200,
          -200,
          -200,
          -200,
          -200,
          -200,
          -200,
          -200,
          -200,
          -200,
          -200,
          -200,
          -200,
          -200,
          -200,
          -200,
          -200,
          -200,
          -200,
          -200,
          -200,
          -200,
          -200,
          -200,
          -200,
          -200
         ]
        },
        {
         "mode": "lines",
         "name": "ShortUp",
         "type": "scatter",
         "x": [
          0.00273224043715847,
          0.08196721311475409,
          0.16393442622950818,
          0.2459016393442623,
          0.32786885245901637,
          0.4098360655737705,
          0.4918032786885246,
          0.5737704918032787,
          0.6557377049180327,
          0.7377049180327869,
          0.819672131147541,
          0.9016393442622951,
          1,
          2,
          3,
          4,
          5,
          6,
          7,
          8,
          9,
          10,
          11,
          12,
          13,
          14,
          15,
          16,
          17,
          18,
          19,
          20,
          21,
          22,
          23,
          24,
          25,
          26,
          27,
          28,
          29,
          30
         ],
         "y": [
          249.82929328078998,
          244.92918172664523,
          239.96121624513597,
          235.09401736420688,
          230.32554120737964,
          225.6537853546808,
          221.076788001768,
          216.59262713611218,
          212.1994197298893,
          207.8953209492429,
          203.67852337958536,
          199.5472562666129,
          194.70019576785123,
          151.63266492815836,
          118.09163818525367,
          91.96986029286059,
          71.62619921504752,
          55.78254003710745,
          43.44348586261128,
          33.833820809153174,
          26.349806140466082,
          20.5212496559747,
          15.981965301676892,
          12.446767091965986,
          9.693551957930502,
          7.549345855579626,
          5.879436464002277,
          4.578909722183544,
          3.566058477249814,
          2.7772491345605763,
          2.1629238007801583,
          1.6844867497713667,
          1.311879599795346,
          1.0216928596160166,
          0.7956951991274167,
          0.6196880441665896,
          0.4826135340569273,
          0.3758597982443931,
          0.2927199051977936,
          0.22797049138862907,
          0.17754359721063726,
          0.1382710925369584
         ]
        },
        {
         "mode": "lines",
         "name": "ShortDown",
         "type": "scatter",
         "x": [
          0.00273224043715847,
          0.08196721311475409,
          0.16393442622950818,
          0.2459016393442623,
          0.32786885245901637,
          0.4098360655737705,
          0.4918032786885246,
          0.5737704918032787,
          0.6557377049180327,
          0.7377049180327869,
          0.819672131147541,
          0.9016393442622951,
          1,
          2,
          3,
          4,
          5,
          6,
          7,
          8,
          9,
          10,
          11,
          12,
          13,
          14,
          15,
          16,
          17,
          18,
          19,
          20,
          21,
          22,
          23,
          24,
          25,
          26,
          27,
          28,
          29,
          30
         ],
         "y": [
          -249.82929328078998,
          -244.92918172664523,
          -239.96121624513597,
          -235.09401736420688,
          -230.32554120737964,
          -225.6537853546808,
          -221.076788001768,
          -216.59262713611218,
          -212.1994197298893,
          -207.8953209492429,
          -203.67852337958536,
          -199.5472562666129,
          -194.70019576785123,
          -151.63266492815836,
          -118.09163818525367,
          -91.96986029286059,
          -71.62619921504752,
          -55.78254003710745,
          -43.44348586261128,
          -33.833820809153174,
          -26.349806140466082,
          -20.5212496559747,
          -15.981965301676892,
          -12.446767091965986,
          -9.693551957930502,
          -7.549345855579626,
          -5.879436464002277,
          -4.578909722183544,
          -3.566058477249814,
          -2.7772491345605763,
          -2.1629238007801583,
          -1.6844867497713667,
          -1.311879599795346,
          -1.0216928596160166,
          -0.7956951991274167,
          -0.6196880441665896,
          -0.4826135340569273,
          -0.3758597982443931,
          -0.2927199051977936,
          -0.22797049138862907,
          -0.17754359721063726,
          -0.1382710925369584
         ]
        },
        {
         "mode": "lines",
         "name": "LongUp",
         "type": "scatter",
         "x": [
          0.00273224043715847,
          0.08196721311475409,
          0.16393442622950818,
          0.2459016393442623,
          0.32786885245901637,
          0.4098360655737705,
          0.4918032786885246,
          0.5737704918032787,
          0.6557377049180327,
          0.7377049180327869,
          0.819672131147541,
          0.9016393442622951,
          1,
          2,
          3,
          4,
          5,
          6,
          7,
          8,
          9,
          10,
          11,
          12,
          13,
          14,
          15,
          16,
          17,
          18,
          19,
          20,
          21,
          22,
          23,
          24,
          25,
          26,
          27,
          28,
          29,
          30
         ],
         "y": [
          0.06828268768400703,
          2.028327309341915,
          4.015513501945611,
          5.96239305431725,
          7.869783517048146,
          9.738485858127689,
          11.5692847992928,
          13.362949145555126,
          15.120232108044274,
          16.84187162030284,
          18.528590648165853,
          20.181097493354848,
          22.119921692859513,
          39.346934028736655,
          52.763344725898534,
          63.212055882855765,
          71.34952031398099,
          77.68698398515703,
          82.62260565495548,
          86.46647167633873,
          89.46007754381357,
          91.79150013761011,
          93.60721387932924,
          95.0212931632136,
          96.1225792168278,
          96.98026165776815,
          97.64822541439909,
          98.16843611112658,
          98.57357660910007,
          98.88910034617578,
          99.13483047968793,
          99.32620530009146,
          99.47524816008186,
          99.5913228561536,
          99.68172192034903,
          99.75212478233337,
          99.80695458637723,
          99.84965608070225,
          99.88291203792087,
          99.90881180344455,
          99.92898256111575,
          99.94469156298523
         ]
        },
        {
         "mode": "lines",
         "name": "LongDown",
         "type": "scatter",
         "x": [
          0.00273224043715847,
          0.08196721311475409,
          0.16393442622950818,
          0.2459016393442623,
          0.32786885245901637,
          0.4098360655737705,
          0.4918032786885246,
          0.5737704918032787,
          0.6557377049180327,
          0.7377049180327869,
          0.819672131147541,
          0.9016393442622951,
          1,
          2,
          3,
          4,
          5,
          6,
          7,
          8,
          9,
          10,
          11,
          12,
          13,
          14,
          15,
          16,
          17,
          18,
          19,
          20,
          21,
          22,
          23,
          24,
          25,
          26,
          27,
          28,
          29,
          30
         ],
         "y": [
          -0.06828268768400703,
          -2.028327309341915,
          -4.015513501945611,
          -5.96239305431725,
          -7.869783517048146,
          -9.738485858127689,
          -11.5692847992928,
          -13.362949145555126,
          -15.120232108044274,
          -16.84187162030284,
          -18.528590648165853,
          -20.181097493354848,
          -22.119921692859513,
          -39.346934028736655,
          -52.763344725898534,
          -63.212055882855765,
          -71.34952031398099,
          -77.68698398515703,
          -82.62260565495548,
          -86.46647167633873,
          -89.46007754381357,
          -91.79150013761011,
          -93.60721387932924,
          -95.0212931632136,
          -96.1225792168278,
          -96.98026165776815,
          -97.64822541439909,
          -98.16843611112658,
          -98.57357660910007,
          -98.88910034617578,
          -99.13483047968793,
          -99.32620530009146,
          -99.47524816008186,
          -99.5913228561536,
          -99.68172192034903,
          -99.75212478233337,
          -99.80695458637723,
          -99.84965608070225,
          -99.88291203792087,
          -99.90881180344455,
          -99.92898256111575,
          -99.94469156298523
         ]
        },
        {
         "mode": "lines",
         "name": "Flatten",
         "type": "scatter",
         "x": [
          0.00273224043715847,
          0.08196721311475409,
          0.16393442622950818,
          0.2459016393442623,
          0.32786885245901637,
          0.4098360655737705,
          0.4918032786885246,
          0.5737704918032787,
          0.6557377049180327,
          0.7377049180327869,
          0.819672131147541,
          0.9016393442622951,
          1,
          2,
          3,
          4,
          5,
          6,
          7,
          8,
          9,
          10,
          11,
          12,
          13,
          14,
          15,
          16,
          17,
          18,
          19,
          20,
          21,
          22,
          23,
          24,
          25,
          26,
          27,
          28,
          29,
          30
         ],
         "y": [
          199.82246501202158,
          194.72634899571105,
          189.55966489494142,
          184.49777805877517,
          179.53856285567485,
          174.67993676886803,
          169.9198595218387,
          165.25633222155668,
          160.6873965190849,
          156.21113378721262,
          151.8256643147688,
          147.5291465172774,
          142.4882035985653,
          97.6979715252847,
          62.81530371266383,
          35.648654704575016,
          14.491247183649428,
          -1.9861583614082505,
          -14.818774702884255,
          -24.812826358480695,
          -32.59620161391527,
          -38.6579003577863,
          -43.378756086256026,
          -47.05536222435537,
          -49.918705963752274,
          -52.148680310197186,
          -53.88538607743763,
          -55.237933888929106,
          -56.291299183660186,
          -57.111660900057004,
          -57.75055924718863,
          -58.24813378023778,
          -58.635645216212836,
          -58.93743942599934,
          -59.172476992907484,
          -59.355524434066744,
          -59.498081924580795,
          -59.60910580982583,
          -59.69557129859429,
          -59.76291068895583,
          -59.81535465890094,
          -59.85619806376157
         ]
        },
        {
         "mode": "lines",
         "name": "Steepen",
         "type": "scatter",
         "x": [
          0.00273224043715847,
          0.08196721311475409,
          0.16393442622950818,
          0.2459016393442623,
          0.32786885245901637,
          0.4098360655737705,
          0.4918032786885246,
          0.5737704918032787,
          0.6557377049180327,
          0.7377049180327869,
          0.819672131147541,
          0.9016393442622951,
          1,
          2,
          3,
          4,
          5,
          6,
          7,
          8,
          9,
          10,
          11,
          12,
          13,
          14,
          15,
          16,
          17,
          18,
          19,
          20,
          21,
          22,
          23,
          24,
          25,
          26,
          27,
          28,
          29,
          30
         ],
         "y": [
          -162.32758621359787,
          -157.37847354391167,
          -152.36082840758732,
          -147.44495753784895,
          -142.62879661945345,
          -137.9103232082276,
          -133.2875558817857,
          -128.7585534074733,
          -124.32141392718822,
          -119.97427415873533,
          -115.71530861338124,
          -111.54272882927903,
          -106.64719772552974,
          -63.14899157743994,
          -29.272554567106212,
          -2.889558895789193,
          17.657538792802,
          33.65963456252149,
          46.12207927876259,
          55.82784098275529,
          63.38669579812926,
          69.27353784746556,
          73.85821504530634,
          77.42876523711435,
          80.20951252249019,
          82.37516068586459,
          84.0617691713577,
          85.37530118059462,
          86.39828093797769,
          87.19497837409382,
          87.81544696121203,
          88.29866838273092,
          88.6750016042067,
          88.96809021178782,
          89.19634784888132,
          89.37411507539176,
          89.5125603306025,
          89.62038160377317,
          89.70435289575022,
          89.76974980369748,
          89.82068096681726,
          89.86034619653768
         ]
        }
       ],
       "layout": {
        "showlegend": true,
        "template": {
         "data": {
          "bar": [
           {
            "error_x": {
             "color": "#2a3f5f"
            },
            "error_y": {
             "color": "#2a3f5f"
            },
            "marker": {
             "line": {
              "color": "#E5ECF6",
              "width": 0.5
             }
            },
            "type": "bar"
           }
          ],
          "barpolar": [
           {
            "marker": {
             "line": {
              "color": "#E5ECF6",
              "width": 0.5
             }
            },
            "type": "barpolar"
           }
          ],
          "carpet": [
           {
            "aaxis": {
             "endlinecolor": "#2a3f5f",
             "gridcolor": "white",
             "linecolor": "white",
             "minorgridcolor": "white",
             "startlinecolor": "#2a3f5f"
            },
            "baxis": {
             "endlinecolor": "#2a3f5f",
             "gridcolor": "white",
             "linecolor": "white",
             "minorgridcolor": "white",
             "startlinecolor": "#2a3f5f"
            },
            "type": "carpet"
           }
          ],
          "choropleth": [
           {
            "colorbar": {
             "outlinewidth": 0,
             "ticks": ""
            },
            "type": "choropleth"
           }
          ],
          "contour": [
           {
            "colorbar": {
             "outlinewidth": 0,
             "ticks": ""
            },
            "colorscale": [
             [
              0,
              "#0d0887"
             ],
             [
              0.1111111111111111,
              "#46039f"
             ],
             [
              0.2222222222222222,
              "#7201a8"
             ],
             [
              0.3333333333333333,
              "#9c179e"
             ],
             [
              0.4444444444444444,
              "#bd3786"
             ],
             [
              0.5555555555555556,
              "#d8576b"
             ],
             [
              0.6666666666666666,
              "#ed7953"
             ],
             [
              0.7777777777777778,
              "#fb9f3a"
             ],
             [
              0.8888888888888888,
              "#fdca26"
             ],
             [
              1,
              "#f0f921"
             ]
            ],
            "type": "contour"
           }
          ],
          "contourcarpet": [
           {
            "colorbar": {
             "outlinewidth": 0,
             "ticks": ""
            },
            "type": "contourcarpet"
           }
          ],
          "heatmap": [
           {
            "colorbar": {
             "outlinewidth": 0,
             "ticks": ""
            },
            "colorscale": [
             [
              0,
              "#0d0887"
             ],
             [
              0.1111111111111111,
              "#46039f"
             ],
             [
              0.2222222222222222,
              "#7201a8"
             ],
             [
              0.3333333333333333,
              "#9c179e"
             ],
             [
              0.4444444444444444,
              "#bd3786"
             ],
             [
              0.5555555555555556,
              "#d8576b"
             ],
             [
              0.6666666666666666,
              "#ed7953"
             ],
             [
              0.7777777777777778,
              "#fb9f3a"
             ],
             [
              0.8888888888888888,
              "#fdca26"
             ],
             [
              1,
              "#f0f921"
             ]
            ],
            "type": "heatmap"
           }
          ],
          "heatmapgl": [
           {
            "colorbar": {
             "outlinewidth": 0,
             "ticks": ""
            },
            "colorscale": [
             [
              0,
              "#0d0887"
             ],
             [
              0.1111111111111111,
              "#46039f"
             ],
             [
              0.2222222222222222,
              "#7201a8"
             ],
             [
              0.3333333333333333,
              "#9c179e"
             ],
             [
              0.4444444444444444,
              "#bd3786"
             ],
             [
              0.5555555555555556,
              "#d8576b"
             ],
             [
              0.6666666666666666,
              "#ed7953"
             ],
             [
              0.7777777777777778,
              "#fb9f3a"
             ],
             [
              0.8888888888888888,
              "#fdca26"
             ],
             [
              1,
              "#f0f921"
             ]
            ],
            "type": "heatmapgl"
           }
          ],
          "histogram": [
           {
            "marker": {
             "colorbar": {
              "outlinewidth": 0,
              "ticks": ""
             }
            },
            "type": "histogram"
           }
          ],
          "histogram2d": [
           {
            "colorbar": {
             "outlinewidth": 0,
             "ticks": ""
            },
            "colorscale": [
             [
              0,
              "#0d0887"
             ],
             [
              0.1111111111111111,
              "#46039f"
             ],
             [
              0.2222222222222222,
              "#7201a8"
             ],
             [
              0.3333333333333333,
              "#9c179e"
             ],
             [
              0.4444444444444444,
              "#bd3786"
             ],
             [
              0.5555555555555556,
              "#d8576b"
             ],
             [
              0.6666666666666666,
              "#ed7953"
             ],
             [
              0.7777777777777778,
              "#fb9f3a"
             ],
             [
              0.8888888888888888,
              "#fdca26"
             ],
             [
              1,
              "#f0f921"
             ]
            ],
            "type": "histogram2d"
           }
          ],
          "histogram2dcontour": [
           {
            "colorbar": {
             "outlinewidth": 0,
             "ticks": ""
            },
            "colorscale": [
             [
              0,
              "#0d0887"
             ],
             [
              0.1111111111111111,
              "#46039f"
             ],
             [
              0.2222222222222222,
              "#7201a8"
             ],
             [
              0.3333333333333333,
              "#9c179e"
             ],
             [
              0.4444444444444444,
              "#bd3786"
             ],
             [
              0.5555555555555556,
              "#d8576b"
             ],
             [
              0.6666666666666666,
              "#ed7953"
             ],
             [
              0.7777777777777778,
              "#fb9f3a"
             ],
             [
              0.8888888888888888,
              "#fdca26"
             ],
             [
              1,
              "#f0f921"
             ]
            ],
            "type": "histogram2dcontour"
           }
          ],
          "mesh3d": [
           {
            "colorbar": {
             "outlinewidth": 0,
             "ticks": ""
            },
            "type": "mesh3d"
           }
          ],
          "parcoords": [
           {
            "line": {
             "colorbar": {
              "outlinewidth": 0,
              "ticks": ""
             }
            },
            "type": "parcoords"
           }
          ],
          "scatter": [
           {
            "marker": {
             "colorbar": {
              "outlinewidth": 0,
              "ticks": ""
             }
            },
            "type": "scatter"
           }
          ],
          "scatter3d": [
           {
            "line": {
             "colorbar": {
              "outlinewidth": 0,
              "ticks": ""
             }
            },
            "marker": {
             "colorbar": {
              "outlinewidth": 0,
              "ticks": ""
             }
            },
            "type": "scatter3d"
           }
          ],
          "scattercarpet": [
           {
            "marker": {
             "colorbar": {
              "outlinewidth": 0,
              "ticks": ""
             }
            },
            "type": "scattercarpet"
           }
          ],
          "scattergeo": [
           {
            "marker": {
             "colorbar": {
              "outlinewidth": 0,
              "ticks": ""
             }
            },
            "type": "scattergeo"
           }
          ],
          "scattergl": [
           {
            "marker": {
             "colorbar": {
              "outlinewidth": 0,
              "ticks": ""
             }
            },
            "type": "scattergl"
           }
          ],
          "scattermapbox": [
           {
            "marker": {
             "colorbar": {
              "outlinewidth": 0,
              "ticks": ""
             }
            },
            "type": "scattermapbox"
           }
          ],
          "scatterpolar": [
           {
            "marker": {
             "colorbar": {
              "outlinewidth": 0,
              "ticks": ""
             }
            },
            "type": "scatterpolar"
           }
          ],
          "scatterpolargl": [
           {
            "marker": {
             "colorbar": {
              "outlinewidth": 0,
              "ticks": ""
             }
            },
            "type": "scatterpolargl"
           }
          ],
          "scatterternary": [
           {
            "marker": {
             "colorbar": {
              "outlinewidth": 0,
              "ticks": ""
             }
            },
            "type": "scatterternary"
           }
          ],
          "surface": [
           {
            "colorbar": {
             "outlinewidth": 0,
             "ticks": ""
            },
            "colorscale": [
             [
              0,
              "#0d0887"
             ],
             [
              0.1111111111111111,
              "#46039f"
             ],
             [
              0.2222222222222222,
              "#7201a8"
             ],
             [
              0.3333333333333333,
              "#9c179e"
             ],
             [
              0.4444444444444444,
              "#bd3786"
             ],
             [
              0.5555555555555556,
              "#d8576b"
             ],
             [
              0.6666666666666666,
              "#ed7953"
             ],
             [
              0.7777777777777778,
              "#fb9f3a"
             ],
             [
              0.8888888888888888,
              "#fdca26"
             ],
             [
              1,
              "#f0f921"
             ]
            ],
            "type": "surface"
           }
          ],
          "table": [
           {
            "cells": {
             "fill": {
              "color": "#EBF0F8"
             },
             "line": {
              "color": "white"
             }
            },
            "header": {
             "fill": {
              "color": "#C8D4E3"
             },
             "line": {
              "color": "white"
             }
            },
            "type": "table"
           }
          ]
         },
         "layout": {
          "annotationdefaults": {
           "arrowcolor": "#2a3f5f",
           "arrowhead": 0,
           "arrowwidth": 1
          },
          "colorscale": {
           "diverging": [
            [
             0,
             "#8e0152"
            ],
            [
             0.1,
             "#c51b7d"
            ],
            [
             0.2,
             "#de77ae"
            ],
            [
             0.3,
             "#f1b6da"
            ],
            [
             0.4,
             "#fde0ef"
            ],
            [
             0.5,
             "#f7f7f7"
            ],
            [
             0.6,
             "#e6f5d0"
            ],
            [
             0.7,
             "#b8e186"
            ],
            [
             0.8,
             "#7fbc41"
            ],
            [
             0.9,
             "#4d9221"
            ],
            [
             1,
             "#276419"
            ]
           ],
           "sequential": [
            [
             0,
             "#0d0887"
            ],
            [
             0.1111111111111111,
             "#46039f"
            ],
            [
             0.2222222222222222,
             "#7201a8"
            ],
            [
             0.3333333333333333,
             "#9c179e"
            ],
            [
             0.4444444444444444,
             "#bd3786"
            ],
            [
             0.5555555555555556,
             "#d8576b"
            ],
            [
             0.6666666666666666,
             "#ed7953"
            ],
            [
             0.7777777777777778,
             "#fb9f3a"
            ],
            [
             0.8888888888888888,
             "#fdca26"
            ],
            [
             1,
             "#f0f921"
            ]
           ],
           "sequentialminus": [
            [
             0,
             "#0d0887"
            ],
            [
             0.1111111111111111,
             "#46039f"
            ],
            [
             0.2222222222222222,
             "#7201a8"
            ],
            [
             0.3333333333333333,
             "#9c179e"
            ],
            [
             0.4444444444444444,
             "#bd3786"
            ],
            [
             0.5555555555555556,
             "#d8576b"
            ],
            [
             0.6666666666666666,
             "#ed7953"
            ],
            [
             0.7777777777777778,
             "#fb9f3a"
            ],
            [
             0.8888888888888888,
             "#fdca26"
            ],
            [
             1,
             "#f0f921"
            ]
           ]
          },
          "colorway": [
           "#636efa",
           "#EF553B",
           "#00cc96",
           "#ab63fa",
           "#FFA15A",
           "#19d3f3",
           "#FF6692",
           "#B6E880",
           "#FF97FF",
           "#FECB52"
          ],
          "font": {
           "color": "#2a3f5f"
          },
          "geo": {
           "bgcolor": "white",
           "lakecolor": "white",
           "landcolor": "#E5ECF6",
           "showlakes": true,
           "showland": true,
           "subunitcolor": "white"
          },
          "hoverlabel": {
           "align": "left"
          },
          "hovermode": "closest",
          "mapbox": {
           "style": "light"
          },
          "paper_bgcolor": "white",
          "plot_bgcolor": "#E5ECF6",
          "polar": {
           "angularaxis": {
            "gridcolor": "white",
            "linecolor": "white",
            "ticks": ""
           },
           "bgcolor": "#E5ECF6",
           "radialaxis": {
            "gridcolor": "white",
            "linecolor": "white",
            "ticks": ""
           }
          },
          "scene": {
           "xaxis": {
            "backgroundcolor": "#E5ECF6",
            "gridcolor": "white",
            "gridwidth": 2,
            "linecolor": "white",
            "showbackground": true,
            "ticks": "",
            "zerolinecolor": "white"
           },
           "yaxis": {
            "backgroundcolor": "#E5ECF6",
            "gridcolor": "white",
            "gridwidth": 2,
            "linecolor": "white",
            "showbackground": true,
            "ticks": "",
            "zerolinecolor": "white"
           },
           "zaxis": {
            "backgroundcolor": "#E5ECF6",
            "gridcolor": "white",
            "gridwidth": 2,
            "linecolor": "white",
            "showbackground": true,
            "ticks": "",
            "zerolinecolor": "white"
           }
          },
          "shapedefaults": {
           "line": {
            "color": "#2a3f5f"
           }
          },
          "ternary": {
           "aaxis": {
            "gridcolor": "white",
            "linecolor": "white",
            "ticks": ""
           },
           "baxis": {
            "gridcolor": "white",
            "linecolor": "white",
            "ticks": ""
           },
           "bgcolor": "#E5ECF6",
           "caxis": {
            "gridcolor": "white",
            "linecolor": "white",
            "ticks": ""
           }
          },
          "title": {
           "x": 0.05
          },
          "xaxis": {
           "automargin": true,
           "gridcolor": "white",
           "linecolor": "white",
           "ticks": "",
           "zerolinecolor": "white",
           "zerolinewidth": 2
          },
          "yaxis": {
           "automargin": true,
           "gridcolor": "white",
           "linecolor": "white",
           "ticks": "",
           "zerolinecolor": "white",
           "zerolinewidth": 2
          }
         }
        },
        "title": {
         "text": "Shock scenarios (without lower bound)",
         "x": 0.5,
         "xanchor": "center",
         "y": 0.9,
         "yanchor": "top"
        },
        "xaxis": {
         "title": {
          "text": "Expiry (in years)"
         }
        },
        "yaxis": {
         "title": {
          "text": "Interest rate (in basis points)"
         }
        }
       }
      },
      "text/html": [
       "<div>\n",
       "        \n",
       "        \n",
       "            <div id=\"5eb83066-1ddf-43af-b95f-74be324025cb\" class=\"plotly-graph-div\" style=\"height:525px; width:100%;\"></div>\n",
       "            <script type=\"text/javascript\">\n",
       "                require([\"plotly\"], function(Plotly) {\n",
       "                    window.PLOTLYENV=window.PLOTLYENV || {};\n",
       "                    \n",
       "                if (document.getElementById(\"5eb83066-1ddf-43af-b95f-74be324025cb\")) {\n",
       "                    Plotly.newPlot(\n",
       "                        '5eb83066-1ddf-43af-b95f-74be324025cb',\n",
       "                        [{\"mode\": \"lines\", \"name\": \"Original\", \"type\": \"scatter\", \"x\": [0.00273224043715847, 0.08196721311475409, 0.16393442622950818, 0.2459016393442623, 0.32786885245901637, 0.4098360655737705, 0.4918032786885246, 0.5737704918032787, 0.6557377049180327, 0.7377049180327869, 0.819672131147541, 0.9016393442622951, 1.0, 2.0, 3.0, 4.0, 5.0, 6.0, 7.0, 8.0, 9.0, 10.0, 11.0, 12.0, 13.0, 14.0, 15.0, 16.0, 17.0, 18.0, 19.0, 20.0, 21.0, 22.0, 23.0, 24.0, 25.0, 26.0, 27.0, 28.0, 29.0, 30.0], \"y\": [0, 0, 0, 0, 0, 0, 0, 0, 0, 0, 0, 0, 0, 0, 0, 0, 0, 0, 0, 0, 0, 0, 0, 0, 0, 0, 0, 0, 0, 0, 0, 0, 0, 0, 0, 0, 0, 0, 0, 0, 0, 0]}, {\"mode\": \"lines\", \"name\": \"ParallelUp\", \"type\": \"scatter\", \"x\": [0.00273224043715847, 0.08196721311475409, 0.16393442622950818, 0.2459016393442623, 0.32786885245901637, 0.4098360655737705, 0.4918032786885246, 0.5737704918032787, 0.6557377049180327, 0.7377049180327869, 0.819672131147541, 0.9016393442622951, 1.0, 2.0, 3.0, 4.0, 5.0, 6.0, 7.0, 8.0, 9.0, 10.0, 11.0, 12.0, 13.0, 14.0, 15.0, 16.0, 17.0, 18.0, 19.0, 20.0, 21.0, 22.0, 23.0, 24.0, 25.0, 26.0, 27.0, 28.0, 29.0, 30.0], \"y\": [200.0, 200.0, 200.0, 200.0, 200.0, 200.0, 200.0, 200.0, 200.0, 200.0, 200.0, 200.0, 200.0, 200.0, 200.0, 200.0, 200.0, 200.0, 200.0, 200.0, 200.0, 200.0, 200.0, 200.0, 200.0, 200.0, 200.0, 200.0, 200.0, 200.0, 200.0, 200.0, 200.0, 200.0, 200.0, 200.0, 200.0, 200.0, 200.0, 200.0, 200.0, 200.0]}, {\"mode\": \"lines\", \"name\": \"ParallelDown\", \"type\": \"scatter\", \"x\": [0.00273224043715847, 0.08196721311475409, 0.16393442622950818, 0.2459016393442623, 0.32786885245901637, 0.4098360655737705, 0.4918032786885246, 0.5737704918032787, 0.6557377049180327, 0.7377049180327869, 0.819672131147541, 0.9016393442622951, 1.0, 2.0, 3.0, 4.0, 5.0, 6.0, 7.0, 8.0, 9.0, 10.0, 11.0, 12.0, 13.0, 14.0, 15.0, 16.0, 17.0, 18.0, 19.0, 20.0, 21.0, 22.0, 23.0, 24.0, 25.0, 26.0, 27.0, 28.0, 29.0, 30.0], \"y\": [-200.0, -200.0, -200.0, -200.0, -200.0, -200.0, -200.0, -200.0, -200.0, -200.0, -200.0, -200.0, -200.0, -200.0, -200.0, -200.0, -200.0, -200.0, -200.0, -200.0, -200.0, -200.0, -200.0, -200.0, -200.0, -200.0, -200.0, -200.0, -200.0, -200.0, -200.0, -200.0, -200.0, -200.0, -200.0, -200.0, -200.0, -200.0, -200.0, -200.0, -200.0, -200.0]}, {\"mode\": \"lines\", \"name\": \"ShortUp\", \"type\": \"scatter\", \"x\": [0.00273224043715847, 0.08196721311475409, 0.16393442622950818, 0.2459016393442623, 0.32786885245901637, 0.4098360655737705, 0.4918032786885246, 0.5737704918032787, 0.6557377049180327, 0.7377049180327869, 0.819672131147541, 0.9016393442622951, 1.0, 2.0, 3.0, 4.0, 5.0, 6.0, 7.0, 8.0, 9.0, 10.0, 11.0, 12.0, 13.0, 14.0, 15.0, 16.0, 17.0, 18.0, 19.0, 20.0, 21.0, 22.0, 23.0, 24.0, 25.0, 26.0, 27.0, 28.0, 29.0, 30.0], \"y\": [249.82929328078998, 244.92918172664523, 239.96121624513597, 235.09401736420688, 230.32554120737964, 225.6537853546808, 221.076788001768, 216.59262713611218, 212.1994197298893, 207.8953209492429, 203.67852337958536, 199.5472562666129, 194.70019576785123, 151.63266492815836, 118.09163818525367, 91.96986029286059, 71.62619921504752, 55.78254003710745, 43.44348586261128, 33.833820809153174, 26.349806140466082, 20.5212496559747, 15.981965301676892, 12.446767091965986, 9.693551957930502, 7.549345855579626, 5.879436464002277, 4.578909722183544, 3.566058477249814, 2.7772491345605763, 2.1629238007801583, 1.6844867497713667, 1.311879599795346, 1.0216928596160166, 0.7956951991274167, 0.6196880441665896, 0.4826135340569273, 0.3758597982443931, 0.2927199051977936, 0.22797049138862907, 0.17754359721063726, 0.1382710925369584]}, {\"mode\": \"lines\", \"name\": \"ShortDown\", \"type\": \"scatter\", \"x\": [0.00273224043715847, 0.08196721311475409, 0.16393442622950818, 0.2459016393442623, 0.32786885245901637, 0.4098360655737705, 0.4918032786885246, 0.5737704918032787, 0.6557377049180327, 0.7377049180327869, 0.819672131147541, 0.9016393442622951, 1.0, 2.0, 3.0, 4.0, 5.0, 6.0, 7.0, 8.0, 9.0, 10.0, 11.0, 12.0, 13.0, 14.0, 15.0, 16.0, 17.0, 18.0, 19.0, 20.0, 21.0, 22.0, 23.0, 24.0, 25.0, 26.0, 27.0, 28.0, 29.0, 30.0], \"y\": [-249.82929328078998, -244.92918172664523, -239.96121624513597, -235.09401736420688, -230.32554120737964, -225.6537853546808, -221.076788001768, -216.59262713611218, -212.1994197298893, -207.8953209492429, -203.67852337958536, -199.5472562666129, -194.70019576785123, -151.63266492815836, -118.09163818525367, -91.96986029286059, -71.62619921504752, -55.78254003710745, -43.44348586261128, -33.833820809153174, -26.349806140466082, -20.5212496559747, -15.981965301676892, -12.446767091965986, -9.693551957930502, -7.549345855579626, -5.879436464002277, -4.578909722183544, -3.566058477249814, -2.7772491345605763, -2.1629238007801583, -1.6844867497713667, -1.311879599795346, -1.0216928596160166, -0.7956951991274167, -0.6196880441665896, -0.4826135340569273, -0.3758597982443931, -0.2927199051977936, -0.22797049138862907, -0.17754359721063726, -0.1382710925369584]}, {\"mode\": \"lines\", \"name\": \"LongUp\", \"type\": \"scatter\", \"x\": [0.00273224043715847, 0.08196721311475409, 0.16393442622950818, 0.2459016393442623, 0.32786885245901637, 0.4098360655737705, 0.4918032786885246, 0.5737704918032787, 0.6557377049180327, 0.7377049180327869, 0.819672131147541, 0.9016393442622951, 1.0, 2.0, 3.0, 4.0, 5.0, 6.0, 7.0, 8.0, 9.0, 10.0, 11.0, 12.0, 13.0, 14.0, 15.0, 16.0, 17.0, 18.0, 19.0, 20.0, 21.0, 22.0, 23.0, 24.0, 25.0, 26.0, 27.0, 28.0, 29.0, 30.0], \"y\": [0.06828268768400703, 2.028327309341915, 4.015513501945611, 5.96239305431725, 7.869783517048146, 9.738485858127689, 11.5692847992928, 13.362949145555126, 15.120232108044274, 16.84187162030284, 18.528590648165853, 20.181097493354848, 22.119921692859513, 39.346934028736655, 52.763344725898534, 63.212055882855765, 71.34952031398099, 77.68698398515703, 82.62260565495548, 86.46647167633873, 89.46007754381357, 91.79150013761011, 93.60721387932924, 95.0212931632136, 96.1225792168278, 96.98026165776815, 97.64822541439909, 98.16843611112658, 98.57357660910007, 98.88910034617578, 99.13483047968793, 99.32620530009146, 99.47524816008186, 99.5913228561536, 99.68172192034903, 99.75212478233337, 99.80695458637723, 99.84965608070225, 99.88291203792087, 99.90881180344455, 99.92898256111575, 99.94469156298523]}, {\"mode\": \"lines\", \"name\": \"LongDown\", \"type\": \"scatter\", \"x\": [0.00273224043715847, 0.08196721311475409, 0.16393442622950818, 0.2459016393442623, 0.32786885245901637, 0.4098360655737705, 0.4918032786885246, 0.5737704918032787, 0.6557377049180327, 0.7377049180327869, 0.819672131147541, 0.9016393442622951, 1.0, 2.0, 3.0, 4.0, 5.0, 6.0, 7.0, 8.0, 9.0, 10.0, 11.0, 12.0, 13.0, 14.0, 15.0, 16.0, 17.0, 18.0, 19.0, 20.0, 21.0, 22.0, 23.0, 24.0, 25.0, 26.0, 27.0, 28.0, 29.0, 30.0], \"y\": [-0.06828268768400703, -2.028327309341915, -4.015513501945611, -5.96239305431725, -7.869783517048146, -9.738485858127689, -11.5692847992928, -13.362949145555126, -15.120232108044274, -16.84187162030284, -18.528590648165853, -20.181097493354848, -22.119921692859513, -39.346934028736655, -52.763344725898534, -63.212055882855765, -71.34952031398099, -77.68698398515703, -82.62260565495548, -86.46647167633873, -89.46007754381357, -91.79150013761011, -93.60721387932924, -95.0212931632136, -96.1225792168278, -96.98026165776815, -97.64822541439909, -98.16843611112658, -98.57357660910007, -98.88910034617578, -99.13483047968793, -99.32620530009146, -99.47524816008186, -99.5913228561536, -99.68172192034903, -99.75212478233337, -99.80695458637723, -99.84965608070225, -99.88291203792087, -99.90881180344455, -99.92898256111575, -99.94469156298523]}, {\"mode\": \"lines\", \"name\": \"Flatten\", \"type\": \"scatter\", \"x\": [0.00273224043715847, 0.08196721311475409, 0.16393442622950818, 0.2459016393442623, 0.32786885245901637, 0.4098360655737705, 0.4918032786885246, 0.5737704918032787, 0.6557377049180327, 0.7377049180327869, 0.819672131147541, 0.9016393442622951, 1.0, 2.0, 3.0, 4.0, 5.0, 6.0, 7.0, 8.0, 9.0, 10.0, 11.0, 12.0, 13.0, 14.0, 15.0, 16.0, 17.0, 18.0, 19.0, 20.0, 21.0, 22.0, 23.0, 24.0, 25.0, 26.0, 27.0, 28.0, 29.0, 30.0], \"y\": [199.82246501202158, 194.72634899571105, 189.55966489494142, 184.49777805877517, 179.53856285567485, 174.67993676886803, 169.9198595218387, 165.25633222155668, 160.6873965190849, 156.21113378721262, 151.8256643147688, 147.5291465172774, 142.4882035985653, 97.6979715252847, 62.81530371266383, 35.648654704575016, 14.491247183649428, -1.9861583614082505, -14.818774702884255, -24.812826358480695, -32.59620161391527, -38.6579003577863, -43.378756086256026, -47.05536222435537, -49.918705963752274, -52.148680310197186, -53.88538607743763, -55.237933888929106, -56.291299183660186, -57.111660900057004, -57.75055924718863, -58.24813378023778, -58.635645216212836, -58.93743942599934, -59.172476992907484, -59.355524434066744, -59.498081924580795, -59.60910580982583, -59.69557129859429, -59.76291068895583, -59.81535465890094, -59.85619806376157]}, {\"mode\": \"lines\", \"name\": \"Steepen\", \"type\": \"scatter\", \"x\": [0.00273224043715847, 0.08196721311475409, 0.16393442622950818, 0.2459016393442623, 0.32786885245901637, 0.4098360655737705, 0.4918032786885246, 0.5737704918032787, 0.6557377049180327, 0.7377049180327869, 0.819672131147541, 0.9016393442622951, 1.0, 2.0, 3.0, 4.0, 5.0, 6.0, 7.0, 8.0, 9.0, 10.0, 11.0, 12.0, 13.0, 14.0, 15.0, 16.0, 17.0, 18.0, 19.0, 20.0, 21.0, 22.0, 23.0, 24.0, 25.0, 26.0, 27.0, 28.0, 29.0, 30.0], \"y\": [-162.32758621359787, -157.37847354391167, -152.36082840758732, -147.44495753784895, -142.62879661945345, -137.9103232082276, -133.2875558817857, -128.7585534074733, -124.32141392718822, -119.97427415873533, -115.71530861338124, -111.54272882927903, -106.64719772552974, -63.14899157743994, -29.272554567106212, -2.889558895789193, 17.657538792802, 33.65963456252149, 46.12207927876259, 55.82784098275529, 63.38669579812926, 69.27353784746556, 73.85821504530634, 77.42876523711435, 80.20951252249019, 82.37516068586459, 84.0617691713577, 85.37530118059462, 86.39828093797769, 87.19497837409382, 87.81544696121203, 88.29866838273092, 88.6750016042067, 88.96809021178782, 89.19634784888132, 89.37411507539176, 89.5125603306025, 89.62038160377317, 89.70435289575022, 89.76974980369748, 89.82068096681726, 89.86034619653768]}],\n",
       "                        {\"showlegend\": true, \"template\": {\"data\": {\"bar\": [{\"error_x\": {\"color\": \"#2a3f5f\"}, \"error_y\": {\"color\": \"#2a3f5f\"}, \"marker\": {\"line\": {\"color\": \"#E5ECF6\", \"width\": 0.5}}, \"type\": \"bar\"}], \"barpolar\": [{\"marker\": {\"line\": {\"color\": \"#E5ECF6\", \"width\": 0.5}}, \"type\": \"barpolar\"}], \"carpet\": [{\"aaxis\": {\"endlinecolor\": \"#2a3f5f\", \"gridcolor\": \"white\", \"linecolor\": \"white\", \"minorgridcolor\": \"white\", \"startlinecolor\": \"#2a3f5f\"}, \"baxis\": {\"endlinecolor\": \"#2a3f5f\", \"gridcolor\": \"white\", \"linecolor\": \"white\", \"minorgridcolor\": \"white\", \"startlinecolor\": \"#2a3f5f\"}, \"type\": \"carpet\"}], \"choropleth\": [{\"colorbar\": {\"outlinewidth\": 0, \"ticks\": \"\"}, \"type\": \"choropleth\"}], \"contour\": [{\"colorbar\": {\"outlinewidth\": 0, \"ticks\": \"\"}, \"colorscale\": [[0.0, \"#0d0887\"], [0.1111111111111111, \"#46039f\"], [0.2222222222222222, \"#7201a8\"], [0.3333333333333333, \"#9c179e\"], [0.4444444444444444, \"#bd3786\"], [0.5555555555555556, \"#d8576b\"], [0.6666666666666666, \"#ed7953\"], [0.7777777777777778, \"#fb9f3a\"], [0.8888888888888888, \"#fdca26\"], [1.0, \"#f0f921\"]], \"type\": \"contour\"}], \"contourcarpet\": [{\"colorbar\": {\"outlinewidth\": 0, \"ticks\": \"\"}, \"type\": \"contourcarpet\"}], \"heatmap\": [{\"colorbar\": {\"outlinewidth\": 0, \"ticks\": \"\"}, \"colorscale\": [[0.0, \"#0d0887\"], [0.1111111111111111, \"#46039f\"], [0.2222222222222222, \"#7201a8\"], [0.3333333333333333, \"#9c179e\"], [0.4444444444444444, \"#bd3786\"], [0.5555555555555556, \"#d8576b\"], [0.6666666666666666, \"#ed7953\"], [0.7777777777777778, \"#fb9f3a\"], [0.8888888888888888, \"#fdca26\"], [1.0, \"#f0f921\"]], \"type\": \"heatmap\"}], \"heatmapgl\": [{\"colorbar\": {\"outlinewidth\": 0, \"ticks\": \"\"}, \"colorscale\": [[0.0, \"#0d0887\"], [0.1111111111111111, \"#46039f\"], [0.2222222222222222, \"#7201a8\"], [0.3333333333333333, \"#9c179e\"], [0.4444444444444444, \"#bd3786\"], [0.5555555555555556, \"#d8576b\"], [0.6666666666666666, \"#ed7953\"], [0.7777777777777778, \"#fb9f3a\"], [0.8888888888888888, \"#fdca26\"], [1.0, \"#f0f921\"]], \"type\": \"heatmapgl\"}], \"histogram\": [{\"marker\": {\"colorbar\": {\"outlinewidth\": 0, \"ticks\": \"\"}}, \"type\": \"histogram\"}], \"histogram2d\": [{\"colorbar\": {\"outlinewidth\": 0, \"ticks\": \"\"}, \"colorscale\": [[0.0, \"#0d0887\"], [0.1111111111111111, \"#46039f\"], [0.2222222222222222, \"#7201a8\"], [0.3333333333333333, \"#9c179e\"], [0.4444444444444444, \"#bd3786\"], [0.5555555555555556, \"#d8576b\"], [0.6666666666666666, \"#ed7953\"], [0.7777777777777778, \"#fb9f3a\"], [0.8888888888888888, \"#fdca26\"], [1.0, \"#f0f921\"]], \"type\": \"histogram2d\"}], \"histogram2dcontour\": [{\"colorbar\": {\"outlinewidth\": 0, \"ticks\": \"\"}, \"colorscale\": [[0.0, \"#0d0887\"], [0.1111111111111111, \"#46039f\"], [0.2222222222222222, \"#7201a8\"], [0.3333333333333333, \"#9c179e\"], [0.4444444444444444, \"#bd3786\"], [0.5555555555555556, \"#d8576b\"], [0.6666666666666666, \"#ed7953\"], [0.7777777777777778, \"#fb9f3a\"], [0.8888888888888888, \"#fdca26\"], [1.0, \"#f0f921\"]], \"type\": \"histogram2dcontour\"}], \"mesh3d\": [{\"colorbar\": {\"outlinewidth\": 0, \"ticks\": \"\"}, \"type\": \"mesh3d\"}], \"parcoords\": [{\"line\": {\"colorbar\": {\"outlinewidth\": 0, \"ticks\": \"\"}}, \"type\": \"parcoords\"}], \"scatter\": [{\"marker\": {\"colorbar\": {\"outlinewidth\": 0, \"ticks\": \"\"}}, \"type\": \"scatter\"}], \"scatter3d\": [{\"line\": {\"colorbar\": {\"outlinewidth\": 0, \"ticks\": \"\"}}, \"marker\": {\"colorbar\": {\"outlinewidth\": 0, \"ticks\": \"\"}}, \"type\": \"scatter3d\"}], \"scattercarpet\": [{\"marker\": {\"colorbar\": {\"outlinewidth\": 0, \"ticks\": \"\"}}, \"type\": \"scattercarpet\"}], \"scattergeo\": [{\"marker\": {\"colorbar\": {\"outlinewidth\": 0, \"ticks\": \"\"}}, \"type\": \"scattergeo\"}], \"scattergl\": [{\"marker\": {\"colorbar\": {\"outlinewidth\": 0, \"ticks\": \"\"}}, \"type\": \"scattergl\"}], \"scattermapbox\": [{\"marker\": {\"colorbar\": {\"outlinewidth\": 0, \"ticks\": \"\"}}, \"type\": \"scattermapbox\"}], \"scatterpolar\": [{\"marker\": {\"colorbar\": {\"outlinewidth\": 0, \"ticks\": \"\"}}, \"type\": \"scatterpolar\"}], \"scatterpolargl\": [{\"marker\": {\"colorbar\": {\"outlinewidth\": 0, \"ticks\": \"\"}}, \"type\": \"scatterpolargl\"}], \"scatterternary\": [{\"marker\": {\"colorbar\": {\"outlinewidth\": 0, \"ticks\": \"\"}}, \"type\": \"scatterternary\"}], \"surface\": [{\"colorbar\": {\"outlinewidth\": 0, \"ticks\": \"\"}, \"colorscale\": [[0.0, \"#0d0887\"], [0.1111111111111111, \"#46039f\"], [0.2222222222222222, \"#7201a8\"], [0.3333333333333333, \"#9c179e\"], [0.4444444444444444, \"#bd3786\"], [0.5555555555555556, \"#d8576b\"], [0.6666666666666666, \"#ed7953\"], [0.7777777777777778, \"#fb9f3a\"], [0.8888888888888888, \"#fdca26\"], [1.0, \"#f0f921\"]], \"type\": \"surface\"}], \"table\": [{\"cells\": {\"fill\": {\"color\": \"#EBF0F8\"}, \"line\": {\"color\": \"white\"}}, \"header\": {\"fill\": {\"color\": \"#C8D4E3\"}, \"line\": {\"color\": \"white\"}}, \"type\": \"table\"}]}, \"layout\": {\"annotationdefaults\": {\"arrowcolor\": \"#2a3f5f\", \"arrowhead\": 0, \"arrowwidth\": 1}, \"colorscale\": {\"diverging\": [[0, \"#8e0152\"], [0.1, \"#c51b7d\"], [0.2, \"#de77ae\"], [0.3, \"#f1b6da\"], [0.4, \"#fde0ef\"], [0.5, \"#f7f7f7\"], [0.6, \"#e6f5d0\"], [0.7, \"#b8e186\"], [0.8, \"#7fbc41\"], [0.9, \"#4d9221\"], [1, \"#276419\"]], \"sequential\": [[0.0, \"#0d0887\"], [0.1111111111111111, \"#46039f\"], [0.2222222222222222, \"#7201a8\"], [0.3333333333333333, \"#9c179e\"], [0.4444444444444444, \"#bd3786\"], [0.5555555555555556, \"#d8576b\"], [0.6666666666666666, \"#ed7953\"], [0.7777777777777778, \"#fb9f3a\"], [0.8888888888888888, \"#fdca26\"], [1.0, \"#f0f921\"]], \"sequentialminus\": [[0.0, \"#0d0887\"], [0.1111111111111111, \"#46039f\"], [0.2222222222222222, \"#7201a8\"], [0.3333333333333333, \"#9c179e\"], [0.4444444444444444, \"#bd3786\"], [0.5555555555555556, \"#d8576b\"], [0.6666666666666666, \"#ed7953\"], [0.7777777777777778, \"#fb9f3a\"], [0.8888888888888888, \"#fdca26\"], [1.0, \"#f0f921\"]]}, \"colorway\": [\"#636efa\", \"#EF553B\", \"#00cc96\", \"#ab63fa\", \"#FFA15A\", \"#19d3f3\", \"#FF6692\", \"#B6E880\", \"#FF97FF\", \"#FECB52\"], \"font\": {\"color\": \"#2a3f5f\"}, \"geo\": {\"bgcolor\": \"white\", \"lakecolor\": \"white\", \"landcolor\": \"#E5ECF6\", \"showlakes\": true, \"showland\": true, \"subunitcolor\": \"white\"}, \"hoverlabel\": {\"align\": \"left\"}, \"hovermode\": \"closest\", \"mapbox\": {\"style\": \"light\"}, \"paper_bgcolor\": \"white\", \"plot_bgcolor\": \"#E5ECF6\", \"polar\": {\"angularaxis\": {\"gridcolor\": \"white\", \"linecolor\": \"white\", \"ticks\": \"\"}, \"bgcolor\": \"#E5ECF6\", \"radialaxis\": {\"gridcolor\": \"white\", \"linecolor\": \"white\", \"ticks\": \"\"}}, \"scene\": {\"xaxis\": {\"backgroundcolor\": \"#E5ECF6\", \"gridcolor\": \"white\", \"gridwidth\": 2, \"linecolor\": \"white\", \"showbackground\": true, \"ticks\": \"\", \"zerolinecolor\": \"white\"}, \"yaxis\": {\"backgroundcolor\": \"#E5ECF6\", \"gridcolor\": \"white\", \"gridwidth\": 2, \"linecolor\": \"white\", \"showbackground\": true, \"ticks\": \"\", \"zerolinecolor\": \"white\"}, \"zaxis\": {\"backgroundcolor\": \"#E5ECF6\", \"gridcolor\": \"white\", \"gridwidth\": 2, \"linecolor\": \"white\", \"showbackground\": true, \"ticks\": \"\", \"zerolinecolor\": \"white\"}}, \"shapedefaults\": {\"line\": {\"color\": \"#2a3f5f\"}}, \"ternary\": {\"aaxis\": {\"gridcolor\": \"white\", \"linecolor\": \"white\", \"ticks\": \"\"}, \"baxis\": {\"gridcolor\": \"white\", \"linecolor\": \"white\", \"ticks\": \"\"}, \"bgcolor\": \"#E5ECF6\", \"caxis\": {\"gridcolor\": \"white\", \"linecolor\": \"white\", \"ticks\": \"\"}}, \"title\": {\"x\": 0.05}, \"xaxis\": {\"automargin\": true, \"gridcolor\": \"white\", \"linecolor\": \"white\", \"ticks\": \"\", \"zerolinecolor\": \"white\", \"zerolinewidth\": 2}, \"yaxis\": {\"automargin\": true, \"gridcolor\": \"white\", \"linecolor\": \"white\", \"ticks\": \"\", \"zerolinecolor\": \"white\", \"zerolinewidth\": 2}}}, \"title\": {\"text\": \"Shock scenarios (without lower bound)\", \"x\": 0.5, \"xanchor\": \"center\", \"y\": 0.9, \"yanchor\": \"top\"}, \"xaxis\": {\"title\": {\"text\": \"Expiry (in years)\"}}, \"yaxis\": {\"title\": {\"text\": \"Interest rate (in basis points)\"}}},\n",
       "                        {\"responsive\": true}\n",
       "                    ).then(function(){\n",
       "                            \n",
       "var gd = document.getElementById('5eb83066-1ddf-43af-b95f-74be324025cb');\n",
       "var x = new MutationObserver(function (mutations, observer) {{\n",
       "        var display = window.getComputedStyle(gd).display;\n",
       "        if (!display || display === 'none') {{\n",
       "            console.log([gd, 'removed!']);\n",
       "            Plotly.purge(gd);\n",
       "            observer.disconnect();\n",
       "        }}\n",
       "}});\n",
       "\n",
       "// Listen for the removal of the full notebook cells\n",
       "var notebookContainer = gd.closest('#notebook-container');\n",
       "if (notebookContainer) {{\n",
       "    x.observe(notebookContainer, {childList: true});\n",
       "}}\n",
       "\n",
       "// Listen for the clearing of the current output cell\n",
       "var outputEl = gd.closest('.output');\n",
       "if (outputEl) {{\n",
       "    x.observe(outputEl, {childList: true});\n",
       "}}\n",
       "\n",
       "                        })\n",
       "                };\n",
       "                });\n",
       "            </script>\n",
       "        </div>"
      ]
     },
     "metadata": {},
     "output_type": "display_data"
    },
    {
     "data": {
      "application/vnd.plotly.v1+json": {
       "config": {
        "plotlyServerURL": "https://plot.ly"
       },
       "data": [
        {
         "mode": "lines",
         "name": "Original",
         "type": "scatter",
         "x": [
          0.00273224043715847,
          0.08196721311475409,
          0.16393442622950818,
          0.2459016393442623,
          0.32786885245901637,
          0.4098360655737705,
          0.4918032786885246,
          0.5737704918032787,
          0.6557377049180327,
          0.7377049180327869,
          0.819672131147541,
          0.9016393442622951,
          1,
          2,
          3,
          4,
          5,
          6,
          7,
          8,
          9,
          10,
          11,
          12,
          13,
          14,
          15,
          16,
          17,
          18,
          19,
          20,
          21,
          22,
          23,
          24,
          25,
          26,
          27,
          28,
          29,
          30
         ],
         "y": [
          0,
          0,
          0,
          0,
          0,
          0,
          0,
          0,
          0,
          0,
          0,
          0,
          0,
          0,
          0,
          0,
          0,
          0,
          0,
          0,
          0,
          0,
          0,
          0,
          0,
          0,
          0,
          0,
          0,
          0,
          0,
          0,
          0,
          0,
          0,
          0,
          0,
          0,
          0,
          0,
          0,
          0
         ]
        },
        {
         "mode": "lines",
         "name": "ParallelUp",
         "type": "scatter",
         "x": [
          0.00273224043715847,
          0.08196721311475409,
          0.16393442622950818,
          0.2459016393442623,
          0.32786885245901637,
          0.4098360655737705,
          0.4918032786885246,
          0.5737704918032787,
          0.6557377049180327,
          0.7377049180327869,
          0.819672131147541,
          0.9016393442622951,
          1,
          2,
          3,
          4,
          5,
          6,
          7,
          8,
          9,
          10,
          11,
          12,
          13,
          14,
          15,
          16,
          17,
          18,
          19,
          20,
          21,
          22,
          23,
          24,
          25,
          26,
          27,
          28,
          29,
          30
         ],
         "y": [
          200,
          200,
          200,
          200,
          200,
          200,
          200,
          200,
          200,
          200,
          200,
          200,
          200,
          200,
          200,
          200,
          200,
          200,
          200,
          200,
          200,
          200,
          200,
          200,
          200,
          200,
          200,
          200,
          200,
          200,
          200,
          200,
          200,
          200,
          200,
          200,
          200,
          200,
          200,
          200,
          200,
          200
         ]
        },
        {
         "mode": "lines",
         "name": "ParallelDown",
         "type": "scatter",
         "x": [
          0.00273224043715847,
          0.08196721311475409,
          0.16393442622950818,
          0.2459016393442623,
          0.32786885245901637,
          0.4098360655737705,
          0.4918032786885246,
          0.5737704918032787,
          0.6557377049180327,
          0.7377049180327869,
          0.819672131147541,
          0.9016393442622951,
          1,
          2,
          3,
          4,
          5,
          6,
          7,
          8,
          9,
          10,
          11,
          12,
          13,
          14,
          15,
          16,
          17,
          18,
          19,
          20,
          21,
          22,
          23,
          24,
          25,
          26,
          27,
          28,
          29,
          30
         ],
         "y": [
          -99.98633879781421,
          -99.59016393442623,
          -99.18032786885246,
          -98.77049180327869,
          -98.36065573770492,
          -97.95081967213115,
          -97.54098360655738,
          -97.1311475409836,
          -96.72131147540983,
          -96.31147540983606,
          -95.90163934426229,
          -95.49180327868852,
          -95,
          -90,
          -85,
          -80,
          -75,
          -70,
          -65,
          -60,
          -55,
          -50,
          -45,
          -40,
          -35,
          -30,
          -25,
          -20,
          -15,
          -10,
          -5,
          0,
          0,
          0,
          0,
          0,
          0,
          0,
          0,
          0,
          0,
          0
         ]
        },
        {
         "mode": "lines",
         "name": "ShortUp",
         "type": "scatter",
         "x": [
          0.00273224043715847,
          0.08196721311475409,
          0.16393442622950818,
          0.2459016393442623,
          0.32786885245901637,
          0.4098360655737705,
          0.4918032786885246,
          0.5737704918032787,
          0.6557377049180327,
          0.7377049180327869,
          0.819672131147541,
          0.9016393442622951,
          1,
          2,
          3,
          4,
          5,
          6,
          7,
          8,
          9,
          10,
          11,
          12,
          13,
          14,
          15,
          16,
          17,
          18,
          19,
          20,
          21,
          22,
          23,
          24,
          25,
          26,
          27,
          28,
          29,
          30
         ],
         "y": [
          249.82929328078998,
          244.92918172664523,
          239.96121624513597,
          235.09401736420688,
          230.32554120737964,
          225.6537853546808,
          221.076788001768,
          216.59262713611218,
          212.1994197298893,
          207.8953209492429,
          203.67852337958536,
          199.5472562666129,
          194.70019576785123,
          151.63266492815836,
          118.09163818525367,
          91.96986029286059,
          71.62619921504752,
          55.78254003710745,
          43.44348586261128,
          33.833820809153174,
          26.349806140466082,
          20.5212496559747,
          15.981965301676892,
          12.446767091965986,
          9.693551957930502,
          7.549345855579626,
          5.879436464002277,
          4.578909722183544,
          3.566058477249814,
          2.7772491345605763,
          2.1629238007801583,
          1.6844867497713667,
          1.311879599795346,
          1.0216928596160166,
          0.7956951991274167,
          0.6196880441665896,
          0.4826135340569273,
          0.3758597982443931,
          0.2927199051977936,
          0.22797049138862907,
          0.17754359721063726,
          0.1382710925369584
         ]
        },
        {
         "mode": "lines",
         "name": "ShortDown",
         "type": "scatter",
         "x": [
          0.00273224043715847,
          0.08196721311475409,
          0.16393442622950818,
          0.2459016393442623,
          0.32786885245901637,
          0.4098360655737705,
          0.4918032786885246,
          0.5737704918032787,
          0.6557377049180327,
          0.7377049180327869,
          0.819672131147541,
          0.9016393442622951,
          1,
          2,
          3,
          4,
          5,
          6,
          7,
          8,
          9,
          10,
          11,
          12,
          13,
          14,
          15,
          16,
          17,
          18,
          19,
          20,
          21,
          22,
          23,
          24,
          25,
          26,
          27,
          28,
          29,
          30
         ],
         "y": [
          -99.98633879781421,
          -99.59016393442623,
          -99.18032786885246,
          -98.77049180327869,
          -98.36065573770492,
          -97.95081967213115,
          -97.54098360655738,
          -97.1311475409836,
          -96.72131147540983,
          -96.31147540983606,
          -95.90163934426229,
          -95.49180327868852,
          -95,
          -90,
          -85,
          -80,
          -71.62619921504752,
          -55.78254003710745,
          -43.44348586261128,
          -33.833820809153174,
          -26.349806140466082,
          -20.5212496559747,
          -15.981965301676892,
          -12.446767091965986,
          -9.693551957930502,
          -7.549345855579626,
          -5.879436464002277,
          -4.578909722183544,
          -3.566058477249814,
          -2.7772491345605763,
          -2.1629238007801583,
          0,
          0,
          0,
          0,
          0,
          0,
          0,
          0,
          0,
          0,
          0
         ]
        },
        {
         "mode": "lines",
         "name": "LongUp",
         "type": "scatter",
         "x": [
          0.00273224043715847,
          0.08196721311475409,
          0.16393442622950818,
          0.2459016393442623,
          0.32786885245901637,
          0.4098360655737705,
          0.4918032786885246,
          0.5737704918032787,
          0.6557377049180327,
          0.7377049180327869,
          0.819672131147541,
          0.9016393442622951,
          1,
          2,
          3,
          4,
          5,
          6,
          7,
          8,
          9,
          10,
          11,
          12,
          13,
          14,
          15,
          16,
          17,
          18,
          19,
          20,
          21,
          22,
          23,
          24,
          25,
          26,
          27,
          28,
          29,
          30
         ],
         "y": [
          0.06828268768400703,
          2.028327309341915,
          4.015513501945611,
          5.96239305431725,
          7.869783517048146,
          9.738485858127689,
          11.5692847992928,
          13.362949145555126,
          15.120232108044274,
          16.84187162030284,
          18.528590648165853,
          20.181097493354848,
          22.119921692859513,
          39.346934028736655,
          52.763344725898534,
          63.212055882855765,
          71.34952031398099,
          77.68698398515703,
          82.62260565495548,
          86.46647167633873,
          89.46007754381357,
          91.79150013761011,
          93.60721387932924,
          95.0212931632136,
          96.1225792168278,
          96.98026165776815,
          97.64822541439909,
          98.16843611112658,
          98.57357660910007,
          98.88910034617578,
          99.13483047968793,
          99.32620530009146,
          99.47524816008186,
          99.5913228561536,
          99.68172192034903,
          99.75212478233337,
          99.80695458637723,
          99.84965608070225,
          99.88291203792087,
          99.90881180344455,
          99.92898256111575,
          99.94469156298523
         ]
        },
        {
         "mode": "lines",
         "name": "LongDown",
         "type": "scatter",
         "x": [
          0.00273224043715847,
          0.08196721311475409,
          0.16393442622950818,
          0.2459016393442623,
          0.32786885245901637,
          0.4098360655737705,
          0.4918032786885246,
          0.5737704918032787,
          0.6557377049180327,
          0.7377049180327869,
          0.819672131147541,
          0.9016393442622951,
          1,
          2,
          3,
          4,
          5,
          6,
          7,
          8,
          9,
          10,
          11,
          12,
          13,
          14,
          15,
          16,
          17,
          18,
          19,
          20,
          21,
          22,
          23,
          24,
          25,
          26,
          27,
          28,
          29,
          30
         ],
         "y": [
          -0.06828268768400703,
          -2.028327309341915,
          -4.015513501945611,
          -5.96239305431725,
          -7.869783517048146,
          -9.738485858127689,
          -11.5692847992928,
          -13.362949145555126,
          -15.120232108044274,
          -16.84187162030284,
          -18.528590648165853,
          -20.181097493354848,
          -22.119921692859513,
          -39.346934028736655,
          -52.763344725898534,
          -63.212055882855765,
          -71.34952031398099,
          -70,
          -65,
          -60,
          -55,
          -50,
          -45,
          -40,
          -35,
          -30,
          -25,
          -20,
          -15,
          -10,
          -5,
          0,
          0,
          0,
          0,
          0,
          0,
          0,
          0,
          0,
          0,
          0
         ]
        },
        {
         "mode": "lines",
         "name": "Flatten",
         "type": "scatter",
         "x": [
          0.00273224043715847,
          0.08196721311475409,
          0.16393442622950818,
          0.2459016393442623,
          0.32786885245901637,
          0.4098360655737705,
          0.4918032786885246,
          0.5737704918032787,
          0.6557377049180327,
          0.7377049180327869,
          0.819672131147541,
          0.9016393442622951,
          1,
          2,
          3,
          4,
          5,
          6,
          7,
          8,
          9,
          10,
          11,
          12,
          13,
          14,
          15,
          16,
          17,
          18,
          19,
          20,
          21,
          22,
          23,
          24,
          25,
          26,
          27,
          28,
          29,
          30
         ],
         "y": [
          199.82246501202158,
          194.72634899571105,
          189.55966489494142,
          184.49777805877517,
          179.53856285567485,
          174.67993676886803,
          169.9198595218387,
          165.25633222155668,
          160.6873965190849,
          156.21113378721262,
          151.8256643147688,
          147.5291465172774,
          142.4882035985653,
          97.6979715252847,
          62.81530371266383,
          35.648654704575016,
          14.491247183649428,
          -1.9861583614082505,
          -14.818774702884255,
          -24.812826358480695,
          -32.59620161391527,
          -38.6579003577863,
          -43.378756086256026,
          -40,
          -35,
          -30,
          -25,
          -20,
          -15,
          -10,
          -5,
          0,
          0,
          0,
          0,
          0,
          0,
          0,
          0,
          0,
          0,
          0
         ]
        },
        {
         "mode": "lines",
         "name": "Steepen",
         "type": "scatter",
         "x": [
          0.00273224043715847,
          0.08196721311475409,
          0.16393442622950818,
          0.2459016393442623,
          0.32786885245901637,
          0.4098360655737705,
          0.4918032786885246,
          0.5737704918032787,
          0.6557377049180327,
          0.7377049180327869,
          0.819672131147541,
          0.9016393442622951,
          1,
          2,
          3,
          4,
          5,
          6,
          7,
          8,
          9,
          10,
          11,
          12,
          13,
          14,
          15,
          16,
          17,
          18,
          19,
          20,
          21,
          22,
          23,
          24,
          25,
          26,
          27,
          28,
          29,
          30
         ],
         "y": [
          -99.98633879781421,
          -99.59016393442623,
          -99.18032786885246,
          -98.77049180327869,
          -98.36065573770492,
          -97.95081967213115,
          -97.54098360655738,
          -97.1311475409836,
          -96.72131147540983,
          -96.31147540983606,
          -95.90163934426229,
          -95.49180327868852,
          -95,
          -63.14899157743994,
          -29.272554567106212,
          -2.889558895789193,
          17.657538792802,
          33.65963456252149,
          46.12207927876259,
          55.82784098275529,
          63.38669579812926,
          69.27353784746556,
          73.85821504530634,
          77.42876523711435,
          80.20951252249019,
          82.37516068586459,
          84.0617691713577,
          85.37530118059462,
          86.39828093797769,
          87.19497837409382,
          87.81544696121203,
          88.29866838273092,
          88.6750016042067,
          88.96809021178782,
          89.19634784888132,
          89.37411507539176,
          89.5125603306025,
          89.62038160377317,
          89.70435289575022,
          89.76974980369748,
          89.82068096681726,
          89.86034619653768
         ]
        }
       ],
       "layout": {
        "showlegend": true,
        "template": {
         "data": {
          "bar": [
           {
            "error_x": {
             "color": "#2a3f5f"
            },
            "error_y": {
             "color": "#2a3f5f"
            },
            "marker": {
             "line": {
              "color": "#E5ECF6",
              "width": 0.5
             }
            },
            "type": "bar"
           }
          ],
          "barpolar": [
           {
            "marker": {
             "line": {
              "color": "#E5ECF6",
              "width": 0.5
             }
            },
            "type": "barpolar"
           }
          ],
          "carpet": [
           {
            "aaxis": {
             "endlinecolor": "#2a3f5f",
             "gridcolor": "white",
             "linecolor": "white",
             "minorgridcolor": "white",
             "startlinecolor": "#2a3f5f"
            },
            "baxis": {
             "endlinecolor": "#2a3f5f",
             "gridcolor": "white",
             "linecolor": "white",
             "minorgridcolor": "white",
             "startlinecolor": "#2a3f5f"
            },
            "type": "carpet"
           }
          ],
          "choropleth": [
           {
            "colorbar": {
             "outlinewidth": 0,
             "ticks": ""
            },
            "type": "choropleth"
           }
          ],
          "contour": [
           {
            "colorbar": {
             "outlinewidth": 0,
             "ticks": ""
            },
            "colorscale": [
             [
              0,
              "#0d0887"
             ],
             [
              0.1111111111111111,
              "#46039f"
             ],
             [
              0.2222222222222222,
              "#7201a8"
             ],
             [
              0.3333333333333333,
              "#9c179e"
             ],
             [
              0.4444444444444444,
              "#bd3786"
             ],
             [
              0.5555555555555556,
              "#d8576b"
             ],
             [
              0.6666666666666666,
              "#ed7953"
             ],
             [
              0.7777777777777778,
              "#fb9f3a"
             ],
             [
              0.8888888888888888,
              "#fdca26"
             ],
             [
              1,
              "#f0f921"
             ]
            ],
            "type": "contour"
           }
          ],
          "contourcarpet": [
           {
            "colorbar": {
             "outlinewidth": 0,
             "ticks": ""
            },
            "type": "contourcarpet"
           }
          ],
          "heatmap": [
           {
            "colorbar": {
             "outlinewidth": 0,
             "ticks": ""
            },
            "colorscale": [
             [
              0,
              "#0d0887"
             ],
             [
              0.1111111111111111,
              "#46039f"
             ],
             [
              0.2222222222222222,
              "#7201a8"
             ],
             [
              0.3333333333333333,
              "#9c179e"
             ],
             [
              0.4444444444444444,
              "#bd3786"
             ],
             [
              0.5555555555555556,
              "#d8576b"
             ],
             [
              0.6666666666666666,
              "#ed7953"
             ],
             [
              0.7777777777777778,
              "#fb9f3a"
             ],
             [
              0.8888888888888888,
              "#fdca26"
             ],
             [
              1,
              "#f0f921"
             ]
            ],
            "type": "heatmap"
           }
          ],
          "heatmapgl": [
           {
            "colorbar": {
             "outlinewidth": 0,
             "ticks": ""
            },
            "colorscale": [
             [
              0,
              "#0d0887"
             ],
             [
              0.1111111111111111,
              "#46039f"
             ],
             [
              0.2222222222222222,
              "#7201a8"
             ],
             [
              0.3333333333333333,
              "#9c179e"
             ],
             [
              0.4444444444444444,
              "#bd3786"
             ],
             [
              0.5555555555555556,
              "#d8576b"
             ],
             [
              0.6666666666666666,
              "#ed7953"
             ],
             [
              0.7777777777777778,
              "#fb9f3a"
             ],
             [
              0.8888888888888888,
              "#fdca26"
             ],
             [
              1,
              "#f0f921"
             ]
            ],
            "type": "heatmapgl"
           }
          ],
          "histogram": [
           {
            "marker": {
             "colorbar": {
              "outlinewidth": 0,
              "ticks": ""
             }
            },
            "type": "histogram"
           }
          ],
          "histogram2d": [
           {
            "colorbar": {
             "outlinewidth": 0,
             "ticks": ""
            },
            "colorscale": [
             [
              0,
              "#0d0887"
             ],
             [
              0.1111111111111111,
              "#46039f"
             ],
             [
              0.2222222222222222,
              "#7201a8"
             ],
             [
              0.3333333333333333,
              "#9c179e"
             ],
             [
              0.4444444444444444,
              "#bd3786"
             ],
             [
              0.5555555555555556,
              "#d8576b"
             ],
             [
              0.6666666666666666,
              "#ed7953"
             ],
             [
              0.7777777777777778,
              "#fb9f3a"
             ],
             [
              0.8888888888888888,
              "#fdca26"
             ],
             [
              1,
              "#f0f921"
             ]
            ],
            "type": "histogram2d"
           }
          ],
          "histogram2dcontour": [
           {
            "colorbar": {
             "outlinewidth": 0,
             "ticks": ""
            },
            "colorscale": [
             [
              0,
              "#0d0887"
             ],
             [
              0.1111111111111111,
              "#46039f"
             ],
             [
              0.2222222222222222,
              "#7201a8"
             ],
             [
              0.3333333333333333,
              "#9c179e"
             ],
             [
              0.4444444444444444,
              "#bd3786"
             ],
             [
              0.5555555555555556,
              "#d8576b"
             ],
             [
              0.6666666666666666,
              "#ed7953"
             ],
             [
              0.7777777777777778,
              "#fb9f3a"
             ],
             [
              0.8888888888888888,
              "#fdca26"
             ],
             [
              1,
              "#f0f921"
             ]
            ],
            "type": "histogram2dcontour"
           }
          ],
          "mesh3d": [
           {
            "colorbar": {
             "outlinewidth": 0,
             "ticks": ""
            },
            "type": "mesh3d"
           }
          ],
          "parcoords": [
           {
            "line": {
             "colorbar": {
              "outlinewidth": 0,
              "ticks": ""
             }
            },
            "type": "parcoords"
           }
          ],
          "scatter": [
           {
            "marker": {
             "colorbar": {
              "outlinewidth": 0,
              "ticks": ""
             }
            },
            "type": "scatter"
           }
          ],
          "scatter3d": [
           {
            "line": {
             "colorbar": {
              "outlinewidth": 0,
              "ticks": ""
             }
            },
            "marker": {
             "colorbar": {
              "outlinewidth": 0,
              "ticks": ""
             }
            },
            "type": "scatter3d"
           }
          ],
          "scattercarpet": [
           {
            "marker": {
             "colorbar": {
              "outlinewidth": 0,
              "ticks": ""
             }
            },
            "type": "scattercarpet"
           }
          ],
          "scattergeo": [
           {
            "marker": {
             "colorbar": {
              "outlinewidth": 0,
              "ticks": ""
             }
            },
            "type": "scattergeo"
           }
          ],
          "scattergl": [
           {
            "marker": {
             "colorbar": {
              "outlinewidth": 0,
              "ticks": ""
             }
            },
            "type": "scattergl"
           }
          ],
          "scattermapbox": [
           {
            "marker": {
             "colorbar": {
              "outlinewidth": 0,
              "ticks": ""
             }
            },
            "type": "scattermapbox"
           }
          ],
          "scatterpolar": [
           {
            "marker": {
             "colorbar": {
              "outlinewidth": 0,
              "ticks": ""
             }
            },
            "type": "scatterpolar"
           }
          ],
          "scatterpolargl": [
           {
            "marker": {
             "colorbar": {
              "outlinewidth": 0,
              "ticks": ""
             }
            },
            "type": "scatterpolargl"
           }
          ],
          "scatterternary": [
           {
            "marker": {
             "colorbar": {
              "outlinewidth": 0,
              "ticks": ""
             }
            },
            "type": "scatterternary"
           }
          ],
          "surface": [
           {
            "colorbar": {
             "outlinewidth": 0,
             "ticks": ""
            },
            "colorscale": [
             [
              0,
              "#0d0887"
             ],
             [
              0.1111111111111111,
              "#46039f"
             ],
             [
              0.2222222222222222,
              "#7201a8"
             ],
             [
              0.3333333333333333,
              "#9c179e"
             ],
             [
              0.4444444444444444,
              "#bd3786"
             ],
             [
              0.5555555555555556,
              "#d8576b"
             ],
             [
              0.6666666666666666,
              "#ed7953"
             ],
             [
              0.7777777777777778,
              "#fb9f3a"
             ],
             [
              0.8888888888888888,
              "#fdca26"
             ],
             [
              1,
              "#f0f921"
             ]
            ],
            "type": "surface"
           }
          ],
          "table": [
           {
            "cells": {
             "fill": {
              "color": "#EBF0F8"
             },
             "line": {
              "color": "white"
             }
            },
            "header": {
             "fill": {
              "color": "#C8D4E3"
             },
             "line": {
              "color": "white"
             }
            },
            "type": "table"
           }
          ]
         },
         "layout": {
          "annotationdefaults": {
           "arrowcolor": "#2a3f5f",
           "arrowhead": 0,
           "arrowwidth": 1
          },
          "colorscale": {
           "diverging": [
            [
             0,
             "#8e0152"
            ],
            [
             0.1,
             "#c51b7d"
            ],
            [
             0.2,
             "#de77ae"
            ],
            [
             0.3,
             "#f1b6da"
            ],
            [
             0.4,
             "#fde0ef"
            ],
            [
             0.5,
             "#f7f7f7"
            ],
            [
             0.6,
             "#e6f5d0"
            ],
            [
             0.7,
             "#b8e186"
            ],
            [
             0.8,
             "#7fbc41"
            ],
            [
             0.9,
             "#4d9221"
            ],
            [
             1,
             "#276419"
            ]
           ],
           "sequential": [
            [
             0,
             "#0d0887"
            ],
            [
             0.1111111111111111,
             "#46039f"
            ],
            [
             0.2222222222222222,
             "#7201a8"
            ],
            [
             0.3333333333333333,
             "#9c179e"
            ],
            [
             0.4444444444444444,
             "#bd3786"
            ],
            [
             0.5555555555555556,
             "#d8576b"
            ],
            [
             0.6666666666666666,
             "#ed7953"
            ],
            [
             0.7777777777777778,
             "#fb9f3a"
            ],
            [
             0.8888888888888888,
             "#fdca26"
            ],
            [
             1,
             "#f0f921"
            ]
           ],
           "sequentialminus": [
            [
             0,
             "#0d0887"
            ],
            [
             0.1111111111111111,
             "#46039f"
            ],
            [
             0.2222222222222222,
             "#7201a8"
            ],
            [
             0.3333333333333333,
             "#9c179e"
            ],
            [
             0.4444444444444444,
             "#bd3786"
            ],
            [
             0.5555555555555556,
             "#d8576b"
            ],
            [
             0.6666666666666666,
             "#ed7953"
            ],
            [
             0.7777777777777778,
             "#fb9f3a"
            ],
            [
             0.8888888888888888,
             "#fdca26"
            ],
            [
             1,
             "#f0f921"
            ]
           ]
          },
          "colorway": [
           "#636efa",
           "#EF553B",
           "#00cc96",
           "#ab63fa",
           "#FFA15A",
           "#19d3f3",
           "#FF6692",
           "#B6E880",
           "#FF97FF",
           "#FECB52"
          ],
          "font": {
           "color": "#2a3f5f"
          },
          "geo": {
           "bgcolor": "white",
           "lakecolor": "white",
           "landcolor": "#E5ECF6",
           "showlakes": true,
           "showland": true,
           "subunitcolor": "white"
          },
          "hoverlabel": {
           "align": "left"
          },
          "hovermode": "closest",
          "mapbox": {
           "style": "light"
          },
          "paper_bgcolor": "white",
          "plot_bgcolor": "#E5ECF6",
          "polar": {
           "angularaxis": {
            "gridcolor": "white",
            "linecolor": "white",
            "ticks": ""
           },
           "bgcolor": "#E5ECF6",
           "radialaxis": {
            "gridcolor": "white",
            "linecolor": "white",
            "ticks": ""
           }
          },
          "scene": {
           "xaxis": {
            "backgroundcolor": "#E5ECF6",
            "gridcolor": "white",
            "gridwidth": 2,
            "linecolor": "white",
            "showbackground": true,
            "ticks": "",
            "zerolinecolor": "white"
           },
           "yaxis": {
            "backgroundcolor": "#E5ECF6",
            "gridcolor": "white",
            "gridwidth": 2,
            "linecolor": "white",
            "showbackground": true,
            "ticks": "",
            "zerolinecolor": "white"
           },
           "zaxis": {
            "backgroundcolor": "#E5ECF6",
            "gridcolor": "white",
            "gridwidth": 2,
            "linecolor": "white",
            "showbackground": true,
            "ticks": "",
            "zerolinecolor": "white"
           }
          },
          "shapedefaults": {
           "line": {
            "color": "#2a3f5f"
           }
          },
          "ternary": {
           "aaxis": {
            "gridcolor": "white",
            "linecolor": "white",
            "ticks": ""
           },
           "baxis": {
            "gridcolor": "white",
            "linecolor": "white",
            "ticks": ""
           },
           "bgcolor": "#E5ECF6",
           "caxis": {
            "gridcolor": "white",
            "linecolor": "white",
            "ticks": ""
           }
          },
          "title": {
           "x": 0.05
          },
          "xaxis": {
           "automargin": true,
           "gridcolor": "white",
           "linecolor": "white",
           "ticks": "",
           "zerolinecolor": "white",
           "zerolinewidth": 2
          },
          "yaxis": {
           "automargin": true,
           "gridcolor": "white",
           "linecolor": "white",
           "ticks": "",
           "zerolinecolor": "white",
           "zerolinewidth": 2
          }
         }
        },
        "title": {
         "text": "Shock scenarios (with lower bound)",
         "x": 0.5,
         "xanchor": "center",
         "y": 0.9,
         "yanchor": "top"
        },
        "xaxis": {
         "title": {
          "text": "Expiry (in years)"
         }
        },
        "yaxis": {
         "title": {
          "text": "Interest rate (in basis points)"
         }
        }
       }
      },
      "text/html": [
       "<div>\n",
       "        \n",
       "        \n",
       "            <div id=\"1101af25-7cb6-4a5c-990c-359c55422ef0\" class=\"plotly-graph-div\" style=\"height:525px; width:100%;\"></div>\n",
       "            <script type=\"text/javascript\">\n",
       "                require([\"plotly\"], function(Plotly) {\n",
       "                    window.PLOTLYENV=window.PLOTLYENV || {};\n",
       "                    \n",
       "                if (document.getElementById(\"1101af25-7cb6-4a5c-990c-359c55422ef0\")) {\n",
       "                    Plotly.newPlot(\n",
       "                        '1101af25-7cb6-4a5c-990c-359c55422ef0',\n",
       "                        [{\"mode\": \"lines\", \"name\": \"Original\", \"type\": \"scatter\", \"x\": [0.00273224043715847, 0.08196721311475409, 0.16393442622950818, 0.2459016393442623, 0.32786885245901637, 0.4098360655737705, 0.4918032786885246, 0.5737704918032787, 0.6557377049180327, 0.7377049180327869, 0.819672131147541, 0.9016393442622951, 1.0, 2.0, 3.0, 4.0, 5.0, 6.0, 7.0, 8.0, 9.0, 10.0, 11.0, 12.0, 13.0, 14.0, 15.0, 16.0, 17.0, 18.0, 19.0, 20.0, 21.0, 22.0, 23.0, 24.0, 25.0, 26.0, 27.0, 28.0, 29.0, 30.0], \"y\": [0, 0, 0, 0, 0, 0, 0, 0, 0, 0, 0, 0, 0, 0, 0, 0, 0, 0, 0, 0, 0, 0, 0, 0, 0, 0, 0, 0, 0, 0, 0, 0, 0, 0, 0, 0, 0, 0, 0, 0, 0, 0]}, {\"mode\": \"lines\", \"name\": \"ParallelUp\", \"type\": \"scatter\", \"x\": [0.00273224043715847, 0.08196721311475409, 0.16393442622950818, 0.2459016393442623, 0.32786885245901637, 0.4098360655737705, 0.4918032786885246, 0.5737704918032787, 0.6557377049180327, 0.7377049180327869, 0.819672131147541, 0.9016393442622951, 1.0, 2.0, 3.0, 4.0, 5.0, 6.0, 7.0, 8.0, 9.0, 10.0, 11.0, 12.0, 13.0, 14.0, 15.0, 16.0, 17.0, 18.0, 19.0, 20.0, 21.0, 22.0, 23.0, 24.0, 25.0, 26.0, 27.0, 28.0, 29.0, 30.0], \"y\": [200.0, 200.0, 200.0, 200.0, 200.0, 200.0, 200.0, 200.0, 200.0, 200.0, 200.0, 200.0, 200.0, 200.0, 200.0, 200.0, 200.0, 200.0, 200.0, 200.0, 200.0, 200.0, 200.0, 200.0, 200.0, 200.0, 200.0, 200.0, 200.0, 200.0, 200.0, 200.0, 200.0, 200.0, 200.0, 200.0, 200.0, 200.0, 200.0, 200.0, 200.0, 200.0]}, {\"mode\": \"lines\", \"name\": \"ParallelDown\", \"type\": \"scatter\", \"x\": [0.00273224043715847, 0.08196721311475409, 0.16393442622950818, 0.2459016393442623, 0.32786885245901637, 0.4098360655737705, 0.4918032786885246, 0.5737704918032787, 0.6557377049180327, 0.7377049180327869, 0.819672131147541, 0.9016393442622951, 1.0, 2.0, 3.0, 4.0, 5.0, 6.0, 7.0, 8.0, 9.0, 10.0, 11.0, 12.0, 13.0, 14.0, 15.0, 16.0, 17.0, 18.0, 19.0, 20.0, 21.0, 22.0, 23.0, 24.0, 25.0, 26.0, 27.0, 28.0, 29.0, 30.0], \"y\": [-99.98633879781421, -99.59016393442623, -99.18032786885246, -98.77049180327869, -98.36065573770492, -97.95081967213115, -97.54098360655738, -97.1311475409836, -96.72131147540983, -96.31147540983606, -95.90163934426229, -95.49180327868852, -95.0, -90.0, -85.0, -80.0, -75.0, -70.0, -65.0, -60.0, -55.0, -50.0, -45.0, -40.0, -35.0, -30.0, -25.0, -20.0, -15.0, -10.0, -5.0, 0, 0, 0, 0, 0, 0, 0, 0, 0, 0, 0]}, {\"mode\": \"lines\", \"name\": \"ShortUp\", \"type\": \"scatter\", \"x\": [0.00273224043715847, 0.08196721311475409, 0.16393442622950818, 0.2459016393442623, 0.32786885245901637, 0.4098360655737705, 0.4918032786885246, 0.5737704918032787, 0.6557377049180327, 0.7377049180327869, 0.819672131147541, 0.9016393442622951, 1.0, 2.0, 3.0, 4.0, 5.0, 6.0, 7.0, 8.0, 9.0, 10.0, 11.0, 12.0, 13.0, 14.0, 15.0, 16.0, 17.0, 18.0, 19.0, 20.0, 21.0, 22.0, 23.0, 24.0, 25.0, 26.0, 27.0, 28.0, 29.0, 30.0], \"y\": [249.82929328078998, 244.92918172664523, 239.96121624513597, 235.09401736420688, 230.32554120737964, 225.6537853546808, 221.076788001768, 216.59262713611218, 212.1994197298893, 207.8953209492429, 203.67852337958536, 199.5472562666129, 194.70019576785123, 151.63266492815836, 118.09163818525367, 91.96986029286059, 71.62619921504752, 55.78254003710745, 43.44348586261128, 33.833820809153174, 26.349806140466082, 20.5212496559747, 15.981965301676892, 12.446767091965986, 9.693551957930502, 7.549345855579626, 5.879436464002277, 4.578909722183544, 3.566058477249814, 2.7772491345605763, 2.1629238007801583, 1.6844867497713667, 1.311879599795346, 1.0216928596160166, 0.7956951991274167, 0.6196880441665896, 0.4826135340569273, 0.3758597982443931, 0.2927199051977936, 0.22797049138862907, 0.17754359721063726, 0.1382710925369584]}, {\"mode\": \"lines\", \"name\": \"ShortDown\", \"type\": \"scatter\", \"x\": [0.00273224043715847, 0.08196721311475409, 0.16393442622950818, 0.2459016393442623, 0.32786885245901637, 0.4098360655737705, 0.4918032786885246, 0.5737704918032787, 0.6557377049180327, 0.7377049180327869, 0.819672131147541, 0.9016393442622951, 1.0, 2.0, 3.0, 4.0, 5.0, 6.0, 7.0, 8.0, 9.0, 10.0, 11.0, 12.0, 13.0, 14.0, 15.0, 16.0, 17.0, 18.0, 19.0, 20.0, 21.0, 22.0, 23.0, 24.0, 25.0, 26.0, 27.0, 28.0, 29.0, 30.0], \"y\": [-99.98633879781421, -99.59016393442623, -99.18032786885246, -98.77049180327869, -98.36065573770492, -97.95081967213115, -97.54098360655738, -97.1311475409836, -96.72131147540983, -96.31147540983606, -95.90163934426229, -95.49180327868852, -95.0, -90.0, -85.0, -80.0, -71.62619921504752, -55.78254003710745, -43.44348586261128, -33.833820809153174, -26.349806140466082, -20.5212496559747, -15.981965301676892, -12.446767091965986, -9.693551957930502, -7.549345855579626, -5.879436464002277, -4.578909722183544, -3.566058477249814, -2.7772491345605763, -2.1629238007801583, 0, 0, 0, 0, 0, 0, 0, 0, 0, 0, 0]}, {\"mode\": \"lines\", \"name\": \"LongUp\", \"type\": \"scatter\", \"x\": [0.00273224043715847, 0.08196721311475409, 0.16393442622950818, 0.2459016393442623, 0.32786885245901637, 0.4098360655737705, 0.4918032786885246, 0.5737704918032787, 0.6557377049180327, 0.7377049180327869, 0.819672131147541, 0.9016393442622951, 1.0, 2.0, 3.0, 4.0, 5.0, 6.0, 7.0, 8.0, 9.0, 10.0, 11.0, 12.0, 13.0, 14.0, 15.0, 16.0, 17.0, 18.0, 19.0, 20.0, 21.0, 22.0, 23.0, 24.0, 25.0, 26.0, 27.0, 28.0, 29.0, 30.0], \"y\": [0.06828268768400703, 2.028327309341915, 4.015513501945611, 5.96239305431725, 7.869783517048146, 9.738485858127689, 11.5692847992928, 13.362949145555126, 15.120232108044274, 16.84187162030284, 18.528590648165853, 20.181097493354848, 22.119921692859513, 39.346934028736655, 52.763344725898534, 63.212055882855765, 71.34952031398099, 77.68698398515703, 82.62260565495548, 86.46647167633873, 89.46007754381357, 91.79150013761011, 93.60721387932924, 95.0212931632136, 96.1225792168278, 96.98026165776815, 97.64822541439909, 98.16843611112658, 98.57357660910007, 98.88910034617578, 99.13483047968793, 99.32620530009146, 99.47524816008186, 99.5913228561536, 99.68172192034903, 99.75212478233337, 99.80695458637723, 99.84965608070225, 99.88291203792087, 99.90881180344455, 99.92898256111575, 99.94469156298523]}, {\"mode\": \"lines\", \"name\": \"LongDown\", \"type\": \"scatter\", \"x\": [0.00273224043715847, 0.08196721311475409, 0.16393442622950818, 0.2459016393442623, 0.32786885245901637, 0.4098360655737705, 0.4918032786885246, 0.5737704918032787, 0.6557377049180327, 0.7377049180327869, 0.819672131147541, 0.9016393442622951, 1.0, 2.0, 3.0, 4.0, 5.0, 6.0, 7.0, 8.0, 9.0, 10.0, 11.0, 12.0, 13.0, 14.0, 15.0, 16.0, 17.0, 18.0, 19.0, 20.0, 21.0, 22.0, 23.0, 24.0, 25.0, 26.0, 27.0, 28.0, 29.0, 30.0], \"y\": [-0.06828268768400703, -2.028327309341915, -4.015513501945611, -5.96239305431725, -7.869783517048146, -9.738485858127689, -11.5692847992928, -13.362949145555126, -15.120232108044274, -16.84187162030284, -18.528590648165853, -20.181097493354848, -22.119921692859513, -39.346934028736655, -52.763344725898534, -63.212055882855765, -71.34952031398099, -70.0, -65.0, -60.0, -55.0, -50.0, -45.0, -40.0, -35.0, -30.0, -25.0, -20.0, -15.0, -10.0, -5.0, 0, 0, 0, 0, 0, 0, 0, 0, 0, 0, 0]}, {\"mode\": \"lines\", \"name\": \"Flatten\", \"type\": \"scatter\", \"x\": [0.00273224043715847, 0.08196721311475409, 0.16393442622950818, 0.2459016393442623, 0.32786885245901637, 0.4098360655737705, 0.4918032786885246, 0.5737704918032787, 0.6557377049180327, 0.7377049180327869, 0.819672131147541, 0.9016393442622951, 1.0, 2.0, 3.0, 4.0, 5.0, 6.0, 7.0, 8.0, 9.0, 10.0, 11.0, 12.0, 13.0, 14.0, 15.0, 16.0, 17.0, 18.0, 19.0, 20.0, 21.0, 22.0, 23.0, 24.0, 25.0, 26.0, 27.0, 28.0, 29.0, 30.0], \"y\": [199.82246501202158, 194.72634899571105, 189.55966489494142, 184.49777805877517, 179.53856285567485, 174.67993676886803, 169.9198595218387, 165.25633222155668, 160.6873965190849, 156.21113378721262, 151.8256643147688, 147.5291465172774, 142.4882035985653, 97.6979715252847, 62.81530371266383, 35.648654704575016, 14.491247183649428, -1.9861583614082505, -14.818774702884255, -24.812826358480695, -32.59620161391527, -38.6579003577863, -43.378756086256026, -40.0, -35.0, -30.0, -25.0, -20.0, -15.0, -10.0, -5.0, 0, 0, 0, 0, 0, 0, 0, 0, 0, 0, 0]}, {\"mode\": \"lines\", \"name\": \"Steepen\", \"type\": \"scatter\", \"x\": [0.00273224043715847, 0.08196721311475409, 0.16393442622950818, 0.2459016393442623, 0.32786885245901637, 0.4098360655737705, 0.4918032786885246, 0.5737704918032787, 0.6557377049180327, 0.7377049180327869, 0.819672131147541, 0.9016393442622951, 1.0, 2.0, 3.0, 4.0, 5.0, 6.0, 7.0, 8.0, 9.0, 10.0, 11.0, 12.0, 13.0, 14.0, 15.0, 16.0, 17.0, 18.0, 19.0, 20.0, 21.0, 22.0, 23.0, 24.0, 25.0, 26.0, 27.0, 28.0, 29.0, 30.0], \"y\": [-99.98633879781421, -99.59016393442623, -99.18032786885246, -98.77049180327869, -98.36065573770492, -97.95081967213115, -97.54098360655738, -97.1311475409836, -96.72131147540983, -96.31147540983606, -95.90163934426229, -95.49180327868852, -95.0, -63.14899157743994, -29.272554567106212, -2.889558895789193, 17.657538792802, 33.65963456252149, 46.12207927876259, 55.82784098275529, 63.38669579812926, 69.27353784746556, 73.85821504530634, 77.42876523711435, 80.20951252249019, 82.37516068586459, 84.0617691713577, 85.37530118059462, 86.39828093797769, 87.19497837409382, 87.81544696121203, 88.29866838273092, 88.6750016042067, 88.96809021178782, 89.19634784888132, 89.37411507539176, 89.5125603306025, 89.62038160377317, 89.70435289575022, 89.76974980369748, 89.82068096681726, 89.86034619653768]}],\n",
       "                        {\"showlegend\": true, \"template\": {\"data\": {\"bar\": [{\"error_x\": {\"color\": \"#2a3f5f\"}, \"error_y\": {\"color\": \"#2a3f5f\"}, \"marker\": {\"line\": {\"color\": \"#E5ECF6\", \"width\": 0.5}}, \"type\": \"bar\"}], \"barpolar\": [{\"marker\": {\"line\": {\"color\": \"#E5ECF6\", \"width\": 0.5}}, \"type\": \"barpolar\"}], \"carpet\": [{\"aaxis\": {\"endlinecolor\": \"#2a3f5f\", \"gridcolor\": \"white\", \"linecolor\": \"white\", \"minorgridcolor\": \"white\", \"startlinecolor\": \"#2a3f5f\"}, \"baxis\": {\"endlinecolor\": \"#2a3f5f\", \"gridcolor\": \"white\", \"linecolor\": \"white\", \"minorgridcolor\": \"white\", \"startlinecolor\": \"#2a3f5f\"}, \"type\": \"carpet\"}], \"choropleth\": [{\"colorbar\": {\"outlinewidth\": 0, \"ticks\": \"\"}, \"type\": \"choropleth\"}], \"contour\": [{\"colorbar\": {\"outlinewidth\": 0, \"ticks\": \"\"}, \"colorscale\": [[0.0, \"#0d0887\"], [0.1111111111111111, \"#46039f\"], [0.2222222222222222, \"#7201a8\"], [0.3333333333333333, \"#9c179e\"], [0.4444444444444444, \"#bd3786\"], [0.5555555555555556, \"#d8576b\"], [0.6666666666666666, \"#ed7953\"], [0.7777777777777778, \"#fb9f3a\"], [0.8888888888888888, \"#fdca26\"], [1.0, \"#f0f921\"]], \"type\": \"contour\"}], \"contourcarpet\": [{\"colorbar\": {\"outlinewidth\": 0, \"ticks\": \"\"}, \"type\": \"contourcarpet\"}], \"heatmap\": [{\"colorbar\": {\"outlinewidth\": 0, \"ticks\": \"\"}, \"colorscale\": [[0.0, \"#0d0887\"], [0.1111111111111111, \"#46039f\"], [0.2222222222222222, \"#7201a8\"], [0.3333333333333333, \"#9c179e\"], [0.4444444444444444, \"#bd3786\"], [0.5555555555555556, \"#d8576b\"], [0.6666666666666666, \"#ed7953\"], [0.7777777777777778, \"#fb9f3a\"], [0.8888888888888888, \"#fdca26\"], [1.0, \"#f0f921\"]], \"type\": \"heatmap\"}], \"heatmapgl\": [{\"colorbar\": {\"outlinewidth\": 0, \"ticks\": \"\"}, \"colorscale\": [[0.0, \"#0d0887\"], [0.1111111111111111, \"#46039f\"], [0.2222222222222222, \"#7201a8\"], [0.3333333333333333, \"#9c179e\"], [0.4444444444444444, \"#bd3786\"], [0.5555555555555556, \"#d8576b\"], [0.6666666666666666, \"#ed7953\"], [0.7777777777777778, \"#fb9f3a\"], [0.8888888888888888, \"#fdca26\"], [1.0, \"#f0f921\"]], \"type\": \"heatmapgl\"}], \"histogram\": [{\"marker\": {\"colorbar\": {\"outlinewidth\": 0, \"ticks\": \"\"}}, \"type\": \"histogram\"}], \"histogram2d\": [{\"colorbar\": {\"outlinewidth\": 0, \"ticks\": \"\"}, \"colorscale\": [[0.0, \"#0d0887\"], [0.1111111111111111, \"#46039f\"], [0.2222222222222222, \"#7201a8\"], [0.3333333333333333, \"#9c179e\"], [0.4444444444444444, \"#bd3786\"], [0.5555555555555556, \"#d8576b\"], [0.6666666666666666, \"#ed7953\"], [0.7777777777777778, \"#fb9f3a\"], [0.8888888888888888, \"#fdca26\"], [1.0, \"#f0f921\"]], \"type\": \"histogram2d\"}], \"histogram2dcontour\": [{\"colorbar\": {\"outlinewidth\": 0, \"ticks\": \"\"}, \"colorscale\": [[0.0, \"#0d0887\"], [0.1111111111111111, \"#46039f\"], [0.2222222222222222, \"#7201a8\"], [0.3333333333333333, \"#9c179e\"], [0.4444444444444444, \"#bd3786\"], [0.5555555555555556, \"#d8576b\"], [0.6666666666666666, \"#ed7953\"], [0.7777777777777778, \"#fb9f3a\"], [0.8888888888888888, \"#fdca26\"], [1.0, \"#f0f921\"]], \"type\": \"histogram2dcontour\"}], \"mesh3d\": [{\"colorbar\": {\"outlinewidth\": 0, \"ticks\": \"\"}, \"type\": \"mesh3d\"}], \"parcoords\": [{\"line\": {\"colorbar\": {\"outlinewidth\": 0, \"ticks\": \"\"}}, \"type\": \"parcoords\"}], \"scatter\": [{\"marker\": {\"colorbar\": {\"outlinewidth\": 0, \"ticks\": \"\"}}, \"type\": \"scatter\"}], \"scatter3d\": [{\"line\": {\"colorbar\": {\"outlinewidth\": 0, \"ticks\": \"\"}}, \"marker\": {\"colorbar\": {\"outlinewidth\": 0, \"ticks\": \"\"}}, \"type\": \"scatter3d\"}], \"scattercarpet\": [{\"marker\": {\"colorbar\": {\"outlinewidth\": 0, \"ticks\": \"\"}}, \"type\": \"scattercarpet\"}], \"scattergeo\": [{\"marker\": {\"colorbar\": {\"outlinewidth\": 0, \"ticks\": \"\"}}, \"type\": \"scattergeo\"}], \"scattergl\": [{\"marker\": {\"colorbar\": {\"outlinewidth\": 0, \"ticks\": \"\"}}, \"type\": \"scattergl\"}], \"scattermapbox\": [{\"marker\": {\"colorbar\": {\"outlinewidth\": 0, \"ticks\": \"\"}}, \"type\": \"scattermapbox\"}], \"scatterpolar\": [{\"marker\": {\"colorbar\": {\"outlinewidth\": 0, \"ticks\": \"\"}}, \"type\": \"scatterpolar\"}], \"scatterpolargl\": [{\"marker\": {\"colorbar\": {\"outlinewidth\": 0, \"ticks\": \"\"}}, \"type\": \"scatterpolargl\"}], \"scatterternary\": [{\"marker\": {\"colorbar\": {\"outlinewidth\": 0, \"ticks\": \"\"}}, \"type\": \"scatterternary\"}], \"surface\": [{\"colorbar\": {\"outlinewidth\": 0, \"ticks\": \"\"}, \"colorscale\": [[0.0, \"#0d0887\"], [0.1111111111111111, \"#46039f\"], [0.2222222222222222, \"#7201a8\"], [0.3333333333333333, \"#9c179e\"], [0.4444444444444444, \"#bd3786\"], [0.5555555555555556, \"#d8576b\"], [0.6666666666666666, \"#ed7953\"], [0.7777777777777778, \"#fb9f3a\"], [0.8888888888888888, \"#fdca26\"], [1.0, \"#f0f921\"]], \"type\": \"surface\"}], \"table\": [{\"cells\": {\"fill\": {\"color\": \"#EBF0F8\"}, \"line\": {\"color\": \"white\"}}, \"header\": {\"fill\": {\"color\": \"#C8D4E3\"}, \"line\": {\"color\": \"white\"}}, \"type\": \"table\"}]}, \"layout\": {\"annotationdefaults\": {\"arrowcolor\": \"#2a3f5f\", \"arrowhead\": 0, \"arrowwidth\": 1}, \"colorscale\": {\"diverging\": [[0, \"#8e0152\"], [0.1, \"#c51b7d\"], [0.2, \"#de77ae\"], [0.3, \"#f1b6da\"], [0.4, \"#fde0ef\"], [0.5, \"#f7f7f7\"], [0.6, \"#e6f5d0\"], [0.7, \"#b8e186\"], [0.8, \"#7fbc41\"], [0.9, \"#4d9221\"], [1, \"#276419\"]], \"sequential\": [[0.0, \"#0d0887\"], [0.1111111111111111, \"#46039f\"], [0.2222222222222222, \"#7201a8\"], [0.3333333333333333, \"#9c179e\"], [0.4444444444444444, \"#bd3786\"], [0.5555555555555556, \"#d8576b\"], [0.6666666666666666, \"#ed7953\"], [0.7777777777777778, \"#fb9f3a\"], [0.8888888888888888, \"#fdca26\"], [1.0, \"#f0f921\"]], \"sequentialminus\": [[0.0, \"#0d0887\"], [0.1111111111111111, \"#46039f\"], [0.2222222222222222, \"#7201a8\"], [0.3333333333333333, \"#9c179e\"], [0.4444444444444444, \"#bd3786\"], [0.5555555555555556, \"#d8576b\"], [0.6666666666666666, \"#ed7953\"], [0.7777777777777778, \"#fb9f3a\"], [0.8888888888888888, \"#fdca26\"], [1.0, \"#f0f921\"]]}, \"colorway\": [\"#636efa\", \"#EF553B\", \"#00cc96\", \"#ab63fa\", \"#FFA15A\", \"#19d3f3\", \"#FF6692\", \"#B6E880\", \"#FF97FF\", \"#FECB52\"], \"font\": {\"color\": \"#2a3f5f\"}, \"geo\": {\"bgcolor\": \"white\", \"lakecolor\": \"white\", \"landcolor\": \"#E5ECF6\", \"showlakes\": true, \"showland\": true, \"subunitcolor\": \"white\"}, \"hoverlabel\": {\"align\": \"left\"}, \"hovermode\": \"closest\", \"mapbox\": {\"style\": \"light\"}, \"paper_bgcolor\": \"white\", \"plot_bgcolor\": \"#E5ECF6\", \"polar\": {\"angularaxis\": {\"gridcolor\": \"white\", \"linecolor\": \"white\", \"ticks\": \"\"}, \"bgcolor\": \"#E5ECF6\", \"radialaxis\": {\"gridcolor\": \"white\", \"linecolor\": \"white\", \"ticks\": \"\"}}, \"scene\": {\"xaxis\": {\"backgroundcolor\": \"#E5ECF6\", \"gridcolor\": \"white\", \"gridwidth\": 2, \"linecolor\": \"white\", \"showbackground\": true, \"ticks\": \"\", \"zerolinecolor\": \"white\"}, \"yaxis\": {\"backgroundcolor\": \"#E5ECF6\", \"gridcolor\": \"white\", \"gridwidth\": 2, \"linecolor\": \"white\", \"showbackground\": true, \"ticks\": \"\", \"zerolinecolor\": \"white\"}, \"zaxis\": {\"backgroundcolor\": \"#E5ECF6\", \"gridcolor\": \"white\", \"gridwidth\": 2, \"linecolor\": \"white\", \"showbackground\": true, \"ticks\": \"\", \"zerolinecolor\": \"white\"}}, \"shapedefaults\": {\"line\": {\"color\": \"#2a3f5f\"}}, \"ternary\": {\"aaxis\": {\"gridcolor\": \"white\", \"linecolor\": \"white\", \"ticks\": \"\"}, \"baxis\": {\"gridcolor\": \"white\", \"linecolor\": \"white\", \"ticks\": \"\"}, \"bgcolor\": \"#E5ECF6\", \"caxis\": {\"gridcolor\": \"white\", \"linecolor\": \"white\", \"ticks\": \"\"}}, \"title\": {\"x\": 0.05}, \"xaxis\": {\"automargin\": true, \"gridcolor\": \"white\", \"linecolor\": \"white\", \"ticks\": \"\", \"zerolinecolor\": \"white\", \"zerolinewidth\": 2}, \"yaxis\": {\"automargin\": true, \"gridcolor\": \"white\", \"linecolor\": \"white\", \"ticks\": \"\", \"zerolinecolor\": \"white\", \"zerolinewidth\": 2}}}, \"title\": {\"text\": \"Shock scenarios (with lower bound)\", \"x\": 0.5, \"xanchor\": \"center\", \"y\": 0.9, \"yanchor\": \"top\"}, \"xaxis\": {\"title\": {\"text\": \"Expiry (in years)\"}}, \"yaxis\": {\"title\": {\"text\": \"Interest rate (in basis points)\"}}},\n",
       "                        {\"responsive\": true}\n",
       "                    ).then(function(){\n",
       "                            \n",
       "var gd = document.getElementById('1101af25-7cb6-4a5c-990c-359c55422ef0');\n",
       "var x = new MutationObserver(function (mutations, observer) {{\n",
       "        var display = window.getComputedStyle(gd).display;\n",
       "        if (!display || display === 'none') {{\n",
       "            console.log([gd, 'removed!']);\n",
       "            Plotly.purge(gd);\n",
       "            observer.disconnect();\n",
       "        }}\n",
       "}});\n",
       "\n",
       "// Listen for the removal of the full notebook cells\n",
       "var notebookContainer = gd.closest('#notebook-container');\n",
       "if (notebookContainer) {{\n",
       "    x.observe(notebookContainer, {childList: true});\n",
       "}}\n",
       "\n",
       "// Listen for the clearing of the current output cell\n",
       "var outputEl = gd.closest('.output');\n",
       "if (outputEl) {{\n",
       "    x.observe(outputEl, {childList: true});\n",
       "}}\n",
       "\n",
       "                        })\n",
       "                };\n",
       "                });\n",
       "            </script>\n",
       "        </div>"
      ]
     },
     "metadata": {},
     "output_type": "display_data"
    }
   ],
   "source": [
    "# Plot the shock scenarios (once with and once without enforcing the lower bound for interest rates)\n",
    "def plot_shocked_interest_rates(\n",
    "    refdate,\n",
    "    dates,\n",
    "    interestRates,\n",
    "    daycounter,\n",
    "    shockParams,\n",
    "    useLowerBound = True\n",
    "):\n",
    "    parallel = shockParams['Parallel']\n",
    "    short = shockParams['Short']\n",
    "    long = shockParams['Long']\n",
    "    \n",
    "    shockScenarios = ['Original', 'ParallelUp', 'ParallelDown', 'ShortUp', 'ShortDown', 'LongUp', 'LongDown', 'Flatten', 'Steepen']\n",
    "    \n",
    "    \n",
    "    fig = go.Figure()\n",
    "    \n",
    "    for shockScenario in shockScenarios:\n",
    "        ir = getShockedInterestRates(\n",
    "            refdate,\n",
    "            dates,\n",
    "            interestRates,\n",
    "            daycounter,\n",
    "            shockScenario,\n",
    "            parallel,\n",
    "            short,\n",
    "            long,\n",
    "            useLowerBound\n",
    "        )\n",
    "        year_fractions = []\n",
    "        for i in range(len(dates)):\n",
    "            year_fractions.append(daycounter.yf(refdate, dates[i]))\n",
    "        \n",
    "        fig.add_trace(go.Scatter(x = year_fractions, y = ir, name = shockScenario, mode = default_plotly_scatter_mode))\n",
    "     \n",
    "    if  useLowerBound:\n",
    "        title_figure = 'Shock scenarios (with lower bound)'\n",
    "    else :\n",
    "        title_figure = 'Shock scenarios (without lower bound)'\n",
    "    \n",
    "    fig.update_layout(\n",
    "        showlegend=True,\n",
    "        xaxis = dict(title_text = \"Expiry (in years)\"),\n",
    "        yaxis = dict(title_text = \"Interest rate (in basis points)\"),\n",
    "        title={\n",
    "            'text': title_figure,\n",
    "            'y':0.9,\n",
    "            'x':0.5,\n",
    "            'xanchor': 'center',\n",
    "            'yanchor': 'top'}\n",
    "    )\n",
    "\n",
    "    fig.show()\n",
    "\n",
    "interestRates = [0] * len(sampling_points_simple_example)\n",
    "\n",
    "plot_shocked_interest_rates(\n",
    "    refdate_scenarios,\n",
    "    sampling_points_simple_example,\n",
    "    interestRates,\n",
    "    analytics.DayCounter(default_daycounter_type),\n",
    "    shockparams_standard,\n",
    "    False\n",
    ")\n",
    "\n",
    "plot_shocked_interest_rates(\n",
    "    refdate_scenarios,\n",
    "    sampling_points_simple_example,\n",
    "    interestRates,\n",
    "    analytics.DayCounter(default_daycounter_type),\n",
    "    shockparams_standard,\n",
    "    True\n",
    ")"
   ]
  },
  {
   "cell_type": "markdown",
   "metadata": {},
   "source": [
    "### Plot the shock scenarios (discount factors)"
   ]
  },
  {
   "cell_type": "code",
   "execution_count": 11,
   "metadata": {
    "code_folding": [
     0,
     7
    ]
   },
   "outputs": [
    {
     "data": {
      "application/vnd.plotly.v1+json": {
       "config": {
        "plotlyServerURL": "https://plot.ly"
       },
       "data": [
        {
         "mode": "lines",
         "name": "Original",
         "type": "scatter",
         "x": [
          0.00273224043715847,
          0.08196721311475409,
          0.16393442622950818,
          0.2459016393442623,
          0.32786885245901637,
          0.4098360655737705,
          0.4918032786885246,
          0.5737704918032787,
          0.6557377049180327,
          0.7377049180327869,
          0.819672131147541,
          0.9016393442622951,
          1,
          2,
          3,
          4,
          5,
          6,
          7,
          8,
          9,
          10,
          11,
          12,
          13,
          14,
          15,
          16,
          17,
          18,
          19,
          20,
          21,
          22,
          23,
          24,
          25,
          26,
          27,
          28,
          29,
          30
         ],
         "y": [
          1,
          1,
          1,
          1,
          1,
          1,
          1,
          1,
          1,
          1,
          1,
          1,
          1,
          1,
          1,
          1,
          1,
          1,
          1,
          1,
          1,
          1,
          1,
          1,
          1,
          1,
          1,
          1,
          1,
          1,
          1,
          1,
          1,
          1,
          1,
          1,
          1,
          1,
          1,
          1,
          1,
          1
         ]
        },
        {
         "mode": "lines",
         "name": "ParallelUp",
         "type": "scatter",
         "x": [
          0.00273224043715847,
          0.08196721311475409,
          0.16393442622950818,
          0.2459016393442623,
          0.32786885245901637,
          0.4098360655737705,
          0.4918032786885246,
          0.5737704918032787,
          0.6557377049180327,
          0.7377049180327869,
          0.819672131147541,
          0.9016393442622951,
          1,
          2,
          3,
          4,
          5,
          6,
          7,
          8,
          9,
          10,
          11,
          12,
          13,
          14,
          15,
          16,
          17,
          18,
          19,
          20,
          21,
          22,
          23,
          24,
          25,
          26,
          27,
          28,
          29,
          30
         ],
         "y": [
          0.9999453566842572,
          0.998361998728535,
          0.9967266805052355,
          0.9950940409352649,
          0.9934640756309857,
          0.9918367802119474,
          0.9902121503048745,
          0.9885901815436551,
          0.9869708695693289,
          0.9853542100300755,
          0.9837401985812029,
          0.9821288308851357,
          0.9801986733067553,
          0.9607894391523232,
          0.9417645335842487,
          0.9231163463866358,
          0.9048374180359595,
          0.8869204367171575,
          0.8693582353988059,
          0.8521437889662113,
          0.835270211411272,
          0.8187307530779818,
          0.8025187979624785,
          0.7866278610665535,
          0.7710515858035663,
          0.7557837414557255,
          0.7408182206817179,
          0.7261490370736909,
          0.7117703227626097,
          0.697676326071031,
          0.6838614092123558,
          0.6703200460356393,
          0.6570468198150567,
          0.6440364210831414,
          0.631283645506926,
          0.6187833918061408,
          0.6065306597126334,
          0.5945205479701944,
          0.5827482523739896,
          0.5712090638488149,
          0.559898366565402,
          0.5488116360940265
         ]
        },
        {
         "mode": "lines",
         "name": "ParallelDown",
         "type": "scatter",
         "x": [
          0.00273224043715847,
          0.08196721311475409,
          0.16393442622950818,
          0.2459016393442623,
          0.32786885245901637,
          0.4098360655737705,
          0.4918032786885246,
          0.5737704918032787,
          0.6557377049180327,
          0.7377049180327869,
          0.819672131147541,
          0.9016393442622951,
          1,
          2,
          3,
          4,
          5,
          6,
          7,
          8,
          9,
          10,
          11,
          12,
          13,
          14,
          15,
          16,
          17,
          18,
          19,
          20,
          21,
          22,
          23,
          24,
          25,
          26,
          27,
          28,
          29,
          30
         ],
         "y": [
          1.0000546463017979,
          1.001640688721677,
          1.0032840693028358,
          1.004930146159979,
          1.0065789237168572,
          1.0082304064044774,
          1.0098845986611171,
          1.0115415049323357,
          1.0132011296709866,
          1.0148634773372283,
          1.0165285523985375,
          1.0181963593297205,
          1.0202013400267558,
          1.0408107741923882,
          1.0618365465453596,
          1.0832870676749586,
          1.1051709180756477,
          1.1274968515793757,
          1.1502737988572274,
          1.1735108709918103,
          1.1972173631218102,
          1.2214027581601699,
          1.2460767305873808,
          1.2712491503214047,
          1.2969300866657718,
          1.3231298123374369,
          1.3498588075760032,
          1.3771277643359572,
          1.4049475905635938,
          1.4333294145603401,
          1.4622845894342245,
          1.4918246976412703,
          1.5219615556186337,
          1.552707218511336,
          1.5840739849944818,
          1.6160744021928934,
          1.6487212707001282,
          1.6820276496988864,
          1.7160068621848585,
          1.7506725002961012,
          1.7860384307500734,
          1.8221188003905089
         ]
        },
        {
         "mode": "lines",
         "name": "ShortUp",
         "type": "scatter",
         "x": [
          0.00273224043715847,
          0.08196721311475409,
          0.16393442622950818,
          0.2459016393442623,
          0.32786885245901637,
          0.4098360655737705,
          0.4918032786885246,
          0.5737704918032787,
          0.6557377049180327,
          0.7377049180327869,
          0.819672131147541,
          0.9016393442622951,
          1,
          2,
          3,
          4,
          5,
          6,
          7,
          8,
          9,
          10,
          11,
          12,
          13,
          14,
          15,
          16,
          17,
          18,
          19,
          20,
          21,
          22,
          23,
          24,
          25,
          26,
          27,
          28,
          29,
          30
         ],
         "y": [
          0.999931742959869,
          0.9979943976698826,
          0.9960739367875872,
          0.9942356774023237,
          0.9924767850335426,
          0.9907945262511237,
          0.9891862644764183,
          0.98764945599151,
          0.98618164614485,
          0.9847804657421718,
          0.9834436276122778,
          0.9821689233379417,
          0.9807182970975247,
          0.9701287028017056,
          0.9651927164117723,
          0.963880510211402,
          0.9648206019819131,
          0.9670843836244444,
          0.9700473055129278,
          0.9732959733712027,
          0.9765641612229916,
          0.9796878782229534,
          0.9825734676189337,
          0.9851748700609649,
          0.9874774503607464,
          0.989486572320526,
          0.9912196199784323,
          0.9927005160363352,
          0.993956039248888,
          0.9950134260050094,
          0.995898877445119,
          0.9966366951240765,
          0.9972488442248687,
          0.9977547999494695,
          0.998171574651992,
          0.9985138541041483,
          0.9987941937341636,
          0.9990232418636482,
          0.9992099684953186,
          0.999361886305308,
          0.9994852560942133,
          0.9995852727455219
         ]
        },
        {
         "mode": "lines",
         "name": "ShortDown",
         "type": "scatter",
         "x": [
          0.00273224043715847,
          0.08196721311475409,
          0.16393442622950818,
          0.2459016393442623,
          0.32786885245901637,
          0.4098360655737705,
          0.4918032786885246,
          0.5737704918032787,
          0.6557377049180327,
          0.7377049180327869,
          0.819672131147541,
          0.9016393442622951,
          1,
          2,
          3,
          4,
          5,
          6,
          7,
          8,
          9,
          10,
          11,
          12,
          13,
          14,
          15,
          16,
          17,
          18,
          19,
          20,
          21,
          22,
          23,
          24,
          25,
          26,
          27,
          28,
          29,
          30
         ],
         "y": [
          1.0000682616994727,
          1.002009632854453,
          1.0039415379395176,
          1.0057977426566878,
          1.0075802427622558,
          1.0092910018222518,
          1.0109319507477244,
          1.0125049874057706,
          1.0140119763018995,
          1.0154547483294747,
          1.016835100582145,
          1.0181547962253363,
          1.0196607965401892,
          1.0307910662905106,
          1.0360625220190516,
          1.0374729952581738,
          1.0364621132113288,
          1.034035929990095,
          1.03087756062704,
          1.0274366969137894,
          1.0239982580844036,
          1.0207332582433197,
          1.0177356024311301,
          1.0150482217823091,
          1.0126813525054965,
          1.0106251342601023,
          1.0088581580152325,
          1.0073531582242046,
          1.0060807123378206,
          1.0050115645323618,
          1.0041180110227677,
          1.0033746548690992,
          1.0027587455137836,
          1.0022502523171468,
          1.001831774611139,
          1.0014883578127065,
          1.0012072619899084,
          1.0009777131256021,
          1.0007906561479476,
          1.0006385211437783,
          1.0005150090035326,
          1.0004148993245359
         ]
        },
        {
         "mode": "lines",
         "name": "LongUp",
         "type": "scatter",
         "x": [
          0.00273224043715847,
          0.08196721311475409,
          0.16393442622950818,
          0.2459016393442623,
          0.32786885245901637,
          0.4098360655737705,
          0.4918032786885246,
          0.5737704918032787,
          0.6557377049180327,
          0.7377049180327869,
          0.819672131147541,
          0.9016393442622951,
          1,
          2,
          3,
          4,
          5,
          6,
          7,
          8,
          9,
          10,
          11,
          12,
          13,
          14,
          15,
          16,
          17,
          18,
          19,
          20,
          21,
          22,
          23,
          24,
          25,
          26,
          27,
          28,
          29,
          30
         ],
         "y": [
          0.9999999813435281,
          0.9999833745045219,
          0.9999341740764254,
          0.999853394524986,
          0.9997420075966816,
          0.9996009613642286,
          0.9994311806194809,
          0.9992335672694053,
          0.9990090007343913,
          0.9987583383482059,
          0.9984824157589479,
          0.9981820473303976,
          0.9977904524825434,
          0.9921614957565628,
          0.9842956168521726,
          0.9750321615208,
          0.9649540839665538,
          0.9544574736057718,
          0.9438048848679188,
          0.9331650630400038,
          0.9226419221148681,
          0.912295343170239,
          0.9021559004055814,
          0.892235157380541,
          0.8825327741812208,
          0.873041343484249,
          0.863749624941398,
          0.8546446608489557,
          0.8457131185650424,
          0.8369421049291952,
          0.8283196255308091,
          0.8198348097025557,
          0.8114779850269302,
          0.8032406588212043,
          0.7951154454906124,
          0.7870959656160513,
          0.7791767335817544,
          0.7713530443041312,
          0.7636208653711295,
          0.7559767380511271,
          0.7484176887590146,
          0.7409411513737865
         ]
        },
        {
         "mode": "lines",
         "name": "LongDown",
         "type": "scatter",
         "x": [
          0.00273224043715847,
          0.08196721311475409,
          0.16393442622950818,
          0.2459016393442623,
          0.32786885245901637,
          0.4098360655737705,
          0.4918032786885246,
          0.5737704918032787,
          0.6557377049180327,
          0.7377049180327869,
          0.819672131147541,
          0.9016393442622951,
          1,
          2,
          3,
          4,
          5,
          6,
          7,
          8,
          9,
          10,
          11,
          12,
          13,
          14,
          15,
          16,
          17,
          18,
          19,
          20,
          21,
          22,
          23,
          24,
          25,
          26,
          27,
          28,
          29,
          30
         ],
         "y": [
          1.0000000186564721,
          1.0000166257718897,
          1.000065830256912,
          1.0001466269713308,
          1.000258058980575,
          1.0003991979311693,
          1.0005691431201562,
          1.0007670206002879,
          1.0009919823193587,
          1.0012432052921307,
          1.0015198908033836,
          1.0018212636407,
          1.0022144404288087,
          1.0079004318117184,
          1.015954945728653,
          1.0256071947824332,
          1.0363187395294353,
          1.0477156160998735,
          1.0595410301780175,
          1.0716217736894968,
          1.083844095993181,
          1.0961362539953192,
          1.108455866165073,
          1.120780762479523,
          1.1331023948971874,
          1.1454211274910162,
          1.1577429050320527,
          1.1700769288216888,
          1.1824340642802642,
          1.1948257760130248,
          1.2072634393506898,
          1.219757917284349,
          1.2323193215978785,
          1.2449568993028188,
          1.257679002051038,
          1.2704931084449291,
          1.2834058781544404,
          1.2964232233012583,
          1.3095503873037666,
          1.3227920247624994,
          1.3361522783596222,
          1.3496348504140847
         ]
        },
        {
         "mode": "lines",
         "name": "Flatten",
         "type": "scatter",
         "x": [
          0.00273224043715847,
          0.08196721311475409,
          0.16393442622950818,
          0.2459016393442623,
          0.32786885245901637,
          0.4098360655737705,
          0.4918032786885246,
          0.5737704918032787,
          0.6557377049180327,
          0.7377049180327869,
          0.819672131147541,
          0.9016393442622951,
          1,
          2,
          3,
          4,
          5,
          6,
          7,
          8,
          9,
          10,
          11,
          12,
          13,
          14,
          15,
          16,
          17,
          18,
          19,
          20,
          21,
          22,
          23,
          24,
          25,
          26,
          27,
          28,
          29,
          30
         ],
         "y": [
          0.9999454051884351,
          0.9984051555035621,
          0.9968972879007504,
          0.9954734452621461,
          0.9941307812983323,
          0.9928665508949219,
          0.9916781058732153,
          0.9905628909634626,
          0.9895184399785351,
          0.9885423721765748,
          0.9876323888019197,
          0.986786269794261,
          0.9858522136399375,
          0.9806500662620914,
          0.981331858083953,
          0.9858417227277632,
          0.9927805626553932,
          1.0011924053674972,
          1.0104271298445684,
          1.020048587623614,
          1.0297711380171957,
          1.0394148393760747,
          1.0488733957330536,
          1.0580910990264527,
          1.0670462505796587,
          1.0757393067729522,
          1.0841844865881516,
          1.0924039147369784,
          1.1004236132351033,
          1.1082708297290917,
          1.1159723219925897,
          1.1235533168645702,
          1.131036936597623,
          1.1384439418855499,
          1.145792683049228,
          1.1530991822757657,
          1.1603772929885443,
          1.1676388993677438,
          1.1748941312890733,
          1.1821515786955228,
          1.1894184955760156,
          1.1967009879886892
         ]
        },
        {
         "mode": "lines",
         "name": "Steepen",
         "type": "scatter",
         "x": [
          0.00273224043715847,
          0.08196721311475409,
          0.16393442622950818,
          0.2459016393442623,
          0.32786885245901637,
          0.4098360655737705,
          0.4918032786885246,
          0.5737704918032787,
          0.6557377049180327,
          0.7377049180327869,
          0.819672131147541,
          0.9016393442622951,
          1,
          2,
          3,
          4,
          5,
          6,
          7,
          8,
          9,
          10,
          11,
          12,
          13,
          14,
          15,
          16,
          17,
          18,
          19,
          20,
          21,
          22,
          23,
          24,
          25,
          26,
          27,
          28,
          29,
          30
         ],
         "y": [
          1.0000443527830676,
          1.001290819879811,
          1.0025008403959998,
          1.0036322764626369,
          1.004687305194751,
          1.0056680654672592,
          1.0065766575578716,
          1.0074151428689069,
          1.0081855437231486,
          1.0088898432290685,
          1.009529985210929,
          1.010107874199468,
          1.010721790597484,
          1.0127098910480725,
          1.0088204392027884,
          1.0011564917797886,
          0.9912100897445734,
          0.9800067880719154,
          0.9682301560088172,
          0.9563204027255524,
          0.9445487051748717,
          0.9330714148210973,
          0.9219686699357196,
          0.911271394008861,
          0.9009798674651309,
          0.891076296523503,
          0.8815331656396932,
          0.872318663628655,
          0.8634001021110412,
          0.8547459736150367,
          0.8463271015663482,
          0.838117195567813,
          0.8300930273157199,
          0.8222343736548129,
          0.8145238251964109,
          0.8069465255384919,
          0.799489883096367,
          0.7921432817974271,
          0.7848978062317747,
          0.7777459897400417,
          0.7706815892715833,
          0.7636993878933096
         ]
        }
       ],
       "layout": {
        "showlegend": true,
        "template": {
         "data": {
          "bar": [
           {
            "error_x": {
             "color": "#2a3f5f"
            },
            "error_y": {
             "color": "#2a3f5f"
            },
            "marker": {
             "line": {
              "color": "#E5ECF6",
              "width": 0.5
             }
            },
            "type": "bar"
           }
          ],
          "barpolar": [
           {
            "marker": {
             "line": {
              "color": "#E5ECF6",
              "width": 0.5
             }
            },
            "type": "barpolar"
           }
          ],
          "carpet": [
           {
            "aaxis": {
             "endlinecolor": "#2a3f5f",
             "gridcolor": "white",
             "linecolor": "white",
             "minorgridcolor": "white",
             "startlinecolor": "#2a3f5f"
            },
            "baxis": {
             "endlinecolor": "#2a3f5f",
             "gridcolor": "white",
             "linecolor": "white",
             "minorgridcolor": "white",
             "startlinecolor": "#2a3f5f"
            },
            "type": "carpet"
           }
          ],
          "choropleth": [
           {
            "colorbar": {
             "outlinewidth": 0,
             "ticks": ""
            },
            "type": "choropleth"
           }
          ],
          "contour": [
           {
            "colorbar": {
             "outlinewidth": 0,
             "ticks": ""
            },
            "colorscale": [
             [
              0,
              "#0d0887"
             ],
             [
              0.1111111111111111,
              "#46039f"
             ],
             [
              0.2222222222222222,
              "#7201a8"
             ],
             [
              0.3333333333333333,
              "#9c179e"
             ],
             [
              0.4444444444444444,
              "#bd3786"
             ],
             [
              0.5555555555555556,
              "#d8576b"
             ],
             [
              0.6666666666666666,
              "#ed7953"
             ],
             [
              0.7777777777777778,
              "#fb9f3a"
             ],
             [
              0.8888888888888888,
              "#fdca26"
             ],
             [
              1,
              "#f0f921"
             ]
            ],
            "type": "contour"
           }
          ],
          "contourcarpet": [
           {
            "colorbar": {
             "outlinewidth": 0,
             "ticks": ""
            },
            "type": "contourcarpet"
           }
          ],
          "heatmap": [
           {
            "colorbar": {
             "outlinewidth": 0,
             "ticks": ""
            },
            "colorscale": [
             [
              0,
              "#0d0887"
             ],
             [
              0.1111111111111111,
              "#46039f"
             ],
             [
              0.2222222222222222,
              "#7201a8"
             ],
             [
              0.3333333333333333,
              "#9c179e"
             ],
             [
              0.4444444444444444,
              "#bd3786"
             ],
             [
              0.5555555555555556,
              "#d8576b"
             ],
             [
              0.6666666666666666,
              "#ed7953"
             ],
             [
              0.7777777777777778,
              "#fb9f3a"
             ],
             [
              0.8888888888888888,
              "#fdca26"
             ],
             [
              1,
              "#f0f921"
             ]
            ],
            "type": "heatmap"
           }
          ],
          "heatmapgl": [
           {
            "colorbar": {
             "outlinewidth": 0,
             "ticks": ""
            },
            "colorscale": [
             [
              0,
              "#0d0887"
             ],
             [
              0.1111111111111111,
              "#46039f"
             ],
             [
              0.2222222222222222,
              "#7201a8"
             ],
             [
              0.3333333333333333,
              "#9c179e"
             ],
             [
              0.4444444444444444,
              "#bd3786"
             ],
             [
              0.5555555555555556,
              "#d8576b"
             ],
             [
              0.6666666666666666,
              "#ed7953"
             ],
             [
              0.7777777777777778,
              "#fb9f3a"
             ],
             [
              0.8888888888888888,
              "#fdca26"
             ],
             [
              1,
              "#f0f921"
             ]
            ],
            "type": "heatmapgl"
           }
          ],
          "histogram": [
           {
            "marker": {
             "colorbar": {
              "outlinewidth": 0,
              "ticks": ""
             }
            },
            "type": "histogram"
           }
          ],
          "histogram2d": [
           {
            "colorbar": {
             "outlinewidth": 0,
             "ticks": ""
            },
            "colorscale": [
             [
              0,
              "#0d0887"
             ],
             [
              0.1111111111111111,
              "#46039f"
             ],
             [
              0.2222222222222222,
              "#7201a8"
             ],
             [
              0.3333333333333333,
              "#9c179e"
             ],
             [
              0.4444444444444444,
              "#bd3786"
             ],
             [
              0.5555555555555556,
              "#d8576b"
             ],
             [
              0.6666666666666666,
              "#ed7953"
             ],
             [
              0.7777777777777778,
              "#fb9f3a"
             ],
             [
              0.8888888888888888,
              "#fdca26"
             ],
             [
              1,
              "#f0f921"
             ]
            ],
            "type": "histogram2d"
           }
          ],
          "histogram2dcontour": [
           {
            "colorbar": {
             "outlinewidth": 0,
             "ticks": ""
            },
            "colorscale": [
             [
              0,
              "#0d0887"
             ],
             [
              0.1111111111111111,
              "#46039f"
             ],
             [
              0.2222222222222222,
              "#7201a8"
             ],
             [
              0.3333333333333333,
              "#9c179e"
             ],
             [
              0.4444444444444444,
              "#bd3786"
             ],
             [
              0.5555555555555556,
              "#d8576b"
             ],
             [
              0.6666666666666666,
              "#ed7953"
             ],
             [
              0.7777777777777778,
              "#fb9f3a"
             ],
             [
              0.8888888888888888,
              "#fdca26"
             ],
             [
              1,
              "#f0f921"
             ]
            ],
            "type": "histogram2dcontour"
           }
          ],
          "mesh3d": [
           {
            "colorbar": {
             "outlinewidth": 0,
             "ticks": ""
            },
            "type": "mesh3d"
           }
          ],
          "parcoords": [
           {
            "line": {
             "colorbar": {
              "outlinewidth": 0,
              "ticks": ""
             }
            },
            "type": "parcoords"
           }
          ],
          "scatter": [
           {
            "marker": {
             "colorbar": {
              "outlinewidth": 0,
              "ticks": ""
             }
            },
            "type": "scatter"
           }
          ],
          "scatter3d": [
           {
            "line": {
             "colorbar": {
              "outlinewidth": 0,
              "ticks": ""
             }
            },
            "marker": {
             "colorbar": {
              "outlinewidth": 0,
              "ticks": ""
             }
            },
            "type": "scatter3d"
           }
          ],
          "scattercarpet": [
           {
            "marker": {
             "colorbar": {
              "outlinewidth": 0,
              "ticks": ""
             }
            },
            "type": "scattercarpet"
           }
          ],
          "scattergeo": [
           {
            "marker": {
             "colorbar": {
              "outlinewidth": 0,
              "ticks": ""
             }
            },
            "type": "scattergeo"
           }
          ],
          "scattergl": [
           {
            "marker": {
             "colorbar": {
              "outlinewidth": 0,
              "ticks": ""
             }
            },
            "type": "scattergl"
           }
          ],
          "scattermapbox": [
           {
            "marker": {
             "colorbar": {
              "outlinewidth": 0,
              "ticks": ""
             }
            },
            "type": "scattermapbox"
           }
          ],
          "scatterpolar": [
           {
            "marker": {
             "colorbar": {
              "outlinewidth": 0,
              "ticks": ""
             }
            },
            "type": "scatterpolar"
           }
          ],
          "scatterpolargl": [
           {
            "marker": {
             "colorbar": {
              "outlinewidth": 0,
              "ticks": ""
             }
            },
            "type": "scatterpolargl"
           }
          ],
          "scatterternary": [
           {
            "marker": {
             "colorbar": {
              "outlinewidth": 0,
              "ticks": ""
             }
            },
            "type": "scatterternary"
           }
          ],
          "surface": [
           {
            "colorbar": {
             "outlinewidth": 0,
             "ticks": ""
            },
            "colorscale": [
             [
              0,
              "#0d0887"
             ],
             [
              0.1111111111111111,
              "#46039f"
             ],
             [
              0.2222222222222222,
              "#7201a8"
             ],
             [
              0.3333333333333333,
              "#9c179e"
             ],
             [
              0.4444444444444444,
              "#bd3786"
             ],
             [
              0.5555555555555556,
              "#d8576b"
             ],
             [
              0.6666666666666666,
              "#ed7953"
             ],
             [
              0.7777777777777778,
              "#fb9f3a"
             ],
             [
              0.8888888888888888,
              "#fdca26"
             ],
             [
              1,
              "#f0f921"
             ]
            ],
            "type": "surface"
           }
          ],
          "table": [
           {
            "cells": {
             "fill": {
              "color": "#EBF0F8"
             },
             "line": {
              "color": "white"
             }
            },
            "header": {
             "fill": {
              "color": "#C8D4E3"
             },
             "line": {
              "color": "white"
             }
            },
            "type": "table"
           }
          ]
         },
         "layout": {
          "annotationdefaults": {
           "arrowcolor": "#2a3f5f",
           "arrowhead": 0,
           "arrowwidth": 1
          },
          "colorscale": {
           "diverging": [
            [
             0,
             "#8e0152"
            ],
            [
             0.1,
             "#c51b7d"
            ],
            [
             0.2,
             "#de77ae"
            ],
            [
             0.3,
             "#f1b6da"
            ],
            [
             0.4,
             "#fde0ef"
            ],
            [
             0.5,
             "#f7f7f7"
            ],
            [
             0.6,
             "#e6f5d0"
            ],
            [
             0.7,
             "#b8e186"
            ],
            [
             0.8,
             "#7fbc41"
            ],
            [
             0.9,
             "#4d9221"
            ],
            [
             1,
             "#276419"
            ]
           ],
           "sequential": [
            [
             0,
             "#0d0887"
            ],
            [
             0.1111111111111111,
             "#46039f"
            ],
            [
             0.2222222222222222,
             "#7201a8"
            ],
            [
             0.3333333333333333,
             "#9c179e"
            ],
            [
             0.4444444444444444,
             "#bd3786"
            ],
            [
             0.5555555555555556,
             "#d8576b"
            ],
            [
             0.6666666666666666,
             "#ed7953"
            ],
            [
             0.7777777777777778,
             "#fb9f3a"
            ],
            [
             0.8888888888888888,
             "#fdca26"
            ],
            [
             1,
             "#f0f921"
            ]
           ],
           "sequentialminus": [
            [
             0,
             "#0d0887"
            ],
            [
             0.1111111111111111,
             "#46039f"
            ],
            [
             0.2222222222222222,
             "#7201a8"
            ],
            [
             0.3333333333333333,
             "#9c179e"
            ],
            [
             0.4444444444444444,
             "#bd3786"
            ],
            [
             0.5555555555555556,
             "#d8576b"
            ],
            [
             0.6666666666666666,
             "#ed7953"
            ],
            [
             0.7777777777777778,
             "#fb9f3a"
            ],
            [
             0.8888888888888888,
             "#fdca26"
            ],
            [
             1,
             "#f0f921"
            ]
           ]
          },
          "colorway": [
           "#636efa",
           "#EF553B",
           "#00cc96",
           "#ab63fa",
           "#FFA15A",
           "#19d3f3",
           "#FF6692",
           "#B6E880",
           "#FF97FF",
           "#FECB52"
          ],
          "font": {
           "color": "#2a3f5f"
          },
          "geo": {
           "bgcolor": "white",
           "lakecolor": "white",
           "landcolor": "#E5ECF6",
           "showlakes": true,
           "showland": true,
           "subunitcolor": "white"
          },
          "hoverlabel": {
           "align": "left"
          },
          "hovermode": "closest",
          "mapbox": {
           "style": "light"
          },
          "paper_bgcolor": "white",
          "plot_bgcolor": "#E5ECF6",
          "polar": {
           "angularaxis": {
            "gridcolor": "white",
            "linecolor": "white",
            "ticks": ""
           },
           "bgcolor": "#E5ECF6",
           "radialaxis": {
            "gridcolor": "white",
            "linecolor": "white",
            "ticks": ""
           }
          },
          "scene": {
           "xaxis": {
            "backgroundcolor": "#E5ECF6",
            "gridcolor": "white",
            "gridwidth": 2,
            "linecolor": "white",
            "showbackground": true,
            "ticks": "",
            "zerolinecolor": "white"
           },
           "yaxis": {
            "backgroundcolor": "#E5ECF6",
            "gridcolor": "white",
            "gridwidth": 2,
            "linecolor": "white",
            "showbackground": true,
            "ticks": "",
            "zerolinecolor": "white"
           },
           "zaxis": {
            "backgroundcolor": "#E5ECF6",
            "gridcolor": "white",
            "gridwidth": 2,
            "linecolor": "white",
            "showbackground": true,
            "ticks": "",
            "zerolinecolor": "white"
           }
          },
          "shapedefaults": {
           "line": {
            "color": "#2a3f5f"
           }
          },
          "ternary": {
           "aaxis": {
            "gridcolor": "white",
            "linecolor": "white",
            "ticks": ""
           },
           "baxis": {
            "gridcolor": "white",
            "linecolor": "white",
            "ticks": ""
           },
           "bgcolor": "#E5ECF6",
           "caxis": {
            "gridcolor": "white",
            "linecolor": "white",
            "ticks": ""
           }
          },
          "title": {
           "x": 0.05
          },
          "xaxis": {
           "automargin": true,
           "gridcolor": "white",
           "linecolor": "white",
           "ticks": "",
           "zerolinecolor": "white",
           "zerolinewidth": 2
          },
          "yaxis": {
           "automargin": true,
           "gridcolor": "white",
           "linecolor": "white",
           "ticks": "",
           "zerolinecolor": "white",
           "zerolinewidth": 2
          }
         }
        },
        "title": {
         "text": "Shock scenarios (without lower bound)",
         "x": 0.5,
         "xanchor": "center",
         "y": 0.9,
         "yanchor": "top"
        },
        "xaxis": {
         "title": {
          "text": "Expiry (in years)"
         }
        },
        "yaxis": {
         "title": {
          "text": "Discount factor"
         }
        }
       }
      },
      "text/html": [
       "<div>\n",
       "        \n",
       "        \n",
       "            <div id=\"caa1b485-1a67-4d11-848a-55341b02481b\" class=\"plotly-graph-div\" style=\"height:525px; width:100%;\"></div>\n",
       "            <script type=\"text/javascript\">\n",
       "                require([\"plotly\"], function(Plotly) {\n",
       "                    window.PLOTLYENV=window.PLOTLYENV || {};\n",
       "                    \n",
       "                if (document.getElementById(\"caa1b485-1a67-4d11-848a-55341b02481b\")) {\n",
       "                    Plotly.newPlot(\n",
       "                        'caa1b485-1a67-4d11-848a-55341b02481b',\n",
       "                        [{\"mode\": \"lines\", \"name\": \"Original\", \"type\": \"scatter\", \"x\": [0.00273224043715847, 0.08196721311475409, 0.16393442622950818, 0.2459016393442623, 0.32786885245901637, 0.4098360655737705, 0.4918032786885246, 0.5737704918032787, 0.6557377049180327, 0.7377049180327869, 0.819672131147541, 0.9016393442622951, 1.0, 2.0, 3.0, 4.0, 5.0, 6.0, 7.0, 8.0, 9.0, 10.0, 11.0, 12.0, 13.0, 14.0, 15.0, 16.0, 17.0, 18.0, 19.0, 20.0, 21.0, 22.0, 23.0, 24.0, 25.0, 26.0, 27.0, 28.0, 29.0, 30.0], \"y\": [1.0, 1.0, 1.0, 1.0, 1.0, 1.0, 1.0, 1.0, 1.0, 1.0, 1.0, 1.0, 1.0, 1.0, 1.0, 1.0, 1.0, 1.0, 1.0, 1.0, 1.0, 1.0, 1.0, 1.0, 1.0, 1.0, 1.0, 1.0, 1.0, 1.0, 1.0, 1.0, 1.0, 1.0, 1.0, 1.0, 1.0, 1.0, 1.0, 1.0, 1.0, 1.0]}, {\"mode\": \"lines\", \"name\": \"ParallelUp\", \"type\": \"scatter\", \"x\": [0.00273224043715847, 0.08196721311475409, 0.16393442622950818, 0.2459016393442623, 0.32786885245901637, 0.4098360655737705, 0.4918032786885246, 0.5737704918032787, 0.6557377049180327, 0.7377049180327869, 0.819672131147541, 0.9016393442622951, 1.0, 2.0, 3.0, 4.0, 5.0, 6.0, 7.0, 8.0, 9.0, 10.0, 11.0, 12.0, 13.0, 14.0, 15.0, 16.0, 17.0, 18.0, 19.0, 20.0, 21.0, 22.0, 23.0, 24.0, 25.0, 26.0, 27.0, 28.0, 29.0, 30.0], \"y\": [0.9999453566842572, 0.998361998728535, 0.9967266805052355, 0.9950940409352649, 0.9934640756309857, 0.9918367802119474, 0.9902121503048745, 0.9885901815436551, 0.9869708695693289, 0.9853542100300755, 0.9837401985812029, 0.9821288308851357, 0.9801986733067553, 0.9607894391523232, 0.9417645335842487, 0.9231163463866358, 0.9048374180359595, 0.8869204367171575, 0.8693582353988059, 0.8521437889662113, 0.835270211411272, 0.8187307530779818, 0.8025187979624785, 0.7866278610665535, 0.7710515858035663, 0.7557837414557255, 0.7408182206817179, 0.7261490370736909, 0.7117703227626097, 0.697676326071031, 0.6838614092123558, 0.6703200460356393, 0.6570468198150567, 0.6440364210831414, 0.631283645506926, 0.6187833918061408, 0.6065306597126334, 0.5945205479701944, 0.5827482523739896, 0.5712090638488149, 0.559898366565402, 0.5488116360940265]}, {\"mode\": \"lines\", \"name\": \"ParallelDown\", \"type\": \"scatter\", \"x\": [0.00273224043715847, 0.08196721311475409, 0.16393442622950818, 0.2459016393442623, 0.32786885245901637, 0.4098360655737705, 0.4918032786885246, 0.5737704918032787, 0.6557377049180327, 0.7377049180327869, 0.819672131147541, 0.9016393442622951, 1.0, 2.0, 3.0, 4.0, 5.0, 6.0, 7.0, 8.0, 9.0, 10.0, 11.0, 12.0, 13.0, 14.0, 15.0, 16.0, 17.0, 18.0, 19.0, 20.0, 21.0, 22.0, 23.0, 24.0, 25.0, 26.0, 27.0, 28.0, 29.0, 30.0], \"y\": [1.0000546463017979, 1.001640688721677, 1.0032840693028358, 1.004930146159979, 1.0065789237168572, 1.0082304064044774, 1.0098845986611171, 1.0115415049323357, 1.0132011296709866, 1.0148634773372283, 1.0165285523985375, 1.0181963593297205, 1.0202013400267558, 1.0408107741923882, 1.0618365465453596, 1.0832870676749586, 1.1051709180756477, 1.1274968515793757, 1.1502737988572274, 1.1735108709918103, 1.1972173631218102, 1.2214027581601699, 1.2460767305873808, 1.2712491503214047, 1.2969300866657718, 1.3231298123374369, 1.3498588075760032, 1.3771277643359572, 1.4049475905635938, 1.4333294145603401, 1.4622845894342245, 1.4918246976412703, 1.5219615556186337, 1.552707218511336, 1.5840739849944818, 1.6160744021928934, 1.6487212707001282, 1.6820276496988864, 1.7160068621848585, 1.7506725002961012, 1.7860384307500734, 1.8221188003905089]}, {\"mode\": \"lines\", \"name\": \"ShortUp\", \"type\": \"scatter\", \"x\": [0.00273224043715847, 0.08196721311475409, 0.16393442622950818, 0.2459016393442623, 0.32786885245901637, 0.4098360655737705, 0.4918032786885246, 0.5737704918032787, 0.6557377049180327, 0.7377049180327869, 0.819672131147541, 0.9016393442622951, 1.0, 2.0, 3.0, 4.0, 5.0, 6.0, 7.0, 8.0, 9.0, 10.0, 11.0, 12.0, 13.0, 14.0, 15.0, 16.0, 17.0, 18.0, 19.0, 20.0, 21.0, 22.0, 23.0, 24.0, 25.0, 26.0, 27.0, 28.0, 29.0, 30.0], \"y\": [0.999931742959869, 0.9979943976698826, 0.9960739367875872, 0.9942356774023237, 0.9924767850335426, 0.9907945262511237, 0.9891862644764183, 0.98764945599151, 0.98618164614485, 0.9847804657421718, 0.9834436276122778, 0.9821689233379417, 0.9807182970975247, 0.9701287028017056, 0.9651927164117723, 0.963880510211402, 0.9648206019819131, 0.9670843836244444, 0.9700473055129278, 0.9732959733712027, 0.9765641612229916, 0.9796878782229534, 0.9825734676189337, 0.9851748700609649, 0.9874774503607464, 0.989486572320526, 0.9912196199784323, 0.9927005160363352, 0.993956039248888, 0.9950134260050094, 0.995898877445119, 0.9966366951240765, 0.9972488442248687, 0.9977547999494695, 0.998171574651992, 0.9985138541041483, 0.9987941937341636, 0.9990232418636482, 0.9992099684953186, 0.999361886305308, 0.9994852560942133, 0.9995852727455219]}, {\"mode\": \"lines\", \"name\": \"ShortDown\", \"type\": \"scatter\", \"x\": [0.00273224043715847, 0.08196721311475409, 0.16393442622950818, 0.2459016393442623, 0.32786885245901637, 0.4098360655737705, 0.4918032786885246, 0.5737704918032787, 0.6557377049180327, 0.7377049180327869, 0.819672131147541, 0.9016393442622951, 1.0, 2.0, 3.0, 4.0, 5.0, 6.0, 7.0, 8.0, 9.0, 10.0, 11.0, 12.0, 13.0, 14.0, 15.0, 16.0, 17.0, 18.0, 19.0, 20.0, 21.0, 22.0, 23.0, 24.0, 25.0, 26.0, 27.0, 28.0, 29.0, 30.0], \"y\": [1.0000682616994727, 1.002009632854453, 1.0039415379395176, 1.0057977426566878, 1.0075802427622558, 1.0092910018222518, 1.0109319507477244, 1.0125049874057706, 1.0140119763018995, 1.0154547483294747, 1.016835100582145, 1.0181547962253363, 1.0196607965401892, 1.0307910662905106, 1.0360625220190516, 1.0374729952581738, 1.0364621132113288, 1.034035929990095, 1.03087756062704, 1.0274366969137894, 1.0239982580844036, 1.0207332582433197, 1.0177356024311301, 1.0150482217823091, 1.0126813525054965, 1.0106251342601023, 1.0088581580152325, 1.0073531582242046, 1.0060807123378206, 1.0050115645323618, 1.0041180110227677, 1.0033746548690992, 1.0027587455137836, 1.0022502523171468, 1.001831774611139, 1.0014883578127065, 1.0012072619899084, 1.0009777131256021, 1.0007906561479476, 1.0006385211437783, 1.0005150090035326, 1.0004148993245359]}, {\"mode\": \"lines\", \"name\": \"LongUp\", \"type\": \"scatter\", \"x\": [0.00273224043715847, 0.08196721311475409, 0.16393442622950818, 0.2459016393442623, 0.32786885245901637, 0.4098360655737705, 0.4918032786885246, 0.5737704918032787, 0.6557377049180327, 0.7377049180327869, 0.819672131147541, 0.9016393442622951, 1.0, 2.0, 3.0, 4.0, 5.0, 6.0, 7.0, 8.0, 9.0, 10.0, 11.0, 12.0, 13.0, 14.0, 15.0, 16.0, 17.0, 18.0, 19.0, 20.0, 21.0, 22.0, 23.0, 24.0, 25.0, 26.0, 27.0, 28.0, 29.0, 30.0], \"y\": [0.9999999813435281, 0.9999833745045219, 0.9999341740764254, 0.999853394524986, 0.9997420075966816, 0.9996009613642286, 0.9994311806194809, 0.9992335672694053, 0.9990090007343913, 0.9987583383482059, 0.9984824157589479, 0.9981820473303976, 0.9977904524825434, 0.9921614957565628, 0.9842956168521726, 0.9750321615208, 0.9649540839665538, 0.9544574736057718, 0.9438048848679188, 0.9331650630400038, 0.9226419221148681, 0.912295343170239, 0.9021559004055814, 0.892235157380541, 0.8825327741812208, 0.873041343484249, 0.863749624941398, 0.8546446608489557, 0.8457131185650424, 0.8369421049291952, 0.8283196255308091, 0.8198348097025557, 0.8114779850269302, 0.8032406588212043, 0.7951154454906124, 0.7870959656160513, 0.7791767335817544, 0.7713530443041312, 0.7636208653711295, 0.7559767380511271, 0.7484176887590146, 0.7409411513737865]}, {\"mode\": \"lines\", \"name\": \"LongDown\", \"type\": \"scatter\", \"x\": [0.00273224043715847, 0.08196721311475409, 0.16393442622950818, 0.2459016393442623, 0.32786885245901637, 0.4098360655737705, 0.4918032786885246, 0.5737704918032787, 0.6557377049180327, 0.7377049180327869, 0.819672131147541, 0.9016393442622951, 1.0, 2.0, 3.0, 4.0, 5.0, 6.0, 7.0, 8.0, 9.0, 10.0, 11.0, 12.0, 13.0, 14.0, 15.0, 16.0, 17.0, 18.0, 19.0, 20.0, 21.0, 22.0, 23.0, 24.0, 25.0, 26.0, 27.0, 28.0, 29.0, 30.0], \"y\": [1.0000000186564721, 1.0000166257718897, 1.000065830256912, 1.0001466269713308, 1.000258058980575, 1.0003991979311693, 1.0005691431201562, 1.0007670206002879, 1.0009919823193587, 1.0012432052921307, 1.0015198908033836, 1.0018212636407, 1.0022144404288087, 1.0079004318117184, 1.015954945728653, 1.0256071947824332, 1.0363187395294353, 1.0477156160998735, 1.0595410301780175, 1.0716217736894968, 1.083844095993181, 1.0961362539953192, 1.108455866165073, 1.120780762479523, 1.1331023948971874, 1.1454211274910162, 1.1577429050320527, 1.1700769288216888, 1.1824340642802642, 1.1948257760130248, 1.2072634393506898, 1.219757917284349, 1.2323193215978785, 1.2449568993028188, 1.257679002051038, 1.2704931084449291, 1.2834058781544404, 1.2964232233012583, 1.3095503873037666, 1.3227920247624994, 1.3361522783596222, 1.3496348504140847]}, {\"mode\": \"lines\", \"name\": \"Flatten\", \"type\": \"scatter\", \"x\": [0.00273224043715847, 0.08196721311475409, 0.16393442622950818, 0.2459016393442623, 0.32786885245901637, 0.4098360655737705, 0.4918032786885246, 0.5737704918032787, 0.6557377049180327, 0.7377049180327869, 0.819672131147541, 0.9016393442622951, 1.0, 2.0, 3.0, 4.0, 5.0, 6.0, 7.0, 8.0, 9.0, 10.0, 11.0, 12.0, 13.0, 14.0, 15.0, 16.0, 17.0, 18.0, 19.0, 20.0, 21.0, 22.0, 23.0, 24.0, 25.0, 26.0, 27.0, 28.0, 29.0, 30.0], \"y\": [0.9999454051884351, 0.9984051555035621, 0.9968972879007504, 0.9954734452621461, 0.9941307812983323, 0.9928665508949219, 0.9916781058732153, 0.9905628909634626, 0.9895184399785351, 0.9885423721765748, 0.9876323888019197, 0.986786269794261, 0.9858522136399375, 0.9806500662620914, 0.981331858083953, 0.9858417227277632, 0.9927805626553932, 1.0011924053674972, 1.0104271298445684, 1.020048587623614, 1.0297711380171957, 1.0394148393760747, 1.0488733957330536, 1.0580910990264527, 1.0670462505796587, 1.0757393067729522, 1.0841844865881516, 1.0924039147369784, 1.1004236132351033, 1.1082708297290917, 1.1159723219925897, 1.1235533168645702, 1.131036936597623, 1.1384439418855499, 1.145792683049228, 1.1530991822757657, 1.1603772929885443, 1.1676388993677438, 1.1748941312890733, 1.1821515786955228, 1.1894184955760156, 1.1967009879886892]}, {\"mode\": \"lines\", \"name\": \"Steepen\", \"type\": \"scatter\", \"x\": [0.00273224043715847, 0.08196721311475409, 0.16393442622950818, 0.2459016393442623, 0.32786885245901637, 0.4098360655737705, 0.4918032786885246, 0.5737704918032787, 0.6557377049180327, 0.7377049180327869, 0.819672131147541, 0.9016393442622951, 1.0, 2.0, 3.0, 4.0, 5.0, 6.0, 7.0, 8.0, 9.0, 10.0, 11.0, 12.0, 13.0, 14.0, 15.0, 16.0, 17.0, 18.0, 19.0, 20.0, 21.0, 22.0, 23.0, 24.0, 25.0, 26.0, 27.0, 28.0, 29.0, 30.0], \"y\": [1.0000443527830676, 1.001290819879811, 1.0025008403959998, 1.0036322764626369, 1.004687305194751, 1.0056680654672592, 1.0065766575578716, 1.0074151428689069, 1.0081855437231486, 1.0088898432290685, 1.009529985210929, 1.010107874199468, 1.010721790597484, 1.0127098910480725, 1.0088204392027884, 1.0011564917797886, 0.9912100897445734, 0.9800067880719154, 0.9682301560088172, 0.9563204027255524, 0.9445487051748717, 0.9330714148210973, 0.9219686699357196, 0.911271394008861, 0.9009798674651309, 0.891076296523503, 0.8815331656396932, 0.872318663628655, 0.8634001021110412, 0.8547459736150367, 0.8463271015663482, 0.838117195567813, 0.8300930273157199, 0.8222343736548129, 0.8145238251964109, 0.8069465255384919, 0.799489883096367, 0.7921432817974271, 0.7848978062317747, 0.7777459897400417, 0.7706815892715833, 0.7636993878933096]}],\n",
       "                        {\"showlegend\": true, \"template\": {\"data\": {\"bar\": [{\"error_x\": {\"color\": \"#2a3f5f\"}, \"error_y\": {\"color\": \"#2a3f5f\"}, \"marker\": {\"line\": {\"color\": \"#E5ECF6\", \"width\": 0.5}}, \"type\": \"bar\"}], \"barpolar\": [{\"marker\": {\"line\": {\"color\": \"#E5ECF6\", \"width\": 0.5}}, \"type\": \"barpolar\"}], \"carpet\": [{\"aaxis\": {\"endlinecolor\": \"#2a3f5f\", \"gridcolor\": \"white\", \"linecolor\": \"white\", \"minorgridcolor\": \"white\", \"startlinecolor\": \"#2a3f5f\"}, \"baxis\": {\"endlinecolor\": \"#2a3f5f\", \"gridcolor\": \"white\", \"linecolor\": \"white\", \"minorgridcolor\": \"white\", \"startlinecolor\": \"#2a3f5f\"}, \"type\": \"carpet\"}], \"choropleth\": [{\"colorbar\": {\"outlinewidth\": 0, \"ticks\": \"\"}, \"type\": \"choropleth\"}], \"contour\": [{\"colorbar\": {\"outlinewidth\": 0, \"ticks\": \"\"}, \"colorscale\": [[0.0, \"#0d0887\"], [0.1111111111111111, \"#46039f\"], [0.2222222222222222, \"#7201a8\"], [0.3333333333333333, \"#9c179e\"], [0.4444444444444444, \"#bd3786\"], [0.5555555555555556, \"#d8576b\"], [0.6666666666666666, \"#ed7953\"], [0.7777777777777778, \"#fb9f3a\"], [0.8888888888888888, \"#fdca26\"], [1.0, \"#f0f921\"]], \"type\": \"contour\"}], \"contourcarpet\": [{\"colorbar\": {\"outlinewidth\": 0, \"ticks\": \"\"}, \"type\": \"contourcarpet\"}], \"heatmap\": [{\"colorbar\": {\"outlinewidth\": 0, \"ticks\": \"\"}, \"colorscale\": [[0.0, \"#0d0887\"], [0.1111111111111111, \"#46039f\"], [0.2222222222222222, \"#7201a8\"], [0.3333333333333333, \"#9c179e\"], [0.4444444444444444, \"#bd3786\"], [0.5555555555555556, \"#d8576b\"], [0.6666666666666666, \"#ed7953\"], [0.7777777777777778, \"#fb9f3a\"], [0.8888888888888888, \"#fdca26\"], [1.0, \"#f0f921\"]], \"type\": \"heatmap\"}], \"heatmapgl\": [{\"colorbar\": {\"outlinewidth\": 0, \"ticks\": \"\"}, \"colorscale\": [[0.0, \"#0d0887\"], [0.1111111111111111, \"#46039f\"], [0.2222222222222222, \"#7201a8\"], [0.3333333333333333, \"#9c179e\"], [0.4444444444444444, \"#bd3786\"], [0.5555555555555556, \"#d8576b\"], [0.6666666666666666, \"#ed7953\"], [0.7777777777777778, \"#fb9f3a\"], [0.8888888888888888, \"#fdca26\"], [1.0, \"#f0f921\"]], \"type\": \"heatmapgl\"}], \"histogram\": [{\"marker\": {\"colorbar\": {\"outlinewidth\": 0, \"ticks\": \"\"}}, \"type\": \"histogram\"}], \"histogram2d\": [{\"colorbar\": {\"outlinewidth\": 0, \"ticks\": \"\"}, \"colorscale\": [[0.0, \"#0d0887\"], [0.1111111111111111, \"#46039f\"], [0.2222222222222222, \"#7201a8\"], [0.3333333333333333, \"#9c179e\"], [0.4444444444444444, \"#bd3786\"], [0.5555555555555556, \"#d8576b\"], [0.6666666666666666, \"#ed7953\"], [0.7777777777777778, \"#fb9f3a\"], [0.8888888888888888, \"#fdca26\"], [1.0, \"#f0f921\"]], \"type\": \"histogram2d\"}], \"histogram2dcontour\": [{\"colorbar\": {\"outlinewidth\": 0, \"ticks\": \"\"}, \"colorscale\": [[0.0, \"#0d0887\"], [0.1111111111111111, \"#46039f\"], [0.2222222222222222, \"#7201a8\"], [0.3333333333333333, \"#9c179e\"], [0.4444444444444444, \"#bd3786\"], [0.5555555555555556, \"#d8576b\"], [0.6666666666666666, \"#ed7953\"], [0.7777777777777778, \"#fb9f3a\"], [0.8888888888888888, \"#fdca26\"], [1.0, \"#f0f921\"]], \"type\": \"histogram2dcontour\"}], \"mesh3d\": [{\"colorbar\": {\"outlinewidth\": 0, \"ticks\": \"\"}, \"type\": \"mesh3d\"}], \"parcoords\": [{\"line\": {\"colorbar\": {\"outlinewidth\": 0, \"ticks\": \"\"}}, \"type\": \"parcoords\"}], \"scatter\": [{\"marker\": {\"colorbar\": {\"outlinewidth\": 0, \"ticks\": \"\"}}, \"type\": \"scatter\"}], \"scatter3d\": [{\"line\": {\"colorbar\": {\"outlinewidth\": 0, \"ticks\": \"\"}}, \"marker\": {\"colorbar\": {\"outlinewidth\": 0, \"ticks\": \"\"}}, \"type\": \"scatter3d\"}], \"scattercarpet\": [{\"marker\": {\"colorbar\": {\"outlinewidth\": 0, \"ticks\": \"\"}}, \"type\": \"scattercarpet\"}], \"scattergeo\": [{\"marker\": {\"colorbar\": {\"outlinewidth\": 0, \"ticks\": \"\"}}, \"type\": \"scattergeo\"}], \"scattergl\": [{\"marker\": {\"colorbar\": {\"outlinewidth\": 0, \"ticks\": \"\"}}, \"type\": \"scattergl\"}], \"scattermapbox\": [{\"marker\": {\"colorbar\": {\"outlinewidth\": 0, \"ticks\": \"\"}}, \"type\": \"scattermapbox\"}], \"scatterpolar\": [{\"marker\": {\"colorbar\": {\"outlinewidth\": 0, \"ticks\": \"\"}}, \"type\": \"scatterpolar\"}], \"scatterpolargl\": [{\"marker\": {\"colorbar\": {\"outlinewidth\": 0, \"ticks\": \"\"}}, \"type\": \"scatterpolargl\"}], \"scatterternary\": [{\"marker\": {\"colorbar\": {\"outlinewidth\": 0, \"ticks\": \"\"}}, \"type\": \"scatterternary\"}], \"surface\": [{\"colorbar\": {\"outlinewidth\": 0, \"ticks\": \"\"}, \"colorscale\": [[0.0, \"#0d0887\"], [0.1111111111111111, \"#46039f\"], [0.2222222222222222, \"#7201a8\"], [0.3333333333333333, \"#9c179e\"], [0.4444444444444444, \"#bd3786\"], [0.5555555555555556, \"#d8576b\"], [0.6666666666666666, \"#ed7953\"], [0.7777777777777778, \"#fb9f3a\"], [0.8888888888888888, \"#fdca26\"], [1.0, \"#f0f921\"]], \"type\": \"surface\"}], \"table\": [{\"cells\": {\"fill\": {\"color\": \"#EBF0F8\"}, \"line\": {\"color\": \"white\"}}, \"header\": {\"fill\": {\"color\": \"#C8D4E3\"}, \"line\": {\"color\": \"white\"}}, \"type\": \"table\"}]}, \"layout\": {\"annotationdefaults\": {\"arrowcolor\": \"#2a3f5f\", \"arrowhead\": 0, \"arrowwidth\": 1}, \"colorscale\": {\"diverging\": [[0, \"#8e0152\"], [0.1, \"#c51b7d\"], [0.2, \"#de77ae\"], [0.3, \"#f1b6da\"], [0.4, \"#fde0ef\"], [0.5, \"#f7f7f7\"], [0.6, \"#e6f5d0\"], [0.7, \"#b8e186\"], [0.8, \"#7fbc41\"], [0.9, \"#4d9221\"], [1, \"#276419\"]], \"sequential\": [[0.0, \"#0d0887\"], [0.1111111111111111, \"#46039f\"], [0.2222222222222222, \"#7201a8\"], [0.3333333333333333, \"#9c179e\"], [0.4444444444444444, \"#bd3786\"], [0.5555555555555556, \"#d8576b\"], [0.6666666666666666, \"#ed7953\"], [0.7777777777777778, \"#fb9f3a\"], [0.8888888888888888, \"#fdca26\"], [1.0, \"#f0f921\"]], \"sequentialminus\": [[0.0, \"#0d0887\"], [0.1111111111111111, \"#46039f\"], [0.2222222222222222, \"#7201a8\"], [0.3333333333333333, \"#9c179e\"], [0.4444444444444444, \"#bd3786\"], [0.5555555555555556, \"#d8576b\"], [0.6666666666666666, \"#ed7953\"], [0.7777777777777778, \"#fb9f3a\"], [0.8888888888888888, \"#fdca26\"], [1.0, \"#f0f921\"]]}, \"colorway\": [\"#636efa\", \"#EF553B\", \"#00cc96\", \"#ab63fa\", \"#FFA15A\", \"#19d3f3\", \"#FF6692\", \"#B6E880\", \"#FF97FF\", \"#FECB52\"], \"font\": {\"color\": \"#2a3f5f\"}, \"geo\": {\"bgcolor\": \"white\", \"lakecolor\": \"white\", \"landcolor\": \"#E5ECF6\", \"showlakes\": true, \"showland\": true, \"subunitcolor\": \"white\"}, \"hoverlabel\": {\"align\": \"left\"}, \"hovermode\": \"closest\", \"mapbox\": {\"style\": \"light\"}, \"paper_bgcolor\": \"white\", \"plot_bgcolor\": \"#E5ECF6\", \"polar\": {\"angularaxis\": {\"gridcolor\": \"white\", \"linecolor\": \"white\", \"ticks\": \"\"}, \"bgcolor\": \"#E5ECF6\", \"radialaxis\": {\"gridcolor\": \"white\", \"linecolor\": \"white\", \"ticks\": \"\"}}, \"scene\": {\"xaxis\": {\"backgroundcolor\": \"#E5ECF6\", \"gridcolor\": \"white\", \"gridwidth\": 2, \"linecolor\": \"white\", \"showbackground\": true, \"ticks\": \"\", \"zerolinecolor\": \"white\"}, \"yaxis\": {\"backgroundcolor\": \"#E5ECF6\", \"gridcolor\": \"white\", \"gridwidth\": 2, \"linecolor\": \"white\", \"showbackground\": true, \"ticks\": \"\", \"zerolinecolor\": \"white\"}, \"zaxis\": {\"backgroundcolor\": \"#E5ECF6\", \"gridcolor\": \"white\", \"gridwidth\": 2, \"linecolor\": \"white\", \"showbackground\": true, \"ticks\": \"\", \"zerolinecolor\": \"white\"}}, \"shapedefaults\": {\"line\": {\"color\": \"#2a3f5f\"}}, \"ternary\": {\"aaxis\": {\"gridcolor\": \"white\", \"linecolor\": \"white\", \"ticks\": \"\"}, \"baxis\": {\"gridcolor\": \"white\", \"linecolor\": \"white\", \"ticks\": \"\"}, \"bgcolor\": \"#E5ECF6\", \"caxis\": {\"gridcolor\": \"white\", \"linecolor\": \"white\", \"ticks\": \"\"}}, \"title\": {\"x\": 0.05}, \"xaxis\": {\"automargin\": true, \"gridcolor\": \"white\", \"linecolor\": \"white\", \"ticks\": \"\", \"zerolinecolor\": \"white\", \"zerolinewidth\": 2}, \"yaxis\": {\"automargin\": true, \"gridcolor\": \"white\", \"linecolor\": \"white\", \"ticks\": \"\", \"zerolinecolor\": \"white\", \"zerolinewidth\": 2}}}, \"title\": {\"text\": \"Shock scenarios (without lower bound)\", \"x\": 0.5, \"xanchor\": \"center\", \"y\": 0.9, \"yanchor\": \"top\"}, \"xaxis\": {\"title\": {\"text\": \"Expiry (in years)\"}}, \"yaxis\": {\"title\": {\"text\": \"Discount factor\"}}},\n",
       "                        {\"responsive\": true}\n",
       "                    ).then(function(){\n",
       "                            \n",
       "var gd = document.getElementById('caa1b485-1a67-4d11-848a-55341b02481b');\n",
       "var x = new MutationObserver(function (mutations, observer) {{\n",
       "        var display = window.getComputedStyle(gd).display;\n",
       "        if (!display || display === 'none') {{\n",
       "            console.log([gd, 'removed!']);\n",
       "            Plotly.purge(gd);\n",
       "            observer.disconnect();\n",
       "        }}\n",
       "}});\n",
       "\n",
       "// Listen for the removal of the full notebook cells\n",
       "var notebookContainer = gd.closest('#notebook-container');\n",
       "if (notebookContainer) {{\n",
       "    x.observe(notebookContainer, {childList: true});\n",
       "}}\n",
       "\n",
       "// Listen for the clearing of the current output cell\n",
       "var outputEl = gd.closest('.output');\n",
       "if (outputEl) {{\n",
       "    x.observe(outputEl, {childList: true});\n",
       "}}\n",
       "\n",
       "                        })\n",
       "                };\n",
       "                });\n",
       "            </script>\n",
       "        </div>"
      ]
     },
     "metadata": {},
     "output_type": "display_data"
    },
    {
     "data": {
      "application/vnd.plotly.v1+json": {
       "config": {
        "plotlyServerURL": "https://plot.ly"
       },
       "data": [
        {
         "mode": "lines",
         "name": "Original",
         "type": "scatter",
         "x": [
          0.00273224043715847,
          0.08196721311475409,
          0.16393442622950818,
          0.2459016393442623,
          0.32786885245901637,
          0.4098360655737705,
          0.4918032786885246,
          0.5737704918032787,
          0.6557377049180327,
          0.7377049180327869,
          0.819672131147541,
          0.9016393442622951,
          1,
          2,
          3,
          4,
          5,
          6,
          7,
          8,
          9,
          10,
          11,
          12,
          13,
          14,
          15,
          16,
          17,
          18,
          19,
          20,
          21,
          22,
          23,
          24,
          25,
          26,
          27,
          28,
          29,
          30
         ],
         "y": [
          1,
          1,
          1,
          1,
          1,
          1,
          1,
          1,
          1,
          1,
          1,
          1,
          1,
          1,
          1,
          1,
          1,
          1,
          1,
          1,
          1,
          1,
          1,
          1,
          1,
          1,
          1,
          1,
          1,
          1,
          1,
          1,
          1,
          1,
          1,
          1,
          1,
          1,
          1,
          1,
          1,
          1
         ]
        },
        {
         "mode": "lines",
         "name": "ParallelUp",
         "type": "scatter",
         "x": [
          0.00273224043715847,
          0.08196721311475409,
          0.16393442622950818,
          0.2459016393442623,
          0.32786885245901637,
          0.4098360655737705,
          0.4918032786885246,
          0.5737704918032787,
          0.6557377049180327,
          0.7377049180327869,
          0.819672131147541,
          0.9016393442622951,
          1,
          2,
          3,
          4,
          5,
          6,
          7,
          8,
          9,
          10,
          11,
          12,
          13,
          14,
          15,
          16,
          17,
          18,
          19,
          20,
          21,
          22,
          23,
          24,
          25,
          26,
          27,
          28,
          29,
          30
         ],
         "y": [
          0.9999453566842572,
          0.998361998728535,
          0.9967266805052355,
          0.9950940409352649,
          0.9934640756309857,
          0.9918367802119474,
          0.9902121503048745,
          0.9885901815436551,
          0.9869708695693289,
          0.9853542100300755,
          0.9837401985812029,
          0.9821288308851357,
          0.9801986733067553,
          0.9607894391523232,
          0.9417645335842487,
          0.9231163463866358,
          0.9048374180359595,
          0.8869204367171575,
          0.8693582353988059,
          0.8521437889662113,
          0.835270211411272,
          0.8187307530779818,
          0.8025187979624785,
          0.7866278610665535,
          0.7710515858035663,
          0.7557837414557255,
          0.7408182206817179,
          0.7261490370736909,
          0.7117703227626097,
          0.697676326071031,
          0.6838614092123558,
          0.6703200460356393,
          0.6570468198150567,
          0.6440364210831414,
          0.631283645506926,
          0.6187833918061408,
          0.6065306597126334,
          0.5945205479701944,
          0.5827482523739896,
          0.5712090638488149,
          0.559898366565402,
          0.5488116360940265
         ]
        },
        {
         "mode": "lines",
         "name": "ParallelDown",
         "type": "scatter",
         "x": [
          0.00273224043715847,
          0.08196721311475409,
          0.16393442622950818,
          0.2459016393442623,
          0.32786885245901637,
          0.4098360655737705,
          0.4918032786885246,
          0.5737704918032787,
          0.6557377049180327,
          0.7377049180327869,
          0.819672131147541,
          0.9016393442622951,
          1,
          2,
          3,
          4,
          5,
          6,
          7,
          8,
          9,
          10,
          11,
          12,
          13,
          14,
          15,
          16,
          17,
          18,
          19,
          20,
          21,
          22,
          23,
          24,
          25,
          26,
          27,
          28,
          29,
          30
         ],
         "y": [
          1.000027319044961,
          1.0008166460931232,
          1.0016272295177118,
          1.0024317344670926,
          1.0032301452444088,
          1.0040224462631313,
          1.0048086220475643,
          1.0055886572333503,
          1.0063625365679691,
          1.0071302449112356,
          1.0078917672357928,
          1.008647088627602,
          1.0095452682358568,
          1.0181629763897937,
          1.0258279062704445,
          1.0325175053051183,
          1.038211997081825,
          1.0428944787507632,
          1.0465510046139488,
          1.0491706553244706,
          1.0507455922148243,
          1.0512710963760241,
          1.0507455922148243,
          1.0491706553244706,
          1.0465510046139488,
          1.0428944787507632,
          1.038211997081825,
          1.0325175053051183,
          1.0258279062704445,
          1.0181629763897937,
          1.0095452682358568,
          1,
          1,
          1,
          1,
          1,
          1,
          1,
          1,
          1,
          1,
          1
         ]
        },
        {
         "mode": "lines",
         "name": "ShortUp",
         "type": "scatter",
         "x": [
          0.00273224043715847,
          0.08196721311475409,
          0.16393442622950818,
          0.2459016393442623,
          0.32786885245901637,
          0.4098360655737705,
          0.4918032786885246,
          0.5737704918032787,
          0.6557377049180327,
          0.7377049180327869,
          0.819672131147541,
          0.9016393442622951,
          1,
          2,
          3,
          4,
          5,
          6,
          7,
          8,
          9,
          10,
          11,
          12,
          13,
          14,
          15,
          16,
          17,
          18,
          19,
          20,
          21,
          22,
          23,
          24,
          25,
          26,
          27,
          28,
          29,
          30
         ],
         "y": [
          0.999931742959869,
          0.9979943976698826,
          0.9960739367875872,
          0.9942356774023237,
          0.9924767850335426,
          0.9907945262511237,
          0.9891862644764183,
          0.98764945599151,
          0.98618164614485,
          0.9847804657421718,
          0.9834436276122778,
          0.9821689233379417,
          0.9807182970975247,
          0.9701287028017056,
          0.9651927164117723,
          0.963880510211402,
          0.9648206019819131,
          0.9670843836244444,
          0.9700473055129278,
          0.9732959733712027,
          0.9765641612229916,
          0.9796878782229534,
          0.9825734676189337,
          0.9851748700609649,
          0.9874774503607464,
          0.989486572320526,
          0.9912196199784323,
          0.9927005160363352,
          0.993956039248888,
          0.9950134260050094,
          0.995898877445119,
          0.9966366951240765,
          0.9972488442248687,
          0.9977547999494695,
          0.998171574651992,
          0.9985138541041483,
          0.9987941937341636,
          0.9990232418636482,
          0.9992099684953186,
          0.999361886305308,
          0.9994852560942133,
          0.9995852727455219
         ]
        },
        {
         "mode": "lines",
         "name": "ShortDown",
         "type": "scatter",
         "x": [
          0.00273224043715847,
          0.08196721311475409,
          0.16393442622950818,
          0.2459016393442623,
          0.32786885245901637,
          0.4098360655737705,
          0.4918032786885246,
          0.5737704918032787,
          0.6557377049180327,
          0.7377049180327869,
          0.819672131147541,
          0.9016393442622951,
          1,
          2,
          3,
          4,
          5,
          6,
          7,
          8,
          9,
          10,
          11,
          12,
          13,
          14,
          15,
          16,
          17,
          18,
          19,
          20,
          21,
          22,
          23,
          24,
          25,
          26,
          27,
          28,
          29,
          30
         ],
         "y": [
          1.000027319044961,
          1.0008166460931232,
          1.0016272295177118,
          1.0024317344670926,
          1.0032301452444088,
          1.0040224462631313,
          1.0048086220475643,
          1.0055886572333503,
          1.0063625365679691,
          1.0071302449112356,
          1.0078917672357928,
          1.008647088627602,
          1.0095452682358568,
          1.0181629763897937,
          1.0258279062704445,
          1.0325175053051183,
          1.0364621132113288,
          1.034035929990095,
          1.03087756062704,
          1.0274366969137894,
          1.0239982580844036,
          1.0207332582433197,
          1.0177356024311301,
          1.0150482217823091,
          1.0126813525054965,
          1.0106251342601023,
          1.0088581580152325,
          1.0073531582242046,
          1.0060807123378206,
          1.0050115645323618,
          1.0041180110227677,
          1,
          1,
          1,
          1,
          1,
          1,
          1,
          1,
          1,
          1,
          1
         ]
        },
        {
         "mode": "lines",
         "name": "LongUp",
         "type": "scatter",
         "x": [
          0.00273224043715847,
          0.08196721311475409,
          0.16393442622950818,
          0.2459016393442623,
          0.32786885245901637,
          0.4098360655737705,
          0.4918032786885246,
          0.5737704918032787,
          0.6557377049180327,
          0.7377049180327869,
          0.819672131147541,
          0.9016393442622951,
          1,
          2,
          3,
          4,
          5,
          6,
          7,
          8,
          9,
          10,
          11,
          12,
          13,
          14,
          15,
          16,
          17,
          18,
          19,
          20,
          21,
          22,
          23,
          24,
          25,
          26,
          27,
          28,
          29,
          30
         ],
         "y": [
          0.9999999813435281,
          0.9999833745045219,
          0.9999341740764254,
          0.999853394524986,
          0.9997420075966816,
          0.9996009613642286,
          0.9994311806194809,
          0.9992335672694053,
          0.9990090007343913,
          0.9987583383482059,
          0.9984824157589479,
          0.9981820473303976,
          0.9977904524825434,
          0.9921614957565628,
          0.9842956168521726,
          0.9750321615208,
          0.9649540839665538,
          0.9544574736057718,
          0.9438048848679188,
          0.9331650630400038,
          0.9226419221148681,
          0.912295343170239,
          0.9021559004055814,
          0.892235157380541,
          0.8825327741812208,
          0.873041343484249,
          0.863749624941398,
          0.8546446608489557,
          0.8457131185650424,
          0.8369421049291952,
          0.8283196255308091,
          0.8198348097025557,
          0.8114779850269302,
          0.8032406588212043,
          0.7951154454906124,
          0.7870959656160513,
          0.7791767335817544,
          0.7713530443041312,
          0.7636208653711295,
          0.7559767380511271,
          0.7484176887590146,
          0.7409411513737865
         ]
        },
        {
         "mode": "lines",
         "name": "LongDown",
         "type": "scatter",
         "x": [
          0.00273224043715847,
          0.08196721311475409,
          0.16393442622950818,
          0.2459016393442623,
          0.32786885245901637,
          0.4098360655737705,
          0.4918032786885246,
          0.5737704918032787,
          0.6557377049180327,
          0.7377049180327869,
          0.819672131147541,
          0.9016393442622951,
          1,
          2,
          3,
          4,
          5,
          6,
          7,
          8,
          9,
          10,
          11,
          12,
          13,
          14,
          15,
          16,
          17,
          18,
          19,
          20,
          21,
          22,
          23,
          24,
          25,
          26,
          27,
          28,
          29,
          30
         ],
         "y": [
          1.0000000186564721,
          1.0000166257718897,
          1.000065830256912,
          1.0001466269713308,
          1.000258058980575,
          1.0003991979311693,
          1.0005691431201562,
          1.0007670206002879,
          1.0009919823193587,
          1.0012432052921307,
          1.0015198908033836,
          1.0018212636407,
          1.0022144404288087,
          1.0079004318117184,
          1.015954945728653,
          1.0256071947824332,
          1.0363187395294353,
          1.0428944787507632,
          1.0465510046139488,
          1.0491706553244706,
          1.0507455922148243,
          1.0512710963760241,
          1.0507455922148243,
          1.0491706553244706,
          1.0465510046139488,
          1.0428944787507632,
          1.038211997081825,
          1.0325175053051183,
          1.0258279062704445,
          1.0181629763897937,
          1.0095452682358568,
          1,
          1,
          1,
          1,
          1,
          1,
          1,
          1,
          1,
          1,
          1
         ]
        },
        {
         "mode": "lines",
         "name": "Flatten",
         "type": "scatter",
         "x": [
          0.00273224043715847,
          0.08196721311475409,
          0.16393442622950818,
          0.2459016393442623,
          0.32786885245901637,
          0.4098360655737705,
          0.4918032786885246,
          0.5737704918032787,
          0.6557377049180327,
          0.7377049180327869,
          0.819672131147541,
          0.9016393442622951,
          1,
          2,
          3,
          4,
          5,
          6,
          7,
          8,
          9,
          10,
          11,
          12,
          13,
          14,
          15,
          16,
          17,
          18,
          19,
          20,
          21,
          22,
          23,
          24,
          25,
          26,
          27,
          28,
          29,
          30
         ],
         "y": [
          0.9999454051884351,
          0.9984051555035621,
          0.9968972879007504,
          0.9954734452621461,
          0.9941307812983323,
          0.9928665508949219,
          0.9916781058732153,
          0.9905628909634626,
          0.9895184399785351,
          0.9885423721765748,
          0.9876323888019197,
          0.986786269794261,
          0.9858522136399375,
          0.9806500662620914,
          0.981331858083953,
          0.9858417227277632,
          0.9927805626553932,
          1.0011924053674972,
          1.0104271298445684,
          1.020048587623614,
          1.0297711380171957,
          1.0394148393760747,
          1.0488733957330536,
          1.0491706553244706,
          1.0465510046139488,
          1.0428944787507632,
          1.038211997081825,
          1.0325175053051183,
          1.0258279062704445,
          1.0181629763897937,
          1.0095452682358568,
          1,
          1,
          1,
          1,
          1,
          1,
          1,
          1,
          1,
          1,
          1
         ]
        },
        {
         "mode": "lines",
         "name": "Steepen",
         "type": "scatter",
         "x": [
          0.00273224043715847,
          0.08196721311475409,
          0.16393442622950818,
          0.2459016393442623,
          0.32786885245901637,
          0.4098360655737705,
          0.4918032786885246,
          0.5737704918032787,
          0.6557377049180327,
          0.7377049180327869,
          0.819672131147541,
          0.9016393442622951,
          1,
          2,
          3,
          4,
          5,
          6,
          7,
          8,
          9,
          10,
          11,
          12,
          13,
          14,
          15,
          16,
          17,
          18,
          19,
          20,
          21,
          22,
          23,
          24,
          25,
          26,
          27,
          28,
          29,
          30
         ],
         "y": [
          1.000027319044961,
          1.0008166460931232,
          1.0016272295177118,
          1.0024317344670926,
          1.0032301452444088,
          1.0040224462631313,
          1.0048086220475643,
          1.0055886572333503,
          1.0063625365679691,
          1.0071302449112356,
          1.0078917672357928,
          1.008647088627602,
          1.0095452682358568,
          1.0127098910480725,
          1.0088204392027884,
          1.0011564917797886,
          0.9912100897445734,
          0.9800067880719154,
          0.9682301560088172,
          0.9563204027255524,
          0.9445487051748717,
          0.9330714148210973,
          0.9219686699357196,
          0.911271394008861,
          0.9009798674651309,
          0.891076296523503,
          0.8815331656396932,
          0.872318663628655,
          0.8634001021110412,
          0.8547459736150367,
          0.8463271015663482,
          0.838117195567813,
          0.8300930273157199,
          0.8222343736548129,
          0.8145238251964109,
          0.8069465255384919,
          0.799489883096367,
          0.7921432817974271,
          0.7848978062317747,
          0.7777459897400417,
          0.7706815892715833,
          0.7636993878933096
         ]
        }
       ],
       "layout": {
        "showlegend": true,
        "template": {
         "data": {
          "bar": [
           {
            "error_x": {
             "color": "#2a3f5f"
            },
            "error_y": {
             "color": "#2a3f5f"
            },
            "marker": {
             "line": {
              "color": "#E5ECF6",
              "width": 0.5
             }
            },
            "type": "bar"
           }
          ],
          "barpolar": [
           {
            "marker": {
             "line": {
              "color": "#E5ECF6",
              "width": 0.5
             }
            },
            "type": "barpolar"
           }
          ],
          "carpet": [
           {
            "aaxis": {
             "endlinecolor": "#2a3f5f",
             "gridcolor": "white",
             "linecolor": "white",
             "minorgridcolor": "white",
             "startlinecolor": "#2a3f5f"
            },
            "baxis": {
             "endlinecolor": "#2a3f5f",
             "gridcolor": "white",
             "linecolor": "white",
             "minorgridcolor": "white",
             "startlinecolor": "#2a3f5f"
            },
            "type": "carpet"
           }
          ],
          "choropleth": [
           {
            "colorbar": {
             "outlinewidth": 0,
             "ticks": ""
            },
            "type": "choropleth"
           }
          ],
          "contour": [
           {
            "colorbar": {
             "outlinewidth": 0,
             "ticks": ""
            },
            "colorscale": [
             [
              0,
              "#0d0887"
             ],
             [
              0.1111111111111111,
              "#46039f"
             ],
             [
              0.2222222222222222,
              "#7201a8"
             ],
             [
              0.3333333333333333,
              "#9c179e"
             ],
             [
              0.4444444444444444,
              "#bd3786"
             ],
             [
              0.5555555555555556,
              "#d8576b"
             ],
             [
              0.6666666666666666,
              "#ed7953"
             ],
             [
              0.7777777777777778,
              "#fb9f3a"
             ],
             [
              0.8888888888888888,
              "#fdca26"
             ],
             [
              1,
              "#f0f921"
             ]
            ],
            "type": "contour"
           }
          ],
          "contourcarpet": [
           {
            "colorbar": {
             "outlinewidth": 0,
             "ticks": ""
            },
            "type": "contourcarpet"
           }
          ],
          "heatmap": [
           {
            "colorbar": {
             "outlinewidth": 0,
             "ticks": ""
            },
            "colorscale": [
             [
              0,
              "#0d0887"
             ],
             [
              0.1111111111111111,
              "#46039f"
             ],
             [
              0.2222222222222222,
              "#7201a8"
             ],
             [
              0.3333333333333333,
              "#9c179e"
             ],
             [
              0.4444444444444444,
              "#bd3786"
             ],
             [
              0.5555555555555556,
              "#d8576b"
             ],
             [
              0.6666666666666666,
              "#ed7953"
             ],
             [
              0.7777777777777778,
              "#fb9f3a"
             ],
             [
              0.8888888888888888,
              "#fdca26"
             ],
             [
              1,
              "#f0f921"
             ]
            ],
            "type": "heatmap"
           }
          ],
          "heatmapgl": [
           {
            "colorbar": {
             "outlinewidth": 0,
             "ticks": ""
            },
            "colorscale": [
             [
              0,
              "#0d0887"
             ],
             [
              0.1111111111111111,
              "#46039f"
             ],
             [
              0.2222222222222222,
              "#7201a8"
             ],
             [
              0.3333333333333333,
              "#9c179e"
             ],
             [
              0.4444444444444444,
              "#bd3786"
             ],
             [
              0.5555555555555556,
              "#d8576b"
             ],
             [
              0.6666666666666666,
              "#ed7953"
             ],
             [
              0.7777777777777778,
              "#fb9f3a"
             ],
             [
              0.8888888888888888,
              "#fdca26"
             ],
             [
              1,
              "#f0f921"
             ]
            ],
            "type": "heatmapgl"
           }
          ],
          "histogram": [
           {
            "marker": {
             "colorbar": {
              "outlinewidth": 0,
              "ticks": ""
             }
            },
            "type": "histogram"
           }
          ],
          "histogram2d": [
           {
            "colorbar": {
             "outlinewidth": 0,
             "ticks": ""
            },
            "colorscale": [
             [
              0,
              "#0d0887"
             ],
             [
              0.1111111111111111,
              "#46039f"
             ],
             [
              0.2222222222222222,
              "#7201a8"
             ],
             [
              0.3333333333333333,
              "#9c179e"
             ],
             [
              0.4444444444444444,
              "#bd3786"
             ],
             [
              0.5555555555555556,
              "#d8576b"
             ],
             [
              0.6666666666666666,
              "#ed7953"
             ],
             [
              0.7777777777777778,
              "#fb9f3a"
             ],
             [
              0.8888888888888888,
              "#fdca26"
             ],
             [
              1,
              "#f0f921"
             ]
            ],
            "type": "histogram2d"
           }
          ],
          "histogram2dcontour": [
           {
            "colorbar": {
             "outlinewidth": 0,
             "ticks": ""
            },
            "colorscale": [
             [
              0,
              "#0d0887"
             ],
             [
              0.1111111111111111,
              "#46039f"
             ],
             [
              0.2222222222222222,
              "#7201a8"
             ],
             [
              0.3333333333333333,
              "#9c179e"
             ],
             [
              0.4444444444444444,
              "#bd3786"
             ],
             [
              0.5555555555555556,
              "#d8576b"
             ],
             [
              0.6666666666666666,
              "#ed7953"
             ],
             [
              0.7777777777777778,
              "#fb9f3a"
             ],
             [
              0.8888888888888888,
              "#fdca26"
             ],
             [
              1,
              "#f0f921"
             ]
            ],
            "type": "histogram2dcontour"
           }
          ],
          "mesh3d": [
           {
            "colorbar": {
             "outlinewidth": 0,
             "ticks": ""
            },
            "type": "mesh3d"
           }
          ],
          "parcoords": [
           {
            "line": {
             "colorbar": {
              "outlinewidth": 0,
              "ticks": ""
             }
            },
            "type": "parcoords"
           }
          ],
          "scatter": [
           {
            "marker": {
             "colorbar": {
              "outlinewidth": 0,
              "ticks": ""
             }
            },
            "type": "scatter"
           }
          ],
          "scatter3d": [
           {
            "line": {
             "colorbar": {
              "outlinewidth": 0,
              "ticks": ""
             }
            },
            "marker": {
             "colorbar": {
              "outlinewidth": 0,
              "ticks": ""
             }
            },
            "type": "scatter3d"
           }
          ],
          "scattercarpet": [
           {
            "marker": {
             "colorbar": {
              "outlinewidth": 0,
              "ticks": ""
             }
            },
            "type": "scattercarpet"
           }
          ],
          "scattergeo": [
           {
            "marker": {
             "colorbar": {
              "outlinewidth": 0,
              "ticks": ""
             }
            },
            "type": "scattergeo"
           }
          ],
          "scattergl": [
           {
            "marker": {
             "colorbar": {
              "outlinewidth": 0,
              "ticks": ""
             }
            },
            "type": "scattergl"
           }
          ],
          "scattermapbox": [
           {
            "marker": {
             "colorbar": {
              "outlinewidth": 0,
              "ticks": ""
             }
            },
            "type": "scattermapbox"
           }
          ],
          "scatterpolar": [
           {
            "marker": {
             "colorbar": {
              "outlinewidth": 0,
              "ticks": ""
             }
            },
            "type": "scatterpolar"
           }
          ],
          "scatterpolargl": [
           {
            "marker": {
             "colorbar": {
              "outlinewidth": 0,
              "ticks": ""
             }
            },
            "type": "scatterpolargl"
           }
          ],
          "scatterternary": [
           {
            "marker": {
             "colorbar": {
              "outlinewidth": 0,
              "ticks": ""
             }
            },
            "type": "scatterternary"
           }
          ],
          "surface": [
           {
            "colorbar": {
             "outlinewidth": 0,
             "ticks": ""
            },
            "colorscale": [
             [
              0,
              "#0d0887"
             ],
             [
              0.1111111111111111,
              "#46039f"
             ],
             [
              0.2222222222222222,
              "#7201a8"
             ],
             [
              0.3333333333333333,
              "#9c179e"
             ],
             [
              0.4444444444444444,
              "#bd3786"
             ],
             [
              0.5555555555555556,
              "#d8576b"
             ],
             [
              0.6666666666666666,
              "#ed7953"
             ],
             [
              0.7777777777777778,
              "#fb9f3a"
             ],
             [
              0.8888888888888888,
              "#fdca26"
             ],
             [
              1,
              "#f0f921"
             ]
            ],
            "type": "surface"
           }
          ],
          "table": [
           {
            "cells": {
             "fill": {
              "color": "#EBF0F8"
             },
             "line": {
              "color": "white"
             }
            },
            "header": {
             "fill": {
              "color": "#C8D4E3"
             },
             "line": {
              "color": "white"
             }
            },
            "type": "table"
           }
          ]
         },
         "layout": {
          "annotationdefaults": {
           "arrowcolor": "#2a3f5f",
           "arrowhead": 0,
           "arrowwidth": 1
          },
          "colorscale": {
           "diverging": [
            [
             0,
             "#8e0152"
            ],
            [
             0.1,
             "#c51b7d"
            ],
            [
             0.2,
             "#de77ae"
            ],
            [
             0.3,
             "#f1b6da"
            ],
            [
             0.4,
             "#fde0ef"
            ],
            [
             0.5,
             "#f7f7f7"
            ],
            [
             0.6,
             "#e6f5d0"
            ],
            [
             0.7,
             "#b8e186"
            ],
            [
             0.8,
             "#7fbc41"
            ],
            [
             0.9,
             "#4d9221"
            ],
            [
             1,
             "#276419"
            ]
           ],
           "sequential": [
            [
             0,
             "#0d0887"
            ],
            [
             0.1111111111111111,
             "#46039f"
            ],
            [
             0.2222222222222222,
             "#7201a8"
            ],
            [
             0.3333333333333333,
             "#9c179e"
            ],
            [
             0.4444444444444444,
             "#bd3786"
            ],
            [
             0.5555555555555556,
             "#d8576b"
            ],
            [
             0.6666666666666666,
             "#ed7953"
            ],
            [
             0.7777777777777778,
             "#fb9f3a"
            ],
            [
             0.8888888888888888,
             "#fdca26"
            ],
            [
             1,
             "#f0f921"
            ]
           ],
           "sequentialminus": [
            [
             0,
             "#0d0887"
            ],
            [
             0.1111111111111111,
             "#46039f"
            ],
            [
             0.2222222222222222,
             "#7201a8"
            ],
            [
             0.3333333333333333,
             "#9c179e"
            ],
            [
             0.4444444444444444,
             "#bd3786"
            ],
            [
             0.5555555555555556,
             "#d8576b"
            ],
            [
             0.6666666666666666,
             "#ed7953"
            ],
            [
             0.7777777777777778,
             "#fb9f3a"
            ],
            [
             0.8888888888888888,
             "#fdca26"
            ],
            [
             1,
             "#f0f921"
            ]
           ]
          },
          "colorway": [
           "#636efa",
           "#EF553B",
           "#00cc96",
           "#ab63fa",
           "#FFA15A",
           "#19d3f3",
           "#FF6692",
           "#B6E880",
           "#FF97FF",
           "#FECB52"
          ],
          "font": {
           "color": "#2a3f5f"
          },
          "geo": {
           "bgcolor": "white",
           "lakecolor": "white",
           "landcolor": "#E5ECF6",
           "showlakes": true,
           "showland": true,
           "subunitcolor": "white"
          },
          "hoverlabel": {
           "align": "left"
          },
          "hovermode": "closest",
          "mapbox": {
           "style": "light"
          },
          "paper_bgcolor": "white",
          "plot_bgcolor": "#E5ECF6",
          "polar": {
           "angularaxis": {
            "gridcolor": "white",
            "linecolor": "white",
            "ticks": ""
           },
           "bgcolor": "#E5ECF6",
           "radialaxis": {
            "gridcolor": "white",
            "linecolor": "white",
            "ticks": ""
           }
          },
          "scene": {
           "xaxis": {
            "backgroundcolor": "#E5ECF6",
            "gridcolor": "white",
            "gridwidth": 2,
            "linecolor": "white",
            "showbackground": true,
            "ticks": "",
            "zerolinecolor": "white"
           },
           "yaxis": {
            "backgroundcolor": "#E5ECF6",
            "gridcolor": "white",
            "gridwidth": 2,
            "linecolor": "white",
            "showbackground": true,
            "ticks": "",
            "zerolinecolor": "white"
           },
           "zaxis": {
            "backgroundcolor": "#E5ECF6",
            "gridcolor": "white",
            "gridwidth": 2,
            "linecolor": "white",
            "showbackground": true,
            "ticks": "",
            "zerolinecolor": "white"
           }
          },
          "shapedefaults": {
           "line": {
            "color": "#2a3f5f"
           }
          },
          "ternary": {
           "aaxis": {
            "gridcolor": "white",
            "linecolor": "white",
            "ticks": ""
           },
           "baxis": {
            "gridcolor": "white",
            "linecolor": "white",
            "ticks": ""
           },
           "bgcolor": "#E5ECF6",
           "caxis": {
            "gridcolor": "white",
            "linecolor": "white",
            "ticks": ""
           }
          },
          "title": {
           "x": 0.05
          },
          "xaxis": {
           "automargin": true,
           "gridcolor": "white",
           "linecolor": "white",
           "ticks": "",
           "zerolinecolor": "white",
           "zerolinewidth": 2
          },
          "yaxis": {
           "automargin": true,
           "gridcolor": "white",
           "linecolor": "white",
           "ticks": "",
           "zerolinecolor": "white",
           "zerolinewidth": 2
          }
         }
        },
        "title": {
         "text": "Shock scenarios (with lower bound)",
         "x": 0.5,
         "xanchor": "center",
         "y": 0.9,
         "yanchor": "top"
        },
        "xaxis": {
         "title": {
          "text": "Expiry (in years)"
         }
        },
        "yaxis": {
         "title": {
          "text": "Discount factor"
         }
        }
       }
      },
      "text/html": [
       "<div>\n",
       "        \n",
       "        \n",
       "            <div id=\"b2202c0a-9288-4f89-901d-e2e06df4c1c8\" class=\"plotly-graph-div\" style=\"height:525px; width:100%;\"></div>\n",
       "            <script type=\"text/javascript\">\n",
       "                require([\"plotly\"], function(Plotly) {\n",
       "                    window.PLOTLYENV=window.PLOTLYENV || {};\n",
       "                    \n",
       "                if (document.getElementById(\"b2202c0a-9288-4f89-901d-e2e06df4c1c8\")) {\n",
       "                    Plotly.newPlot(\n",
       "                        'b2202c0a-9288-4f89-901d-e2e06df4c1c8',\n",
       "                        [{\"mode\": \"lines\", \"name\": \"Original\", \"type\": \"scatter\", \"x\": [0.00273224043715847, 0.08196721311475409, 0.16393442622950818, 0.2459016393442623, 0.32786885245901637, 0.4098360655737705, 0.4918032786885246, 0.5737704918032787, 0.6557377049180327, 0.7377049180327869, 0.819672131147541, 0.9016393442622951, 1.0, 2.0, 3.0, 4.0, 5.0, 6.0, 7.0, 8.0, 9.0, 10.0, 11.0, 12.0, 13.0, 14.0, 15.0, 16.0, 17.0, 18.0, 19.0, 20.0, 21.0, 22.0, 23.0, 24.0, 25.0, 26.0, 27.0, 28.0, 29.0, 30.0], \"y\": [1.0, 1.0, 1.0, 1.0, 1.0, 1.0, 1.0, 1.0, 1.0, 1.0, 1.0, 1.0, 1.0, 1.0, 1.0, 1.0, 1.0, 1.0, 1.0, 1.0, 1.0, 1.0, 1.0, 1.0, 1.0, 1.0, 1.0, 1.0, 1.0, 1.0, 1.0, 1.0, 1.0, 1.0, 1.0, 1.0, 1.0, 1.0, 1.0, 1.0, 1.0, 1.0]}, {\"mode\": \"lines\", \"name\": \"ParallelUp\", \"type\": \"scatter\", \"x\": [0.00273224043715847, 0.08196721311475409, 0.16393442622950818, 0.2459016393442623, 0.32786885245901637, 0.4098360655737705, 0.4918032786885246, 0.5737704918032787, 0.6557377049180327, 0.7377049180327869, 0.819672131147541, 0.9016393442622951, 1.0, 2.0, 3.0, 4.0, 5.0, 6.0, 7.0, 8.0, 9.0, 10.0, 11.0, 12.0, 13.0, 14.0, 15.0, 16.0, 17.0, 18.0, 19.0, 20.0, 21.0, 22.0, 23.0, 24.0, 25.0, 26.0, 27.0, 28.0, 29.0, 30.0], \"y\": [0.9999453566842572, 0.998361998728535, 0.9967266805052355, 0.9950940409352649, 0.9934640756309857, 0.9918367802119474, 0.9902121503048745, 0.9885901815436551, 0.9869708695693289, 0.9853542100300755, 0.9837401985812029, 0.9821288308851357, 0.9801986733067553, 0.9607894391523232, 0.9417645335842487, 0.9231163463866358, 0.9048374180359595, 0.8869204367171575, 0.8693582353988059, 0.8521437889662113, 0.835270211411272, 0.8187307530779818, 0.8025187979624785, 0.7866278610665535, 0.7710515858035663, 0.7557837414557255, 0.7408182206817179, 0.7261490370736909, 0.7117703227626097, 0.697676326071031, 0.6838614092123558, 0.6703200460356393, 0.6570468198150567, 0.6440364210831414, 0.631283645506926, 0.6187833918061408, 0.6065306597126334, 0.5945205479701944, 0.5827482523739896, 0.5712090638488149, 0.559898366565402, 0.5488116360940265]}, {\"mode\": \"lines\", \"name\": \"ParallelDown\", \"type\": \"scatter\", \"x\": [0.00273224043715847, 0.08196721311475409, 0.16393442622950818, 0.2459016393442623, 0.32786885245901637, 0.4098360655737705, 0.4918032786885246, 0.5737704918032787, 0.6557377049180327, 0.7377049180327869, 0.819672131147541, 0.9016393442622951, 1.0, 2.0, 3.0, 4.0, 5.0, 6.0, 7.0, 8.0, 9.0, 10.0, 11.0, 12.0, 13.0, 14.0, 15.0, 16.0, 17.0, 18.0, 19.0, 20.0, 21.0, 22.0, 23.0, 24.0, 25.0, 26.0, 27.0, 28.0, 29.0, 30.0], \"y\": [1.000027319044961, 1.0008166460931232, 1.0016272295177118, 1.0024317344670926, 1.0032301452444088, 1.0040224462631313, 1.0048086220475643, 1.0055886572333503, 1.0063625365679691, 1.0071302449112356, 1.0078917672357928, 1.008647088627602, 1.0095452682358568, 1.0181629763897937, 1.0258279062704445, 1.0325175053051183, 1.038211997081825, 1.0428944787507632, 1.0465510046139488, 1.0491706553244706, 1.0507455922148243, 1.0512710963760241, 1.0507455922148243, 1.0491706553244706, 1.0465510046139488, 1.0428944787507632, 1.038211997081825, 1.0325175053051183, 1.0258279062704445, 1.0181629763897937, 1.0095452682358568, 1.0, 1.0, 1.0, 1.0, 1.0, 1.0, 1.0, 1.0, 1.0, 1.0, 1.0]}, {\"mode\": \"lines\", \"name\": \"ShortUp\", \"type\": \"scatter\", \"x\": [0.00273224043715847, 0.08196721311475409, 0.16393442622950818, 0.2459016393442623, 0.32786885245901637, 0.4098360655737705, 0.4918032786885246, 0.5737704918032787, 0.6557377049180327, 0.7377049180327869, 0.819672131147541, 0.9016393442622951, 1.0, 2.0, 3.0, 4.0, 5.0, 6.0, 7.0, 8.0, 9.0, 10.0, 11.0, 12.0, 13.0, 14.0, 15.0, 16.0, 17.0, 18.0, 19.0, 20.0, 21.0, 22.0, 23.0, 24.0, 25.0, 26.0, 27.0, 28.0, 29.0, 30.0], \"y\": [0.999931742959869, 0.9979943976698826, 0.9960739367875872, 0.9942356774023237, 0.9924767850335426, 0.9907945262511237, 0.9891862644764183, 0.98764945599151, 0.98618164614485, 0.9847804657421718, 0.9834436276122778, 0.9821689233379417, 0.9807182970975247, 0.9701287028017056, 0.9651927164117723, 0.963880510211402, 0.9648206019819131, 0.9670843836244444, 0.9700473055129278, 0.9732959733712027, 0.9765641612229916, 0.9796878782229534, 0.9825734676189337, 0.9851748700609649, 0.9874774503607464, 0.989486572320526, 0.9912196199784323, 0.9927005160363352, 0.993956039248888, 0.9950134260050094, 0.995898877445119, 0.9966366951240765, 0.9972488442248687, 0.9977547999494695, 0.998171574651992, 0.9985138541041483, 0.9987941937341636, 0.9990232418636482, 0.9992099684953186, 0.999361886305308, 0.9994852560942133, 0.9995852727455219]}, {\"mode\": \"lines\", \"name\": \"ShortDown\", \"type\": \"scatter\", \"x\": [0.00273224043715847, 0.08196721311475409, 0.16393442622950818, 0.2459016393442623, 0.32786885245901637, 0.4098360655737705, 0.4918032786885246, 0.5737704918032787, 0.6557377049180327, 0.7377049180327869, 0.819672131147541, 0.9016393442622951, 1.0, 2.0, 3.0, 4.0, 5.0, 6.0, 7.0, 8.0, 9.0, 10.0, 11.0, 12.0, 13.0, 14.0, 15.0, 16.0, 17.0, 18.0, 19.0, 20.0, 21.0, 22.0, 23.0, 24.0, 25.0, 26.0, 27.0, 28.0, 29.0, 30.0], \"y\": [1.000027319044961, 1.0008166460931232, 1.0016272295177118, 1.0024317344670926, 1.0032301452444088, 1.0040224462631313, 1.0048086220475643, 1.0055886572333503, 1.0063625365679691, 1.0071302449112356, 1.0078917672357928, 1.008647088627602, 1.0095452682358568, 1.0181629763897937, 1.0258279062704445, 1.0325175053051183, 1.0364621132113288, 1.034035929990095, 1.03087756062704, 1.0274366969137894, 1.0239982580844036, 1.0207332582433197, 1.0177356024311301, 1.0150482217823091, 1.0126813525054965, 1.0106251342601023, 1.0088581580152325, 1.0073531582242046, 1.0060807123378206, 1.0050115645323618, 1.0041180110227677, 1.0, 1.0, 1.0, 1.0, 1.0, 1.0, 1.0, 1.0, 1.0, 1.0, 1.0]}, {\"mode\": \"lines\", \"name\": \"LongUp\", \"type\": \"scatter\", \"x\": [0.00273224043715847, 0.08196721311475409, 0.16393442622950818, 0.2459016393442623, 0.32786885245901637, 0.4098360655737705, 0.4918032786885246, 0.5737704918032787, 0.6557377049180327, 0.7377049180327869, 0.819672131147541, 0.9016393442622951, 1.0, 2.0, 3.0, 4.0, 5.0, 6.0, 7.0, 8.0, 9.0, 10.0, 11.0, 12.0, 13.0, 14.0, 15.0, 16.0, 17.0, 18.0, 19.0, 20.0, 21.0, 22.0, 23.0, 24.0, 25.0, 26.0, 27.0, 28.0, 29.0, 30.0], \"y\": [0.9999999813435281, 0.9999833745045219, 0.9999341740764254, 0.999853394524986, 0.9997420075966816, 0.9996009613642286, 0.9994311806194809, 0.9992335672694053, 0.9990090007343913, 0.9987583383482059, 0.9984824157589479, 0.9981820473303976, 0.9977904524825434, 0.9921614957565628, 0.9842956168521726, 0.9750321615208, 0.9649540839665538, 0.9544574736057718, 0.9438048848679188, 0.9331650630400038, 0.9226419221148681, 0.912295343170239, 0.9021559004055814, 0.892235157380541, 0.8825327741812208, 0.873041343484249, 0.863749624941398, 0.8546446608489557, 0.8457131185650424, 0.8369421049291952, 0.8283196255308091, 0.8198348097025557, 0.8114779850269302, 0.8032406588212043, 0.7951154454906124, 0.7870959656160513, 0.7791767335817544, 0.7713530443041312, 0.7636208653711295, 0.7559767380511271, 0.7484176887590146, 0.7409411513737865]}, {\"mode\": \"lines\", \"name\": \"LongDown\", \"type\": \"scatter\", \"x\": [0.00273224043715847, 0.08196721311475409, 0.16393442622950818, 0.2459016393442623, 0.32786885245901637, 0.4098360655737705, 0.4918032786885246, 0.5737704918032787, 0.6557377049180327, 0.7377049180327869, 0.819672131147541, 0.9016393442622951, 1.0, 2.0, 3.0, 4.0, 5.0, 6.0, 7.0, 8.0, 9.0, 10.0, 11.0, 12.0, 13.0, 14.0, 15.0, 16.0, 17.0, 18.0, 19.0, 20.0, 21.0, 22.0, 23.0, 24.0, 25.0, 26.0, 27.0, 28.0, 29.0, 30.0], \"y\": [1.0000000186564721, 1.0000166257718897, 1.000065830256912, 1.0001466269713308, 1.000258058980575, 1.0003991979311693, 1.0005691431201562, 1.0007670206002879, 1.0009919823193587, 1.0012432052921307, 1.0015198908033836, 1.0018212636407, 1.0022144404288087, 1.0079004318117184, 1.015954945728653, 1.0256071947824332, 1.0363187395294353, 1.0428944787507632, 1.0465510046139488, 1.0491706553244706, 1.0507455922148243, 1.0512710963760241, 1.0507455922148243, 1.0491706553244706, 1.0465510046139488, 1.0428944787507632, 1.038211997081825, 1.0325175053051183, 1.0258279062704445, 1.0181629763897937, 1.0095452682358568, 1.0, 1.0, 1.0, 1.0, 1.0, 1.0, 1.0, 1.0, 1.0, 1.0, 1.0]}, {\"mode\": \"lines\", \"name\": \"Flatten\", \"type\": \"scatter\", \"x\": [0.00273224043715847, 0.08196721311475409, 0.16393442622950818, 0.2459016393442623, 0.32786885245901637, 0.4098360655737705, 0.4918032786885246, 0.5737704918032787, 0.6557377049180327, 0.7377049180327869, 0.819672131147541, 0.9016393442622951, 1.0, 2.0, 3.0, 4.0, 5.0, 6.0, 7.0, 8.0, 9.0, 10.0, 11.0, 12.0, 13.0, 14.0, 15.0, 16.0, 17.0, 18.0, 19.0, 20.0, 21.0, 22.0, 23.0, 24.0, 25.0, 26.0, 27.0, 28.0, 29.0, 30.0], \"y\": [0.9999454051884351, 0.9984051555035621, 0.9968972879007504, 0.9954734452621461, 0.9941307812983323, 0.9928665508949219, 0.9916781058732153, 0.9905628909634626, 0.9895184399785351, 0.9885423721765748, 0.9876323888019197, 0.986786269794261, 0.9858522136399375, 0.9806500662620914, 0.981331858083953, 0.9858417227277632, 0.9927805626553932, 1.0011924053674972, 1.0104271298445684, 1.020048587623614, 1.0297711380171957, 1.0394148393760747, 1.0488733957330536, 1.0491706553244706, 1.0465510046139488, 1.0428944787507632, 1.038211997081825, 1.0325175053051183, 1.0258279062704445, 1.0181629763897937, 1.0095452682358568, 1.0, 1.0, 1.0, 1.0, 1.0, 1.0, 1.0, 1.0, 1.0, 1.0, 1.0]}, {\"mode\": \"lines\", \"name\": \"Steepen\", \"type\": \"scatter\", \"x\": [0.00273224043715847, 0.08196721311475409, 0.16393442622950818, 0.2459016393442623, 0.32786885245901637, 0.4098360655737705, 0.4918032786885246, 0.5737704918032787, 0.6557377049180327, 0.7377049180327869, 0.819672131147541, 0.9016393442622951, 1.0, 2.0, 3.0, 4.0, 5.0, 6.0, 7.0, 8.0, 9.0, 10.0, 11.0, 12.0, 13.0, 14.0, 15.0, 16.0, 17.0, 18.0, 19.0, 20.0, 21.0, 22.0, 23.0, 24.0, 25.0, 26.0, 27.0, 28.0, 29.0, 30.0], \"y\": [1.000027319044961, 1.0008166460931232, 1.0016272295177118, 1.0024317344670926, 1.0032301452444088, 1.0040224462631313, 1.0048086220475643, 1.0055886572333503, 1.0063625365679691, 1.0071302449112356, 1.0078917672357928, 1.008647088627602, 1.0095452682358568, 1.0127098910480725, 1.0088204392027884, 1.0011564917797886, 0.9912100897445734, 0.9800067880719154, 0.9682301560088172, 0.9563204027255524, 0.9445487051748717, 0.9330714148210973, 0.9219686699357196, 0.911271394008861, 0.9009798674651309, 0.891076296523503, 0.8815331656396932, 0.872318663628655, 0.8634001021110412, 0.8547459736150367, 0.8463271015663482, 0.838117195567813, 0.8300930273157199, 0.8222343736548129, 0.8145238251964109, 0.8069465255384919, 0.799489883096367, 0.7921432817974271, 0.7848978062317747, 0.7777459897400417, 0.7706815892715833, 0.7636993878933096]}],\n",
       "                        {\"showlegend\": true, \"template\": {\"data\": {\"bar\": [{\"error_x\": {\"color\": \"#2a3f5f\"}, \"error_y\": {\"color\": \"#2a3f5f\"}, \"marker\": {\"line\": {\"color\": \"#E5ECF6\", \"width\": 0.5}}, \"type\": \"bar\"}], \"barpolar\": [{\"marker\": {\"line\": {\"color\": \"#E5ECF6\", \"width\": 0.5}}, \"type\": \"barpolar\"}], \"carpet\": [{\"aaxis\": {\"endlinecolor\": \"#2a3f5f\", \"gridcolor\": \"white\", \"linecolor\": \"white\", \"minorgridcolor\": \"white\", \"startlinecolor\": \"#2a3f5f\"}, \"baxis\": {\"endlinecolor\": \"#2a3f5f\", \"gridcolor\": \"white\", \"linecolor\": \"white\", \"minorgridcolor\": \"white\", \"startlinecolor\": \"#2a3f5f\"}, \"type\": \"carpet\"}], \"choropleth\": [{\"colorbar\": {\"outlinewidth\": 0, \"ticks\": \"\"}, \"type\": \"choropleth\"}], \"contour\": [{\"colorbar\": {\"outlinewidth\": 0, \"ticks\": \"\"}, \"colorscale\": [[0.0, \"#0d0887\"], [0.1111111111111111, \"#46039f\"], [0.2222222222222222, \"#7201a8\"], [0.3333333333333333, \"#9c179e\"], [0.4444444444444444, \"#bd3786\"], [0.5555555555555556, \"#d8576b\"], [0.6666666666666666, \"#ed7953\"], [0.7777777777777778, \"#fb9f3a\"], [0.8888888888888888, \"#fdca26\"], [1.0, \"#f0f921\"]], \"type\": \"contour\"}], \"contourcarpet\": [{\"colorbar\": {\"outlinewidth\": 0, \"ticks\": \"\"}, \"type\": \"contourcarpet\"}], \"heatmap\": [{\"colorbar\": {\"outlinewidth\": 0, \"ticks\": \"\"}, \"colorscale\": [[0.0, \"#0d0887\"], [0.1111111111111111, \"#46039f\"], [0.2222222222222222, \"#7201a8\"], [0.3333333333333333, \"#9c179e\"], [0.4444444444444444, \"#bd3786\"], [0.5555555555555556, \"#d8576b\"], [0.6666666666666666, \"#ed7953\"], [0.7777777777777778, \"#fb9f3a\"], [0.8888888888888888, \"#fdca26\"], [1.0, \"#f0f921\"]], \"type\": \"heatmap\"}], \"heatmapgl\": [{\"colorbar\": {\"outlinewidth\": 0, \"ticks\": \"\"}, \"colorscale\": [[0.0, \"#0d0887\"], [0.1111111111111111, \"#46039f\"], [0.2222222222222222, \"#7201a8\"], [0.3333333333333333, \"#9c179e\"], [0.4444444444444444, \"#bd3786\"], [0.5555555555555556, \"#d8576b\"], [0.6666666666666666, \"#ed7953\"], [0.7777777777777778, \"#fb9f3a\"], [0.8888888888888888, \"#fdca26\"], [1.0, \"#f0f921\"]], \"type\": \"heatmapgl\"}], \"histogram\": [{\"marker\": {\"colorbar\": {\"outlinewidth\": 0, \"ticks\": \"\"}}, \"type\": \"histogram\"}], \"histogram2d\": [{\"colorbar\": {\"outlinewidth\": 0, \"ticks\": \"\"}, \"colorscale\": [[0.0, \"#0d0887\"], [0.1111111111111111, \"#46039f\"], [0.2222222222222222, \"#7201a8\"], [0.3333333333333333, \"#9c179e\"], [0.4444444444444444, \"#bd3786\"], [0.5555555555555556, \"#d8576b\"], [0.6666666666666666, \"#ed7953\"], [0.7777777777777778, \"#fb9f3a\"], [0.8888888888888888, \"#fdca26\"], [1.0, \"#f0f921\"]], \"type\": \"histogram2d\"}], \"histogram2dcontour\": [{\"colorbar\": {\"outlinewidth\": 0, \"ticks\": \"\"}, \"colorscale\": [[0.0, \"#0d0887\"], [0.1111111111111111, \"#46039f\"], [0.2222222222222222, \"#7201a8\"], [0.3333333333333333, \"#9c179e\"], [0.4444444444444444, \"#bd3786\"], [0.5555555555555556, \"#d8576b\"], [0.6666666666666666, \"#ed7953\"], [0.7777777777777778, \"#fb9f3a\"], [0.8888888888888888, \"#fdca26\"], [1.0, \"#f0f921\"]], \"type\": \"histogram2dcontour\"}], \"mesh3d\": [{\"colorbar\": {\"outlinewidth\": 0, \"ticks\": \"\"}, \"type\": \"mesh3d\"}], \"parcoords\": [{\"line\": {\"colorbar\": {\"outlinewidth\": 0, \"ticks\": \"\"}}, \"type\": \"parcoords\"}], \"scatter\": [{\"marker\": {\"colorbar\": {\"outlinewidth\": 0, \"ticks\": \"\"}}, \"type\": \"scatter\"}], \"scatter3d\": [{\"line\": {\"colorbar\": {\"outlinewidth\": 0, \"ticks\": \"\"}}, \"marker\": {\"colorbar\": {\"outlinewidth\": 0, \"ticks\": \"\"}}, \"type\": \"scatter3d\"}], \"scattercarpet\": [{\"marker\": {\"colorbar\": {\"outlinewidth\": 0, \"ticks\": \"\"}}, \"type\": \"scattercarpet\"}], \"scattergeo\": [{\"marker\": {\"colorbar\": {\"outlinewidth\": 0, \"ticks\": \"\"}}, \"type\": \"scattergeo\"}], \"scattergl\": [{\"marker\": {\"colorbar\": {\"outlinewidth\": 0, \"ticks\": \"\"}}, \"type\": \"scattergl\"}], \"scattermapbox\": [{\"marker\": {\"colorbar\": {\"outlinewidth\": 0, \"ticks\": \"\"}}, \"type\": \"scattermapbox\"}], \"scatterpolar\": [{\"marker\": {\"colorbar\": {\"outlinewidth\": 0, \"ticks\": \"\"}}, \"type\": \"scatterpolar\"}], \"scatterpolargl\": [{\"marker\": {\"colorbar\": {\"outlinewidth\": 0, \"ticks\": \"\"}}, \"type\": \"scatterpolargl\"}], \"scatterternary\": [{\"marker\": {\"colorbar\": {\"outlinewidth\": 0, \"ticks\": \"\"}}, \"type\": \"scatterternary\"}], \"surface\": [{\"colorbar\": {\"outlinewidth\": 0, \"ticks\": \"\"}, \"colorscale\": [[0.0, \"#0d0887\"], [0.1111111111111111, \"#46039f\"], [0.2222222222222222, \"#7201a8\"], [0.3333333333333333, \"#9c179e\"], [0.4444444444444444, \"#bd3786\"], [0.5555555555555556, \"#d8576b\"], [0.6666666666666666, \"#ed7953\"], [0.7777777777777778, \"#fb9f3a\"], [0.8888888888888888, \"#fdca26\"], [1.0, \"#f0f921\"]], \"type\": \"surface\"}], \"table\": [{\"cells\": {\"fill\": {\"color\": \"#EBF0F8\"}, \"line\": {\"color\": \"white\"}}, \"header\": {\"fill\": {\"color\": \"#C8D4E3\"}, \"line\": {\"color\": \"white\"}}, \"type\": \"table\"}]}, \"layout\": {\"annotationdefaults\": {\"arrowcolor\": \"#2a3f5f\", \"arrowhead\": 0, \"arrowwidth\": 1}, \"colorscale\": {\"diverging\": [[0, \"#8e0152\"], [0.1, \"#c51b7d\"], [0.2, \"#de77ae\"], [0.3, \"#f1b6da\"], [0.4, \"#fde0ef\"], [0.5, \"#f7f7f7\"], [0.6, \"#e6f5d0\"], [0.7, \"#b8e186\"], [0.8, \"#7fbc41\"], [0.9, \"#4d9221\"], [1, \"#276419\"]], \"sequential\": [[0.0, \"#0d0887\"], [0.1111111111111111, \"#46039f\"], [0.2222222222222222, \"#7201a8\"], [0.3333333333333333, \"#9c179e\"], [0.4444444444444444, \"#bd3786\"], [0.5555555555555556, \"#d8576b\"], [0.6666666666666666, \"#ed7953\"], [0.7777777777777778, \"#fb9f3a\"], [0.8888888888888888, \"#fdca26\"], [1.0, \"#f0f921\"]], \"sequentialminus\": [[0.0, \"#0d0887\"], [0.1111111111111111, \"#46039f\"], [0.2222222222222222, \"#7201a8\"], [0.3333333333333333, \"#9c179e\"], [0.4444444444444444, \"#bd3786\"], [0.5555555555555556, \"#d8576b\"], [0.6666666666666666, \"#ed7953\"], [0.7777777777777778, \"#fb9f3a\"], [0.8888888888888888, \"#fdca26\"], [1.0, \"#f0f921\"]]}, \"colorway\": [\"#636efa\", \"#EF553B\", \"#00cc96\", \"#ab63fa\", \"#FFA15A\", \"#19d3f3\", \"#FF6692\", \"#B6E880\", \"#FF97FF\", \"#FECB52\"], \"font\": {\"color\": \"#2a3f5f\"}, \"geo\": {\"bgcolor\": \"white\", \"lakecolor\": \"white\", \"landcolor\": \"#E5ECF6\", \"showlakes\": true, \"showland\": true, \"subunitcolor\": \"white\"}, \"hoverlabel\": {\"align\": \"left\"}, \"hovermode\": \"closest\", \"mapbox\": {\"style\": \"light\"}, \"paper_bgcolor\": \"white\", \"plot_bgcolor\": \"#E5ECF6\", \"polar\": {\"angularaxis\": {\"gridcolor\": \"white\", \"linecolor\": \"white\", \"ticks\": \"\"}, \"bgcolor\": \"#E5ECF6\", \"radialaxis\": {\"gridcolor\": \"white\", \"linecolor\": \"white\", \"ticks\": \"\"}}, \"scene\": {\"xaxis\": {\"backgroundcolor\": \"#E5ECF6\", \"gridcolor\": \"white\", \"gridwidth\": 2, \"linecolor\": \"white\", \"showbackground\": true, \"ticks\": \"\", \"zerolinecolor\": \"white\"}, \"yaxis\": {\"backgroundcolor\": \"#E5ECF6\", \"gridcolor\": \"white\", \"gridwidth\": 2, \"linecolor\": \"white\", \"showbackground\": true, \"ticks\": \"\", \"zerolinecolor\": \"white\"}, \"zaxis\": {\"backgroundcolor\": \"#E5ECF6\", \"gridcolor\": \"white\", \"gridwidth\": 2, \"linecolor\": \"white\", \"showbackground\": true, \"ticks\": \"\", \"zerolinecolor\": \"white\"}}, \"shapedefaults\": {\"line\": {\"color\": \"#2a3f5f\"}}, \"ternary\": {\"aaxis\": {\"gridcolor\": \"white\", \"linecolor\": \"white\", \"ticks\": \"\"}, \"baxis\": {\"gridcolor\": \"white\", \"linecolor\": \"white\", \"ticks\": \"\"}, \"bgcolor\": \"#E5ECF6\", \"caxis\": {\"gridcolor\": \"white\", \"linecolor\": \"white\", \"ticks\": \"\"}}, \"title\": {\"x\": 0.05}, \"xaxis\": {\"automargin\": true, \"gridcolor\": \"white\", \"linecolor\": \"white\", \"ticks\": \"\", \"zerolinecolor\": \"white\", \"zerolinewidth\": 2}, \"yaxis\": {\"automargin\": true, \"gridcolor\": \"white\", \"linecolor\": \"white\", \"ticks\": \"\", \"zerolinecolor\": \"white\", \"zerolinewidth\": 2}}}, \"title\": {\"text\": \"Shock scenarios (with lower bound)\", \"x\": 0.5, \"xanchor\": \"center\", \"y\": 0.9, \"yanchor\": \"top\"}, \"xaxis\": {\"title\": {\"text\": \"Expiry (in years)\"}}, \"yaxis\": {\"title\": {\"text\": \"Discount factor\"}}},\n",
       "                        {\"responsive\": true}\n",
       "                    ).then(function(){\n",
       "                            \n",
       "var gd = document.getElementById('b2202c0a-9288-4f89-901d-e2e06df4c1c8');\n",
       "var x = new MutationObserver(function (mutations, observer) {{\n",
       "        var display = window.getComputedStyle(gd).display;\n",
       "        if (!display || display === 'none') {{\n",
       "            console.log([gd, 'removed!']);\n",
       "            Plotly.purge(gd);\n",
       "            observer.disconnect();\n",
       "        }}\n",
       "}});\n",
       "\n",
       "// Listen for the removal of the full notebook cells\n",
       "var notebookContainer = gd.closest('#notebook-container');\n",
       "if (notebookContainer) {{\n",
       "    x.observe(notebookContainer, {childList: true});\n",
       "}}\n",
       "\n",
       "// Listen for the clearing of the current output cell\n",
       "var outputEl = gd.closest('.output');\n",
       "if (outputEl) {{\n",
       "    x.observe(outputEl, {childList: true});\n",
       "}}\n",
       "\n",
       "                        })\n",
       "                };\n",
       "                });\n",
       "            </script>\n",
       "        </div>"
      ]
     },
     "metadata": {},
     "output_type": "display_data"
    }
   ],
   "source": [
    "# Now, plot the discount factors instead of the interest rates for each scenario\n",
    "def plot_shocked_discount_factors(\n",
    "    refdate,\n",
    "    dates,\n",
    "    interestRates,\n",
    "    daycounter,\n",
    "    shockParams,\n",
    "    useLowerBound = True\n",
    "):\n",
    "    parallel = shockParams['Parallel']\n",
    "    short = shockParams['Short']\n",
    "    long = shockParams['Long']\n",
    "    \n",
    "    shockScenarios = ['Original', 'ParallelUp', 'ParallelDown', 'ShortUp', 'ShortDown', 'LongUp', 'LongDown', 'Flatten', 'Steepen']\n",
    "    \n",
    "    \n",
    "    fig = go.Figure()\n",
    "    \n",
    "    for shockScenario in shockScenarios:\n",
    "        df = getShockedDiscountFactors(\n",
    "            refdate,\n",
    "            dates,\n",
    "            interestRates,\n",
    "            daycounter,\n",
    "            shockScenario,\n",
    "            parallel,\n",
    "            short,\n",
    "            long,\n",
    "            useLowerBound\n",
    "        )\n",
    "        year_fractions = []\n",
    "        for i in range(len(dates)):\n",
    "            year_fractions.append(daycounter.yf(refdate, dates[i]))\n",
    "        \n",
    "        fig.add_trace(go.Scatter(x = year_fractions, y = df, name = shockScenario, mode = default_plotly_scatter_mode))\n",
    "     \n",
    "    if  useLowerBound:\n",
    "        title_figure = 'Shock scenarios (with lower bound)'\n",
    "    else :\n",
    "        title_figure = 'Shock scenarios (without lower bound)'\n",
    "    \n",
    "    fig.update_layout(\n",
    "        showlegend=True,\n",
    "        xaxis = dict(title_text = \"Expiry (in years)\"),\n",
    "        yaxis = dict(title_text = \"Discount factor\"),\n",
    "        title={\n",
    "            'text': title_figure,\n",
    "            'y':0.9,\n",
    "            'x':0.5,\n",
    "            'xanchor': 'center',\n",
    "            'yanchor': 'top'}\n",
    "    )\n",
    "\n",
    "    fig.show()\n",
    "\n",
    "\n",
    "interestRates = [0] * len(sampling_points_simple_example)\n",
    "\n",
    "plot_shocked_discount_factors(\n",
    "    refdate_scenarios,\n",
    "    sampling_points_simple_example,\n",
    "    interestRates,\n",
    "    analytics.DayCounter(default_daycounter_type),\n",
    "    shockparams_standard,\n",
    "    False\n",
    ")\n",
    "\n",
    "plot_shocked_discount_factors(\n",
    "    refdate_scenarios,\n",
    "    sampling_points_simple_example,\n",
    "    interestRates,\n",
    "    analytics.DayCounter(default_daycounter_type),\n",
    "    shockparams_standard,\n",
    "    True\n",
    ")"
   ]
  },
  {
   "cell_type": "markdown",
   "metadata": {},
   "source": [
    "#### Plot them again, using discount curves"
   ]
  },
  {
   "cell_type": "code",
   "execution_count": 12,
   "metadata": {
    "code_folding": [
     0,
     11
    ]
   },
   "outputs": [
    {
     "data": {
      "application/vnd.plotly.v1+json": {
       "config": {
        "plotlyServerURL": "https://plot.ly"
       },
       "data": [
        {
         "mode": "lines",
         "name": "Original",
         "type": "scatter",
         "x": [
          0.00273224043715847,
          0.08196721311475409,
          0.16393442622950818,
          0.2459016393442623,
          0.32786885245901637,
          0.4098360655737705,
          0.4918032786885246,
          0.5737704918032787,
          0.6557377049180327,
          0.7377049180327869,
          0.819672131147541,
          0.9016393442622951,
          1,
          2,
          3,
          4,
          5,
          6,
          7,
          8,
          9,
          10,
          11,
          12,
          13,
          14,
          15,
          16,
          17,
          18,
          19,
          20,
          21,
          22,
          23,
          24,
          25,
          26,
          27,
          28,
          29,
          30
         ],
         "y": [
          1,
          1,
          1,
          1,
          0.9999999999999999,
          1,
          1,
          1,
          1,
          1,
          1,
          0.9999999999999999,
          1,
          1,
          1,
          1,
          1,
          1,
          1,
          1,
          1,
          1,
          1,
          1,
          1,
          1,
          1,
          1,
          1,
          1,
          1,
          1,
          1,
          1,
          1,
          1,
          1,
          1,
          1,
          1,
          1,
          1
         ]
        },
        {
         "mode": "lines",
         "name": "ParallelUp",
         "type": "scatter",
         "x": [
          0.00273224043715847,
          0.08196721311475409,
          0.16393442622950818,
          0.2459016393442623,
          0.32786885245901637,
          0.4098360655737705,
          0.4918032786885246,
          0.5737704918032787,
          0.6557377049180327,
          0.7377049180327869,
          0.819672131147541,
          0.9016393442622951,
          1,
          2,
          3,
          4,
          5,
          6,
          7,
          8,
          9,
          10,
          11,
          12,
          13,
          14,
          15,
          16,
          17,
          18,
          19,
          20,
          21,
          22,
          23,
          24,
          25,
          26,
          27,
          28,
          29,
          30
         ],
         "y": [
          0.9999453566842572,
          0.998361998728535,
          0.9967266805052356,
          0.9950940409352649,
          0.9934640756309857,
          0.9918367802119474,
          0.9902121503048744,
          0.9885901815436551,
          0.986970869569329,
          0.9853542100300755,
          0.9837401985812029,
          0.9821288308851357,
          0.9801986733067553,
          0.9607894391523232,
          0.9417645335842487,
          0.9231163463866358,
          0.9048374180359595,
          0.8869204367171575,
          0.8693582353988059,
          0.8521437889662113,
          0.835270211411272,
          0.8187307530779818,
          0.8025187979624785,
          0.7866278610665535,
          0.7710515858035663,
          0.7557837414557255,
          0.7408182206817179,
          0.7261490370736909,
          0.7117703227626097,
          0.697676326071031,
          0.6838614092123558,
          0.6703200460356393,
          0.6570468198150567,
          0.6440364210831414,
          0.631283645506926,
          0.6187833918061408,
          0.6065306597126334,
          0.5945205479701944,
          0.5827482523739896,
          0.5712090638488149,
          0.559898366565402,
          0.5488116360940265
         ]
        },
        {
         "mode": "lines",
         "name": "ParallelDown",
         "type": "scatter",
         "x": [
          0.00273224043715847,
          0.08196721311475409,
          0.16393442622950818,
          0.2459016393442623,
          0.32786885245901637,
          0.4098360655737705,
          0.4918032786885246,
          0.5737704918032787,
          0.6557377049180327,
          0.7377049180327869,
          0.819672131147541,
          0.9016393442622951,
          1,
          2,
          3,
          4,
          5,
          6,
          7,
          8,
          9,
          10,
          11,
          12,
          13,
          14,
          15,
          16,
          17,
          18,
          19,
          20,
          21,
          22,
          23,
          24,
          25,
          26,
          27,
          28,
          29,
          30
         ],
         "y": [
          1.0000546463017979,
          1.001640688721677,
          1.0032840693028358,
          1.004930146159979,
          1.0065789237168572,
          1.0082304064044774,
          1.0098845986611171,
          1.0115415049323357,
          1.0132011296709866,
          1.0148634773372283,
          1.0165285523985375,
          1.0181963593297205,
          1.0202013400267558,
          1.0408107741923882,
          1.0618365465453596,
          1.0832870676749586,
          1.1051709180756477,
          1.1274968515793757,
          1.1502737988572274,
          1.1735108709918103,
          1.1972173631218102,
          1.2214027581601699,
          1.2460767305873808,
          1.2712491503214047,
          1.2969300866657718,
          1.3231298123374369,
          1.3498588075760032,
          1.3771277643359572,
          1.4049475905635938,
          1.4333294145603401,
          1.4622845894342245,
          1.4918246976412703,
          1.5219615556186337,
          1.552707218511336,
          1.5840739849944818,
          1.6160744021928934,
          1.6487212707001282,
          1.6820276496988864,
          1.7160068621848585,
          1.7506725002961012,
          1.7860384307500734,
          1.8221188003905089
         ]
        },
        {
         "mode": "lines",
         "name": "ShortUp",
         "type": "scatter",
         "x": [
          0.00273224043715847,
          0.08196721311475409,
          0.16393442622950818,
          0.2459016393442623,
          0.32786885245901637,
          0.4098360655737705,
          0.4918032786885246,
          0.5737704918032787,
          0.6557377049180327,
          0.7377049180327869,
          0.819672131147541,
          0.9016393442622951,
          1,
          2,
          3,
          4,
          5,
          6,
          7,
          8,
          9,
          10,
          11,
          12,
          13,
          14,
          15,
          16,
          17,
          18,
          19,
          20,
          21,
          22,
          23,
          24,
          25,
          26,
          27,
          28,
          29,
          30
         ],
         "y": [
          0.999931742959869,
          0.9979943976698827,
          0.9960739367875873,
          0.9942356774023237,
          0.9924767850335425,
          0.9907945262511237,
          0.9891862644764182,
          0.98764945599151,
          0.98618164614485,
          0.9847804657421718,
          0.9834436276122777,
          0.9821689233379417,
          0.9807182970975247,
          0.9701287028017056,
          0.9651927164117723,
          0.963880510211402,
          0.9648206019819131,
          0.9670843836244444,
          0.9700473055129278,
          0.9732959733712027,
          0.9765641612229916,
          0.9796878782229534,
          0.9825734676189337,
          0.9851748700609649,
          0.9874774503607464,
          0.989486572320526,
          0.9912196199784323,
          0.9927005160363352,
          0.993956039248888,
          0.9950134260050094,
          0.995898877445119,
          0.9966366951240765,
          0.9972488442248687,
          0.9977547999494695,
          0.998171574651992,
          0.9985138541041483,
          0.9987941937341636,
          0.9990232418636482,
          0.9992099684953186,
          0.999361886305308,
          0.9994852560942133,
          0.9995852727455219
         ]
        },
        {
         "mode": "lines",
         "name": "ShortDown",
         "type": "scatter",
         "x": [
          0.00273224043715847,
          0.08196721311475409,
          0.16393442622950818,
          0.2459016393442623,
          0.32786885245901637,
          0.4098360655737705,
          0.4918032786885246,
          0.5737704918032787,
          0.6557377049180327,
          0.7377049180327869,
          0.819672131147541,
          0.9016393442622951,
          1,
          2,
          3,
          4,
          5,
          6,
          7,
          8,
          9,
          10,
          11,
          12,
          13,
          14,
          15,
          16,
          17,
          18,
          19,
          20,
          21,
          22,
          23,
          24,
          25,
          26,
          27,
          28,
          29,
          30
         ],
         "y": [
          1.0000682616994727,
          1.002009632854453,
          1.0039415379395176,
          1.0057977426566878,
          1.0075802427622558,
          1.0092910018222518,
          1.0109319507477244,
          1.0125049874057706,
          1.0140119763018995,
          1.0154547483294747,
          1.016835100582145,
          1.0181547962253363,
          1.0196607965401892,
          1.0307910662905106,
          1.0360625220190516,
          1.0374729952581738,
          1.0364621132113288,
          1.034035929990095,
          1.03087756062704,
          1.0274366969137894,
          1.0239982580844036,
          1.0207332582433197,
          1.0177356024311301,
          1.0150482217823091,
          1.0126813525054965,
          1.0106251342601023,
          1.0088581580152325,
          1.0073531582242046,
          1.0060807123378206,
          1.0050115645323618,
          1.0041180110227677,
          1.0033746548690992,
          1.0027587455137836,
          1.0022502523171468,
          1.001831774611139,
          1.0014883578127065,
          1.0012072619899084,
          1.0009777131256021,
          1.0007906561479476,
          1.0006385211437783,
          1.0005150090035326,
          1.0004148993245359
         ]
        },
        {
         "mode": "lines",
         "name": "LongUp",
         "type": "scatter",
         "x": [
          0.00273224043715847,
          0.08196721311475409,
          0.16393442622950818,
          0.2459016393442623,
          0.32786885245901637,
          0.4098360655737705,
          0.4918032786885246,
          0.5737704918032787,
          0.6557377049180327,
          0.7377049180327869,
          0.819672131147541,
          0.9016393442622951,
          1,
          2,
          3,
          4,
          5,
          6,
          7,
          8,
          9,
          10,
          11,
          12,
          13,
          14,
          15,
          16,
          17,
          18,
          19,
          20,
          21,
          22,
          23,
          24,
          25,
          26,
          27,
          28,
          29,
          30
         ],
         "y": [
          0.9999999813435281,
          0.9999833745045219,
          0.9999341740764254,
          0.999853394524986,
          0.9997420075966816,
          0.9996009613642287,
          0.9994311806194809,
          0.9992335672694053,
          0.9990090007343913,
          0.9987583383482058,
          0.9984824157589478,
          0.9981820473303976,
          0.9977904524825434,
          0.9921614957565628,
          0.9842956168521726,
          0.9750321615208,
          0.9649540839665538,
          0.9544574736057718,
          0.9438048848679188,
          0.9331650630400038,
          0.9226419221148681,
          0.912295343170239,
          0.9021559004055814,
          0.892235157380541,
          0.8825327741812208,
          0.873041343484249,
          0.863749624941398,
          0.8546446608489557,
          0.8457131185650424,
          0.8369421049291952,
          0.8283196255308091,
          0.8198348097025557,
          0.8114779850269302,
          0.8032406588212043,
          0.7951154454906124,
          0.7870959656160513,
          0.7791767335817544,
          0.7713530443041312,
          0.7636208653711295,
          0.7559767380511271,
          0.7484176887590146,
          0.7409411513737865
         ]
        },
        {
         "mode": "lines",
         "name": "LongDown",
         "type": "scatter",
         "x": [
          0.00273224043715847,
          0.08196721311475409,
          0.16393442622950818,
          0.2459016393442623,
          0.32786885245901637,
          0.4098360655737705,
          0.4918032786885246,
          0.5737704918032787,
          0.6557377049180327,
          0.7377049180327869,
          0.819672131147541,
          0.9016393442622951,
          1,
          2,
          3,
          4,
          5,
          6,
          7,
          8,
          9,
          10,
          11,
          12,
          13,
          14,
          15,
          16,
          17,
          18,
          19,
          20,
          21,
          22,
          23,
          24,
          25,
          26,
          27,
          28,
          29,
          30
         ],
         "y": [
          1.000000018656472,
          1.0000166257718897,
          1.000065830256912,
          1.0001466269713308,
          1.000258058980575,
          1.0003991979311693,
          1.0005691431201562,
          1.0007670206002879,
          1.0009919823193587,
          1.0012432052921307,
          1.0015198908033836,
          1.0018212636407,
          1.0022144404288087,
          1.0079004318117184,
          1.015954945728653,
          1.0256071947824332,
          1.0363187395294353,
          1.0477156160998735,
          1.0595410301780175,
          1.0716217736894968,
          1.083844095993181,
          1.0961362539953192,
          1.108455866165073,
          1.120780762479523,
          1.1331023948971874,
          1.1454211274910162,
          1.1577429050320527,
          1.1700769288216888,
          1.1824340642802642,
          1.1948257760130248,
          1.2072634393506898,
          1.219757917284349,
          1.2323193215978785,
          1.2449568993028188,
          1.257679002051038,
          1.2704931084449291,
          1.2834058781544404,
          1.2964232233012583,
          1.3095503873037666,
          1.3227920247624994,
          1.3361522783596222,
          1.3496348504140847
         ]
        },
        {
         "mode": "lines",
         "name": "Flatten",
         "type": "scatter",
         "x": [
          0.00273224043715847,
          0.08196721311475409,
          0.16393442622950818,
          0.2459016393442623,
          0.32786885245901637,
          0.4098360655737705,
          0.4918032786885246,
          0.5737704918032787,
          0.6557377049180327,
          0.7377049180327869,
          0.819672131147541,
          0.9016393442622951,
          1,
          2,
          3,
          4,
          5,
          6,
          7,
          8,
          9,
          10,
          11,
          12,
          13,
          14,
          15,
          16,
          17,
          18,
          19,
          20,
          21,
          22,
          23,
          24,
          25,
          26,
          27,
          28,
          29,
          30
         ],
         "y": [
          0.9999454051884351,
          0.9984051555035621,
          0.9968972879007505,
          0.9954734452621461,
          0.9941307812983323,
          0.9928665508949218,
          0.9916781058732153,
          0.9905628909634625,
          0.9895184399785351,
          0.9885423721765748,
          0.9876323888019196,
          0.9867862697942609,
          0.9858522136399375,
          0.9806500662620914,
          0.981331858083953,
          0.9858417227277632,
          0.9927805626553932,
          1.0011924053674972,
          1.0104271298445684,
          1.020048587623614,
          1.0297711380171957,
          1.0394148393760747,
          1.0488733957330536,
          1.0580910990264527,
          1.0670462505796587,
          1.0757393067729522,
          1.0841844865881516,
          1.0924039147369784,
          1.1004236132351033,
          1.1082708297290917,
          1.1159723219925897,
          1.1235533168645702,
          1.131036936597623,
          1.1384439418855499,
          1.145792683049228,
          1.1530991822757657,
          1.1603772929885443,
          1.1676388993677438,
          1.1748941312890733,
          1.1821515786955228,
          1.1894184955760156,
          1.1967009879886892
         ]
        },
        {
         "mode": "lines",
         "name": "Steepen",
         "type": "scatter",
         "x": [
          0.00273224043715847,
          0.08196721311475409,
          0.16393442622950818,
          0.2459016393442623,
          0.32786885245901637,
          0.4098360655737705,
          0.4918032786885246,
          0.5737704918032787,
          0.6557377049180327,
          0.7377049180327869,
          0.819672131147541,
          0.9016393442622951,
          1,
          2,
          3,
          4,
          5,
          6,
          7,
          8,
          9,
          10,
          11,
          12,
          13,
          14,
          15,
          16,
          17,
          18,
          19,
          20,
          21,
          22,
          23,
          24,
          25,
          26,
          27,
          28,
          29,
          30
         ],
         "y": [
          1.0000443527830676,
          1.001290819879811,
          1.0025008403959998,
          1.0036322764626369,
          1.004687305194751,
          1.0056680654672592,
          1.0065766575578716,
          1.0074151428689069,
          1.0081855437231486,
          1.0088898432290685,
          1.009529985210929,
          1.010107874199468,
          1.010721790597484,
          1.0127098910480725,
          1.0088204392027884,
          1.0011564917797886,
          0.9912100897445734,
          0.9800067880719154,
          0.9682301560088172,
          0.9563204027255524,
          0.9445487051748717,
          0.9330714148210973,
          0.9219686699357196,
          0.911271394008861,
          0.9009798674651309,
          0.891076296523503,
          0.8815331656396932,
          0.872318663628655,
          0.8634001021110412,
          0.8547459736150367,
          0.8463271015663482,
          0.838117195567813,
          0.8300930273157199,
          0.8222343736548129,
          0.8145238251964109,
          0.8069465255384919,
          0.799489883096367,
          0.7921432817974271,
          0.7848978062317747,
          0.7777459897400417,
          0.7706815892715833,
          0.7636993878933096
         ]
        }
       ],
       "layout": {
        "showlegend": true,
        "template": {
         "data": {
          "bar": [
           {
            "error_x": {
             "color": "#2a3f5f"
            },
            "error_y": {
             "color": "#2a3f5f"
            },
            "marker": {
             "line": {
              "color": "#E5ECF6",
              "width": 0.5
             }
            },
            "type": "bar"
           }
          ],
          "barpolar": [
           {
            "marker": {
             "line": {
              "color": "#E5ECF6",
              "width": 0.5
             }
            },
            "type": "barpolar"
           }
          ],
          "carpet": [
           {
            "aaxis": {
             "endlinecolor": "#2a3f5f",
             "gridcolor": "white",
             "linecolor": "white",
             "minorgridcolor": "white",
             "startlinecolor": "#2a3f5f"
            },
            "baxis": {
             "endlinecolor": "#2a3f5f",
             "gridcolor": "white",
             "linecolor": "white",
             "minorgridcolor": "white",
             "startlinecolor": "#2a3f5f"
            },
            "type": "carpet"
           }
          ],
          "choropleth": [
           {
            "colorbar": {
             "outlinewidth": 0,
             "ticks": ""
            },
            "type": "choropleth"
           }
          ],
          "contour": [
           {
            "colorbar": {
             "outlinewidth": 0,
             "ticks": ""
            },
            "colorscale": [
             [
              0,
              "#0d0887"
             ],
             [
              0.1111111111111111,
              "#46039f"
             ],
             [
              0.2222222222222222,
              "#7201a8"
             ],
             [
              0.3333333333333333,
              "#9c179e"
             ],
             [
              0.4444444444444444,
              "#bd3786"
             ],
             [
              0.5555555555555556,
              "#d8576b"
             ],
             [
              0.6666666666666666,
              "#ed7953"
             ],
             [
              0.7777777777777778,
              "#fb9f3a"
             ],
             [
              0.8888888888888888,
              "#fdca26"
             ],
             [
              1,
              "#f0f921"
             ]
            ],
            "type": "contour"
           }
          ],
          "contourcarpet": [
           {
            "colorbar": {
             "outlinewidth": 0,
             "ticks": ""
            },
            "type": "contourcarpet"
           }
          ],
          "heatmap": [
           {
            "colorbar": {
             "outlinewidth": 0,
             "ticks": ""
            },
            "colorscale": [
             [
              0,
              "#0d0887"
             ],
             [
              0.1111111111111111,
              "#46039f"
             ],
             [
              0.2222222222222222,
              "#7201a8"
             ],
             [
              0.3333333333333333,
              "#9c179e"
             ],
             [
              0.4444444444444444,
              "#bd3786"
             ],
             [
              0.5555555555555556,
              "#d8576b"
             ],
             [
              0.6666666666666666,
              "#ed7953"
             ],
             [
              0.7777777777777778,
              "#fb9f3a"
             ],
             [
              0.8888888888888888,
              "#fdca26"
             ],
             [
              1,
              "#f0f921"
             ]
            ],
            "type": "heatmap"
           }
          ],
          "heatmapgl": [
           {
            "colorbar": {
             "outlinewidth": 0,
             "ticks": ""
            },
            "colorscale": [
             [
              0,
              "#0d0887"
             ],
             [
              0.1111111111111111,
              "#46039f"
             ],
             [
              0.2222222222222222,
              "#7201a8"
             ],
             [
              0.3333333333333333,
              "#9c179e"
             ],
             [
              0.4444444444444444,
              "#bd3786"
             ],
             [
              0.5555555555555556,
              "#d8576b"
             ],
             [
              0.6666666666666666,
              "#ed7953"
             ],
             [
              0.7777777777777778,
              "#fb9f3a"
             ],
             [
              0.8888888888888888,
              "#fdca26"
             ],
             [
              1,
              "#f0f921"
             ]
            ],
            "type": "heatmapgl"
           }
          ],
          "histogram": [
           {
            "marker": {
             "colorbar": {
              "outlinewidth": 0,
              "ticks": ""
             }
            },
            "type": "histogram"
           }
          ],
          "histogram2d": [
           {
            "colorbar": {
             "outlinewidth": 0,
             "ticks": ""
            },
            "colorscale": [
             [
              0,
              "#0d0887"
             ],
             [
              0.1111111111111111,
              "#46039f"
             ],
             [
              0.2222222222222222,
              "#7201a8"
             ],
             [
              0.3333333333333333,
              "#9c179e"
             ],
             [
              0.4444444444444444,
              "#bd3786"
             ],
             [
              0.5555555555555556,
              "#d8576b"
             ],
             [
              0.6666666666666666,
              "#ed7953"
             ],
             [
              0.7777777777777778,
              "#fb9f3a"
             ],
             [
              0.8888888888888888,
              "#fdca26"
             ],
             [
              1,
              "#f0f921"
             ]
            ],
            "type": "histogram2d"
           }
          ],
          "histogram2dcontour": [
           {
            "colorbar": {
             "outlinewidth": 0,
             "ticks": ""
            },
            "colorscale": [
             [
              0,
              "#0d0887"
             ],
             [
              0.1111111111111111,
              "#46039f"
             ],
             [
              0.2222222222222222,
              "#7201a8"
             ],
             [
              0.3333333333333333,
              "#9c179e"
             ],
             [
              0.4444444444444444,
              "#bd3786"
             ],
             [
              0.5555555555555556,
              "#d8576b"
             ],
             [
              0.6666666666666666,
              "#ed7953"
             ],
             [
              0.7777777777777778,
              "#fb9f3a"
             ],
             [
              0.8888888888888888,
              "#fdca26"
             ],
             [
              1,
              "#f0f921"
             ]
            ],
            "type": "histogram2dcontour"
           }
          ],
          "mesh3d": [
           {
            "colorbar": {
             "outlinewidth": 0,
             "ticks": ""
            },
            "type": "mesh3d"
           }
          ],
          "parcoords": [
           {
            "line": {
             "colorbar": {
              "outlinewidth": 0,
              "ticks": ""
             }
            },
            "type": "parcoords"
           }
          ],
          "scatter": [
           {
            "marker": {
             "colorbar": {
              "outlinewidth": 0,
              "ticks": ""
             }
            },
            "type": "scatter"
           }
          ],
          "scatter3d": [
           {
            "line": {
             "colorbar": {
              "outlinewidth": 0,
              "ticks": ""
             }
            },
            "marker": {
             "colorbar": {
              "outlinewidth": 0,
              "ticks": ""
             }
            },
            "type": "scatter3d"
           }
          ],
          "scattercarpet": [
           {
            "marker": {
             "colorbar": {
              "outlinewidth": 0,
              "ticks": ""
             }
            },
            "type": "scattercarpet"
           }
          ],
          "scattergeo": [
           {
            "marker": {
             "colorbar": {
              "outlinewidth": 0,
              "ticks": ""
             }
            },
            "type": "scattergeo"
           }
          ],
          "scattergl": [
           {
            "marker": {
             "colorbar": {
              "outlinewidth": 0,
              "ticks": ""
             }
            },
            "type": "scattergl"
           }
          ],
          "scattermapbox": [
           {
            "marker": {
             "colorbar": {
              "outlinewidth": 0,
              "ticks": ""
             }
            },
            "type": "scattermapbox"
           }
          ],
          "scatterpolar": [
           {
            "marker": {
             "colorbar": {
              "outlinewidth": 0,
              "ticks": ""
             }
            },
            "type": "scatterpolar"
           }
          ],
          "scatterpolargl": [
           {
            "marker": {
             "colorbar": {
              "outlinewidth": 0,
              "ticks": ""
             }
            },
            "type": "scatterpolargl"
           }
          ],
          "scatterternary": [
           {
            "marker": {
             "colorbar": {
              "outlinewidth": 0,
              "ticks": ""
             }
            },
            "type": "scatterternary"
           }
          ],
          "surface": [
           {
            "colorbar": {
             "outlinewidth": 0,
             "ticks": ""
            },
            "colorscale": [
             [
              0,
              "#0d0887"
             ],
             [
              0.1111111111111111,
              "#46039f"
             ],
             [
              0.2222222222222222,
              "#7201a8"
             ],
             [
              0.3333333333333333,
              "#9c179e"
             ],
             [
              0.4444444444444444,
              "#bd3786"
             ],
             [
              0.5555555555555556,
              "#d8576b"
             ],
             [
              0.6666666666666666,
              "#ed7953"
             ],
             [
              0.7777777777777778,
              "#fb9f3a"
             ],
             [
              0.8888888888888888,
              "#fdca26"
             ],
             [
              1,
              "#f0f921"
             ]
            ],
            "type": "surface"
           }
          ],
          "table": [
           {
            "cells": {
             "fill": {
              "color": "#EBF0F8"
             },
             "line": {
              "color": "white"
             }
            },
            "header": {
             "fill": {
              "color": "#C8D4E3"
             },
             "line": {
              "color": "white"
             }
            },
            "type": "table"
           }
          ]
         },
         "layout": {
          "annotationdefaults": {
           "arrowcolor": "#2a3f5f",
           "arrowhead": 0,
           "arrowwidth": 1
          },
          "colorscale": {
           "diverging": [
            [
             0,
             "#8e0152"
            ],
            [
             0.1,
             "#c51b7d"
            ],
            [
             0.2,
             "#de77ae"
            ],
            [
             0.3,
             "#f1b6da"
            ],
            [
             0.4,
             "#fde0ef"
            ],
            [
             0.5,
             "#f7f7f7"
            ],
            [
             0.6,
             "#e6f5d0"
            ],
            [
             0.7,
             "#b8e186"
            ],
            [
             0.8,
             "#7fbc41"
            ],
            [
             0.9,
             "#4d9221"
            ],
            [
             1,
             "#276419"
            ]
           ],
           "sequential": [
            [
             0,
             "#0d0887"
            ],
            [
             0.1111111111111111,
             "#46039f"
            ],
            [
             0.2222222222222222,
             "#7201a8"
            ],
            [
             0.3333333333333333,
             "#9c179e"
            ],
            [
             0.4444444444444444,
             "#bd3786"
            ],
            [
             0.5555555555555556,
             "#d8576b"
            ],
            [
             0.6666666666666666,
             "#ed7953"
            ],
            [
             0.7777777777777778,
             "#fb9f3a"
            ],
            [
             0.8888888888888888,
             "#fdca26"
            ],
            [
             1,
             "#f0f921"
            ]
           ],
           "sequentialminus": [
            [
             0,
             "#0d0887"
            ],
            [
             0.1111111111111111,
             "#46039f"
            ],
            [
             0.2222222222222222,
             "#7201a8"
            ],
            [
             0.3333333333333333,
             "#9c179e"
            ],
            [
             0.4444444444444444,
             "#bd3786"
            ],
            [
             0.5555555555555556,
             "#d8576b"
            ],
            [
             0.6666666666666666,
             "#ed7953"
            ],
            [
             0.7777777777777778,
             "#fb9f3a"
            ],
            [
             0.8888888888888888,
             "#fdca26"
            ],
            [
             1,
             "#f0f921"
            ]
           ]
          },
          "colorway": [
           "#636efa",
           "#EF553B",
           "#00cc96",
           "#ab63fa",
           "#FFA15A",
           "#19d3f3",
           "#FF6692",
           "#B6E880",
           "#FF97FF",
           "#FECB52"
          ],
          "font": {
           "color": "#2a3f5f"
          },
          "geo": {
           "bgcolor": "white",
           "lakecolor": "white",
           "landcolor": "#E5ECF6",
           "showlakes": true,
           "showland": true,
           "subunitcolor": "white"
          },
          "hoverlabel": {
           "align": "left"
          },
          "hovermode": "closest",
          "mapbox": {
           "style": "light"
          },
          "paper_bgcolor": "white",
          "plot_bgcolor": "#E5ECF6",
          "polar": {
           "angularaxis": {
            "gridcolor": "white",
            "linecolor": "white",
            "ticks": ""
           },
           "bgcolor": "#E5ECF6",
           "radialaxis": {
            "gridcolor": "white",
            "linecolor": "white",
            "ticks": ""
           }
          },
          "scene": {
           "xaxis": {
            "backgroundcolor": "#E5ECF6",
            "gridcolor": "white",
            "gridwidth": 2,
            "linecolor": "white",
            "showbackground": true,
            "ticks": "",
            "zerolinecolor": "white"
           },
           "yaxis": {
            "backgroundcolor": "#E5ECF6",
            "gridcolor": "white",
            "gridwidth": 2,
            "linecolor": "white",
            "showbackground": true,
            "ticks": "",
            "zerolinecolor": "white"
           },
           "zaxis": {
            "backgroundcolor": "#E5ECF6",
            "gridcolor": "white",
            "gridwidth": 2,
            "linecolor": "white",
            "showbackground": true,
            "ticks": "",
            "zerolinecolor": "white"
           }
          },
          "shapedefaults": {
           "line": {
            "color": "#2a3f5f"
           }
          },
          "ternary": {
           "aaxis": {
            "gridcolor": "white",
            "linecolor": "white",
            "ticks": ""
           },
           "baxis": {
            "gridcolor": "white",
            "linecolor": "white",
            "ticks": ""
           },
           "bgcolor": "#E5ECF6",
           "caxis": {
            "gridcolor": "white",
            "linecolor": "white",
            "ticks": ""
           }
          },
          "title": {
           "x": 0.05
          },
          "xaxis": {
           "automargin": true,
           "gridcolor": "white",
           "linecolor": "white",
           "ticks": "",
           "zerolinecolor": "white",
           "zerolinewidth": 2
          },
          "yaxis": {
           "automargin": true,
           "gridcolor": "white",
           "linecolor": "white",
           "ticks": "",
           "zerolinecolor": "white",
           "zerolinewidth": 2
          }
         }
        },
        "title": {
         "text": "Shock scenarios (without lower bound)",
         "x": 0.5,
         "xanchor": "center",
         "y": 0.9,
         "yanchor": "top"
        },
        "xaxis": {
         "title": {
          "text": "Expiry (in years)"
         }
        },
        "yaxis": {
         "title": {
          "text": "Discount factor"
         }
        }
       }
      },
      "text/html": [
       "<div>\n",
       "        \n",
       "        \n",
       "            <div id=\"17747ce9-b5c3-40da-b341-6bcb4242b28b\" class=\"plotly-graph-div\" style=\"height:525px; width:100%;\"></div>\n",
       "            <script type=\"text/javascript\">\n",
       "                require([\"plotly\"], function(Plotly) {\n",
       "                    window.PLOTLYENV=window.PLOTLYENV || {};\n",
       "                    \n",
       "                if (document.getElementById(\"17747ce9-b5c3-40da-b341-6bcb4242b28b\")) {\n",
       "                    Plotly.newPlot(\n",
       "                        '17747ce9-b5c3-40da-b341-6bcb4242b28b',\n",
       "                        [{\"mode\": \"lines\", \"name\": \"Original\", \"type\": \"scatter\", \"x\": [0.00273224043715847, 0.08196721311475409, 0.16393442622950818, 0.2459016393442623, 0.32786885245901637, 0.4098360655737705, 0.4918032786885246, 0.5737704918032787, 0.6557377049180327, 0.7377049180327869, 0.819672131147541, 0.9016393442622951, 1.0, 2.0, 3.0, 4.0, 5.0, 6.0, 7.0, 8.0, 9.0, 10.0, 11.0, 12.0, 13.0, 14.0, 15.0, 16.0, 17.0, 18.0, 19.0, 20.0, 21.0, 22.0, 23.0, 24.0, 25.0, 26.0, 27.0, 28.0, 29.0, 30.0], \"y\": [1.0, 1.0, 1.0, 1.0, 0.9999999999999999, 1.0, 1.0, 1.0, 1.0, 1.0, 1.0, 0.9999999999999999, 1.0, 1.0, 1.0, 1.0, 1.0, 1.0, 1.0, 1.0, 1.0, 1.0, 1.0, 1.0, 1.0, 1.0, 1.0, 1.0, 1.0, 1.0, 1.0, 1.0, 1.0, 1.0, 1.0, 1.0, 1.0, 1.0, 1.0, 1.0, 1.0, 1.0]}, {\"mode\": \"lines\", \"name\": \"ParallelUp\", \"type\": \"scatter\", \"x\": [0.00273224043715847, 0.08196721311475409, 0.16393442622950818, 0.2459016393442623, 0.32786885245901637, 0.4098360655737705, 0.4918032786885246, 0.5737704918032787, 0.6557377049180327, 0.7377049180327869, 0.819672131147541, 0.9016393442622951, 1.0, 2.0, 3.0, 4.0, 5.0, 6.0, 7.0, 8.0, 9.0, 10.0, 11.0, 12.0, 13.0, 14.0, 15.0, 16.0, 17.0, 18.0, 19.0, 20.0, 21.0, 22.0, 23.0, 24.0, 25.0, 26.0, 27.0, 28.0, 29.0, 30.0], \"y\": [0.9999453566842572, 0.998361998728535, 0.9967266805052356, 0.9950940409352649, 0.9934640756309857, 0.9918367802119474, 0.9902121503048744, 0.9885901815436551, 0.986970869569329, 0.9853542100300755, 0.9837401985812029, 0.9821288308851357, 0.9801986733067553, 0.9607894391523232, 0.9417645335842487, 0.9231163463866358, 0.9048374180359595, 0.8869204367171575, 0.8693582353988059, 0.8521437889662113, 0.835270211411272, 0.8187307530779818, 0.8025187979624785, 0.7866278610665535, 0.7710515858035663, 0.7557837414557255, 0.7408182206817179, 0.7261490370736909, 0.7117703227626097, 0.697676326071031, 0.6838614092123558, 0.6703200460356393, 0.6570468198150567, 0.6440364210831414, 0.631283645506926, 0.6187833918061408, 0.6065306597126334, 0.5945205479701944, 0.5827482523739896, 0.5712090638488149, 0.559898366565402, 0.5488116360940265]}, {\"mode\": \"lines\", \"name\": \"ParallelDown\", \"type\": \"scatter\", \"x\": [0.00273224043715847, 0.08196721311475409, 0.16393442622950818, 0.2459016393442623, 0.32786885245901637, 0.4098360655737705, 0.4918032786885246, 0.5737704918032787, 0.6557377049180327, 0.7377049180327869, 0.819672131147541, 0.9016393442622951, 1.0, 2.0, 3.0, 4.0, 5.0, 6.0, 7.0, 8.0, 9.0, 10.0, 11.0, 12.0, 13.0, 14.0, 15.0, 16.0, 17.0, 18.0, 19.0, 20.0, 21.0, 22.0, 23.0, 24.0, 25.0, 26.0, 27.0, 28.0, 29.0, 30.0], \"y\": [1.0000546463017979, 1.001640688721677, 1.0032840693028358, 1.004930146159979, 1.0065789237168572, 1.0082304064044774, 1.0098845986611171, 1.0115415049323357, 1.0132011296709866, 1.0148634773372283, 1.0165285523985375, 1.0181963593297205, 1.0202013400267558, 1.0408107741923882, 1.0618365465453596, 1.0832870676749586, 1.1051709180756477, 1.1274968515793757, 1.1502737988572274, 1.1735108709918103, 1.1972173631218102, 1.2214027581601699, 1.2460767305873808, 1.2712491503214047, 1.2969300866657718, 1.3231298123374369, 1.3498588075760032, 1.3771277643359572, 1.4049475905635938, 1.4333294145603401, 1.4622845894342245, 1.4918246976412703, 1.5219615556186337, 1.552707218511336, 1.5840739849944818, 1.6160744021928934, 1.6487212707001282, 1.6820276496988864, 1.7160068621848585, 1.7506725002961012, 1.7860384307500734, 1.8221188003905089]}, {\"mode\": \"lines\", \"name\": \"ShortUp\", \"type\": \"scatter\", \"x\": [0.00273224043715847, 0.08196721311475409, 0.16393442622950818, 0.2459016393442623, 0.32786885245901637, 0.4098360655737705, 0.4918032786885246, 0.5737704918032787, 0.6557377049180327, 0.7377049180327869, 0.819672131147541, 0.9016393442622951, 1.0, 2.0, 3.0, 4.0, 5.0, 6.0, 7.0, 8.0, 9.0, 10.0, 11.0, 12.0, 13.0, 14.0, 15.0, 16.0, 17.0, 18.0, 19.0, 20.0, 21.0, 22.0, 23.0, 24.0, 25.0, 26.0, 27.0, 28.0, 29.0, 30.0], \"y\": [0.999931742959869, 0.9979943976698827, 0.9960739367875873, 0.9942356774023237, 0.9924767850335425, 0.9907945262511237, 0.9891862644764182, 0.98764945599151, 0.98618164614485, 0.9847804657421718, 0.9834436276122777, 0.9821689233379417, 0.9807182970975247, 0.9701287028017056, 0.9651927164117723, 0.963880510211402, 0.9648206019819131, 0.9670843836244444, 0.9700473055129278, 0.9732959733712027, 0.9765641612229916, 0.9796878782229534, 0.9825734676189337, 0.9851748700609649, 0.9874774503607464, 0.989486572320526, 0.9912196199784323, 0.9927005160363352, 0.993956039248888, 0.9950134260050094, 0.995898877445119, 0.9966366951240765, 0.9972488442248687, 0.9977547999494695, 0.998171574651992, 0.9985138541041483, 0.9987941937341636, 0.9990232418636482, 0.9992099684953186, 0.999361886305308, 0.9994852560942133, 0.9995852727455219]}, {\"mode\": \"lines\", \"name\": \"ShortDown\", \"type\": \"scatter\", \"x\": [0.00273224043715847, 0.08196721311475409, 0.16393442622950818, 0.2459016393442623, 0.32786885245901637, 0.4098360655737705, 0.4918032786885246, 0.5737704918032787, 0.6557377049180327, 0.7377049180327869, 0.819672131147541, 0.9016393442622951, 1.0, 2.0, 3.0, 4.0, 5.0, 6.0, 7.0, 8.0, 9.0, 10.0, 11.0, 12.0, 13.0, 14.0, 15.0, 16.0, 17.0, 18.0, 19.0, 20.0, 21.0, 22.0, 23.0, 24.0, 25.0, 26.0, 27.0, 28.0, 29.0, 30.0], \"y\": [1.0000682616994727, 1.002009632854453, 1.0039415379395176, 1.0057977426566878, 1.0075802427622558, 1.0092910018222518, 1.0109319507477244, 1.0125049874057706, 1.0140119763018995, 1.0154547483294747, 1.016835100582145, 1.0181547962253363, 1.0196607965401892, 1.0307910662905106, 1.0360625220190516, 1.0374729952581738, 1.0364621132113288, 1.034035929990095, 1.03087756062704, 1.0274366969137894, 1.0239982580844036, 1.0207332582433197, 1.0177356024311301, 1.0150482217823091, 1.0126813525054965, 1.0106251342601023, 1.0088581580152325, 1.0073531582242046, 1.0060807123378206, 1.0050115645323618, 1.0041180110227677, 1.0033746548690992, 1.0027587455137836, 1.0022502523171468, 1.001831774611139, 1.0014883578127065, 1.0012072619899084, 1.0009777131256021, 1.0007906561479476, 1.0006385211437783, 1.0005150090035326, 1.0004148993245359]}, {\"mode\": \"lines\", \"name\": \"LongUp\", \"type\": \"scatter\", \"x\": [0.00273224043715847, 0.08196721311475409, 0.16393442622950818, 0.2459016393442623, 0.32786885245901637, 0.4098360655737705, 0.4918032786885246, 0.5737704918032787, 0.6557377049180327, 0.7377049180327869, 0.819672131147541, 0.9016393442622951, 1.0, 2.0, 3.0, 4.0, 5.0, 6.0, 7.0, 8.0, 9.0, 10.0, 11.0, 12.0, 13.0, 14.0, 15.0, 16.0, 17.0, 18.0, 19.0, 20.0, 21.0, 22.0, 23.0, 24.0, 25.0, 26.0, 27.0, 28.0, 29.0, 30.0], \"y\": [0.9999999813435281, 0.9999833745045219, 0.9999341740764254, 0.999853394524986, 0.9997420075966816, 0.9996009613642287, 0.9994311806194809, 0.9992335672694053, 0.9990090007343913, 0.9987583383482058, 0.9984824157589478, 0.9981820473303976, 0.9977904524825434, 0.9921614957565628, 0.9842956168521726, 0.9750321615208, 0.9649540839665538, 0.9544574736057718, 0.9438048848679188, 0.9331650630400038, 0.9226419221148681, 0.912295343170239, 0.9021559004055814, 0.892235157380541, 0.8825327741812208, 0.873041343484249, 0.863749624941398, 0.8546446608489557, 0.8457131185650424, 0.8369421049291952, 0.8283196255308091, 0.8198348097025557, 0.8114779850269302, 0.8032406588212043, 0.7951154454906124, 0.7870959656160513, 0.7791767335817544, 0.7713530443041312, 0.7636208653711295, 0.7559767380511271, 0.7484176887590146, 0.7409411513737865]}, {\"mode\": \"lines\", \"name\": \"LongDown\", \"type\": \"scatter\", \"x\": [0.00273224043715847, 0.08196721311475409, 0.16393442622950818, 0.2459016393442623, 0.32786885245901637, 0.4098360655737705, 0.4918032786885246, 0.5737704918032787, 0.6557377049180327, 0.7377049180327869, 0.819672131147541, 0.9016393442622951, 1.0, 2.0, 3.0, 4.0, 5.0, 6.0, 7.0, 8.0, 9.0, 10.0, 11.0, 12.0, 13.0, 14.0, 15.0, 16.0, 17.0, 18.0, 19.0, 20.0, 21.0, 22.0, 23.0, 24.0, 25.0, 26.0, 27.0, 28.0, 29.0, 30.0], \"y\": [1.000000018656472, 1.0000166257718897, 1.000065830256912, 1.0001466269713308, 1.000258058980575, 1.0003991979311693, 1.0005691431201562, 1.0007670206002879, 1.0009919823193587, 1.0012432052921307, 1.0015198908033836, 1.0018212636407, 1.0022144404288087, 1.0079004318117184, 1.015954945728653, 1.0256071947824332, 1.0363187395294353, 1.0477156160998735, 1.0595410301780175, 1.0716217736894968, 1.083844095993181, 1.0961362539953192, 1.108455866165073, 1.120780762479523, 1.1331023948971874, 1.1454211274910162, 1.1577429050320527, 1.1700769288216888, 1.1824340642802642, 1.1948257760130248, 1.2072634393506898, 1.219757917284349, 1.2323193215978785, 1.2449568993028188, 1.257679002051038, 1.2704931084449291, 1.2834058781544404, 1.2964232233012583, 1.3095503873037666, 1.3227920247624994, 1.3361522783596222, 1.3496348504140847]}, {\"mode\": \"lines\", \"name\": \"Flatten\", \"type\": \"scatter\", \"x\": [0.00273224043715847, 0.08196721311475409, 0.16393442622950818, 0.2459016393442623, 0.32786885245901637, 0.4098360655737705, 0.4918032786885246, 0.5737704918032787, 0.6557377049180327, 0.7377049180327869, 0.819672131147541, 0.9016393442622951, 1.0, 2.0, 3.0, 4.0, 5.0, 6.0, 7.0, 8.0, 9.0, 10.0, 11.0, 12.0, 13.0, 14.0, 15.0, 16.0, 17.0, 18.0, 19.0, 20.0, 21.0, 22.0, 23.0, 24.0, 25.0, 26.0, 27.0, 28.0, 29.0, 30.0], \"y\": [0.9999454051884351, 0.9984051555035621, 0.9968972879007505, 0.9954734452621461, 0.9941307812983323, 0.9928665508949218, 0.9916781058732153, 0.9905628909634625, 0.9895184399785351, 0.9885423721765748, 0.9876323888019196, 0.9867862697942609, 0.9858522136399375, 0.9806500662620914, 0.981331858083953, 0.9858417227277632, 0.9927805626553932, 1.0011924053674972, 1.0104271298445684, 1.020048587623614, 1.0297711380171957, 1.0394148393760747, 1.0488733957330536, 1.0580910990264527, 1.0670462505796587, 1.0757393067729522, 1.0841844865881516, 1.0924039147369784, 1.1004236132351033, 1.1082708297290917, 1.1159723219925897, 1.1235533168645702, 1.131036936597623, 1.1384439418855499, 1.145792683049228, 1.1530991822757657, 1.1603772929885443, 1.1676388993677438, 1.1748941312890733, 1.1821515786955228, 1.1894184955760156, 1.1967009879886892]}, {\"mode\": \"lines\", \"name\": \"Steepen\", \"type\": \"scatter\", \"x\": [0.00273224043715847, 0.08196721311475409, 0.16393442622950818, 0.2459016393442623, 0.32786885245901637, 0.4098360655737705, 0.4918032786885246, 0.5737704918032787, 0.6557377049180327, 0.7377049180327869, 0.819672131147541, 0.9016393442622951, 1.0, 2.0, 3.0, 4.0, 5.0, 6.0, 7.0, 8.0, 9.0, 10.0, 11.0, 12.0, 13.0, 14.0, 15.0, 16.0, 17.0, 18.0, 19.0, 20.0, 21.0, 22.0, 23.0, 24.0, 25.0, 26.0, 27.0, 28.0, 29.0, 30.0], \"y\": [1.0000443527830676, 1.001290819879811, 1.0025008403959998, 1.0036322764626369, 1.004687305194751, 1.0056680654672592, 1.0065766575578716, 1.0074151428689069, 1.0081855437231486, 1.0088898432290685, 1.009529985210929, 1.010107874199468, 1.010721790597484, 1.0127098910480725, 1.0088204392027884, 1.0011564917797886, 0.9912100897445734, 0.9800067880719154, 0.9682301560088172, 0.9563204027255524, 0.9445487051748717, 0.9330714148210973, 0.9219686699357196, 0.911271394008861, 0.9009798674651309, 0.891076296523503, 0.8815331656396932, 0.872318663628655, 0.8634001021110412, 0.8547459736150367, 0.8463271015663482, 0.838117195567813, 0.8300930273157199, 0.8222343736548129, 0.8145238251964109, 0.8069465255384919, 0.799489883096367, 0.7921432817974271, 0.7848978062317747, 0.7777459897400417, 0.7706815892715833, 0.7636993878933096]}],\n",
       "                        {\"showlegend\": true, \"template\": {\"data\": {\"bar\": [{\"error_x\": {\"color\": \"#2a3f5f\"}, \"error_y\": {\"color\": \"#2a3f5f\"}, \"marker\": {\"line\": {\"color\": \"#E5ECF6\", \"width\": 0.5}}, \"type\": \"bar\"}], \"barpolar\": [{\"marker\": {\"line\": {\"color\": \"#E5ECF6\", \"width\": 0.5}}, \"type\": \"barpolar\"}], \"carpet\": [{\"aaxis\": {\"endlinecolor\": \"#2a3f5f\", \"gridcolor\": \"white\", \"linecolor\": \"white\", \"minorgridcolor\": \"white\", \"startlinecolor\": \"#2a3f5f\"}, \"baxis\": {\"endlinecolor\": \"#2a3f5f\", \"gridcolor\": \"white\", \"linecolor\": \"white\", \"minorgridcolor\": \"white\", \"startlinecolor\": \"#2a3f5f\"}, \"type\": \"carpet\"}], \"choropleth\": [{\"colorbar\": {\"outlinewidth\": 0, \"ticks\": \"\"}, \"type\": \"choropleth\"}], \"contour\": [{\"colorbar\": {\"outlinewidth\": 0, \"ticks\": \"\"}, \"colorscale\": [[0.0, \"#0d0887\"], [0.1111111111111111, \"#46039f\"], [0.2222222222222222, \"#7201a8\"], [0.3333333333333333, \"#9c179e\"], [0.4444444444444444, \"#bd3786\"], [0.5555555555555556, \"#d8576b\"], [0.6666666666666666, \"#ed7953\"], [0.7777777777777778, \"#fb9f3a\"], [0.8888888888888888, \"#fdca26\"], [1.0, \"#f0f921\"]], \"type\": \"contour\"}], \"contourcarpet\": [{\"colorbar\": {\"outlinewidth\": 0, \"ticks\": \"\"}, \"type\": \"contourcarpet\"}], \"heatmap\": [{\"colorbar\": {\"outlinewidth\": 0, \"ticks\": \"\"}, \"colorscale\": [[0.0, \"#0d0887\"], [0.1111111111111111, \"#46039f\"], [0.2222222222222222, \"#7201a8\"], [0.3333333333333333, \"#9c179e\"], [0.4444444444444444, \"#bd3786\"], [0.5555555555555556, \"#d8576b\"], [0.6666666666666666, \"#ed7953\"], [0.7777777777777778, \"#fb9f3a\"], [0.8888888888888888, \"#fdca26\"], [1.0, \"#f0f921\"]], \"type\": \"heatmap\"}], \"heatmapgl\": [{\"colorbar\": {\"outlinewidth\": 0, \"ticks\": \"\"}, \"colorscale\": [[0.0, \"#0d0887\"], [0.1111111111111111, \"#46039f\"], [0.2222222222222222, \"#7201a8\"], [0.3333333333333333, \"#9c179e\"], [0.4444444444444444, \"#bd3786\"], [0.5555555555555556, \"#d8576b\"], [0.6666666666666666, \"#ed7953\"], [0.7777777777777778, \"#fb9f3a\"], [0.8888888888888888, \"#fdca26\"], [1.0, \"#f0f921\"]], \"type\": \"heatmapgl\"}], \"histogram\": [{\"marker\": {\"colorbar\": {\"outlinewidth\": 0, \"ticks\": \"\"}}, \"type\": \"histogram\"}], \"histogram2d\": [{\"colorbar\": {\"outlinewidth\": 0, \"ticks\": \"\"}, \"colorscale\": [[0.0, \"#0d0887\"], [0.1111111111111111, \"#46039f\"], [0.2222222222222222, \"#7201a8\"], [0.3333333333333333, \"#9c179e\"], [0.4444444444444444, \"#bd3786\"], [0.5555555555555556, \"#d8576b\"], [0.6666666666666666, \"#ed7953\"], [0.7777777777777778, \"#fb9f3a\"], [0.8888888888888888, \"#fdca26\"], [1.0, \"#f0f921\"]], \"type\": \"histogram2d\"}], \"histogram2dcontour\": [{\"colorbar\": {\"outlinewidth\": 0, \"ticks\": \"\"}, \"colorscale\": [[0.0, \"#0d0887\"], [0.1111111111111111, \"#46039f\"], [0.2222222222222222, \"#7201a8\"], [0.3333333333333333, \"#9c179e\"], [0.4444444444444444, \"#bd3786\"], [0.5555555555555556, \"#d8576b\"], [0.6666666666666666, \"#ed7953\"], [0.7777777777777778, \"#fb9f3a\"], [0.8888888888888888, \"#fdca26\"], [1.0, \"#f0f921\"]], \"type\": \"histogram2dcontour\"}], \"mesh3d\": [{\"colorbar\": {\"outlinewidth\": 0, \"ticks\": \"\"}, \"type\": \"mesh3d\"}], \"parcoords\": [{\"line\": {\"colorbar\": {\"outlinewidth\": 0, \"ticks\": \"\"}}, \"type\": \"parcoords\"}], \"scatter\": [{\"marker\": {\"colorbar\": {\"outlinewidth\": 0, \"ticks\": \"\"}}, \"type\": \"scatter\"}], \"scatter3d\": [{\"line\": {\"colorbar\": {\"outlinewidth\": 0, \"ticks\": \"\"}}, \"marker\": {\"colorbar\": {\"outlinewidth\": 0, \"ticks\": \"\"}}, \"type\": \"scatter3d\"}], \"scattercarpet\": [{\"marker\": {\"colorbar\": {\"outlinewidth\": 0, \"ticks\": \"\"}}, \"type\": \"scattercarpet\"}], \"scattergeo\": [{\"marker\": {\"colorbar\": {\"outlinewidth\": 0, \"ticks\": \"\"}}, \"type\": \"scattergeo\"}], \"scattergl\": [{\"marker\": {\"colorbar\": {\"outlinewidth\": 0, \"ticks\": \"\"}}, \"type\": \"scattergl\"}], \"scattermapbox\": [{\"marker\": {\"colorbar\": {\"outlinewidth\": 0, \"ticks\": \"\"}}, \"type\": \"scattermapbox\"}], \"scatterpolar\": [{\"marker\": {\"colorbar\": {\"outlinewidth\": 0, \"ticks\": \"\"}}, \"type\": \"scatterpolar\"}], \"scatterpolargl\": [{\"marker\": {\"colorbar\": {\"outlinewidth\": 0, \"ticks\": \"\"}}, \"type\": \"scatterpolargl\"}], \"scatterternary\": [{\"marker\": {\"colorbar\": {\"outlinewidth\": 0, \"ticks\": \"\"}}, \"type\": \"scatterternary\"}], \"surface\": [{\"colorbar\": {\"outlinewidth\": 0, \"ticks\": \"\"}, \"colorscale\": [[0.0, \"#0d0887\"], [0.1111111111111111, \"#46039f\"], [0.2222222222222222, \"#7201a8\"], [0.3333333333333333, \"#9c179e\"], [0.4444444444444444, \"#bd3786\"], [0.5555555555555556, \"#d8576b\"], [0.6666666666666666, \"#ed7953\"], [0.7777777777777778, \"#fb9f3a\"], [0.8888888888888888, \"#fdca26\"], [1.0, \"#f0f921\"]], \"type\": \"surface\"}], \"table\": [{\"cells\": {\"fill\": {\"color\": \"#EBF0F8\"}, \"line\": {\"color\": \"white\"}}, \"header\": {\"fill\": {\"color\": \"#C8D4E3\"}, \"line\": {\"color\": \"white\"}}, \"type\": \"table\"}]}, \"layout\": {\"annotationdefaults\": {\"arrowcolor\": \"#2a3f5f\", \"arrowhead\": 0, \"arrowwidth\": 1}, \"colorscale\": {\"diverging\": [[0, \"#8e0152\"], [0.1, \"#c51b7d\"], [0.2, \"#de77ae\"], [0.3, \"#f1b6da\"], [0.4, \"#fde0ef\"], [0.5, \"#f7f7f7\"], [0.6, \"#e6f5d0\"], [0.7, \"#b8e186\"], [0.8, \"#7fbc41\"], [0.9, \"#4d9221\"], [1, \"#276419\"]], \"sequential\": [[0.0, \"#0d0887\"], [0.1111111111111111, \"#46039f\"], [0.2222222222222222, \"#7201a8\"], [0.3333333333333333, \"#9c179e\"], [0.4444444444444444, \"#bd3786\"], [0.5555555555555556, \"#d8576b\"], [0.6666666666666666, \"#ed7953\"], [0.7777777777777778, \"#fb9f3a\"], [0.8888888888888888, \"#fdca26\"], [1.0, \"#f0f921\"]], \"sequentialminus\": [[0.0, \"#0d0887\"], [0.1111111111111111, \"#46039f\"], [0.2222222222222222, \"#7201a8\"], [0.3333333333333333, \"#9c179e\"], [0.4444444444444444, \"#bd3786\"], [0.5555555555555556, \"#d8576b\"], [0.6666666666666666, \"#ed7953\"], [0.7777777777777778, \"#fb9f3a\"], [0.8888888888888888, \"#fdca26\"], [1.0, \"#f0f921\"]]}, \"colorway\": [\"#636efa\", \"#EF553B\", \"#00cc96\", \"#ab63fa\", \"#FFA15A\", \"#19d3f3\", \"#FF6692\", \"#B6E880\", \"#FF97FF\", \"#FECB52\"], \"font\": {\"color\": \"#2a3f5f\"}, \"geo\": {\"bgcolor\": \"white\", \"lakecolor\": \"white\", \"landcolor\": \"#E5ECF6\", \"showlakes\": true, \"showland\": true, \"subunitcolor\": \"white\"}, \"hoverlabel\": {\"align\": \"left\"}, \"hovermode\": \"closest\", \"mapbox\": {\"style\": \"light\"}, \"paper_bgcolor\": \"white\", \"plot_bgcolor\": \"#E5ECF6\", \"polar\": {\"angularaxis\": {\"gridcolor\": \"white\", \"linecolor\": \"white\", \"ticks\": \"\"}, \"bgcolor\": \"#E5ECF6\", \"radialaxis\": {\"gridcolor\": \"white\", \"linecolor\": \"white\", \"ticks\": \"\"}}, \"scene\": {\"xaxis\": {\"backgroundcolor\": \"#E5ECF6\", \"gridcolor\": \"white\", \"gridwidth\": 2, \"linecolor\": \"white\", \"showbackground\": true, \"ticks\": \"\", \"zerolinecolor\": \"white\"}, \"yaxis\": {\"backgroundcolor\": \"#E5ECF6\", \"gridcolor\": \"white\", \"gridwidth\": 2, \"linecolor\": \"white\", \"showbackground\": true, \"ticks\": \"\", \"zerolinecolor\": \"white\"}, \"zaxis\": {\"backgroundcolor\": \"#E5ECF6\", \"gridcolor\": \"white\", \"gridwidth\": 2, \"linecolor\": \"white\", \"showbackground\": true, \"ticks\": \"\", \"zerolinecolor\": \"white\"}}, \"shapedefaults\": {\"line\": {\"color\": \"#2a3f5f\"}}, \"ternary\": {\"aaxis\": {\"gridcolor\": \"white\", \"linecolor\": \"white\", \"ticks\": \"\"}, \"baxis\": {\"gridcolor\": \"white\", \"linecolor\": \"white\", \"ticks\": \"\"}, \"bgcolor\": \"#E5ECF6\", \"caxis\": {\"gridcolor\": \"white\", \"linecolor\": \"white\", \"ticks\": \"\"}}, \"title\": {\"x\": 0.05}, \"xaxis\": {\"automargin\": true, \"gridcolor\": \"white\", \"linecolor\": \"white\", \"ticks\": \"\", \"zerolinecolor\": \"white\", \"zerolinewidth\": 2}, \"yaxis\": {\"automargin\": true, \"gridcolor\": \"white\", \"linecolor\": \"white\", \"ticks\": \"\", \"zerolinecolor\": \"white\", \"zerolinewidth\": 2}}}, \"title\": {\"text\": \"Shock scenarios (without lower bound)\", \"x\": 0.5, \"xanchor\": \"center\", \"y\": 0.9, \"yanchor\": \"top\"}, \"xaxis\": {\"title\": {\"text\": \"Expiry (in years)\"}}, \"yaxis\": {\"title\": {\"text\": \"Discount factor\"}}},\n",
       "                        {\"responsive\": true}\n",
       "                    ).then(function(){\n",
       "                            \n",
       "var gd = document.getElementById('17747ce9-b5c3-40da-b341-6bcb4242b28b');\n",
       "var x = new MutationObserver(function (mutations, observer) {{\n",
       "        var display = window.getComputedStyle(gd).display;\n",
       "        if (!display || display === 'none') {{\n",
       "            console.log([gd, 'removed!']);\n",
       "            Plotly.purge(gd);\n",
       "            observer.disconnect();\n",
       "        }}\n",
       "}});\n",
       "\n",
       "// Listen for the removal of the full notebook cells\n",
       "var notebookContainer = gd.closest('#notebook-container');\n",
       "if (notebookContainer) {{\n",
       "    x.observe(notebookContainer, {childList: true});\n",
       "}}\n",
       "\n",
       "// Listen for the clearing of the current output cell\n",
       "var outputEl = gd.closest('.output');\n",
       "if (outputEl) {{\n",
       "    x.observe(outputEl, {childList: true});\n",
       "}}\n",
       "\n",
       "                        })\n",
       "                };\n",
       "                });\n",
       "            </script>\n",
       "        </div>"
      ]
     },
     "metadata": {},
     "output_type": "display_data"
    },
    {
     "data": {
      "application/vnd.plotly.v1+json": {
       "config": {
        "plotlyServerURL": "https://plot.ly"
       },
       "data": [
        {
         "mode": "lines",
         "name": "Original",
         "type": "scatter",
         "x": [
          0.00273224043715847,
          0.08196721311475409,
          0.16393442622950818,
          0.2459016393442623,
          0.32786885245901637,
          0.4098360655737705,
          0.4918032786885246,
          0.5737704918032787,
          0.6557377049180327,
          0.7377049180327869,
          0.819672131147541,
          0.9016393442622951,
          1,
          2,
          3,
          4,
          5,
          6,
          7,
          8,
          9,
          10,
          11,
          12,
          13,
          14,
          15,
          16,
          17,
          18,
          19,
          20,
          21,
          22,
          23,
          24,
          25,
          26,
          27,
          28,
          29,
          30
         ],
         "y": [
          1,
          1,
          1,
          1,
          0.9999999999999999,
          1,
          1,
          1,
          1,
          1,
          1,
          0.9999999999999999,
          1,
          1,
          1,
          1,
          1,
          1,
          1,
          1,
          1,
          1,
          1,
          1,
          1,
          1,
          1,
          1,
          1,
          1,
          1,
          1,
          1,
          1,
          1,
          1,
          1,
          1,
          1,
          1,
          1,
          1
         ]
        },
        {
         "mode": "lines",
         "name": "ParallelUp",
         "type": "scatter",
         "x": [
          0.00273224043715847,
          0.08196721311475409,
          0.16393442622950818,
          0.2459016393442623,
          0.32786885245901637,
          0.4098360655737705,
          0.4918032786885246,
          0.5737704918032787,
          0.6557377049180327,
          0.7377049180327869,
          0.819672131147541,
          0.9016393442622951,
          1,
          2,
          3,
          4,
          5,
          6,
          7,
          8,
          9,
          10,
          11,
          12,
          13,
          14,
          15,
          16,
          17,
          18,
          19,
          20,
          21,
          22,
          23,
          24,
          25,
          26,
          27,
          28,
          29,
          30
         ],
         "y": [
          0.9999453566842572,
          0.998361998728535,
          0.9967266805052356,
          0.9950940409352649,
          0.9934640756309857,
          0.9918367802119474,
          0.9902121503048744,
          0.9885901815436551,
          0.986970869569329,
          0.9853542100300755,
          0.9837401985812029,
          0.9821288308851357,
          0.9801986733067553,
          0.9607894391523232,
          0.9417645335842487,
          0.9231163463866358,
          0.9048374180359595,
          0.8869204367171575,
          0.8693582353988059,
          0.8521437889662113,
          0.835270211411272,
          0.8187307530779818,
          0.8025187979624785,
          0.7866278610665535,
          0.7710515858035663,
          0.7557837414557255,
          0.7408182206817179,
          0.7261490370736909,
          0.7117703227626097,
          0.697676326071031,
          0.6838614092123558,
          0.6703200460356393,
          0.6570468198150567,
          0.6440364210831414,
          0.631283645506926,
          0.6187833918061408,
          0.6065306597126334,
          0.5945205479701944,
          0.5827482523739896,
          0.5712090638488149,
          0.559898366565402,
          0.5488116360940265
         ]
        },
        {
         "mode": "lines",
         "name": "ParallelDown",
         "type": "scatter",
         "x": [
          0.00273224043715847,
          0.08196721311475409,
          0.16393442622950818,
          0.2459016393442623,
          0.32786885245901637,
          0.4098360655737705,
          0.4918032786885246,
          0.5737704918032787,
          0.6557377049180327,
          0.7377049180327869,
          0.819672131147541,
          0.9016393442622951,
          1,
          2,
          3,
          4,
          5,
          6,
          7,
          8,
          9,
          10,
          11,
          12,
          13,
          14,
          15,
          16,
          17,
          18,
          19,
          20,
          21,
          22,
          23,
          24,
          25,
          26,
          27,
          28,
          29,
          30
         ],
         "y": [
          1.000027319044961,
          1.0008166460931232,
          1.0016272295177118,
          1.0024317344670926,
          1.0032301452444086,
          1.0040224462631313,
          1.0048086220475643,
          1.0055886572333503,
          1.0063625365679691,
          1.0071302449112356,
          1.0078917672357928,
          1.008647088627602,
          1.0095452682358568,
          1.0181629763897937,
          1.0258279062704445,
          1.0325175053051183,
          1.038211997081825,
          1.0428944787507632,
          1.0465510046139488,
          1.0491706553244706,
          1.0507455922148243,
          1.0512710963760241,
          1.0507455922148243,
          1.0491706553244706,
          1.0465510046139488,
          1.0428944787507632,
          1.038211997081825,
          1.0325175053051183,
          1.0258279062704445,
          1.0181629763897937,
          1.0095452682358568,
          1,
          1,
          1,
          1,
          1,
          1,
          1,
          1,
          1,
          1,
          1
         ]
        },
        {
         "mode": "lines",
         "name": "ShortUp",
         "type": "scatter",
         "x": [
          0.00273224043715847,
          0.08196721311475409,
          0.16393442622950818,
          0.2459016393442623,
          0.32786885245901637,
          0.4098360655737705,
          0.4918032786885246,
          0.5737704918032787,
          0.6557377049180327,
          0.7377049180327869,
          0.819672131147541,
          0.9016393442622951,
          1,
          2,
          3,
          4,
          5,
          6,
          7,
          8,
          9,
          10,
          11,
          12,
          13,
          14,
          15,
          16,
          17,
          18,
          19,
          20,
          21,
          22,
          23,
          24,
          25,
          26,
          27,
          28,
          29,
          30
         ],
         "y": [
          0.999931742959869,
          0.9979943976698827,
          0.9960739367875873,
          0.9942356774023237,
          0.9924767850335425,
          0.9907945262511237,
          0.9891862644764182,
          0.98764945599151,
          0.98618164614485,
          0.9847804657421718,
          0.9834436276122777,
          0.9821689233379417,
          0.9807182970975247,
          0.9701287028017056,
          0.9651927164117723,
          0.963880510211402,
          0.9648206019819131,
          0.9670843836244444,
          0.9700473055129278,
          0.9732959733712027,
          0.9765641612229916,
          0.9796878782229534,
          0.9825734676189337,
          0.9851748700609649,
          0.9874774503607464,
          0.989486572320526,
          0.9912196199784323,
          0.9927005160363352,
          0.993956039248888,
          0.9950134260050094,
          0.995898877445119,
          0.9966366951240765,
          0.9972488442248687,
          0.9977547999494695,
          0.998171574651992,
          0.9985138541041483,
          0.9987941937341636,
          0.9990232418636482,
          0.9992099684953186,
          0.999361886305308,
          0.9994852560942133,
          0.9995852727455219
         ]
        },
        {
         "mode": "lines",
         "name": "ShortDown",
         "type": "scatter",
         "x": [
          0.00273224043715847,
          0.08196721311475409,
          0.16393442622950818,
          0.2459016393442623,
          0.32786885245901637,
          0.4098360655737705,
          0.4918032786885246,
          0.5737704918032787,
          0.6557377049180327,
          0.7377049180327869,
          0.819672131147541,
          0.9016393442622951,
          1,
          2,
          3,
          4,
          5,
          6,
          7,
          8,
          9,
          10,
          11,
          12,
          13,
          14,
          15,
          16,
          17,
          18,
          19,
          20,
          21,
          22,
          23,
          24,
          25,
          26,
          27,
          28,
          29,
          30
         ],
         "y": [
          1.000027319044961,
          1.0008166460931232,
          1.0016272295177118,
          1.0024317344670926,
          1.0032301452444086,
          1.0040224462631313,
          1.0048086220475643,
          1.0055886572333503,
          1.0063625365679691,
          1.0071302449112356,
          1.0078917672357928,
          1.008647088627602,
          1.0095452682358568,
          1.0181629763897937,
          1.0258279062704445,
          1.0325175053051183,
          1.0364621132113288,
          1.034035929990095,
          1.03087756062704,
          1.0274366969137894,
          1.0239982580844036,
          1.0207332582433197,
          1.0177356024311301,
          1.0150482217823091,
          1.0126813525054965,
          1.0106251342601023,
          1.0088581580152325,
          1.0073531582242046,
          1.0060807123378206,
          1.0050115645323618,
          1.0041180110227677,
          1,
          1,
          1,
          1,
          1,
          1,
          1,
          1,
          1,
          1,
          1
         ]
        },
        {
         "mode": "lines",
         "name": "LongUp",
         "type": "scatter",
         "x": [
          0.00273224043715847,
          0.08196721311475409,
          0.16393442622950818,
          0.2459016393442623,
          0.32786885245901637,
          0.4098360655737705,
          0.4918032786885246,
          0.5737704918032787,
          0.6557377049180327,
          0.7377049180327869,
          0.819672131147541,
          0.9016393442622951,
          1,
          2,
          3,
          4,
          5,
          6,
          7,
          8,
          9,
          10,
          11,
          12,
          13,
          14,
          15,
          16,
          17,
          18,
          19,
          20,
          21,
          22,
          23,
          24,
          25,
          26,
          27,
          28,
          29,
          30
         ],
         "y": [
          0.9999999813435281,
          0.9999833745045219,
          0.9999341740764254,
          0.999853394524986,
          0.9997420075966816,
          0.9996009613642287,
          0.9994311806194809,
          0.9992335672694053,
          0.9990090007343913,
          0.9987583383482058,
          0.9984824157589478,
          0.9981820473303976,
          0.9977904524825434,
          0.9921614957565628,
          0.9842956168521726,
          0.9750321615208,
          0.9649540839665538,
          0.9544574736057718,
          0.9438048848679188,
          0.9331650630400038,
          0.9226419221148681,
          0.912295343170239,
          0.9021559004055814,
          0.892235157380541,
          0.8825327741812208,
          0.873041343484249,
          0.863749624941398,
          0.8546446608489557,
          0.8457131185650424,
          0.8369421049291952,
          0.8283196255308091,
          0.8198348097025557,
          0.8114779850269302,
          0.8032406588212043,
          0.7951154454906124,
          0.7870959656160513,
          0.7791767335817544,
          0.7713530443041312,
          0.7636208653711295,
          0.7559767380511271,
          0.7484176887590146,
          0.7409411513737865
         ]
        },
        {
         "mode": "lines",
         "name": "LongDown",
         "type": "scatter",
         "x": [
          0.00273224043715847,
          0.08196721311475409,
          0.16393442622950818,
          0.2459016393442623,
          0.32786885245901637,
          0.4098360655737705,
          0.4918032786885246,
          0.5737704918032787,
          0.6557377049180327,
          0.7377049180327869,
          0.819672131147541,
          0.9016393442622951,
          1,
          2,
          3,
          4,
          5,
          6,
          7,
          8,
          9,
          10,
          11,
          12,
          13,
          14,
          15,
          16,
          17,
          18,
          19,
          20,
          21,
          22,
          23,
          24,
          25,
          26,
          27,
          28,
          29,
          30
         ],
         "y": [
          1.000000018656472,
          1.0000166257718897,
          1.000065830256912,
          1.0001466269713308,
          1.000258058980575,
          1.0003991979311693,
          1.0005691431201562,
          1.0007670206002879,
          1.0009919823193587,
          1.0012432052921307,
          1.0015198908033836,
          1.0018212636407,
          1.0022144404288087,
          1.0079004318117184,
          1.015954945728653,
          1.0256071947824332,
          1.0363187395294353,
          1.0428944787507632,
          1.0465510046139488,
          1.0491706553244706,
          1.0507455922148243,
          1.0512710963760241,
          1.0507455922148243,
          1.0491706553244706,
          1.0465510046139488,
          1.0428944787507632,
          1.038211997081825,
          1.0325175053051183,
          1.0258279062704445,
          1.0181629763897937,
          1.0095452682358568,
          1,
          1,
          1,
          1,
          1,
          1,
          1,
          1,
          1,
          1,
          1
         ]
        },
        {
         "mode": "lines",
         "name": "Flatten",
         "type": "scatter",
         "x": [
          0.00273224043715847,
          0.08196721311475409,
          0.16393442622950818,
          0.2459016393442623,
          0.32786885245901637,
          0.4098360655737705,
          0.4918032786885246,
          0.5737704918032787,
          0.6557377049180327,
          0.7377049180327869,
          0.819672131147541,
          0.9016393442622951,
          1,
          2,
          3,
          4,
          5,
          6,
          7,
          8,
          9,
          10,
          11,
          12,
          13,
          14,
          15,
          16,
          17,
          18,
          19,
          20,
          21,
          22,
          23,
          24,
          25,
          26,
          27,
          28,
          29,
          30
         ],
         "y": [
          0.9999454051884351,
          0.9984051555035621,
          0.9968972879007505,
          0.9954734452621461,
          0.9941307812983323,
          0.9928665508949218,
          0.9916781058732153,
          0.9905628909634625,
          0.9895184399785351,
          0.9885423721765748,
          0.9876323888019196,
          0.9867862697942609,
          0.9858522136399375,
          0.9806500662620914,
          0.981331858083953,
          0.9858417227277632,
          0.9927805626553932,
          1.0011924053674972,
          1.0104271298445684,
          1.020048587623614,
          1.0297711380171957,
          1.0394148393760747,
          1.0488733957330536,
          1.0491706553244706,
          1.0465510046139488,
          1.0428944787507632,
          1.038211997081825,
          1.0325175053051183,
          1.0258279062704445,
          1.0181629763897937,
          1.0095452682358568,
          1,
          1,
          1,
          1,
          1,
          1,
          1,
          1,
          1,
          1,
          1
         ]
        },
        {
         "mode": "lines",
         "name": "Steepen",
         "type": "scatter",
         "x": [
          0.00273224043715847,
          0.08196721311475409,
          0.16393442622950818,
          0.2459016393442623,
          0.32786885245901637,
          0.4098360655737705,
          0.4918032786885246,
          0.5737704918032787,
          0.6557377049180327,
          0.7377049180327869,
          0.819672131147541,
          0.9016393442622951,
          1,
          2,
          3,
          4,
          5,
          6,
          7,
          8,
          9,
          10,
          11,
          12,
          13,
          14,
          15,
          16,
          17,
          18,
          19,
          20,
          21,
          22,
          23,
          24,
          25,
          26,
          27,
          28,
          29,
          30
         ],
         "y": [
          1.000027319044961,
          1.0008166460931232,
          1.0016272295177118,
          1.0024317344670926,
          1.0032301452444086,
          1.0040224462631313,
          1.0048086220475643,
          1.0055886572333503,
          1.0063625365679691,
          1.0071302449112356,
          1.0078917672357928,
          1.008647088627602,
          1.0095452682358568,
          1.0127098910480725,
          1.0088204392027884,
          1.0011564917797886,
          0.9912100897445734,
          0.9800067880719154,
          0.9682301560088172,
          0.9563204027255524,
          0.9445487051748717,
          0.9330714148210973,
          0.9219686699357196,
          0.911271394008861,
          0.9009798674651309,
          0.891076296523503,
          0.8815331656396932,
          0.872318663628655,
          0.8634001021110412,
          0.8547459736150367,
          0.8463271015663482,
          0.838117195567813,
          0.8300930273157199,
          0.8222343736548129,
          0.8145238251964109,
          0.8069465255384919,
          0.799489883096367,
          0.7921432817974271,
          0.7848978062317747,
          0.7777459897400417,
          0.7706815892715833,
          0.7636993878933096
         ]
        }
       ],
       "layout": {
        "showlegend": true,
        "template": {
         "data": {
          "bar": [
           {
            "error_x": {
             "color": "#2a3f5f"
            },
            "error_y": {
             "color": "#2a3f5f"
            },
            "marker": {
             "line": {
              "color": "#E5ECF6",
              "width": 0.5
             }
            },
            "type": "bar"
           }
          ],
          "barpolar": [
           {
            "marker": {
             "line": {
              "color": "#E5ECF6",
              "width": 0.5
             }
            },
            "type": "barpolar"
           }
          ],
          "carpet": [
           {
            "aaxis": {
             "endlinecolor": "#2a3f5f",
             "gridcolor": "white",
             "linecolor": "white",
             "minorgridcolor": "white",
             "startlinecolor": "#2a3f5f"
            },
            "baxis": {
             "endlinecolor": "#2a3f5f",
             "gridcolor": "white",
             "linecolor": "white",
             "minorgridcolor": "white",
             "startlinecolor": "#2a3f5f"
            },
            "type": "carpet"
           }
          ],
          "choropleth": [
           {
            "colorbar": {
             "outlinewidth": 0,
             "ticks": ""
            },
            "type": "choropleth"
           }
          ],
          "contour": [
           {
            "colorbar": {
             "outlinewidth": 0,
             "ticks": ""
            },
            "colorscale": [
             [
              0,
              "#0d0887"
             ],
             [
              0.1111111111111111,
              "#46039f"
             ],
             [
              0.2222222222222222,
              "#7201a8"
             ],
             [
              0.3333333333333333,
              "#9c179e"
             ],
             [
              0.4444444444444444,
              "#bd3786"
             ],
             [
              0.5555555555555556,
              "#d8576b"
             ],
             [
              0.6666666666666666,
              "#ed7953"
             ],
             [
              0.7777777777777778,
              "#fb9f3a"
             ],
             [
              0.8888888888888888,
              "#fdca26"
             ],
             [
              1,
              "#f0f921"
             ]
            ],
            "type": "contour"
           }
          ],
          "contourcarpet": [
           {
            "colorbar": {
             "outlinewidth": 0,
             "ticks": ""
            },
            "type": "contourcarpet"
           }
          ],
          "heatmap": [
           {
            "colorbar": {
             "outlinewidth": 0,
             "ticks": ""
            },
            "colorscale": [
             [
              0,
              "#0d0887"
             ],
             [
              0.1111111111111111,
              "#46039f"
             ],
             [
              0.2222222222222222,
              "#7201a8"
             ],
             [
              0.3333333333333333,
              "#9c179e"
             ],
             [
              0.4444444444444444,
              "#bd3786"
             ],
             [
              0.5555555555555556,
              "#d8576b"
             ],
             [
              0.6666666666666666,
              "#ed7953"
             ],
             [
              0.7777777777777778,
              "#fb9f3a"
             ],
             [
              0.8888888888888888,
              "#fdca26"
             ],
             [
              1,
              "#f0f921"
             ]
            ],
            "type": "heatmap"
           }
          ],
          "heatmapgl": [
           {
            "colorbar": {
             "outlinewidth": 0,
             "ticks": ""
            },
            "colorscale": [
             [
              0,
              "#0d0887"
             ],
             [
              0.1111111111111111,
              "#46039f"
             ],
             [
              0.2222222222222222,
              "#7201a8"
             ],
             [
              0.3333333333333333,
              "#9c179e"
             ],
             [
              0.4444444444444444,
              "#bd3786"
             ],
             [
              0.5555555555555556,
              "#d8576b"
             ],
             [
              0.6666666666666666,
              "#ed7953"
             ],
             [
              0.7777777777777778,
              "#fb9f3a"
             ],
             [
              0.8888888888888888,
              "#fdca26"
             ],
             [
              1,
              "#f0f921"
             ]
            ],
            "type": "heatmapgl"
           }
          ],
          "histogram": [
           {
            "marker": {
             "colorbar": {
              "outlinewidth": 0,
              "ticks": ""
             }
            },
            "type": "histogram"
           }
          ],
          "histogram2d": [
           {
            "colorbar": {
             "outlinewidth": 0,
             "ticks": ""
            },
            "colorscale": [
             [
              0,
              "#0d0887"
             ],
             [
              0.1111111111111111,
              "#46039f"
             ],
             [
              0.2222222222222222,
              "#7201a8"
             ],
             [
              0.3333333333333333,
              "#9c179e"
             ],
             [
              0.4444444444444444,
              "#bd3786"
             ],
             [
              0.5555555555555556,
              "#d8576b"
             ],
             [
              0.6666666666666666,
              "#ed7953"
             ],
             [
              0.7777777777777778,
              "#fb9f3a"
             ],
             [
              0.8888888888888888,
              "#fdca26"
             ],
             [
              1,
              "#f0f921"
             ]
            ],
            "type": "histogram2d"
           }
          ],
          "histogram2dcontour": [
           {
            "colorbar": {
             "outlinewidth": 0,
             "ticks": ""
            },
            "colorscale": [
             [
              0,
              "#0d0887"
             ],
             [
              0.1111111111111111,
              "#46039f"
             ],
             [
              0.2222222222222222,
              "#7201a8"
             ],
             [
              0.3333333333333333,
              "#9c179e"
             ],
             [
              0.4444444444444444,
              "#bd3786"
             ],
             [
              0.5555555555555556,
              "#d8576b"
             ],
             [
              0.6666666666666666,
              "#ed7953"
             ],
             [
              0.7777777777777778,
              "#fb9f3a"
             ],
             [
              0.8888888888888888,
              "#fdca26"
             ],
             [
              1,
              "#f0f921"
             ]
            ],
            "type": "histogram2dcontour"
           }
          ],
          "mesh3d": [
           {
            "colorbar": {
             "outlinewidth": 0,
             "ticks": ""
            },
            "type": "mesh3d"
           }
          ],
          "parcoords": [
           {
            "line": {
             "colorbar": {
              "outlinewidth": 0,
              "ticks": ""
             }
            },
            "type": "parcoords"
           }
          ],
          "scatter": [
           {
            "marker": {
             "colorbar": {
              "outlinewidth": 0,
              "ticks": ""
             }
            },
            "type": "scatter"
           }
          ],
          "scatter3d": [
           {
            "line": {
             "colorbar": {
              "outlinewidth": 0,
              "ticks": ""
             }
            },
            "marker": {
             "colorbar": {
              "outlinewidth": 0,
              "ticks": ""
             }
            },
            "type": "scatter3d"
           }
          ],
          "scattercarpet": [
           {
            "marker": {
             "colorbar": {
              "outlinewidth": 0,
              "ticks": ""
             }
            },
            "type": "scattercarpet"
           }
          ],
          "scattergeo": [
           {
            "marker": {
             "colorbar": {
              "outlinewidth": 0,
              "ticks": ""
             }
            },
            "type": "scattergeo"
           }
          ],
          "scattergl": [
           {
            "marker": {
             "colorbar": {
              "outlinewidth": 0,
              "ticks": ""
             }
            },
            "type": "scattergl"
           }
          ],
          "scattermapbox": [
           {
            "marker": {
             "colorbar": {
              "outlinewidth": 0,
              "ticks": ""
             }
            },
            "type": "scattermapbox"
           }
          ],
          "scatterpolar": [
           {
            "marker": {
             "colorbar": {
              "outlinewidth": 0,
              "ticks": ""
             }
            },
            "type": "scatterpolar"
           }
          ],
          "scatterpolargl": [
           {
            "marker": {
             "colorbar": {
              "outlinewidth": 0,
              "ticks": ""
             }
            },
            "type": "scatterpolargl"
           }
          ],
          "scatterternary": [
           {
            "marker": {
             "colorbar": {
              "outlinewidth": 0,
              "ticks": ""
             }
            },
            "type": "scatterternary"
           }
          ],
          "surface": [
           {
            "colorbar": {
             "outlinewidth": 0,
             "ticks": ""
            },
            "colorscale": [
             [
              0,
              "#0d0887"
             ],
             [
              0.1111111111111111,
              "#46039f"
             ],
             [
              0.2222222222222222,
              "#7201a8"
             ],
             [
              0.3333333333333333,
              "#9c179e"
             ],
             [
              0.4444444444444444,
              "#bd3786"
             ],
             [
              0.5555555555555556,
              "#d8576b"
             ],
             [
              0.6666666666666666,
              "#ed7953"
             ],
             [
              0.7777777777777778,
              "#fb9f3a"
             ],
             [
              0.8888888888888888,
              "#fdca26"
             ],
             [
              1,
              "#f0f921"
             ]
            ],
            "type": "surface"
           }
          ],
          "table": [
           {
            "cells": {
             "fill": {
              "color": "#EBF0F8"
             },
             "line": {
              "color": "white"
             }
            },
            "header": {
             "fill": {
              "color": "#C8D4E3"
             },
             "line": {
              "color": "white"
             }
            },
            "type": "table"
           }
          ]
         },
         "layout": {
          "annotationdefaults": {
           "arrowcolor": "#2a3f5f",
           "arrowhead": 0,
           "arrowwidth": 1
          },
          "colorscale": {
           "diverging": [
            [
             0,
             "#8e0152"
            ],
            [
             0.1,
             "#c51b7d"
            ],
            [
             0.2,
             "#de77ae"
            ],
            [
             0.3,
             "#f1b6da"
            ],
            [
             0.4,
             "#fde0ef"
            ],
            [
             0.5,
             "#f7f7f7"
            ],
            [
             0.6,
             "#e6f5d0"
            ],
            [
             0.7,
             "#b8e186"
            ],
            [
             0.8,
             "#7fbc41"
            ],
            [
             0.9,
             "#4d9221"
            ],
            [
             1,
             "#276419"
            ]
           ],
           "sequential": [
            [
             0,
             "#0d0887"
            ],
            [
             0.1111111111111111,
             "#46039f"
            ],
            [
             0.2222222222222222,
             "#7201a8"
            ],
            [
             0.3333333333333333,
             "#9c179e"
            ],
            [
             0.4444444444444444,
             "#bd3786"
            ],
            [
             0.5555555555555556,
             "#d8576b"
            ],
            [
             0.6666666666666666,
             "#ed7953"
            ],
            [
             0.7777777777777778,
             "#fb9f3a"
            ],
            [
             0.8888888888888888,
             "#fdca26"
            ],
            [
             1,
             "#f0f921"
            ]
           ],
           "sequentialminus": [
            [
             0,
             "#0d0887"
            ],
            [
             0.1111111111111111,
             "#46039f"
            ],
            [
             0.2222222222222222,
             "#7201a8"
            ],
            [
             0.3333333333333333,
             "#9c179e"
            ],
            [
             0.4444444444444444,
             "#bd3786"
            ],
            [
             0.5555555555555556,
             "#d8576b"
            ],
            [
             0.6666666666666666,
             "#ed7953"
            ],
            [
             0.7777777777777778,
             "#fb9f3a"
            ],
            [
             0.8888888888888888,
             "#fdca26"
            ],
            [
             1,
             "#f0f921"
            ]
           ]
          },
          "colorway": [
           "#636efa",
           "#EF553B",
           "#00cc96",
           "#ab63fa",
           "#FFA15A",
           "#19d3f3",
           "#FF6692",
           "#B6E880",
           "#FF97FF",
           "#FECB52"
          ],
          "font": {
           "color": "#2a3f5f"
          },
          "geo": {
           "bgcolor": "white",
           "lakecolor": "white",
           "landcolor": "#E5ECF6",
           "showlakes": true,
           "showland": true,
           "subunitcolor": "white"
          },
          "hoverlabel": {
           "align": "left"
          },
          "hovermode": "closest",
          "mapbox": {
           "style": "light"
          },
          "paper_bgcolor": "white",
          "plot_bgcolor": "#E5ECF6",
          "polar": {
           "angularaxis": {
            "gridcolor": "white",
            "linecolor": "white",
            "ticks": ""
           },
           "bgcolor": "#E5ECF6",
           "radialaxis": {
            "gridcolor": "white",
            "linecolor": "white",
            "ticks": ""
           }
          },
          "scene": {
           "xaxis": {
            "backgroundcolor": "#E5ECF6",
            "gridcolor": "white",
            "gridwidth": 2,
            "linecolor": "white",
            "showbackground": true,
            "ticks": "",
            "zerolinecolor": "white"
           },
           "yaxis": {
            "backgroundcolor": "#E5ECF6",
            "gridcolor": "white",
            "gridwidth": 2,
            "linecolor": "white",
            "showbackground": true,
            "ticks": "",
            "zerolinecolor": "white"
           },
           "zaxis": {
            "backgroundcolor": "#E5ECF6",
            "gridcolor": "white",
            "gridwidth": 2,
            "linecolor": "white",
            "showbackground": true,
            "ticks": "",
            "zerolinecolor": "white"
           }
          },
          "shapedefaults": {
           "line": {
            "color": "#2a3f5f"
           }
          },
          "ternary": {
           "aaxis": {
            "gridcolor": "white",
            "linecolor": "white",
            "ticks": ""
           },
           "baxis": {
            "gridcolor": "white",
            "linecolor": "white",
            "ticks": ""
           },
           "bgcolor": "#E5ECF6",
           "caxis": {
            "gridcolor": "white",
            "linecolor": "white",
            "ticks": ""
           }
          },
          "title": {
           "x": 0.05
          },
          "xaxis": {
           "automargin": true,
           "gridcolor": "white",
           "linecolor": "white",
           "ticks": "",
           "zerolinecolor": "white",
           "zerolinewidth": 2
          },
          "yaxis": {
           "automargin": true,
           "gridcolor": "white",
           "linecolor": "white",
           "ticks": "",
           "zerolinecolor": "white",
           "zerolinewidth": 2
          }
         }
        },
        "title": {
         "text": "Shock scenarios (with lower bound)",
         "x": 0.5,
         "xanchor": "center",
         "y": 0.9,
         "yanchor": "top"
        },
        "xaxis": {
         "title": {
          "text": "Expiry (in years)"
         }
        },
        "yaxis": {
         "title": {
          "text": "Discount factor"
         }
        }
       }
      },
      "text/html": [
       "<div>\n",
       "        \n",
       "        \n",
       "            <div id=\"9300cb7c-c174-40e9-9afe-6bf8927fd025\" class=\"plotly-graph-div\" style=\"height:525px; width:100%;\"></div>\n",
       "            <script type=\"text/javascript\">\n",
       "                require([\"plotly\"], function(Plotly) {\n",
       "                    window.PLOTLYENV=window.PLOTLYENV || {};\n",
       "                    \n",
       "                if (document.getElementById(\"9300cb7c-c174-40e9-9afe-6bf8927fd025\")) {\n",
       "                    Plotly.newPlot(\n",
       "                        '9300cb7c-c174-40e9-9afe-6bf8927fd025',\n",
       "                        [{\"mode\": \"lines\", \"name\": \"Original\", \"type\": \"scatter\", \"x\": [0.00273224043715847, 0.08196721311475409, 0.16393442622950818, 0.2459016393442623, 0.32786885245901637, 0.4098360655737705, 0.4918032786885246, 0.5737704918032787, 0.6557377049180327, 0.7377049180327869, 0.819672131147541, 0.9016393442622951, 1.0, 2.0, 3.0, 4.0, 5.0, 6.0, 7.0, 8.0, 9.0, 10.0, 11.0, 12.0, 13.0, 14.0, 15.0, 16.0, 17.0, 18.0, 19.0, 20.0, 21.0, 22.0, 23.0, 24.0, 25.0, 26.0, 27.0, 28.0, 29.0, 30.0], \"y\": [1.0, 1.0, 1.0, 1.0, 0.9999999999999999, 1.0, 1.0, 1.0, 1.0, 1.0, 1.0, 0.9999999999999999, 1.0, 1.0, 1.0, 1.0, 1.0, 1.0, 1.0, 1.0, 1.0, 1.0, 1.0, 1.0, 1.0, 1.0, 1.0, 1.0, 1.0, 1.0, 1.0, 1.0, 1.0, 1.0, 1.0, 1.0, 1.0, 1.0, 1.0, 1.0, 1.0, 1.0]}, {\"mode\": \"lines\", \"name\": \"ParallelUp\", \"type\": \"scatter\", \"x\": [0.00273224043715847, 0.08196721311475409, 0.16393442622950818, 0.2459016393442623, 0.32786885245901637, 0.4098360655737705, 0.4918032786885246, 0.5737704918032787, 0.6557377049180327, 0.7377049180327869, 0.819672131147541, 0.9016393442622951, 1.0, 2.0, 3.0, 4.0, 5.0, 6.0, 7.0, 8.0, 9.0, 10.0, 11.0, 12.0, 13.0, 14.0, 15.0, 16.0, 17.0, 18.0, 19.0, 20.0, 21.0, 22.0, 23.0, 24.0, 25.0, 26.0, 27.0, 28.0, 29.0, 30.0], \"y\": [0.9999453566842572, 0.998361998728535, 0.9967266805052356, 0.9950940409352649, 0.9934640756309857, 0.9918367802119474, 0.9902121503048744, 0.9885901815436551, 0.986970869569329, 0.9853542100300755, 0.9837401985812029, 0.9821288308851357, 0.9801986733067553, 0.9607894391523232, 0.9417645335842487, 0.9231163463866358, 0.9048374180359595, 0.8869204367171575, 0.8693582353988059, 0.8521437889662113, 0.835270211411272, 0.8187307530779818, 0.8025187979624785, 0.7866278610665535, 0.7710515858035663, 0.7557837414557255, 0.7408182206817179, 0.7261490370736909, 0.7117703227626097, 0.697676326071031, 0.6838614092123558, 0.6703200460356393, 0.6570468198150567, 0.6440364210831414, 0.631283645506926, 0.6187833918061408, 0.6065306597126334, 0.5945205479701944, 0.5827482523739896, 0.5712090638488149, 0.559898366565402, 0.5488116360940265]}, {\"mode\": \"lines\", \"name\": \"ParallelDown\", \"type\": \"scatter\", \"x\": [0.00273224043715847, 0.08196721311475409, 0.16393442622950818, 0.2459016393442623, 0.32786885245901637, 0.4098360655737705, 0.4918032786885246, 0.5737704918032787, 0.6557377049180327, 0.7377049180327869, 0.819672131147541, 0.9016393442622951, 1.0, 2.0, 3.0, 4.0, 5.0, 6.0, 7.0, 8.0, 9.0, 10.0, 11.0, 12.0, 13.0, 14.0, 15.0, 16.0, 17.0, 18.0, 19.0, 20.0, 21.0, 22.0, 23.0, 24.0, 25.0, 26.0, 27.0, 28.0, 29.0, 30.0], \"y\": [1.000027319044961, 1.0008166460931232, 1.0016272295177118, 1.0024317344670926, 1.0032301452444086, 1.0040224462631313, 1.0048086220475643, 1.0055886572333503, 1.0063625365679691, 1.0071302449112356, 1.0078917672357928, 1.008647088627602, 1.0095452682358568, 1.0181629763897937, 1.0258279062704445, 1.0325175053051183, 1.038211997081825, 1.0428944787507632, 1.0465510046139488, 1.0491706553244706, 1.0507455922148243, 1.0512710963760241, 1.0507455922148243, 1.0491706553244706, 1.0465510046139488, 1.0428944787507632, 1.038211997081825, 1.0325175053051183, 1.0258279062704445, 1.0181629763897937, 1.0095452682358568, 1.0, 1.0, 1.0, 1.0, 1.0, 1.0, 1.0, 1.0, 1.0, 1.0, 1.0]}, {\"mode\": \"lines\", \"name\": \"ShortUp\", \"type\": \"scatter\", \"x\": [0.00273224043715847, 0.08196721311475409, 0.16393442622950818, 0.2459016393442623, 0.32786885245901637, 0.4098360655737705, 0.4918032786885246, 0.5737704918032787, 0.6557377049180327, 0.7377049180327869, 0.819672131147541, 0.9016393442622951, 1.0, 2.0, 3.0, 4.0, 5.0, 6.0, 7.0, 8.0, 9.0, 10.0, 11.0, 12.0, 13.0, 14.0, 15.0, 16.0, 17.0, 18.0, 19.0, 20.0, 21.0, 22.0, 23.0, 24.0, 25.0, 26.0, 27.0, 28.0, 29.0, 30.0], \"y\": [0.999931742959869, 0.9979943976698827, 0.9960739367875873, 0.9942356774023237, 0.9924767850335425, 0.9907945262511237, 0.9891862644764182, 0.98764945599151, 0.98618164614485, 0.9847804657421718, 0.9834436276122777, 0.9821689233379417, 0.9807182970975247, 0.9701287028017056, 0.9651927164117723, 0.963880510211402, 0.9648206019819131, 0.9670843836244444, 0.9700473055129278, 0.9732959733712027, 0.9765641612229916, 0.9796878782229534, 0.9825734676189337, 0.9851748700609649, 0.9874774503607464, 0.989486572320526, 0.9912196199784323, 0.9927005160363352, 0.993956039248888, 0.9950134260050094, 0.995898877445119, 0.9966366951240765, 0.9972488442248687, 0.9977547999494695, 0.998171574651992, 0.9985138541041483, 0.9987941937341636, 0.9990232418636482, 0.9992099684953186, 0.999361886305308, 0.9994852560942133, 0.9995852727455219]}, {\"mode\": \"lines\", \"name\": \"ShortDown\", \"type\": \"scatter\", \"x\": [0.00273224043715847, 0.08196721311475409, 0.16393442622950818, 0.2459016393442623, 0.32786885245901637, 0.4098360655737705, 0.4918032786885246, 0.5737704918032787, 0.6557377049180327, 0.7377049180327869, 0.819672131147541, 0.9016393442622951, 1.0, 2.0, 3.0, 4.0, 5.0, 6.0, 7.0, 8.0, 9.0, 10.0, 11.0, 12.0, 13.0, 14.0, 15.0, 16.0, 17.0, 18.0, 19.0, 20.0, 21.0, 22.0, 23.0, 24.0, 25.0, 26.0, 27.0, 28.0, 29.0, 30.0], \"y\": [1.000027319044961, 1.0008166460931232, 1.0016272295177118, 1.0024317344670926, 1.0032301452444086, 1.0040224462631313, 1.0048086220475643, 1.0055886572333503, 1.0063625365679691, 1.0071302449112356, 1.0078917672357928, 1.008647088627602, 1.0095452682358568, 1.0181629763897937, 1.0258279062704445, 1.0325175053051183, 1.0364621132113288, 1.034035929990095, 1.03087756062704, 1.0274366969137894, 1.0239982580844036, 1.0207332582433197, 1.0177356024311301, 1.0150482217823091, 1.0126813525054965, 1.0106251342601023, 1.0088581580152325, 1.0073531582242046, 1.0060807123378206, 1.0050115645323618, 1.0041180110227677, 1.0, 1.0, 1.0, 1.0, 1.0, 1.0, 1.0, 1.0, 1.0, 1.0, 1.0]}, {\"mode\": \"lines\", \"name\": \"LongUp\", \"type\": \"scatter\", \"x\": [0.00273224043715847, 0.08196721311475409, 0.16393442622950818, 0.2459016393442623, 0.32786885245901637, 0.4098360655737705, 0.4918032786885246, 0.5737704918032787, 0.6557377049180327, 0.7377049180327869, 0.819672131147541, 0.9016393442622951, 1.0, 2.0, 3.0, 4.0, 5.0, 6.0, 7.0, 8.0, 9.0, 10.0, 11.0, 12.0, 13.0, 14.0, 15.0, 16.0, 17.0, 18.0, 19.0, 20.0, 21.0, 22.0, 23.0, 24.0, 25.0, 26.0, 27.0, 28.0, 29.0, 30.0], \"y\": [0.9999999813435281, 0.9999833745045219, 0.9999341740764254, 0.999853394524986, 0.9997420075966816, 0.9996009613642287, 0.9994311806194809, 0.9992335672694053, 0.9990090007343913, 0.9987583383482058, 0.9984824157589478, 0.9981820473303976, 0.9977904524825434, 0.9921614957565628, 0.9842956168521726, 0.9750321615208, 0.9649540839665538, 0.9544574736057718, 0.9438048848679188, 0.9331650630400038, 0.9226419221148681, 0.912295343170239, 0.9021559004055814, 0.892235157380541, 0.8825327741812208, 0.873041343484249, 0.863749624941398, 0.8546446608489557, 0.8457131185650424, 0.8369421049291952, 0.8283196255308091, 0.8198348097025557, 0.8114779850269302, 0.8032406588212043, 0.7951154454906124, 0.7870959656160513, 0.7791767335817544, 0.7713530443041312, 0.7636208653711295, 0.7559767380511271, 0.7484176887590146, 0.7409411513737865]}, {\"mode\": \"lines\", \"name\": \"LongDown\", \"type\": \"scatter\", \"x\": [0.00273224043715847, 0.08196721311475409, 0.16393442622950818, 0.2459016393442623, 0.32786885245901637, 0.4098360655737705, 0.4918032786885246, 0.5737704918032787, 0.6557377049180327, 0.7377049180327869, 0.819672131147541, 0.9016393442622951, 1.0, 2.0, 3.0, 4.0, 5.0, 6.0, 7.0, 8.0, 9.0, 10.0, 11.0, 12.0, 13.0, 14.0, 15.0, 16.0, 17.0, 18.0, 19.0, 20.0, 21.0, 22.0, 23.0, 24.0, 25.0, 26.0, 27.0, 28.0, 29.0, 30.0], \"y\": [1.000000018656472, 1.0000166257718897, 1.000065830256912, 1.0001466269713308, 1.000258058980575, 1.0003991979311693, 1.0005691431201562, 1.0007670206002879, 1.0009919823193587, 1.0012432052921307, 1.0015198908033836, 1.0018212636407, 1.0022144404288087, 1.0079004318117184, 1.015954945728653, 1.0256071947824332, 1.0363187395294353, 1.0428944787507632, 1.0465510046139488, 1.0491706553244706, 1.0507455922148243, 1.0512710963760241, 1.0507455922148243, 1.0491706553244706, 1.0465510046139488, 1.0428944787507632, 1.038211997081825, 1.0325175053051183, 1.0258279062704445, 1.0181629763897937, 1.0095452682358568, 1.0, 1.0, 1.0, 1.0, 1.0, 1.0, 1.0, 1.0, 1.0, 1.0, 1.0]}, {\"mode\": \"lines\", \"name\": \"Flatten\", \"type\": \"scatter\", \"x\": [0.00273224043715847, 0.08196721311475409, 0.16393442622950818, 0.2459016393442623, 0.32786885245901637, 0.4098360655737705, 0.4918032786885246, 0.5737704918032787, 0.6557377049180327, 0.7377049180327869, 0.819672131147541, 0.9016393442622951, 1.0, 2.0, 3.0, 4.0, 5.0, 6.0, 7.0, 8.0, 9.0, 10.0, 11.0, 12.0, 13.0, 14.0, 15.0, 16.0, 17.0, 18.0, 19.0, 20.0, 21.0, 22.0, 23.0, 24.0, 25.0, 26.0, 27.0, 28.0, 29.0, 30.0], \"y\": [0.9999454051884351, 0.9984051555035621, 0.9968972879007505, 0.9954734452621461, 0.9941307812983323, 0.9928665508949218, 0.9916781058732153, 0.9905628909634625, 0.9895184399785351, 0.9885423721765748, 0.9876323888019196, 0.9867862697942609, 0.9858522136399375, 0.9806500662620914, 0.981331858083953, 0.9858417227277632, 0.9927805626553932, 1.0011924053674972, 1.0104271298445684, 1.020048587623614, 1.0297711380171957, 1.0394148393760747, 1.0488733957330536, 1.0491706553244706, 1.0465510046139488, 1.0428944787507632, 1.038211997081825, 1.0325175053051183, 1.0258279062704445, 1.0181629763897937, 1.0095452682358568, 1.0, 1.0, 1.0, 1.0, 1.0, 1.0, 1.0, 1.0, 1.0, 1.0, 1.0]}, {\"mode\": \"lines\", \"name\": \"Steepen\", \"type\": \"scatter\", \"x\": [0.00273224043715847, 0.08196721311475409, 0.16393442622950818, 0.2459016393442623, 0.32786885245901637, 0.4098360655737705, 0.4918032786885246, 0.5737704918032787, 0.6557377049180327, 0.7377049180327869, 0.819672131147541, 0.9016393442622951, 1.0, 2.0, 3.0, 4.0, 5.0, 6.0, 7.0, 8.0, 9.0, 10.0, 11.0, 12.0, 13.0, 14.0, 15.0, 16.0, 17.0, 18.0, 19.0, 20.0, 21.0, 22.0, 23.0, 24.0, 25.0, 26.0, 27.0, 28.0, 29.0, 30.0], \"y\": [1.000027319044961, 1.0008166460931232, 1.0016272295177118, 1.0024317344670926, 1.0032301452444086, 1.0040224462631313, 1.0048086220475643, 1.0055886572333503, 1.0063625365679691, 1.0071302449112356, 1.0078917672357928, 1.008647088627602, 1.0095452682358568, 1.0127098910480725, 1.0088204392027884, 1.0011564917797886, 0.9912100897445734, 0.9800067880719154, 0.9682301560088172, 0.9563204027255524, 0.9445487051748717, 0.9330714148210973, 0.9219686699357196, 0.911271394008861, 0.9009798674651309, 0.891076296523503, 0.8815331656396932, 0.872318663628655, 0.8634001021110412, 0.8547459736150367, 0.8463271015663482, 0.838117195567813, 0.8300930273157199, 0.8222343736548129, 0.8145238251964109, 0.8069465255384919, 0.799489883096367, 0.7921432817974271, 0.7848978062317747, 0.7777459897400417, 0.7706815892715833, 0.7636993878933096]}],\n",
       "                        {\"showlegend\": true, \"template\": {\"data\": {\"bar\": [{\"error_x\": {\"color\": \"#2a3f5f\"}, \"error_y\": {\"color\": \"#2a3f5f\"}, \"marker\": {\"line\": {\"color\": \"#E5ECF6\", \"width\": 0.5}}, \"type\": \"bar\"}], \"barpolar\": [{\"marker\": {\"line\": {\"color\": \"#E5ECF6\", \"width\": 0.5}}, \"type\": \"barpolar\"}], \"carpet\": [{\"aaxis\": {\"endlinecolor\": \"#2a3f5f\", \"gridcolor\": \"white\", \"linecolor\": \"white\", \"minorgridcolor\": \"white\", \"startlinecolor\": \"#2a3f5f\"}, \"baxis\": {\"endlinecolor\": \"#2a3f5f\", \"gridcolor\": \"white\", \"linecolor\": \"white\", \"minorgridcolor\": \"white\", \"startlinecolor\": \"#2a3f5f\"}, \"type\": \"carpet\"}], \"choropleth\": [{\"colorbar\": {\"outlinewidth\": 0, \"ticks\": \"\"}, \"type\": \"choropleth\"}], \"contour\": [{\"colorbar\": {\"outlinewidth\": 0, \"ticks\": \"\"}, \"colorscale\": [[0.0, \"#0d0887\"], [0.1111111111111111, \"#46039f\"], [0.2222222222222222, \"#7201a8\"], [0.3333333333333333, \"#9c179e\"], [0.4444444444444444, \"#bd3786\"], [0.5555555555555556, \"#d8576b\"], [0.6666666666666666, \"#ed7953\"], [0.7777777777777778, \"#fb9f3a\"], [0.8888888888888888, \"#fdca26\"], [1.0, \"#f0f921\"]], \"type\": \"contour\"}], \"contourcarpet\": [{\"colorbar\": {\"outlinewidth\": 0, \"ticks\": \"\"}, \"type\": \"contourcarpet\"}], \"heatmap\": [{\"colorbar\": {\"outlinewidth\": 0, \"ticks\": \"\"}, \"colorscale\": [[0.0, \"#0d0887\"], [0.1111111111111111, \"#46039f\"], [0.2222222222222222, \"#7201a8\"], [0.3333333333333333, \"#9c179e\"], [0.4444444444444444, \"#bd3786\"], [0.5555555555555556, \"#d8576b\"], [0.6666666666666666, \"#ed7953\"], [0.7777777777777778, \"#fb9f3a\"], [0.8888888888888888, \"#fdca26\"], [1.0, \"#f0f921\"]], \"type\": \"heatmap\"}], \"heatmapgl\": [{\"colorbar\": {\"outlinewidth\": 0, \"ticks\": \"\"}, \"colorscale\": [[0.0, \"#0d0887\"], [0.1111111111111111, \"#46039f\"], [0.2222222222222222, \"#7201a8\"], [0.3333333333333333, \"#9c179e\"], [0.4444444444444444, \"#bd3786\"], [0.5555555555555556, \"#d8576b\"], [0.6666666666666666, \"#ed7953\"], [0.7777777777777778, \"#fb9f3a\"], [0.8888888888888888, \"#fdca26\"], [1.0, \"#f0f921\"]], \"type\": \"heatmapgl\"}], \"histogram\": [{\"marker\": {\"colorbar\": {\"outlinewidth\": 0, \"ticks\": \"\"}}, \"type\": \"histogram\"}], \"histogram2d\": [{\"colorbar\": {\"outlinewidth\": 0, \"ticks\": \"\"}, \"colorscale\": [[0.0, \"#0d0887\"], [0.1111111111111111, \"#46039f\"], [0.2222222222222222, \"#7201a8\"], [0.3333333333333333, \"#9c179e\"], [0.4444444444444444, \"#bd3786\"], [0.5555555555555556, \"#d8576b\"], [0.6666666666666666, \"#ed7953\"], [0.7777777777777778, \"#fb9f3a\"], [0.8888888888888888, \"#fdca26\"], [1.0, \"#f0f921\"]], \"type\": \"histogram2d\"}], \"histogram2dcontour\": [{\"colorbar\": {\"outlinewidth\": 0, \"ticks\": \"\"}, \"colorscale\": [[0.0, \"#0d0887\"], [0.1111111111111111, \"#46039f\"], [0.2222222222222222, \"#7201a8\"], [0.3333333333333333, \"#9c179e\"], [0.4444444444444444, \"#bd3786\"], [0.5555555555555556, \"#d8576b\"], [0.6666666666666666, \"#ed7953\"], [0.7777777777777778, \"#fb9f3a\"], [0.8888888888888888, \"#fdca26\"], [1.0, \"#f0f921\"]], \"type\": \"histogram2dcontour\"}], \"mesh3d\": [{\"colorbar\": {\"outlinewidth\": 0, \"ticks\": \"\"}, \"type\": \"mesh3d\"}], \"parcoords\": [{\"line\": {\"colorbar\": {\"outlinewidth\": 0, \"ticks\": \"\"}}, \"type\": \"parcoords\"}], \"scatter\": [{\"marker\": {\"colorbar\": {\"outlinewidth\": 0, \"ticks\": \"\"}}, \"type\": \"scatter\"}], \"scatter3d\": [{\"line\": {\"colorbar\": {\"outlinewidth\": 0, \"ticks\": \"\"}}, \"marker\": {\"colorbar\": {\"outlinewidth\": 0, \"ticks\": \"\"}}, \"type\": \"scatter3d\"}], \"scattercarpet\": [{\"marker\": {\"colorbar\": {\"outlinewidth\": 0, \"ticks\": \"\"}}, \"type\": \"scattercarpet\"}], \"scattergeo\": [{\"marker\": {\"colorbar\": {\"outlinewidth\": 0, \"ticks\": \"\"}}, \"type\": \"scattergeo\"}], \"scattergl\": [{\"marker\": {\"colorbar\": {\"outlinewidth\": 0, \"ticks\": \"\"}}, \"type\": \"scattergl\"}], \"scattermapbox\": [{\"marker\": {\"colorbar\": {\"outlinewidth\": 0, \"ticks\": \"\"}}, \"type\": \"scattermapbox\"}], \"scatterpolar\": [{\"marker\": {\"colorbar\": {\"outlinewidth\": 0, \"ticks\": \"\"}}, \"type\": \"scatterpolar\"}], \"scatterpolargl\": [{\"marker\": {\"colorbar\": {\"outlinewidth\": 0, \"ticks\": \"\"}}, \"type\": \"scatterpolargl\"}], \"scatterternary\": [{\"marker\": {\"colorbar\": {\"outlinewidth\": 0, \"ticks\": \"\"}}, \"type\": \"scatterternary\"}], \"surface\": [{\"colorbar\": {\"outlinewidth\": 0, \"ticks\": \"\"}, \"colorscale\": [[0.0, \"#0d0887\"], [0.1111111111111111, \"#46039f\"], [0.2222222222222222, \"#7201a8\"], [0.3333333333333333, \"#9c179e\"], [0.4444444444444444, \"#bd3786\"], [0.5555555555555556, \"#d8576b\"], [0.6666666666666666, \"#ed7953\"], [0.7777777777777778, \"#fb9f3a\"], [0.8888888888888888, \"#fdca26\"], [1.0, \"#f0f921\"]], \"type\": \"surface\"}], \"table\": [{\"cells\": {\"fill\": {\"color\": \"#EBF0F8\"}, \"line\": {\"color\": \"white\"}}, \"header\": {\"fill\": {\"color\": \"#C8D4E3\"}, \"line\": {\"color\": \"white\"}}, \"type\": \"table\"}]}, \"layout\": {\"annotationdefaults\": {\"arrowcolor\": \"#2a3f5f\", \"arrowhead\": 0, \"arrowwidth\": 1}, \"colorscale\": {\"diverging\": [[0, \"#8e0152\"], [0.1, \"#c51b7d\"], [0.2, \"#de77ae\"], [0.3, \"#f1b6da\"], [0.4, \"#fde0ef\"], [0.5, \"#f7f7f7\"], [0.6, \"#e6f5d0\"], [0.7, \"#b8e186\"], [0.8, \"#7fbc41\"], [0.9, \"#4d9221\"], [1, \"#276419\"]], \"sequential\": [[0.0, \"#0d0887\"], [0.1111111111111111, \"#46039f\"], [0.2222222222222222, \"#7201a8\"], [0.3333333333333333, \"#9c179e\"], [0.4444444444444444, \"#bd3786\"], [0.5555555555555556, \"#d8576b\"], [0.6666666666666666, \"#ed7953\"], [0.7777777777777778, \"#fb9f3a\"], [0.8888888888888888, \"#fdca26\"], [1.0, \"#f0f921\"]], \"sequentialminus\": [[0.0, \"#0d0887\"], [0.1111111111111111, \"#46039f\"], [0.2222222222222222, \"#7201a8\"], [0.3333333333333333, \"#9c179e\"], [0.4444444444444444, \"#bd3786\"], [0.5555555555555556, \"#d8576b\"], [0.6666666666666666, \"#ed7953\"], [0.7777777777777778, \"#fb9f3a\"], [0.8888888888888888, \"#fdca26\"], [1.0, \"#f0f921\"]]}, \"colorway\": [\"#636efa\", \"#EF553B\", \"#00cc96\", \"#ab63fa\", \"#FFA15A\", \"#19d3f3\", \"#FF6692\", \"#B6E880\", \"#FF97FF\", \"#FECB52\"], \"font\": {\"color\": \"#2a3f5f\"}, \"geo\": {\"bgcolor\": \"white\", \"lakecolor\": \"white\", \"landcolor\": \"#E5ECF6\", \"showlakes\": true, \"showland\": true, \"subunitcolor\": \"white\"}, \"hoverlabel\": {\"align\": \"left\"}, \"hovermode\": \"closest\", \"mapbox\": {\"style\": \"light\"}, \"paper_bgcolor\": \"white\", \"plot_bgcolor\": \"#E5ECF6\", \"polar\": {\"angularaxis\": {\"gridcolor\": \"white\", \"linecolor\": \"white\", \"ticks\": \"\"}, \"bgcolor\": \"#E5ECF6\", \"radialaxis\": {\"gridcolor\": \"white\", \"linecolor\": \"white\", \"ticks\": \"\"}}, \"scene\": {\"xaxis\": {\"backgroundcolor\": \"#E5ECF6\", \"gridcolor\": \"white\", \"gridwidth\": 2, \"linecolor\": \"white\", \"showbackground\": true, \"ticks\": \"\", \"zerolinecolor\": \"white\"}, \"yaxis\": {\"backgroundcolor\": \"#E5ECF6\", \"gridcolor\": \"white\", \"gridwidth\": 2, \"linecolor\": \"white\", \"showbackground\": true, \"ticks\": \"\", \"zerolinecolor\": \"white\"}, \"zaxis\": {\"backgroundcolor\": \"#E5ECF6\", \"gridcolor\": \"white\", \"gridwidth\": 2, \"linecolor\": \"white\", \"showbackground\": true, \"ticks\": \"\", \"zerolinecolor\": \"white\"}}, \"shapedefaults\": {\"line\": {\"color\": \"#2a3f5f\"}}, \"ternary\": {\"aaxis\": {\"gridcolor\": \"white\", \"linecolor\": \"white\", \"ticks\": \"\"}, \"baxis\": {\"gridcolor\": \"white\", \"linecolor\": \"white\", \"ticks\": \"\"}, \"bgcolor\": \"#E5ECF6\", \"caxis\": {\"gridcolor\": \"white\", \"linecolor\": \"white\", \"ticks\": \"\"}}, \"title\": {\"x\": 0.05}, \"xaxis\": {\"automargin\": true, \"gridcolor\": \"white\", \"linecolor\": \"white\", \"ticks\": \"\", \"zerolinecolor\": \"white\", \"zerolinewidth\": 2}, \"yaxis\": {\"automargin\": true, \"gridcolor\": \"white\", \"linecolor\": \"white\", \"ticks\": \"\", \"zerolinecolor\": \"white\", \"zerolinewidth\": 2}}}, \"title\": {\"text\": \"Shock scenarios (with lower bound)\", \"x\": 0.5, \"xanchor\": \"center\", \"y\": 0.9, \"yanchor\": \"top\"}, \"xaxis\": {\"title\": {\"text\": \"Expiry (in years)\"}}, \"yaxis\": {\"title\": {\"text\": \"Discount factor\"}}},\n",
       "                        {\"responsive\": true}\n",
       "                    ).then(function(){\n",
       "                            \n",
       "var gd = document.getElementById('9300cb7c-c174-40e9-9afe-6bf8927fd025');\n",
       "var x = new MutationObserver(function (mutations, observer) {{\n",
       "        var display = window.getComputedStyle(gd).display;\n",
       "        if (!display || display === 'none') {{\n",
       "            console.log([gd, 'removed!']);\n",
       "            Plotly.purge(gd);\n",
       "            observer.disconnect();\n",
       "        }}\n",
       "}});\n",
       "\n",
       "// Listen for the removal of the full notebook cells\n",
       "var notebookContainer = gd.closest('#notebook-container');\n",
       "if (notebookContainer) {{\n",
       "    x.observe(notebookContainer, {childList: true});\n",
       "}}\n",
       "\n",
       "// Listen for the clearing of the current output cell\n",
       "var outputEl = gd.closest('.output');\n",
       "if (outputEl) {{\n",
       "    x.observe(outputEl, {childList: true});\n",
       "}}\n",
       "\n",
       "                        })\n",
       "                };\n",
       "                });\n",
       "            </script>\n",
       "        </div>"
      ]
     },
     "metadata": {},
     "output_type": "display_data"
    }
   ],
   "source": [
    "# Plot the discount factors again, but use pyvacon discount curves instead of mere discount factors for the computations\n",
    "def plot_shocked_discount_curves(\n",
    "    name,\n",
    "    refdate,\n",
    "    dates,\n",
    "    discountFactors,\n",
    "    daycounterType,\n",
    "    interpolationType,\n",
    "    extrapolationType,\n",
    "    shockParams,\n",
    "    useLowerBound = True\n",
    "):\n",
    "    parallel = shockParams['Parallel']\n",
    "    short = shockParams['Short']\n",
    "    long = shockParams['Long']\n",
    "    \n",
    "    shockScenarios = ['Original', 'ParallelUp', 'ParallelDown', 'ShortUp', 'ShortDown', 'LongUp', 'LongDown', 'Flatten', 'Steepen']\n",
    "   \n",
    "    daycounter = analytics.DayCounter(daycounterType)\n",
    "    \n",
    "    fig = go.Figure()\n",
    "    \n",
    "    for shockScenario in shockScenarios:\n",
    "        dc = getShockedDiscountCurve(\n",
    "            name + '_' + shockScenario,\n",
    "            refdate,\n",
    "            dates,\n",
    "            discountFactors,\n",
    "            daycounterType,\n",
    "            interpolationType,\n",
    "            extrapolationType,\n",
    "            shockScenario,\n",
    "            parallel,\n",
    "            short,\n",
    "            long,\n",
    "            useLowerBound\n",
    "        )\n",
    "        \n",
    "        year_fractions = []\n",
    "        for i in range(len(dates)):\n",
    "            year_fractions.append(daycounter.yf(refdate, dates[i]))\n",
    "        values = analytics.vectorDouble()\n",
    "        dc.value(values, refdate, dates)\n",
    "        \n",
    "        # convert to normal list\n",
    "        values = [x for x in values]\n",
    "            \n",
    "        fig.add_trace(go.Scatter(x = year_fractions, y = values, name = shockScenario, mode = default_plotly_scatter_mode))\n",
    "     \n",
    "    \n",
    "    if  useLowerBound:\n",
    "        title_figure = 'Shock scenarios (with lower bound)'\n",
    "    else :\n",
    "        title_figure = 'Shock scenarios (without lower bound)'\n",
    "    \n",
    "    fig.update_layout(\n",
    "        showlegend=True,\n",
    "        xaxis = dict(title_text = \"Expiry (in years)\"),\n",
    "        yaxis = dict(title_text = \"Discount factor\"),\n",
    "        title={\n",
    "            'text': title_figure,\n",
    "            'y':0.9,\n",
    "            'x':0.5,\n",
    "            'xanchor': 'center',\n",
    "            'yanchor': 'top'}\n",
    "    )\n",
    "\n",
    "    fig.show()\n",
    "    \n",
    "    \n",
    "plot_shocked_discount_curves(\n",
    "    name = 'dc_linear',\n",
    "    refdate = refdate_scenarios,\n",
    "    dates = sampling_points_simple_example,\n",
    "    discountFactors = [0.0] * len(sampling_points_simple_example),\n",
    "    daycounterType = default_daycounter_type,\n",
    "    interpolationType = default_interpolation_type,\n",
    "    extrapolationType = default_extrapolation_type,\n",
    "    shockParams = shockparams_standard,\n",
    "    useLowerBound = False\n",
    ")    \n",
    "    \n",
    "plot_shocked_discount_curves(\n",
    "    name = 'dc_linear',\n",
    "    refdate = refdate_scenarios,\n",
    "    dates = sampling_points_simple_example,\n",
    "    discountFactors = [0.0] * len(sampling_points_simple_example),\n",
    "    daycounterType = default_daycounter_type,\n",
    "    interpolationType = default_interpolation_type,\n",
    "    extrapolationType = default_extrapolation_type,\n",
    "    shockParams = shockparams_standard,\n",
    "    useLowerBound = True\n",
    ")"
   ]
  },
  {
   "cell_type": "markdown",
   "metadata": {},
   "source": [
    "## Example (BaFin)\n",
    "In this section, we apply the interest rate scenarios to a more realistic interest rate curve. The curve we use is taken from *Rundschreiben 06/2019 (BA) - Zinsänderungsrisiken im Anlagenbuch* an official regulatory document issued by BaFin."
   ]
  },
  {
   "cell_type": "code",
   "execution_count": 13,
   "metadata": {
    "code_folding": [
     0
    ]
   },
   "outputs": [],
   "source": [
    "# Define example data\n",
    "\n",
    "refdate_BaFin = dt.datetime(year = 2020, month = 1 , day = 1)\n",
    "\n",
    "example_BaFin_interest_rate_basispoints = [\n",
    "    -57,\n",
    "    -60,\n",
    "    -62,\n",
    "    -64,\n",
    "    -69,\n",
    "    -68,\n",
    "    -64,\n",
    "    -56,\n",
    "    -48,\n",
    "    -39,\n",
    "    -30,\n",
    "    -21,\n",
    "    -13,\n",
    "    -6,\n",
    "    1,\n",
    "    7,\n",
    "    13,\n",
    "    18,\n",
    "    22,\n",
    "    26,\n",
    "    30,\n",
    "    33,\n",
    "    36,\n",
    "    38,\n",
    "    41,\n",
    "    43,\n",
    "    45,\n",
    "    47,\n",
    "    49,\n",
    "    50,\n",
    "    52,\n",
    "    53,\n",
    "    55\n",
    "]\n",
    "\n",
    "example_BaFin_sampling_points = [\n",
    "    refdate_BaFin + dt.timedelta(days = round(yf*365)) for yf in [0.25, 0.5, 0.75]\n",
    "]\n",
    "\n",
    "for i in range(30):\n",
    "    year = refdate_BaFin.year + i + 1\n",
    "    month = refdate_BaFin.month\n",
    "    day = refdate_BaFin.day\n",
    "    example_BaFin_sampling_points.append(\n",
    "        dt.datetime(year = year, month = month , day = day)\n",
    "    )"
   ]
  },
  {
   "cell_type": "markdown",
   "metadata": {},
   "source": [
    "### Plot all scenarios"
   ]
  },
  {
   "cell_type": "code",
   "execution_count": 14,
   "metadata": {
    "code_folding": [
     0
    ],
    "scrolled": false
   },
   "outputs": [
    {
     "data": {
      "application/vnd.plotly.v1+json": {
       "config": {
        "plotlyServerURL": "https://plot.ly"
       },
       "data": [
        {
         "mode": "lines",
         "name": "Original",
         "type": "scatter",
         "x": [
          0.24863387978142076,
          0.4972677595628415,
          0.7486338797814208,
          1,
          2,
          3,
          4,
          5,
          6,
          7,
          8,
          9,
          10,
          11,
          12,
          13,
          14,
          15,
          16,
          17,
          18,
          19,
          20,
          21,
          22,
          23,
          24,
          25,
          26,
          27,
          28,
          29,
          30
         ],
         "y": [
          -57,
          -60,
          -62,
          -64,
          -69,
          -68,
          -64,
          -56,
          -48,
          -39,
          -30,
          -21,
          -13,
          -6,
          1,
          7,
          13,
          18,
          22,
          26,
          30,
          33,
          36,
          38,
          41,
          43,
          45,
          47,
          49,
          50,
          52,
          53,
          55
         ]
        },
        {
         "mode": "lines",
         "name": "ParallelUp",
         "type": "scatter",
         "x": [
          0.24863387978142076,
          0.4972677595628415,
          0.7486338797814208,
          1,
          2,
          3,
          4,
          5,
          6,
          7,
          8,
          9,
          10,
          11,
          12,
          13,
          14,
          15,
          16,
          17,
          18,
          19,
          20,
          21,
          22,
          23,
          24,
          25,
          26,
          27,
          28,
          29,
          30
         ],
         "y": [
          143,
          140,
          138,
          136,
          131,
          132,
          136,
          144,
          152,
          161,
          170,
          179,
          187,
          194,
          201,
          207,
          213,
          218,
          222,
          226,
          230,
          233,
          236,
          238,
          241,
          243,
          245,
          247,
          249,
          250,
          252,
          253,
          255
         ]
        },
        {
         "mode": "lines",
         "name": "ParallelDown",
         "type": "scatter",
         "x": [
          0.24863387978142076,
          0.4972677595628415,
          0.7486338797814208,
          1,
          2,
          3,
          4,
          5,
          6,
          7,
          8,
          9,
          10,
          11,
          12,
          13,
          14,
          15,
          16,
          17,
          18,
          19,
          20,
          21,
          22,
          23,
          24,
          25,
          26,
          27,
          28,
          29,
          30
         ],
         "y": [
          -257,
          -260,
          -262,
          -264,
          -269,
          -268,
          -264,
          -256,
          -248,
          -239,
          -230,
          -221,
          -213,
          -206,
          -199,
          -193,
          -187,
          -182,
          -178,
          -174,
          -170,
          -167,
          -164,
          -162,
          -159,
          -157,
          -155,
          -153,
          -151,
          -150,
          -148,
          -147,
          -145
         ]
        },
        {
         "mode": "lines",
         "name": "ShortUp",
         "type": "scatter",
         "x": [
          0.24863387978142076,
          0.4972677595628415,
          0.7486338797814208,
          1,
          2,
          3,
          4,
          5,
          6,
          7,
          8,
          9,
          10,
          11,
          12,
          13,
          14,
          15,
          16,
          17,
          18,
          19,
          20,
          21,
          22,
          23,
          24,
          25,
          26,
          27,
          28,
          29,
          30
         ],
         "y": [
          177.93348885056625,
          160.77497673399657,
          145.3280762240173,
          130.70019576785123,
          82.63266492815836,
          50.09163818525367,
          27.969860292860588,
          15.62619921504752,
          7.782540037107452,
          4.443485862611283,
          3.833820809153174,
          5.349806140466082,
          7.5212496559746995,
          9.981965301676892,
          13.446767091965986,
          16.693551957930502,
          20.549345855579624,
          23.879436464002275,
          26.578909722183546,
          29.566058477249815,
          32.77724913456058,
          35.162923800780156,
          37.68448674977137,
          39.31187959979535,
          42.02169285961602,
          43.795695199127415,
          45.61968804416659,
          47.482613534056924,
          49.37585979824439,
          50.29271990519779,
          52.22797049138863,
          53.17754359721064,
          55.13827109253696
         ]
        },
        {
         "mode": "lines",
         "name": "ShortDown",
         "type": "scatter",
         "x": [
          0.24863387978142076,
          0.4972677595628415,
          0.7486338797814208,
          1,
          2,
          3,
          4,
          5,
          6,
          7,
          8,
          9,
          10,
          11,
          12,
          13,
          14,
          15,
          16,
          17,
          18,
          19,
          20,
          21,
          22,
          23,
          24,
          25,
          26,
          27,
          28,
          29,
          30
         ],
         "y": [
          -291.9334888505663,
          -280.7749767339966,
          -269.3280762240173,
          -258.70019576785126,
          -220.63266492815836,
          -186.09163818525366,
          -155.96986029286057,
          -127.62619921504752,
          -103.78254003710745,
          -82.44348586261128,
          -63.833820809153174,
          -47.349806140466086,
          -33.5212496559747,
          -21.981965301676894,
          -11.446767091965986,
          -2.6935519579305023,
          5.450654144420374,
          12.120563535997723,
          17.421090277816454,
          22.433941522750185,
          27.222750865439423,
          30.83707619921984,
          34.31551325022863,
          36.68812040020465,
          39.97830714038398,
          42.204304800872585,
          44.38031195583341,
          46.517386465943076,
          48.62414020175561,
          49.70728009480221,
          51.77202950861137,
          52.82245640278936,
          54.86172890746304
         ]
        },
        {
         "mode": "lines",
         "name": "LongUp",
         "type": "scatter",
         "x": [
          0.24863387978142076,
          0.4972677595628415,
          0.7486338797814208,
          1,
          2,
          3,
          4,
          5,
          6,
          7,
          8,
          9,
          10,
          11,
          12,
          13,
          14,
          15,
          16,
          17,
          18,
          19,
          20,
          21,
          22,
          23,
          24,
          25,
          26,
          27,
          28,
          29,
          30
         ],
         "y": [
          -50.9733955402265,
          -48.30999069359863,
          -44.93123048960692,
          -41.88007830714049,
          -29.653065971263345,
          -15.236655274101466,
          -0.7879441171442352,
          15.349520313980989,
          29.686983985157028,
          43.62260565495548,
          56.46647167633873,
          68.46007754381357,
          78.79150013761011,
          87.60721387932924,
          96.0212931632136,
          103.1225792168278,
          109.98026165776815,
          115.64822541439909,
          120.16843611112658,
          124.57357660910007,
          128.88910034617578,
          132.13483047968793,
          135.32620530009146,
          137.47524816008186,
          140.5913228561536,
          142.68172192034905,
          144.75212478233337,
          146.80695458637723,
          148.84965608070223,
          149.88291203792087,
          151.90881180344456,
          152.92898256111573,
          154.9446915629852
         ]
        },
        {
         "mode": "lines",
         "name": "LongDown",
         "type": "scatter",
         "x": [
          0.24863387978142076,
          0.4972677595628415,
          0.7486338797814208,
          1,
          2,
          3,
          4,
          5,
          6,
          7,
          8,
          9,
          10,
          11,
          12,
          13,
          14,
          15,
          16,
          17,
          18,
          19,
          20,
          21,
          22,
          23,
          24,
          25,
          26,
          27,
          28,
          29,
          30
         ],
         "y": [
          -63.0266044597735,
          -71.69000930640138,
          -79.06876951039308,
          -86.11992169285952,
          -108.34693402873665,
          -120.76334472589853,
          -127.21205588285576,
          -127.34952031398099,
          -125.68698398515703,
          -121.62260565495548,
          -116.46647167633873,
          -110.46007754381357,
          -104.79150013761011,
          -99.60721387932924,
          -94.0212931632136,
          -89.1225792168278,
          -83.98026165776815,
          -79.64822541439909,
          -76.16843611112658,
          -72.57357660910007,
          -68.88910034617578,
          -66.13483047968793,
          -63.32620530009146,
          -61.47524816008186,
          -58.591322856153596,
          -56.681721920349034,
          -54.75212478233337,
          -52.80695458637723,
          -50.849656080702246,
          -49.882912037920875,
          -47.90881180344455,
          -46.928982561115745,
          -44.94469156298523
         ]
        },
        {
         "mode": "lines",
         "name": "Flatten",
         "type": "scatter",
         "x": [
          0.24863387978142076,
          0.4972677595628415,
          0.7486338797814208,
          1,
          2,
          3,
          4,
          5,
          6,
          7,
          8,
          9,
          10,
          11,
          12,
          13,
          14,
          15,
          16,
          17,
          18,
          19,
          20,
          21,
          22,
          23,
          24,
          25,
          26,
          27,
          28,
          29,
          30
         ],
         "y": [
          127.33082840458891,
          109.60597580335644,
          93.621199272978,
          78.48820359856529,
          28.6979715252847,
          -5.184696287336173,
          -28.351345295424984,
          -41.50875281635057,
          -49.98615836140825,
          -53.818774702884255,
          -54.81282635848069,
          -53.59620161391527,
          -51.6579003577863,
          -49.378756086256026,
          -46.05536222435537,
          -42.918705963752274,
          -39.148680310197186,
          -35.88538607743763,
          -33.237933888929106,
          -30.291299183660186,
          -27.111660900057004,
          -24.750559247188633,
          -22.24813378023778,
          -20.635645216212836,
          -17.937439425999337,
          -16.172476992907484,
          -14.355524434066744,
          -12.498081924580795,
          -10.609105809825827,
          -9.695571298594288,
          -7.762910688955827,
          -6.815354658900937,
          -4.856198063761568
         ]
        },
        {
         "mode": "lines",
         "name": "Steepen",
         "type": "scatter",
         "x": [
          0.24863387978142076,
          0.4972677595628415,
          0.7486338797814208,
          1,
          2,
          3,
          4,
          5,
          6,
          7,
          8,
          9,
          10,
          11,
          12,
          13,
          14,
          15,
          16,
          17,
          18,
          19,
          20,
          21,
          22,
          23,
          24,
          25,
          26,
          27,
          28,
          29,
          30
         ],
         "y": [
          -204.28282373907192,
          -192.98272650133654,
          -181.40135698625747,
          -170.64719772552974,
          -132.14899157743994,
          -97.27255456710621,
          -66.8895588957892,
          -38.342461207198,
          -14.34036543747851,
          7.122079278762591,
          25.82784098275529,
          42.38669579812926,
          56.27353784746556,
          67.85821504530634,
          78.42876523711435,
          87.20951252249019,
          95.37516068586459,
          102.0617691713577,
          107.37530118059462,
          112.39828093797769,
          117.19497837409382,
          120.81544696121203,
          124.29866838273092,
          126.6750016042067,
          129.96809021178782,
          132.19634784888132,
          134.37411507539176,
          136.5125603306025,
          138.62038160377318,
          139.70435289575022,
          141.7697498036975,
          142.82068096681726,
          144.86034619653768
         ]
        }
       ],
       "layout": {
        "showlegend": true,
        "template": {
         "data": {
          "bar": [
           {
            "error_x": {
             "color": "#2a3f5f"
            },
            "error_y": {
             "color": "#2a3f5f"
            },
            "marker": {
             "line": {
              "color": "#E5ECF6",
              "width": 0.5
             }
            },
            "type": "bar"
           }
          ],
          "barpolar": [
           {
            "marker": {
             "line": {
              "color": "#E5ECF6",
              "width": 0.5
             }
            },
            "type": "barpolar"
           }
          ],
          "carpet": [
           {
            "aaxis": {
             "endlinecolor": "#2a3f5f",
             "gridcolor": "white",
             "linecolor": "white",
             "minorgridcolor": "white",
             "startlinecolor": "#2a3f5f"
            },
            "baxis": {
             "endlinecolor": "#2a3f5f",
             "gridcolor": "white",
             "linecolor": "white",
             "minorgridcolor": "white",
             "startlinecolor": "#2a3f5f"
            },
            "type": "carpet"
           }
          ],
          "choropleth": [
           {
            "colorbar": {
             "outlinewidth": 0,
             "ticks": ""
            },
            "type": "choropleth"
           }
          ],
          "contour": [
           {
            "colorbar": {
             "outlinewidth": 0,
             "ticks": ""
            },
            "colorscale": [
             [
              0,
              "#0d0887"
             ],
             [
              0.1111111111111111,
              "#46039f"
             ],
             [
              0.2222222222222222,
              "#7201a8"
             ],
             [
              0.3333333333333333,
              "#9c179e"
             ],
             [
              0.4444444444444444,
              "#bd3786"
             ],
             [
              0.5555555555555556,
              "#d8576b"
             ],
             [
              0.6666666666666666,
              "#ed7953"
             ],
             [
              0.7777777777777778,
              "#fb9f3a"
             ],
             [
              0.8888888888888888,
              "#fdca26"
             ],
             [
              1,
              "#f0f921"
             ]
            ],
            "type": "contour"
           }
          ],
          "contourcarpet": [
           {
            "colorbar": {
             "outlinewidth": 0,
             "ticks": ""
            },
            "type": "contourcarpet"
           }
          ],
          "heatmap": [
           {
            "colorbar": {
             "outlinewidth": 0,
             "ticks": ""
            },
            "colorscale": [
             [
              0,
              "#0d0887"
             ],
             [
              0.1111111111111111,
              "#46039f"
             ],
             [
              0.2222222222222222,
              "#7201a8"
             ],
             [
              0.3333333333333333,
              "#9c179e"
             ],
             [
              0.4444444444444444,
              "#bd3786"
             ],
             [
              0.5555555555555556,
              "#d8576b"
             ],
             [
              0.6666666666666666,
              "#ed7953"
             ],
             [
              0.7777777777777778,
              "#fb9f3a"
             ],
             [
              0.8888888888888888,
              "#fdca26"
             ],
             [
              1,
              "#f0f921"
             ]
            ],
            "type": "heatmap"
           }
          ],
          "heatmapgl": [
           {
            "colorbar": {
             "outlinewidth": 0,
             "ticks": ""
            },
            "colorscale": [
             [
              0,
              "#0d0887"
             ],
             [
              0.1111111111111111,
              "#46039f"
             ],
             [
              0.2222222222222222,
              "#7201a8"
             ],
             [
              0.3333333333333333,
              "#9c179e"
             ],
             [
              0.4444444444444444,
              "#bd3786"
             ],
             [
              0.5555555555555556,
              "#d8576b"
             ],
             [
              0.6666666666666666,
              "#ed7953"
             ],
             [
              0.7777777777777778,
              "#fb9f3a"
             ],
             [
              0.8888888888888888,
              "#fdca26"
             ],
             [
              1,
              "#f0f921"
             ]
            ],
            "type": "heatmapgl"
           }
          ],
          "histogram": [
           {
            "marker": {
             "colorbar": {
              "outlinewidth": 0,
              "ticks": ""
             }
            },
            "type": "histogram"
           }
          ],
          "histogram2d": [
           {
            "colorbar": {
             "outlinewidth": 0,
             "ticks": ""
            },
            "colorscale": [
             [
              0,
              "#0d0887"
             ],
             [
              0.1111111111111111,
              "#46039f"
             ],
             [
              0.2222222222222222,
              "#7201a8"
             ],
             [
              0.3333333333333333,
              "#9c179e"
             ],
             [
              0.4444444444444444,
              "#bd3786"
             ],
             [
              0.5555555555555556,
              "#d8576b"
             ],
             [
              0.6666666666666666,
              "#ed7953"
             ],
             [
              0.7777777777777778,
              "#fb9f3a"
             ],
             [
              0.8888888888888888,
              "#fdca26"
             ],
             [
              1,
              "#f0f921"
             ]
            ],
            "type": "histogram2d"
           }
          ],
          "histogram2dcontour": [
           {
            "colorbar": {
             "outlinewidth": 0,
             "ticks": ""
            },
            "colorscale": [
             [
              0,
              "#0d0887"
             ],
             [
              0.1111111111111111,
              "#46039f"
             ],
             [
              0.2222222222222222,
              "#7201a8"
             ],
             [
              0.3333333333333333,
              "#9c179e"
             ],
             [
              0.4444444444444444,
              "#bd3786"
             ],
             [
              0.5555555555555556,
              "#d8576b"
             ],
             [
              0.6666666666666666,
              "#ed7953"
             ],
             [
              0.7777777777777778,
              "#fb9f3a"
             ],
             [
              0.8888888888888888,
              "#fdca26"
             ],
             [
              1,
              "#f0f921"
             ]
            ],
            "type": "histogram2dcontour"
           }
          ],
          "mesh3d": [
           {
            "colorbar": {
             "outlinewidth": 0,
             "ticks": ""
            },
            "type": "mesh3d"
           }
          ],
          "parcoords": [
           {
            "line": {
             "colorbar": {
              "outlinewidth": 0,
              "ticks": ""
             }
            },
            "type": "parcoords"
           }
          ],
          "scatter": [
           {
            "marker": {
             "colorbar": {
              "outlinewidth": 0,
              "ticks": ""
             }
            },
            "type": "scatter"
           }
          ],
          "scatter3d": [
           {
            "line": {
             "colorbar": {
              "outlinewidth": 0,
              "ticks": ""
             }
            },
            "marker": {
             "colorbar": {
              "outlinewidth": 0,
              "ticks": ""
             }
            },
            "type": "scatter3d"
           }
          ],
          "scattercarpet": [
           {
            "marker": {
             "colorbar": {
              "outlinewidth": 0,
              "ticks": ""
             }
            },
            "type": "scattercarpet"
           }
          ],
          "scattergeo": [
           {
            "marker": {
             "colorbar": {
              "outlinewidth": 0,
              "ticks": ""
             }
            },
            "type": "scattergeo"
           }
          ],
          "scattergl": [
           {
            "marker": {
             "colorbar": {
              "outlinewidth": 0,
              "ticks": ""
             }
            },
            "type": "scattergl"
           }
          ],
          "scattermapbox": [
           {
            "marker": {
             "colorbar": {
              "outlinewidth": 0,
              "ticks": ""
             }
            },
            "type": "scattermapbox"
           }
          ],
          "scatterpolar": [
           {
            "marker": {
             "colorbar": {
              "outlinewidth": 0,
              "ticks": ""
             }
            },
            "type": "scatterpolar"
           }
          ],
          "scatterpolargl": [
           {
            "marker": {
             "colorbar": {
              "outlinewidth": 0,
              "ticks": ""
             }
            },
            "type": "scatterpolargl"
           }
          ],
          "scatterternary": [
           {
            "marker": {
             "colorbar": {
              "outlinewidth": 0,
              "ticks": ""
             }
            },
            "type": "scatterternary"
           }
          ],
          "surface": [
           {
            "colorbar": {
             "outlinewidth": 0,
             "ticks": ""
            },
            "colorscale": [
             [
              0,
              "#0d0887"
             ],
             [
              0.1111111111111111,
              "#46039f"
             ],
             [
              0.2222222222222222,
              "#7201a8"
             ],
             [
              0.3333333333333333,
              "#9c179e"
             ],
             [
              0.4444444444444444,
              "#bd3786"
             ],
             [
              0.5555555555555556,
              "#d8576b"
             ],
             [
              0.6666666666666666,
              "#ed7953"
             ],
             [
              0.7777777777777778,
              "#fb9f3a"
             ],
             [
              0.8888888888888888,
              "#fdca26"
             ],
             [
              1,
              "#f0f921"
             ]
            ],
            "type": "surface"
           }
          ],
          "table": [
           {
            "cells": {
             "fill": {
              "color": "#EBF0F8"
             },
             "line": {
              "color": "white"
             }
            },
            "header": {
             "fill": {
              "color": "#C8D4E3"
             },
             "line": {
              "color": "white"
             }
            },
            "type": "table"
           }
          ]
         },
         "layout": {
          "annotationdefaults": {
           "arrowcolor": "#2a3f5f",
           "arrowhead": 0,
           "arrowwidth": 1
          },
          "colorscale": {
           "diverging": [
            [
             0,
             "#8e0152"
            ],
            [
             0.1,
             "#c51b7d"
            ],
            [
             0.2,
             "#de77ae"
            ],
            [
             0.3,
             "#f1b6da"
            ],
            [
             0.4,
             "#fde0ef"
            ],
            [
             0.5,
             "#f7f7f7"
            ],
            [
             0.6,
             "#e6f5d0"
            ],
            [
             0.7,
             "#b8e186"
            ],
            [
             0.8,
             "#7fbc41"
            ],
            [
             0.9,
             "#4d9221"
            ],
            [
             1,
             "#276419"
            ]
           ],
           "sequential": [
            [
             0,
             "#0d0887"
            ],
            [
             0.1111111111111111,
             "#46039f"
            ],
            [
             0.2222222222222222,
             "#7201a8"
            ],
            [
             0.3333333333333333,
             "#9c179e"
            ],
            [
             0.4444444444444444,
             "#bd3786"
            ],
            [
             0.5555555555555556,
             "#d8576b"
            ],
            [
             0.6666666666666666,
             "#ed7953"
            ],
            [
             0.7777777777777778,
             "#fb9f3a"
            ],
            [
             0.8888888888888888,
             "#fdca26"
            ],
            [
             1,
             "#f0f921"
            ]
           ],
           "sequentialminus": [
            [
             0,
             "#0d0887"
            ],
            [
             0.1111111111111111,
             "#46039f"
            ],
            [
             0.2222222222222222,
             "#7201a8"
            ],
            [
             0.3333333333333333,
             "#9c179e"
            ],
            [
             0.4444444444444444,
             "#bd3786"
            ],
            [
             0.5555555555555556,
             "#d8576b"
            ],
            [
             0.6666666666666666,
             "#ed7953"
            ],
            [
             0.7777777777777778,
             "#fb9f3a"
            ],
            [
             0.8888888888888888,
             "#fdca26"
            ],
            [
             1,
             "#f0f921"
            ]
           ]
          },
          "colorway": [
           "#636efa",
           "#EF553B",
           "#00cc96",
           "#ab63fa",
           "#FFA15A",
           "#19d3f3",
           "#FF6692",
           "#B6E880",
           "#FF97FF",
           "#FECB52"
          ],
          "font": {
           "color": "#2a3f5f"
          },
          "geo": {
           "bgcolor": "white",
           "lakecolor": "white",
           "landcolor": "#E5ECF6",
           "showlakes": true,
           "showland": true,
           "subunitcolor": "white"
          },
          "hoverlabel": {
           "align": "left"
          },
          "hovermode": "closest",
          "mapbox": {
           "style": "light"
          },
          "paper_bgcolor": "white",
          "plot_bgcolor": "#E5ECF6",
          "polar": {
           "angularaxis": {
            "gridcolor": "white",
            "linecolor": "white",
            "ticks": ""
           },
           "bgcolor": "#E5ECF6",
           "radialaxis": {
            "gridcolor": "white",
            "linecolor": "white",
            "ticks": ""
           }
          },
          "scene": {
           "xaxis": {
            "backgroundcolor": "#E5ECF6",
            "gridcolor": "white",
            "gridwidth": 2,
            "linecolor": "white",
            "showbackground": true,
            "ticks": "",
            "zerolinecolor": "white"
           },
           "yaxis": {
            "backgroundcolor": "#E5ECF6",
            "gridcolor": "white",
            "gridwidth": 2,
            "linecolor": "white",
            "showbackground": true,
            "ticks": "",
            "zerolinecolor": "white"
           },
           "zaxis": {
            "backgroundcolor": "#E5ECF6",
            "gridcolor": "white",
            "gridwidth": 2,
            "linecolor": "white",
            "showbackground": true,
            "ticks": "",
            "zerolinecolor": "white"
           }
          },
          "shapedefaults": {
           "line": {
            "color": "#2a3f5f"
           }
          },
          "ternary": {
           "aaxis": {
            "gridcolor": "white",
            "linecolor": "white",
            "ticks": ""
           },
           "baxis": {
            "gridcolor": "white",
            "linecolor": "white",
            "ticks": ""
           },
           "bgcolor": "#E5ECF6",
           "caxis": {
            "gridcolor": "white",
            "linecolor": "white",
            "ticks": ""
           }
          },
          "title": {
           "x": 0.05
          },
          "xaxis": {
           "automargin": true,
           "gridcolor": "white",
           "linecolor": "white",
           "ticks": "",
           "zerolinecolor": "white",
           "zerolinewidth": 2
          },
          "yaxis": {
           "automargin": true,
           "gridcolor": "white",
           "linecolor": "white",
           "ticks": "",
           "zerolinecolor": "white",
           "zerolinewidth": 2
          }
         }
        },
        "title": {
         "text": "Shock scenarios (without lower bound)",
         "x": 0.5,
         "xanchor": "center",
         "y": 0.9,
         "yanchor": "top"
        },
        "xaxis": {
         "title": {
          "text": "Expiry (in years)"
         }
        },
        "yaxis": {
         "title": {
          "text": "Interest rate (in basis points)"
         }
        }
       }
      },
      "text/html": [
       "<div>\n",
       "        \n",
       "        \n",
       "            <div id=\"a73ac4c7-0028-4387-959f-d3e065c11710\" class=\"plotly-graph-div\" style=\"height:525px; width:100%;\"></div>\n",
       "            <script type=\"text/javascript\">\n",
       "                require([\"plotly\"], function(Plotly) {\n",
       "                    window.PLOTLYENV=window.PLOTLYENV || {};\n",
       "                    \n",
       "                if (document.getElementById(\"a73ac4c7-0028-4387-959f-d3e065c11710\")) {\n",
       "                    Plotly.newPlot(\n",
       "                        'a73ac4c7-0028-4387-959f-d3e065c11710',\n",
       "                        [{\"mode\": \"lines\", \"name\": \"Original\", \"type\": \"scatter\", \"x\": [0.24863387978142076, 0.4972677595628415, 0.7486338797814208, 1.0, 2.0, 3.0, 4.0, 5.0, 6.0, 7.0, 8.0, 9.0, 10.0, 11.0, 12.0, 13.0, 14.0, 15.0, 16.0, 17.0, 18.0, 19.0, 20.0, 21.0, 22.0, 23.0, 24.0, 25.0, 26.0, 27.0, 28.0, 29.0, 30.0], \"y\": [-57, -60, -62, -64, -69, -68, -64, -56, -48, -39, -30, -21, -13, -6, 1, 7, 13, 18, 22, 26, 30, 33, 36, 38, 41, 43, 45, 47, 49, 50, 52, 53, 55]}, {\"mode\": \"lines\", \"name\": \"ParallelUp\", \"type\": \"scatter\", \"x\": [0.24863387978142076, 0.4972677595628415, 0.7486338797814208, 1.0, 2.0, 3.0, 4.0, 5.0, 6.0, 7.0, 8.0, 9.0, 10.0, 11.0, 12.0, 13.0, 14.0, 15.0, 16.0, 17.0, 18.0, 19.0, 20.0, 21.0, 22.0, 23.0, 24.0, 25.0, 26.0, 27.0, 28.0, 29.0, 30.0], \"y\": [143.0, 140.0, 138.0, 136.0, 131.0, 132.0, 136.0, 144.0, 152.0, 161.0, 170.0, 179.0, 187.0, 194.0, 201.0, 207.0, 213.0, 218.0, 222.0, 226.0, 230.0, 233.0, 236.0, 238.0, 241.0, 243.0, 245.0, 247.0, 249.0, 250.0, 252.0, 253.0, 255.0]}, {\"mode\": \"lines\", \"name\": \"ParallelDown\", \"type\": \"scatter\", \"x\": [0.24863387978142076, 0.4972677595628415, 0.7486338797814208, 1.0, 2.0, 3.0, 4.0, 5.0, 6.0, 7.0, 8.0, 9.0, 10.0, 11.0, 12.0, 13.0, 14.0, 15.0, 16.0, 17.0, 18.0, 19.0, 20.0, 21.0, 22.0, 23.0, 24.0, 25.0, 26.0, 27.0, 28.0, 29.0, 30.0], \"y\": [-257.0, -260.0, -262.0, -264.0, -269.0, -268.0, -264.0, -256.0, -248.0, -239.0, -230.0, -221.0, -213.0, -206.0, -199.0, -193.0, -187.0, -182.0, -178.0, -174.0, -170.0, -167.0, -164.0, -162.0, -159.0, -157.0, -155.0, -153.0, -151.0, -150.0, -148.0, -147.0, -145.0]}, {\"mode\": \"lines\", \"name\": \"ShortUp\", \"type\": \"scatter\", \"x\": [0.24863387978142076, 0.4972677595628415, 0.7486338797814208, 1.0, 2.0, 3.0, 4.0, 5.0, 6.0, 7.0, 8.0, 9.0, 10.0, 11.0, 12.0, 13.0, 14.0, 15.0, 16.0, 17.0, 18.0, 19.0, 20.0, 21.0, 22.0, 23.0, 24.0, 25.0, 26.0, 27.0, 28.0, 29.0, 30.0], \"y\": [177.93348885056625, 160.77497673399657, 145.3280762240173, 130.70019576785123, 82.63266492815836, 50.09163818525367, 27.969860292860588, 15.62619921504752, 7.782540037107452, 4.443485862611283, 3.833820809153174, 5.349806140466082, 7.5212496559746995, 9.981965301676892, 13.446767091965986, 16.693551957930502, 20.549345855579624, 23.879436464002275, 26.578909722183546, 29.566058477249815, 32.77724913456058, 35.162923800780156, 37.68448674977137, 39.31187959979535, 42.02169285961602, 43.795695199127415, 45.61968804416659, 47.482613534056924, 49.37585979824439, 50.29271990519779, 52.22797049138863, 53.17754359721064, 55.13827109253696]}, {\"mode\": \"lines\", \"name\": \"ShortDown\", \"type\": \"scatter\", \"x\": [0.24863387978142076, 0.4972677595628415, 0.7486338797814208, 1.0, 2.0, 3.0, 4.0, 5.0, 6.0, 7.0, 8.0, 9.0, 10.0, 11.0, 12.0, 13.0, 14.0, 15.0, 16.0, 17.0, 18.0, 19.0, 20.0, 21.0, 22.0, 23.0, 24.0, 25.0, 26.0, 27.0, 28.0, 29.0, 30.0], \"y\": [-291.9334888505663, -280.7749767339966, -269.3280762240173, -258.70019576785126, -220.63266492815836, -186.09163818525366, -155.96986029286057, -127.62619921504752, -103.78254003710745, -82.44348586261128, -63.833820809153174, -47.349806140466086, -33.5212496559747, -21.981965301676894, -11.446767091965986, -2.6935519579305023, 5.450654144420374, 12.120563535997723, 17.421090277816454, 22.433941522750185, 27.222750865439423, 30.83707619921984, 34.31551325022863, 36.68812040020465, 39.97830714038398, 42.204304800872585, 44.38031195583341, 46.517386465943076, 48.62414020175561, 49.70728009480221, 51.77202950861137, 52.82245640278936, 54.86172890746304]}, {\"mode\": \"lines\", \"name\": \"LongUp\", \"type\": \"scatter\", \"x\": [0.24863387978142076, 0.4972677595628415, 0.7486338797814208, 1.0, 2.0, 3.0, 4.0, 5.0, 6.0, 7.0, 8.0, 9.0, 10.0, 11.0, 12.0, 13.0, 14.0, 15.0, 16.0, 17.0, 18.0, 19.0, 20.0, 21.0, 22.0, 23.0, 24.0, 25.0, 26.0, 27.0, 28.0, 29.0, 30.0], \"y\": [-50.9733955402265, -48.30999069359863, -44.93123048960692, -41.88007830714049, -29.653065971263345, -15.236655274101466, -0.7879441171442352, 15.349520313980989, 29.686983985157028, 43.62260565495548, 56.46647167633873, 68.46007754381357, 78.79150013761011, 87.60721387932924, 96.0212931632136, 103.1225792168278, 109.98026165776815, 115.64822541439909, 120.16843611112658, 124.57357660910007, 128.88910034617578, 132.13483047968793, 135.32620530009146, 137.47524816008186, 140.5913228561536, 142.68172192034905, 144.75212478233337, 146.80695458637723, 148.84965608070223, 149.88291203792087, 151.90881180344456, 152.92898256111573, 154.9446915629852]}, {\"mode\": \"lines\", \"name\": \"LongDown\", \"type\": \"scatter\", \"x\": [0.24863387978142076, 0.4972677595628415, 0.7486338797814208, 1.0, 2.0, 3.0, 4.0, 5.0, 6.0, 7.0, 8.0, 9.0, 10.0, 11.0, 12.0, 13.0, 14.0, 15.0, 16.0, 17.0, 18.0, 19.0, 20.0, 21.0, 22.0, 23.0, 24.0, 25.0, 26.0, 27.0, 28.0, 29.0, 30.0], \"y\": [-63.0266044597735, -71.69000930640138, -79.06876951039308, -86.11992169285952, -108.34693402873665, -120.76334472589853, -127.21205588285576, -127.34952031398099, -125.68698398515703, -121.62260565495548, -116.46647167633873, -110.46007754381357, -104.79150013761011, -99.60721387932924, -94.0212931632136, -89.1225792168278, -83.98026165776815, -79.64822541439909, -76.16843611112658, -72.57357660910007, -68.88910034617578, -66.13483047968793, -63.32620530009146, -61.47524816008186, -58.591322856153596, -56.681721920349034, -54.75212478233337, -52.80695458637723, -50.849656080702246, -49.882912037920875, -47.90881180344455, -46.928982561115745, -44.94469156298523]}, {\"mode\": \"lines\", \"name\": \"Flatten\", \"type\": \"scatter\", \"x\": [0.24863387978142076, 0.4972677595628415, 0.7486338797814208, 1.0, 2.0, 3.0, 4.0, 5.0, 6.0, 7.0, 8.0, 9.0, 10.0, 11.0, 12.0, 13.0, 14.0, 15.0, 16.0, 17.0, 18.0, 19.0, 20.0, 21.0, 22.0, 23.0, 24.0, 25.0, 26.0, 27.0, 28.0, 29.0, 30.0], \"y\": [127.33082840458891, 109.60597580335644, 93.621199272978, 78.48820359856529, 28.6979715252847, -5.184696287336173, -28.351345295424984, -41.50875281635057, -49.98615836140825, -53.818774702884255, -54.81282635848069, -53.59620161391527, -51.6579003577863, -49.378756086256026, -46.05536222435537, -42.918705963752274, -39.148680310197186, -35.88538607743763, -33.237933888929106, -30.291299183660186, -27.111660900057004, -24.750559247188633, -22.24813378023778, -20.635645216212836, -17.937439425999337, -16.172476992907484, -14.355524434066744, -12.498081924580795, -10.609105809825827, -9.695571298594288, -7.762910688955827, -6.815354658900937, -4.856198063761568]}, {\"mode\": \"lines\", \"name\": \"Steepen\", \"type\": \"scatter\", \"x\": [0.24863387978142076, 0.4972677595628415, 0.7486338797814208, 1.0, 2.0, 3.0, 4.0, 5.0, 6.0, 7.0, 8.0, 9.0, 10.0, 11.0, 12.0, 13.0, 14.0, 15.0, 16.0, 17.0, 18.0, 19.0, 20.0, 21.0, 22.0, 23.0, 24.0, 25.0, 26.0, 27.0, 28.0, 29.0, 30.0], \"y\": [-204.28282373907192, -192.98272650133654, -181.40135698625747, -170.64719772552974, -132.14899157743994, -97.27255456710621, -66.8895588957892, -38.342461207198, -14.34036543747851, 7.122079278762591, 25.82784098275529, 42.38669579812926, 56.27353784746556, 67.85821504530634, 78.42876523711435, 87.20951252249019, 95.37516068586459, 102.0617691713577, 107.37530118059462, 112.39828093797769, 117.19497837409382, 120.81544696121203, 124.29866838273092, 126.6750016042067, 129.96809021178782, 132.19634784888132, 134.37411507539176, 136.5125603306025, 138.62038160377318, 139.70435289575022, 141.7697498036975, 142.82068096681726, 144.86034619653768]}],\n",
       "                        {\"showlegend\": true, \"template\": {\"data\": {\"bar\": [{\"error_x\": {\"color\": \"#2a3f5f\"}, \"error_y\": {\"color\": \"#2a3f5f\"}, \"marker\": {\"line\": {\"color\": \"#E5ECF6\", \"width\": 0.5}}, \"type\": \"bar\"}], \"barpolar\": [{\"marker\": {\"line\": {\"color\": \"#E5ECF6\", \"width\": 0.5}}, \"type\": \"barpolar\"}], \"carpet\": [{\"aaxis\": {\"endlinecolor\": \"#2a3f5f\", \"gridcolor\": \"white\", \"linecolor\": \"white\", \"minorgridcolor\": \"white\", \"startlinecolor\": \"#2a3f5f\"}, \"baxis\": {\"endlinecolor\": \"#2a3f5f\", \"gridcolor\": \"white\", \"linecolor\": \"white\", \"minorgridcolor\": \"white\", \"startlinecolor\": \"#2a3f5f\"}, \"type\": \"carpet\"}], \"choropleth\": [{\"colorbar\": {\"outlinewidth\": 0, \"ticks\": \"\"}, \"type\": \"choropleth\"}], \"contour\": [{\"colorbar\": {\"outlinewidth\": 0, \"ticks\": \"\"}, \"colorscale\": [[0.0, \"#0d0887\"], [0.1111111111111111, \"#46039f\"], [0.2222222222222222, \"#7201a8\"], [0.3333333333333333, \"#9c179e\"], [0.4444444444444444, \"#bd3786\"], [0.5555555555555556, \"#d8576b\"], [0.6666666666666666, \"#ed7953\"], [0.7777777777777778, \"#fb9f3a\"], [0.8888888888888888, \"#fdca26\"], [1.0, \"#f0f921\"]], \"type\": \"contour\"}], \"contourcarpet\": [{\"colorbar\": {\"outlinewidth\": 0, \"ticks\": \"\"}, \"type\": \"contourcarpet\"}], \"heatmap\": [{\"colorbar\": {\"outlinewidth\": 0, \"ticks\": \"\"}, \"colorscale\": [[0.0, \"#0d0887\"], [0.1111111111111111, \"#46039f\"], [0.2222222222222222, \"#7201a8\"], [0.3333333333333333, \"#9c179e\"], [0.4444444444444444, \"#bd3786\"], [0.5555555555555556, \"#d8576b\"], [0.6666666666666666, \"#ed7953\"], [0.7777777777777778, \"#fb9f3a\"], [0.8888888888888888, \"#fdca26\"], [1.0, \"#f0f921\"]], \"type\": \"heatmap\"}], \"heatmapgl\": [{\"colorbar\": {\"outlinewidth\": 0, \"ticks\": \"\"}, \"colorscale\": [[0.0, \"#0d0887\"], [0.1111111111111111, \"#46039f\"], [0.2222222222222222, \"#7201a8\"], [0.3333333333333333, \"#9c179e\"], [0.4444444444444444, \"#bd3786\"], [0.5555555555555556, \"#d8576b\"], [0.6666666666666666, \"#ed7953\"], [0.7777777777777778, \"#fb9f3a\"], [0.8888888888888888, \"#fdca26\"], [1.0, \"#f0f921\"]], \"type\": \"heatmapgl\"}], \"histogram\": [{\"marker\": {\"colorbar\": {\"outlinewidth\": 0, \"ticks\": \"\"}}, \"type\": \"histogram\"}], \"histogram2d\": [{\"colorbar\": {\"outlinewidth\": 0, \"ticks\": \"\"}, \"colorscale\": [[0.0, \"#0d0887\"], [0.1111111111111111, \"#46039f\"], [0.2222222222222222, \"#7201a8\"], [0.3333333333333333, \"#9c179e\"], [0.4444444444444444, \"#bd3786\"], [0.5555555555555556, \"#d8576b\"], [0.6666666666666666, \"#ed7953\"], [0.7777777777777778, \"#fb9f3a\"], [0.8888888888888888, \"#fdca26\"], [1.0, \"#f0f921\"]], \"type\": \"histogram2d\"}], \"histogram2dcontour\": [{\"colorbar\": {\"outlinewidth\": 0, \"ticks\": \"\"}, \"colorscale\": [[0.0, \"#0d0887\"], [0.1111111111111111, \"#46039f\"], [0.2222222222222222, \"#7201a8\"], [0.3333333333333333, \"#9c179e\"], [0.4444444444444444, \"#bd3786\"], [0.5555555555555556, \"#d8576b\"], [0.6666666666666666, \"#ed7953\"], [0.7777777777777778, \"#fb9f3a\"], [0.8888888888888888, \"#fdca26\"], [1.0, \"#f0f921\"]], \"type\": \"histogram2dcontour\"}], \"mesh3d\": [{\"colorbar\": {\"outlinewidth\": 0, \"ticks\": \"\"}, \"type\": \"mesh3d\"}], \"parcoords\": [{\"line\": {\"colorbar\": {\"outlinewidth\": 0, \"ticks\": \"\"}}, \"type\": \"parcoords\"}], \"scatter\": [{\"marker\": {\"colorbar\": {\"outlinewidth\": 0, \"ticks\": \"\"}}, \"type\": \"scatter\"}], \"scatter3d\": [{\"line\": {\"colorbar\": {\"outlinewidth\": 0, \"ticks\": \"\"}}, \"marker\": {\"colorbar\": {\"outlinewidth\": 0, \"ticks\": \"\"}}, \"type\": \"scatter3d\"}], \"scattercarpet\": [{\"marker\": {\"colorbar\": {\"outlinewidth\": 0, \"ticks\": \"\"}}, \"type\": \"scattercarpet\"}], \"scattergeo\": [{\"marker\": {\"colorbar\": {\"outlinewidth\": 0, \"ticks\": \"\"}}, \"type\": \"scattergeo\"}], \"scattergl\": [{\"marker\": {\"colorbar\": {\"outlinewidth\": 0, \"ticks\": \"\"}}, \"type\": \"scattergl\"}], \"scattermapbox\": [{\"marker\": {\"colorbar\": {\"outlinewidth\": 0, \"ticks\": \"\"}}, \"type\": \"scattermapbox\"}], \"scatterpolar\": [{\"marker\": {\"colorbar\": {\"outlinewidth\": 0, \"ticks\": \"\"}}, \"type\": \"scatterpolar\"}], \"scatterpolargl\": [{\"marker\": {\"colorbar\": {\"outlinewidth\": 0, \"ticks\": \"\"}}, \"type\": \"scatterpolargl\"}], \"scatterternary\": [{\"marker\": {\"colorbar\": {\"outlinewidth\": 0, \"ticks\": \"\"}}, \"type\": \"scatterternary\"}], \"surface\": [{\"colorbar\": {\"outlinewidth\": 0, \"ticks\": \"\"}, \"colorscale\": [[0.0, \"#0d0887\"], [0.1111111111111111, \"#46039f\"], [0.2222222222222222, \"#7201a8\"], [0.3333333333333333, \"#9c179e\"], [0.4444444444444444, \"#bd3786\"], [0.5555555555555556, \"#d8576b\"], [0.6666666666666666, \"#ed7953\"], [0.7777777777777778, \"#fb9f3a\"], [0.8888888888888888, \"#fdca26\"], [1.0, \"#f0f921\"]], \"type\": \"surface\"}], \"table\": [{\"cells\": {\"fill\": {\"color\": \"#EBF0F8\"}, \"line\": {\"color\": \"white\"}}, \"header\": {\"fill\": {\"color\": \"#C8D4E3\"}, \"line\": {\"color\": \"white\"}}, \"type\": \"table\"}]}, \"layout\": {\"annotationdefaults\": {\"arrowcolor\": \"#2a3f5f\", \"arrowhead\": 0, \"arrowwidth\": 1}, \"colorscale\": {\"diverging\": [[0, \"#8e0152\"], [0.1, \"#c51b7d\"], [0.2, \"#de77ae\"], [0.3, \"#f1b6da\"], [0.4, \"#fde0ef\"], [0.5, \"#f7f7f7\"], [0.6, \"#e6f5d0\"], [0.7, \"#b8e186\"], [0.8, \"#7fbc41\"], [0.9, \"#4d9221\"], [1, \"#276419\"]], \"sequential\": [[0.0, \"#0d0887\"], [0.1111111111111111, \"#46039f\"], [0.2222222222222222, \"#7201a8\"], [0.3333333333333333, \"#9c179e\"], [0.4444444444444444, \"#bd3786\"], [0.5555555555555556, \"#d8576b\"], [0.6666666666666666, \"#ed7953\"], [0.7777777777777778, \"#fb9f3a\"], [0.8888888888888888, \"#fdca26\"], [1.0, \"#f0f921\"]], \"sequentialminus\": [[0.0, \"#0d0887\"], [0.1111111111111111, \"#46039f\"], [0.2222222222222222, \"#7201a8\"], [0.3333333333333333, \"#9c179e\"], [0.4444444444444444, \"#bd3786\"], [0.5555555555555556, \"#d8576b\"], [0.6666666666666666, \"#ed7953\"], [0.7777777777777778, \"#fb9f3a\"], [0.8888888888888888, \"#fdca26\"], [1.0, \"#f0f921\"]]}, \"colorway\": [\"#636efa\", \"#EF553B\", \"#00cc96\", \"#ab63fa\", \"#FFA15A\", \"#19d3f3\", \"#FF6692\", \"#B6E880\", \"#FF97FF\", \"#FECB52\"], \"font\": {\"color\": \"#2a3f5f\"}, \"geo\": {\"bgcolor\": \"white\", \"lakecolor\": \"white\", \"landcolor\": \"#E5ECF6\", \"showlakes\": true, \"showland\": true, \"subunitcolor\": \"white\"}, \"hoverlabel\": {\"align\": \"left\"}, \"hovermode\": \"closest\", \"mapbox\": {\"style\": \"light\"}, \"paper_bgcolor\": \"white\", \"plot_bgcolor\": \"#E5ECF6\", \"polar\": {\"angularaxis\": {\"gridcolor\": \"white\", \"linecolor\": \"white\", \"ticks\": \"\"}, \"bgcolor\": \"#E5ECF6\", \"radialaxis\": {\"gridcolor\": \"white\", \"linecolor\": \"white\", \"ticks\": \"\"}}, \"scene\": {\"xaxis\": {\"backgroundcolor\": \"#E5ECF6\", \"gridcolor\": \"white\", \"gridwidth\": 2, \"linecolor\": \"white\", \"showbackground\": true, \"ticks\": \"\", \"zerolinecolor\": \"white\"}, \"yaxis\": {\"backgroundcolor\": \"#E5ECF6\", \"gridcolor\": \"white\", \"gridwidth\": 2, \"linecolor\": \"white\", \"showbackground\": true, \"ticks\": \"\", \"zerolinecolor\": \"white\"}, \"zaxis\": {\"backgroundcolor\": \"#E5ECF6\", \"gridcolor\": \"white\", \"gridwidth\": 2, \"linecolor\": \"white\", \"showbackground\": true, \"ticks\": \"\", \"zerolinecolor\": \"white\"}}, \"shapedefaults\": {\"line\": {\"color\": \"#2a3f5f\"}}, \"ternary\": {\"aaxis\": {\"gridcolor\": \"white\", \"linecolor\": \"white\", \"ticks\": \"\"}, \"baxis\": {\"gridcolor\": \"white\", \"linecolor\": \"white\", \"ticks\": \"\"}, \"bgcolor\": \"#E5ECF6\", \"caxis\": {\"gridcolor\": \"white\", \"linecolor\": \"white\", \"ticks\": \"\"}}, \"title\": {\"x\": 0.05}, \"xaxis\": {\"automargin\": true, \"gridcolor\": \"white\", \"linecolor\": \"white\", \"ticks\": \"\", \"zerolinecolor\": \"white\", \"zerolinewidth\": 2}, \"yaxis\": {\"automargin\": true, \"gridcolor\": \"white\", \"linecolor\": \"white\", \"ticks\": \"\", \"zerolinecolor\": \"white\", \"zerolinewidth\": 2}}}, \"title\": {\"text\": \"Shock scenarios (without lower bound)\", \"x\": 0.5, \"xanchor\": \"center\", \"y\": 0.9, \"yanchor\": \"top\"}, \"xaxis\": {\"title\": {\"text\": \"Expiry (in years)\"}}, \"yaxis\": {\"title\": {\"text\": \"Interest rate (in basis points)\"}}},\n",
       "                        {\"responsive\": true}\n",
       "                    ).then(function(){\n",
       "                            \n",
       "var gd = document.getElementById('a73ac4c7-0028-4387-959f-d3e065c11710');\n",
       "var x = new MutationObserver(function (mutations, observer) {{\n",
       "        var display = window.getComputedStyle(gd).display;\n",
       "        if (!display || display === 'none') {{\n",
       "            console.log([gd, 'removed!']);\n",
       "            Plotly.purge(gd);\n",
       "            observer.disconnect();\n",
       "        }}\n",
       "}});\n",
       "\n",
       "// Listen for the removal of the full notebook cells\n",
       "var notebookContainer = gd.closest('#notebook-container');\n",
       "if (notebookContainer) {{\n",
       "    x.observe(notebookContainer, {childList: true});\n",
       "}}\n",
       "\n",
       "// Listen for the clearing of the current output cell\n",
       "var outputEl = gd.closest('.output');\n",
       "if (outputEl) {{\n",
       "    x.observe(outputEl, {childList: true});\n",
       "}}\n",
       "\n",
       "                        })\n",
       "                };\n",
       "                });\n",
       "            </script>\n",
       "        </div>"
      ]
     },
     "metadata": {},
     "output_type": "display_data"
    },
    {
     "data": {
      "application/vnd.plotly.v1+json": {
       "config": {
        "plotlyServerURL": "https://plot.ly"
       },
       "data": [
        {
         "mode": "lines",
         "name": "Original",
         "type": "scatter",
         "x": [
          0.24863387978142076,
          0.4972677595628415,
          0.7486338797814208,
          1,
          2,
          3,
          4,
          5,
          6,
          7,
          8,
          9,
          10,
          11,
          12,
          13,
          14,
          15,
          16,
          17,
          18,
          19,
          20,
          21,
          22,
          23,
          24,
          25,
          26,
          27,
          28,
          29,
          30
         ],
         "y": [
          -57,
          -60,
          -62,
          -64,
          -69,
          -68,
          -64,
          -56,
          -48,
          -39,
          -30,
          -21,
          -13,
          -6,
          1,
          7,
          13,
          18,
          22,
          26,
          30,
          33,
          36,
          38,
          41,
          43,
          45,
          47,
          49,
          50,
          52,
          53,
          55
         ]
        },
        {
         "mode": "lines",
         "name": "ParallelUp",
         "type": "scatter",
         "x": [
          0.24863387978142076,
          0.4972677595628415,
          0.7486338797814208,
          1,
          2,
          3,
          4,
          5,
          6,
          7,
          8,
          9,
          10,
          11,
          12,
          13,
          14,
          15,
          16,
          17,
          18,
          19,
          20,
          21,
          22,
          23,
          24,
          25,
          26,
          27,
          28,
          29,
          30
         ],
         "y": [
          143,
          140,
          138,
          136,
          131,
          132,
          136,
          144,
          152,
          161,
          170,
          179,
          187,
          194,
          201,
          207,
          213,
          218,
          222,
          226,
          230,
          233,
          236,
          238,
          241,
          243,
          245,
          247,
          249,
          250,
          252,
          253,
          255
         ]
        },
        {
         "mode": "lines",
         "name": "ParallelDown",
         "type": "scatter",
         "x": [
          0.24863387978142076,
          0.4972677595628415,
          0.7486338797814208,
          1,
          2,
          3,
          4,
          5,
          6,
          7,
          8,
          9,
          10,
          11,
          12,
          13,
          14,
          15,
          16,
          17,
          18,
          19,
          20,
          21,
          22,
          23,
          24,
          25,
          26,
          27,
          28,
          29,
          30
         ],
         "y": [
          -98.7568306010929,
          -97.51366120218579,
          -96.2568306010929,
          -95,
          -90,
          -85,
          -80,
          -75,
          -70,
          -65,
          -60,
          -55,
          -50,
          -45,
          -40,
          -35,
          -30,
          -25,
          -20,
          -15,
          -10,
          -5,
          0,
          0,
          0,
          0,
          0,
          0,
          0,
          0,
          0,
          0,
          0
         ]
        },
        {
         "mode": "lines",
         "name": "ShortUp",
         "type": "scatter",
         "x": [
          0.24863387978142076,
          0.4972677595628415,
          0.7486338797814208,
          1,
          2,
          3,
          4,
          5,
          6,
          7,
          8,
          9,
          10,
          11,
          12,
          13,
          14,
          15,
          16,
          17,
          18,
          19,
          20,
          21,
          22,
          23,
          24,
          25,
          26,
          27,
          28,
          29,
          30
         ],
         "y": [
          177.93348885056625,
          160.77497673399657,
          145.3280762240173,
          130.70019576785123,
          82.63266492815836,
          50.09163818525367,
          27.969860292860588,
          15.62619921504752,
          7.782540037107452,
          4.443485862611283,
          3.833820809153174,
          5.349806140466082,
          7.5212496559746995,
          9.981965301676892,
          13.446767091965986,
          16.693551957930502,
          20.549345855579624,
          23.879436464002275,
          26.578909722183546,
          29.566058477249815,
          32.77724913456058,
          35.162923800780156,
          37.68448674977137,
          39.31187959979535,
          42.02169285961602,
          43.795695199127415,
          45.61968804416659,
          47.482613534056924,
          49.37585979824439,
          50.29271990519779,
          52.22797049138863,
          53.17754359721064,
          55.13827109253696
         ]
        },
        {
         "mode": "lines",
         "name": "ShortDown",
         "type": "scatter",
         "x": [
          0.24863387978142076,
          0.4972677595628415,
          0.7486338797814208,
          1,
          2,
          3,
          4,
          5,
          6,
          7,
          8,
          9,
          10,
          11,
          12,
          13,
          14,
          15,
          16,
          17,
          18,
          19,
          20,
          21,
          22,
          23,
          24,
          25,
          26,
          27,
          28,
          29,
          30
         ],
         "y": [
          -98.7568306010929,
          -97.51366120218579,
          -96.2568306010929,
          -95,
          -90,
          -85,
          -80,
          -75,
          -70,
          -65,
          -60,
          -47.349806140466086,
          -33.5212496559747,
          -21.981965301676894,
          -11.446767091965986,
          -2.6935519579305023,
          5.450654144420374,
          12.120563535997723,
          17.421090277816454,
          22.433941522750185,
          27.222750865439423,
          30.83707619921984,
          34.31551325022863,
          36.68812040020465,
          39.97830714038398,
          42.204304800872585,
          44.38031195583341,
          46.517386465943076,
          48.62414020175561,
          49.70728009480221,
          51.77202950861137,
          52.82245640278936,
          54.86172890746304
         ]
        },
        {
         "mode": "lines",
         "name": "LongUp",
         "type": "scatter",
         "x": [
          0.24863387978142076,
          0.4972677595628415,
          0.7486338797814208,
          1,
          2,
          3,
          4,
          5,
          6,
          7,
          8,
          9,
          10,
          11,
          12,
          13,
          14,
          15,
          16,
          17,
          18,
          19,
          20,
          21,
          22,
          23,
          24,
          25,
          26,
          27,
          28,
          29,
          30
         ],
         "y": [
          -50.9733955402265,
          -48.30999069359863,
          -44.93123048960692,
          -41.88007830714049,
          -29.653065971263345,
          -15.236655274101466,
          -0.7879441171442352,
          15.349520313980989,
          29.686983985157028,
          43.62260565495548,
          56.46647167633873,
          68.46007754381357,
          78.79150013761011,
          87.60721387932924,
          96.0212931632136,
          103.1225792168278,
          109.98026165776815,
          115.64822541439909,
          120.16843611112658,
          124.57357660910007,
          128.88910034617578,
          132.13483047968793,
          135.32620530009146,
          137.47524816008186,
          140.5913228561536,
          142.68172192034905,
          144.75212478233337,
          146.80695458637723,
          148.84965608070223,
          149.88291203792087,
          151.90881180344456,
          152.92898256111573,
          154.9446915629852
         ]
        },
        {
         "mode": "lines",
         "name": "LongDown",
         "type": "scatter",
         "x": [
          0.24863387978142076,
          0.4972677595628415,
          0.7486338797814208,
          1,
          2,
          3,
          4,
          5,
          6,
          7,
          8,
          9,
          10,
          11,
          12,
          13,
          14,
          15,
          16,
          17,
          18,
          19,
          20,
          21,
          22,
          23,
          24,
          25,
          26,
          27,
          28,
          29,
          30
         ],
         "y": [
          -63.0266044597735,
          -71.69000930640138,
          -79.06876951039308,
          -86.11992169285952,
          -90,
          -85,
          -80,
          -75,
          -70,
          -65,
          -60,
          -55,
          -50,
          -45,
          -40,
          -35,
          -30,
          -25,
          -20,
          -15,
          -10,
          -5,
          0,
          0,
          0,
          0,
          0,
          0,
          0,
          0,
          0,
          0,
          0
         ]
        },
        {
         "mode": "lines",
         "name": "Flatten",
         "type": "scatter",
         "x": [
          0.24863387978142076,
          0.4972677595628415,
          0.7486338797814208,
          1,
          2,
          3,
          4,
          5,
          6,
          7,
          8,
          9,
          10,
          11,
          12,
          13,
          14,
          15,
          16,
          17,
          18,
          19,
          20,
          21,
          22,
          23,
          24,
          25,
          26,
          27,
          28,
          29,
          30
         ],
         "y": [
          127.33082840458891,
          109.60597580335644,
          93.621199272978,
          78.48820359856529,
          28.6979715252847,
          -5.184696287336173,
          -28.351345295424984,
          -41.50875281635057,
          -49.98615836140825,
          -53.818774702884255,
          -54.81282635848069,
          -53.59620161391527,
          -50,
          -45,
          -40,
          -35,
          -30,
          -25,
          -20,
          -15,
          -10,
          -5,
          0,
          0,
          0,
          0,
          0,
          0,
          0,
          0,
          0,
          0,
          0
         ]
        },
        {
         "mode": "lines",
         "name": "Steepen",
         "type": "scatter",
         "x": [
          0.24863387978142076,
          0.4972677595628415,
          0.7486338797814208,
          1,
          2,
          3,
          4,
          5,
          6,
          7,
          8,
          9,
          10,
          11,
          12,
          13,
          14,
          15,
          16,
          17,
          18,
          19,
          20,
          21,
          22,
          23,
          24,
          25,
          26,
          27,
          28,
          29,
          30
         ],
         "y": [
          -98.7568306010929,
          -97.51366120218579,
          -96.2568306010929,
          -95,
          -90,
          -85,
          -66.8895588957892,
          -38.342461207198,
          -14.34036543747851,
          7.122079278762591,
          25.82784098275529,
          42.38669579812926,
          56.27353784746556,
          67.85821504530634,
          78.42876523711435,
          87.20951252249019,
          95.37516068586459,
          102.0617691713577,
          107.37530118059462,
          112.39828093797769,
          117.19497837409382,
          120.81544696121203,
          124.29866838273092,
          126.6750016042067,
          129.96809021178782,
          132.19634784888132,
          134.37411507539176,
          136.5125603306025,
          138.62038160377318,
          139.70435289575022,
          141.7697498036975,
          142.82068096681726,
          144.86034619653768
         ]
        }
       ],
       "layout": {
        "showlegend": true,
        "template": {
         "data": {
          "bar": [
           {
            "error_x": {
             "color": "#2a3f5f"
            },
            "error_y": {
             "color": "#2a3f5f"
            },
            "marker": {
             "line": {
              "color": "#E5ECF6",
              "width": 0.5
             }
            },
            "type": "bar"
           }
          ],
          "barpolar": [
           {
            "marker": {
             "line": {
              "color": "#E5ECF6",
              "width": 0.5
             }
            },
            "type": "barpolar"
           }
          ],
          "carpet": [
           {
            "aaxis": {
             "endlinecolor": "#2a3f5f",
             "gridcolor": "white",
             "linecolor": "white",
             "minorgridcolor": "white",
             "startlinecolor": "#2a3f5f"
            },
            "baxis": {
             "endlinecolor": "#2a3f5f",
             "gridcolor": "white",
             "linecolor": "white",
             "minorgridcolor": "white",
             "startlinecolor": "#2a3f5f"
            },
            "type": "carpet"
           }
          ],
          "choropleth": [
           {
            "colorbar": {
             "outlinewidth": 0,
             "ticks": ""
            },
            "type": "choropleth"
           }
          ],
          "contour": [
           {
            "colorbar": {
             "outlinewidth": 0,
             "ticks": ""
            },
            "colorscale": [
             [
              0,
              "#0d0887"
             ],
             [
              0.1111111111111111,
              "#46039f"
             ],
             [
              0.2222222222222222,
              "#7201a8"
             ],
             [
              0.3333333333333333,
              "#9c179e"
             ],
             [
              0.4444444444444444,
              "#bd3786"
             ],
             [
              0.5555555555555556,
              "#d8576b"
             ],
             [
              0.6666666666666666,
              "#ed7953"
             ],
             [
              0.7777777777777778,
              "#fb9f3a"
             ],
             [
              0.8888888888888888,
              "#fdca26"
             ],
             [
              1,
              "#f0f921"
             ]
            ],
            "type": "contour"
           }
          ],
          "contourcarpet": [
           {
            "colorbar": {
             "outlinewidth": 0,
             "ticks": ""
            },
            "type": "contourcarpet"
           }
          ],
          "heatmap": [
           {
            "colorbar": {
             "outlinewidth": 0,
             "ticks": ""
            },
            "colorscale": [
             [
              0,
              "#0d0887"
             ],
             [
              0.1111111111111111,
              "#46039f"
             ],
             [
              0.2222222222222222,
              "#7201a8"
             ],
             [
              0.3333333333333333,
              "#9c179e"
             ],
             [
              0.4444444444444444,
              "#bd3786"
             ],
             [
              0.5555555555555556,
              "#d8576b"
             ],
             [
              0.6666666666666666,
              "#ed7953"
             ],
             [
              0.7777777777777778,
              "#fb9f3a"
             ],
             [
              0.8888888888888888,
              "#fdca26"
             ],
             [
              1,
              "#f0f921"
             ]
            ],
            "type": "heatmap"
           }
          ],
          "heatmapgl": [
           {
            "colorbar": {
             "outlinewidth": 0,
             "ticks": ""
            },
            "colorscale": [
             [
              0,
              "#0d0887"
             ],
             [
              0.1111111111111111,
              "#46039f"
             ],
             [
              0.2222222222222222,
              "#7201a8"
             ],
             [
              0.3333333333333333,
              "#9c179e"
             ],
             [
              0.4444444444444444,
              "#bd3786"
             ],
             [
              0.5555555555555556,
              "#d8576b"
             ],
             [
              0.6666666666666666,
              "#ed7953"
             ],
             [
              0.7777777777777778,
              "#fb9f3a"
             ],
             [
              0.8888888888888888,
              "#fdca26"
             ],
             [
              1,
              "#f0f921"
             ]
            ],
            "type": "heatmapgl"
           }
          ],
          "histogram": [
           {
            "marker": {
             "colorbar": {
              "outlinewidth": 0,
              "ticks": ""
             }
            },
            "type": "histogram"
           }
          ],
          "histogram2d": [
           {
            "colorbar": {
             "outlinewidth": 0,
             "ticks": ""
            },
            "colorscale": [
             [
              0,
              "#0d0887"
             ],
             [
              0.1111111111111111,
              "#46039f"
             ],
             [
              0.2222222222222222,
              "#7201a8"
             ],
             [
              0.3333333333333333,
              "#9c179e"
             ],
             [
              0.4444444444444444,
              "#bd3786"
             ],
             [
              0.5555555555555556,
              "#d8576b"
             ],
             [
              0.6666666666666666,
              "#ed7953"
             ],
             [
              0.7777777777777778,
              "#fb9f3a"
             ],
             [
              0.8888888888888888,
              "#fdca26"
             ],
             [
              1,
              "#f0f921"
             ]
            ],
            "type": "histogram2d"
           }
          ],
          "histogram2dcontour": [
           {
            "colorbar": {
             "outlinewidth": 0,
             "ticks": ""
            },
            "colorscale": [
             [
              0,
              "#0d0887"
             ],
             [
              0.1111111111111111,
              "#46039f"
             ],
             [
              0.2222222222222222,
              "#7201a8"
             ],
             [
              0.3333333333333333,
              "#9c179e"
             ],
             [
              0.4444444444444444,
              "#bd3786"
             ],
             [
              0.5555555555555556,
              "#d8576b"
             ],
             [
              0.6666666666666666,
              "#ed7953"
             ],
             [
              0.7777777777777778,
              "#fb9f3a"
             ],
             [
              0.8888888888888888,
              "#fdca26"
             ],
             [
              1,
              "#f0f921"
             ]
            ],
            "type": "histogram2dcontour"
           }
          ],
          "mesh3d": [
           {
            "colorbar": {
             "outlinewidth": 0,
             "ticks": ""
            },
            "type": "mesh3d"
           }
          ],
          "parcoords": [
           {
            "line": {
             "colorbar": {
              "outlinewidth": 0,
              "ticks": ""
             }
            },
            "type": "parcoords"
           }
          ],
          "scatter": [
           {
            "marker": {
             "colorbar": {
              "outlinewidth": 0,
              "ticks": ""
             }
            },
            "type": "scatter"
           }
          ],
          "scatter3d": [
           {
            "line": {
             "colorbar": {
              "outlinewidth": 0,
              "ticks": ""
             }
            },
            "marker": {
             "colorbar": {
              "outlinewidth": 0,
              "ticks": ""
             }
            },
            "type": "scatter3d"
           }
          ],
          "scattercarpet": [
           {
            "marker": {
             "colorbar": {
              "outlinewidth": 0,
              "ticks": ""
             }
            },
            "type": "scattercarpet"
           }
          ],
          "scattergeo": [
           {
            "marker": {
             "colorbar": {
              "outlinewidth": 0,
              "ticks": ""
             }
            },
            "type": "scattergeo"
           }
          ],
          "scattergl": [
           {
            "marker": {
             "colorbar": {
              "outlinewidth": 0,
              "ticks": ""
             }
            },
            "type": "scattergl"
           }
          ],
          "scattermapbox": [
           {
            "marker": {
             "colorbar": {
              "outlinewidth": 0,
              "ticks": ""
             }
            },
            "type": "scattermapbox"
           }
          ],
          "scatterpolar": [
           {
            "marker": {
             "colorbar": {
              "outlinewidth": 0,
              "ticks": ""
             }
            },
            "type": "scatterpolar"
           }
          ],
          "scatterpolargl": [
           {
            "marker": {
             "colorbar": {
              "outlinewidth": 0,
              "ticks": ""
             }
            },
            "type": "scatterpolargl"
           }
          ],
          "scatterternary": [
           {
            "marker": {
             "colorbar": {
              "outlinewidth": 0,
              "ticks": ""
             }
            },
            "type": "scatterternary"
           }
          ],
          "surface": [
           {
            "colorbar": {
             "outlinewidth": 0,
             "ticks": ""
            },
            "colorscale": [
             [
              0,
              "#0d0887"
             ],
             [
              0.1111111111111111,
              "#46039f"
             ],
             [
              0.2222222222222222,
              "#7201a8"
             ],
             [
              0.3333333333333333,
              "#9c179e"
             ],
             [
              0.4444444444444444,
              "#bd3786"
             ],
             [
              0.5555555555555556,
              "#d8576b"
             ],
             [
              0.6666666666666666,
              "#ed7953"
             ],
             [
              0.7777777777777778,
              "#fb9f3a"
             ],
             [
              0.8888888888888888,
              "#fdca26"
             ],
             [
              1,
              "#f0f921"
             ]
            ],
            "type": "surface"
           }
          ],
          "table": [
           {
            "cells": {
             "fill": {
              "color": "#EBF0F8"
             },
             "line": {
              "color": "white"
             }
            },
            "header": {
             "fill": {
              "color": "#C8D4E3"
             },
             "line": {
              "color": "white"
             }
            },
            "type": "table"
           }
          ]
         },
         "layout": {
          "annotationdefaults": {
           "arrowcolor": "#2a3f5f",
           "arrowhead": 0,
           "arrowwidth": 1
          },
          "colorscale": {
           "diverging": [
            [
             0,
             "#8e0152"
            ],
            [
             0.1,
             "#c51b7d"
            ],
            [
             0.2,
             "#de77ae"
            ],
            [
             0.3,
             "#f1b6da"
            ],
            [
             0.4,
             "#fde0ef"
            ],
            [
             0.5,
             "#f7f7f7"
            ],
            [
             0.6,
             "#e6f5d0"
            ],
            [
             0.7,
             "#b8e186"
            ],
            [
             0.8,
             "#7fbc41"
            ],
            [
             0.9,
             "#4d9221"
            ],
            [
             1,
             "#276419"
            ]
           ],
           "sequential": [
            [
             0,
             "#0d0887"
            ],
            [
             0.1111111111111111,
             "#46039f"
            ],
            [
             0.2222222222222222,
             "#7201a8"
            ],
            [
             0.3333333333333333,
             "#9c179e"
            ],
            [
             0.4444444444444444,
             "#bd3786"
            ],
            [
             0.5555555555555556,
             "#d8576b"
            ],
            [
             0.6666666666666666,
             "#ed7953"
            ],
            [
             0.7777777777777778,
             "#fb9f3a"
            ],
            [
             0.8888888888888888,
             "#fdca26"
            ],
            [
             1,
             "#f0f921"
            ]
           ],
           "sequentialminus": [
            [
             0,
             "#0d0887"
            ],
            [
             0.1111111111111111,
             "#46039f"
            ],
            [
             0.2222222222222222,
             "#7201a8"
            ],
            [
             0.3333333333333333,
             "#9c179e"
            ],
            [
             0.4444444444444444,
             "#bd3786"
            ],
            [
             0.5555555555555556,
             "#d8576b"
            ],
            [
             0.6666666666666666,
             "#ed7953"
            ],
            [
             0.7777777777777778,
             "#fb9f3a"
            ],
            [
             0.8888888888888888,
             "#fdca26"
            ],
            [
             1,
             "#f0f921"
            ]
           ]
          },
          "colorway": [
           "#636efa",
           "#EF553B",
           "#00cc96",
           "#ab63fa",
           "#FFA15A",
           "#19d3f3",
           "#FF6692",
           "#B6E880",
           "#FF97FF",
           "#FECB52"
          ],
          "font": {
           "color": "#2a3f5f"
          },
          "geo": {
           "bgcolor": "white",
           "lakecolor": "white",
           "landcolor": "#E5ECF6",
           "showlakes": true,
           "showland": true,
           "subunitcolor": "white"
          },
          "hoverlabel": {
           "align": "left"
          },
          "hovermode": "closest",
          "mapbox": {
           "style": "light"
          },
          "paper_bgcolor": "white",
          "plot_bgcolor": "#E5ECF6",
          "polar": {
           "angularaxis": {
            "gridcolor": "white",
            "linecolor": "white",
            "ticks": ""
           },
           "bgcolor": "#E5ECF6",
           "radialaxis": {
            "gridcolor": "white",
            "linecolor": "white",
            "ticks": ""
           }
          },
          "scene": {
           "xaxis": {
            "backgroundcolor": "#E5ECF6",
            "gridcolor": "white",
            "gridwidth": 2,
            "linecolor": "white",
            "showbackground": true,
            "ticks": "",
            "zerolinecolor": "white"
           },
           "yaxis": {
            "backgroundcolor": "#E5ECF6",
            "gridcolor": "white",
            "gridwidth": 2,
            "linecolor": "white",
            "showbackground": true,
            "ticks": "",
            "zerolinecolor": "white"
           },
           "zaxis": {
            "backgroundcolor": "#E5ECF6",
            "gridcolor": "white",
            "gridwidth": 2,
            "linecolor": "white",
            "showbackground": true,
            "ticks": "",
            "zerolinecolor": "white"
           }
          },
          "shapedefaults": {
           "line": {
            "color": "#2a3f5f"
           }
          },
          "ternary": {
           "aaxis": {
            "gridcolor": "white",
            "linecolor": "white",
            "ticks": ""
           },
           "baxis": {
            "gridcolor": "white",
            "linecolor": "white",
            "ticks": ""
           },
           "bgcolor": "#E5ECF6",
           "caxis": {
            "gridcolor": "white",
            "linecolor": "white",
            "ticks": ""
           }
          },
          "title": {
           "x": 0.05
          },
          "xaxis": {
           "automargin": true,
           "gridcolor": "white",
           "linecolor": "white",
           "ticks": "",
           "zerolinecolor": "white",
           "zerolinewidth": 2
          },
          "yaxis": {
           "automargin": true,
           "gridcolor": "white",
           "linecolor": "white",
           "ticks": "",
           "zerolinecolor": "white",
           "zerolinewidth": 2
          }
         }
        },
        "title": {
         "text": "Shock scenarios (with lower bound)",
         "x": 0.5,
         "xanchor": "center",
         "y": 0.9,
         "yanchor": "top"
        },
        "xaxis": {
         "title": {
          "text": "Expiry (in years)"
         }
        },
        "yaxis": {
         "title": {
          "text": "Interest rate (in basis points)"
         }
        }
       }
      },
      "text/html": [
       "<div>\n",
       "        \n",
       "        \n",
       "            <div id=\"21262eae-9712-4041-ab19-79264faec4a5\" class=\"plotly-graph-div\" style=\"height:525px; width:100%;\"></div>\n",
       "            <script type=\"text/javascript\">\n",
       "                require([\"plotly\"], function(Plotly) {\n",
       "                    window.PLOTLYENV=window.PLOTLYENV || {};\n",
       "                    \n",
       "                if (document.getElementById(\"21262eae-9712-4041-ab19-79264faec4a5\")) {\n",
       "                    Plotly.newPlot(\n",
       "                        '21262eae-9712-4041-ab19-79264faec4a5',\n",
       "                        [{\"mode\": \"lines\", \"name\": \"Original\", \"type\": \"scatter\", \"x\": [0.24863387978142076, 0.4972677595628415, 0.7486338797814208, 1.0, 2.0, 3.0, 4.0, 5.0, 6.0, 7.0, 8.0, 9.0, 10.0, 11.0, 12.0, 13.0, 14.0, 15.0, 16.0, 17.0, 18.0, 19.0, 20.0, 21.0, 22.0, 23.0, 24.0, 25.0, 26.0, 27.0, 28.0, 29.0, 30.0], \"y\": [-57, -60, -62, -64, -69, -68, -64, -56, -48, -39, -30, -21, -13, -6, 1, 7, 13, 18, 22, 26, 30, 33, 36, 38, 41, 43, 45, 47, 49, 50, 52, 53, 55]}, {\"mode\": \"lines\", \"name\": \"ParallelUp\", \"type\": \"scatter\", \"x\": [0.24863387978142076, 0.4972677595628415, 0.7486338797814208, 1.0, 2.0, 3.0, 4.0, 5.0, 6.0, 7.0, 8.0, 9.0, 10.0, 11.0, 12.0, 13.0, 14.0, 15.0, 16.0, 17.0, 18.0, 19.0, 20.0, 21.0, 22.0, 23.0, 24.0, 25.0, 26.0, 27.0, 28.0, 29.0, 30.0], \"y\": [143.0, 140.0, 138.0, 136.0, 131.0, 132.0, 136.0, 144.0, 152.0, 161.0, 170.0, 179.0, 187.0, 194.0, 201.0, 207.0, 213.0, 218.0, 222.0, 226.0, 230.0, 233.0, 236.0, 238.0, 241.0, 243.0, 245.0, 247.0, 249.0, 250.0, 252.0, 253.0, 255.0]}, {\"mode\": \"lines\", \"name\": \"ParallelDown\", \"type\": \"scatter\", \"x\": [0.24863387978142076, 0.4972677595628415, 0.7486338797814208, 1.0, 2.0, 3.0, 4.0, 5.0, 6.0, 7.0, 8.0, 9.0, 10.0, 11.0, 12.0, 13.0, 14.0, 15.0, 16.0, 17.0, 18.0, 19.0, 20.0, 21.0, 22.0, 23.0, 24.0, 25.0, 26.0, 27.0, 28.0, 29.0, 30.0], \"y\": [-98.7568306010929, -97.51366120218579, -96.2568306010929, -95.0, -90.0, -85.0, -80.0, -75.0, -70.0, -65.0, -60.0, -55.0, -50.0, -45.0, -40.0, -35.0, -30.0, -25.0, -20.0, -15.0, -10.0, -5.0, 0, 0, 0, 0, 0, 0, 0, 0, 0, 0, 0]}, {\"mode\": \"lines\", \"name\": \"ShortUp\", \"type\": \"scatter\", \"x\": [0.24863387978142076, 0.4972677595628415, 0.7486338797814208, 1.0, 2.0, 3.0, 4.0, 5.0, 6.0, 7.0, 8.0, 9.0, 10.0, 11.0, 12.0, 13.0, 14.0, 15.0, 16.0, 17.0, 18.0, 19.0, 20.0, 21.0, 22.0, 23.0, 24.0, 25.0, 26.0, 27.0, 28.0, 29.0, 30.0], \"y\": [177.93348885056625, 160.77497673399657, 145.3280762240173, 130.70019576785123, 82.63266492815836, 50.09163818525367, 27.969860292860588, 15.62619921504752, 7.782540037107452, 4.443485862611283, 3.833820809153174, 5.349806140466082, 7.5212496559746995, 9.981965301676892, 13.446767091965986, 16.693551957930502, 20.549345855579624, 23.879436464002275, 26.578909722183546, 29.566058477249815, 32.77724913456058, 35.162923800780156, 37.68448674977137, 39.31187959979535, 42.02169285961602, 43.795695199127415, 45.61968804416659, 47.482613534056924, 49.37585979824439, 50.29271990519779, 52.22797049138863, 53.17754359721064, 55.13827109253696]}, {\"mode\": \"lines\", \"name\": \"ShortDown\", \"type\": \"scatter\", \"x\": [0.24863387978142076, 0.4972677595628415, 0.7486338797814208, 1.0, 2.0, 3.0, 4.0, 5.0, 6.0, 7.0, 8.0, 9.0, 10.0, 11.0, 12.0, 13.0, 14.0, 15.0, 16.0, 17.0, 18.0, 19.0, 20.0, 21.0, 22.0, 23.0, 24.0, 25.0, 26.0, 27.0, 28.0, 29.0, 30.0], \"y\": [-98.7568306010929, -97.51366120218579, -96.2568306010929, -95.0, -90.0, -85.0, -80.0, -75.0, -70.0, -65.0, -60.0, -47.349806140466086, -33.5212496559747, -21.981965301676894, -11.446767091965986, -2.6935519579305023, 5.450654144420374, 12.120563535997723, 17.421090277816454, 22.433941522750185, 27.222750865439423, 30.83707619921984, 34.31551325022863, 36.68812040020465, 39.97830714038398, 42.204304800872585, 44.38031195583341, 46.517386465943076, 48.62414020175561, 49.70728009480221, 51.77202950861137, 52.82245640278936, 54.86172890746304]}, {\"mode\": \"lines\", \"name\": \"LongUp\", \"type\": \"scatter\", \"x\": [0.24863387978142076, 0.4972677595628415, 0.7486338797814208, 1.0, 2.0, 3.0, 4.0, 5.0, 6.0, 7.0, 8.0, 9.0, 10.0, 11.0, 12.0, 13.0, 14.0, 15.0, 16.0, 17.0, 18.0, 19.0, 20.0, 21.0, 22.0, 23.0, 24.0, 25.0, 26.0, 27.0, 28.0, 29.0, 30.0], \"y\": [-50.9733955402265, -48.30999069359863, -44.93123048960692, -41.88007830714049, -29.653065971263345, -15.236655274101466, -0.7879441171442352, 15.349520313980989, 29.686983985157028, 43.62260565495548, 56.46647167633873, 68.46007754381357, 78.79150013761011, 87.60721387932924, 96.0212931632136, 103.1225792168278, 109.98026165776815, 115.64822541439909, 120.16843611112658, 124.57357660910007, 128.88910034617578, 132.13483047968793, 135.32620530009146, 137.47524816008186, 140.5913228561536, 142.68172192034905, 144.75212478233337, 146.80695458637723, 148.84965608070223, 149.88291203792087, 151.90881180344456, 152.92898256111573, 154.9446915629852]}, {\"mode\": \"lines\", \"name\": \"LongDown\", \"type\": \"scatter\", \"x\": [0.24863387978142076, 0.4972677595628415, 0.7486338797814208, 1.0, 2.0, 3.0, 4.0, 5.0, 6.0, 7.0, 8.0, 9.0, 10.0, 11.0, 12.0, 13.0, 14.0, 15.0, 16.0, 17.0, 18.0, 19.0, 20.0, 21.0, 22.0, 23.0, 24.0, 25.0, 26.0, 27.0, 28.0, 29.0, 30.0], \"y\": [-63.0266044597735, -71.69000930640138, -79.06876951039308, -86.11992169285952, -90.0, -85.0, -80.0, -75.0, -70.0, -65.0, -60.0, -55.0, -50.0, -45.0, -40.0, -35.0, -30.0, -25.0, -20.0, -15.0, -10.0, -5.0, 0, 0, 0, 0, 0, 0, 0, 0, 0, 0, 0]}, {\"mode\": \"lines\", \"name\": \"Flatten\", \"type\": \"scatter\", \"x\": [0.24863387978142076, 0.4972677595628415, 0.7486338797814208, 1.0, 2.0, 3.0, 4.0, 5.0, 6.0, 7.0, 8.0, 9.0, 10.0, 11.0, 12.0, 13.0, 14.0, 15.0, 16.0, 17.0, 18.0, 19.0, 20.0, 21.0, 22.0, 23.0, 24.0, 25.0, 26.0, 27.0, 28.0, 29.0, 30.0], \"y\": [127.33082840458891, 109.60597580335644, 93.621199272978, 78.48820359856529, 28.6979715252847, -5.184696287336173, -28.351345295424984, -41.50875281635057, -49.98615836140825, -53.818774702884255, -54.81282635848069, -53.59620161391527, -50.0, -45.0, -40.0, -35.0, -30.0, -25.0, -20.0, -15.0, -10.0, -5.0, 0, 0, 0, 0, 0, 0, 0, 0, 0, 0, 0]}, {\"mode\": \"lines\", \"name\": \"Steepen\", \"type\": \"scatter\", \"x\": [0.24863387978142076, 0.4972677595628415, 0.7486338797814208, 1.0, 2.0, 3.0, 4.0, 5.0, 6.0, 7.0, 8.0, 9.0, 10.0, 11.0, 12.0, 13.0, 14.0, 15.0, 16.0, 17.0, 18.0, 19.0, 20.0, 21.0, 22.0, 23.0, 24.0, 25.0, 26.0, 27.0, 28.0, 29.0, 30.0], \"y\": [-98.7568306010929, -97.51366120218579, -96.2568306010929, -95.0, -90.0, -85.0, -66.8895588957892, -38.342461207198, -14.34036543747851, 7.122079278762591, 25.82784098275529, 42.38669579812926, 56.27353784746556, 67.85821504530634, 78.42876523711435, 87.20951252249019, 95.37516068586459, 102.0617691713577, 107.37530118059462, 112.39828093797769, 117.19497837409382, 120.81544696121203, 124.29866838273092, 126.6750016042067, 129.96809021178782, 132.19634784888132, 134.37411507539176, 136.5125603306025, 138.62038160377318, 139.70435289575022, 141.7697498036975, 142.82068096681726, 144.86034619653768]}],\n",
       "                        {\"showlegend\": true, \"template\": {\"data\": {\"bar\": [{\"error_x\": {\"color\": \"#2a3f5f\"}, \"error_y\": {\"color\": \"#2a3f5f\"}, \"marker\": {\"line\": {\"color\": \"#E5ECF6\", \"width\": 0.5}}, \"type\": \"bar\"}], \"barpolar\": [{\"marker\": {\"line\": {\"color\": \"#E5ECF6\", \"width\": 0.5}}, \"type\": \"barpolar\"}], \"carpet\": [{\"aaxis\": {\"endlinecolor\": \"#2a3f5f\", \"gridcolor\": \"white\", \"linecolor\": \"white\", \"minorgridcolor\": \"white\", \"startlinecolor\": \"#2a3f5f\"}, \"baxis\": {\"endlinecolor\": \"#2a3f5f\", \"gridcolor\": \"white\", \"linecolor\": \"white\", \"minorgridcolor\": \"white\", \"startlinecolor\": \"#2a3f5f\"}, \"type\": \"carpet\"}], \"choropleth\": [{\"colorbar\": {\"outlinewidth\": 0, \"ticks\": \"\"}, \"type\": \"choropleth\"}], \"contour\": [{\"colorbar\": {\"outlinewidth\": 0, \"ticks\": \"\"}, \"colorscale\": [[0.0, \"#0d0887\"], [0.1111111111111111, \"#46039f\"], [0.2222222222222222, \"#7201a8\"], [0.3333333333333333, \"#9c179e\"], [0.4444444444444444, \"#bd3786\"], [0.5555555555555556, \"#d8576b\"], [0.6666666666666666, \"#ed7953\"], [0.7777777777777778, \"#fb9f3a\"], [0.8888888888888888, \"#fdca26\"], [1.0, \"#f0f921\"]], \"type\": \"contour\"}], \"contourcarpet\": [{\"colorbar\": {\"outlinewidth\": 0, \"ticks\": \"\"}, \"type\": \"contourcarpet\"}], \"heatmap\": [{\"colorbar\": {\"outlinewidth\": 0, \"ticks\": \"\"}, \"colorscale\": [[0.0, \"#0d0887\"], [0.1111111111111111, \"#46039f\"], [0.2222222222222222, \"#7201a8\"], [0.3333333333333333, \"#9c179e\"], [0.4444444444444444, \"#bd3786\"], [0.5555555555555556, \"#d8576b\"], [0.6666666666666666, \"#ed7953\"], [0.7777777777777778, \"#fb9f3a\"], [0.8888888888888888, \"#fdca26\"], [1.0, \"#f0f921\"]], \"type\": \"heatmap\"}], \"heatmapgl\": [{\"colorbar\": {\"outlinewidth\": 0, \"ticks\": \"\"}, \"colorscale\": [[0.0, \"#0d0887\"], [0.1111111111111111, \"#46039f\"], [0.2222222222222222, \"#7201a8\"], [0.3333333333333333, \"#9c179e\"], [0.4444444444444444, \"#bd3786\"], [0.5555555555555556, \"#d8576b\"], [0.6666666666666666, \"#ed7953\"], [0.7777777777777778, \"#fb9f3a\"], [0.8888888888888888, \"#fdca26\"], [1.0, \"#f0f921\"]], \"type\": \"heatmapgl\"}], \"histogram\": [{\"marker\": {\"colorbar\": {\"outlinewidth\": 0, \"ticks\": \"\"}}, \"type\": \"histogram\"}], \"histogram2d\": [{\"colorbar\": {\"outlinewidth\": 0, \"ticks\": \"\"}, \"colorscale\": [[0.0, \"#0d0887\"], [0.1111111111111111, \"#46039f\"], [0.2222222222222222, \"#7201a8\"], [0.3333333333333333, \"#9c179e\"], [0.4444444444444444, \"#bd3786\"], [0.5555555555555556, \"#d8576b\"], [0.6666666666666666, \"#ed7953\"], [0.7777777777777778, \"#fb9f3a\"], [0.8888888888888888, \"#fdca26\"], [1.0, \"#f0f921\"]], \"type\": \"histogram2d\"}], \"histogram2dcontour\": [{\"colorbar\": {\"outlinewidth\": 0, \"ticks\": \"\"}, \"colorscale\": [[0.0, \"#0d0887\"], [0.1111111111111111, \"#46039f\"], [0.2222222222222222, \"#7201a8\"], [0.3333333333333333, \"#9c179e\"], [0.4444444444444444, \"#bd3786\"], [0.5555555555555556, \"#d8576b\"], [0.6666666666666666, \"#ed7953\"], [0.7777777777777778, \"#fb9f3a\"], [0.8888888888888888, \"#fdca26\"], [1.0, \"#f0f921\"]], \"type\": \"histogram2dcontour\"}], \"mesh3d\": [{\"colorbar\": {\"outlinewidth\": 0, \"ticks\": \"\"}, \"type\": \"mesh3d\"}], \"parcoords\": [{\"line\": {\"colorbar\": {\"outlinewidth\": 0, \"ticks\": \"\"}}, \"type\": \"parcoords\"}], \"scatter\": [{\"marker\": {\"colorbar\": {\"outlinewidth\": 0, \"ticks\": \"\"}}, \"type\": \"scatter\"}], \"scatter3d\": [{\"line\": {\"colorbar\": {\"outlinewidth\": 0, \"ticks\": \"\"}}, \"marker\": {\"colorbar\": {\"outlinewidth\": 0, \"ticks\": \"\"}}, \"type\": \"scatter3d\"}], \"scattercarpet\": [{\"marker\": {\"colorbar\": {\"outlinewidth\": 0, \"ticks\": \"\"}}, \"type\": \"scattercarpet\"}], \"scattergeo\": [{\"marker\": {\"colorbar\": {\"outlinewidth\": 0, \"ticks\": \"\"}}, \"type\": \"scattergeo\"}], \"scattergl\": [{\"marker\": {\"colorbar\": {\"outlinewidth\": 0, \"ticks\": \"\"}}, \"type\": \"scattergl\"}], \"scattermapbox\": [{\"marker\": {\"colorbar\": {\"outlinewidth\": 0, \"ticks\": \"\"}}, \"type\": \"scattermapbox\"}], \"scatterpolar\": [{\"marker\": {\"colorbar\": {\"outlinewidth\": 0, \"ticks\": \"\"}}, \"type\": \"scatterpolar\"}], \"scatterpolargl\": [{\"marker\": {\"colorbar\": {\"outlinewidth\": 0, \"ticks\": \"\"}}, \"type\": \"scatterpolargl\"}], \"scatterternary\": [{\"marker\": {\"colorbar\": {\"outlinewidth\": 0, \"ticks\": \"\"}}, \"type\": \"scatterternary\"}], \"surface\": [{\"colorbar\": {\"outlinewidth\": 0, \"ticks\": \"\"}, \"colorscale\": [[0.0, \"#0d0887\"], [0.1111111111111111, \"#46039f\"], [0.2222222222222222, \"#7201a8\"], [0.3333333333333333, \"#9c179e\"], [0.4444444444444444, \"#bd3786\"], [0.5555555555555556, \"#d8576b\"], [0.6666666666666666, \"#ed7953\"], [0.7777777777777778, \"#fb9f3a\"], [0.8888888888888888, \"#fdca26\"], [1.0, \"#f0f921\"]], \"type\": \"surface\"}], \"table\": [{\"cells\": {\"fill\": {\"color\": \"#EBF0F8\"}, \"line\": {\"color\": \"white\"}}, \"header\": {\"fill\": {\"color\": \"#C8D4E3\"}, \"line\": {\"color\": \"white\"}}, \"type\": \"table\"}]}, \"layout\": {\"annotationdefaults\": {\"arrowcolor\": \"#2a3f5f\", \"arrowhead\": 0, \"arrowwidth\": 1}, \"colorscale\": {\"diverging\": [[0, \"#8e0152\"], [0.1, \"#c51b7d\"], [0.2, \"#de77ae\"], [0.3, \"#f1b6da\"], [0.4, \"#fde0ef\"], [0.5, \"#f7f7f7\"], [0.6, \"#e6f5d0\"], [0.7, \"#b8e186\"], [0.8, \"#7fbc41\"], [0.9, \"#4d9221\"], [1, \"#276419\"]], \"sequential\": [[0.0, \"#0d0887\"], [0.1111111111111111, \"#46039f\"], [0.2222222222222222, \"#7201a8\"], [0.3333333333333333, \"#9c179e\"], [0.4444444444444444, \"#bd3786\"], [0.5555555555555556, \"#d8576b\"], [0.6666666666666666, \"#ed7953\"], [0.7777777777777778, \"#fb9f3a\"], [0.8888888888888888, \"#fdca26\"], [1.0, \"#f0f921\"]], \"sequentialminus\": [[0.0, \"#0d0887\"], [0.1111111111111111, \"#46039f\"], [0.2222222222222222, \"#7201a8\"], [0.3333333333333333, \"#9c179e\"], [0.4444444444444444, \"#bd3786\"], [0.5555555555555556, \"#d8576b\"], [0.6666666666666666, \"#ed7953\"], [0.7777777777777778, \"#fb9f3a\"], [0.8888888888888888, \"#fdca26\"], [1.0, \"#f0f921\"]]}, \"colorway\": [\"#636efa\", \"#EF553B\", \"#00cc96\", \"#ab63fa\", \"#FFA15A\", \"#19d3f3\", \"#FF6692\", \"#B6E880\", \"#FF97FF\", \"#FECB52\"], \"font\": {\"color\": \"#2a3f5f\"}, \"geo\": {\"bgcolor\": \"white\", \"lakecolor\": \"white\", \"landcolor\": \"#E5ECF6\", \"showlakes\": true, \"showland\": true, \"subunitcolor\": \"white\"}, \"hoverlabel\": {\"align\": \"left\"}, \"hovermode\": \"closest\", \"mapbox\": {\"style\": \"light\"}, \"paper_bgcolor\": \"white\", \"plot_bgcolor\": \"#E5ECF6\", \"polar\": {\"angularaxis\": {\"gridcolor\": \"white\", \"linecolor\": \"white\", \"ticks\": \"\"}, \"bgcolor\": \"#E5ECF6\", \"radialaxis\": {\"gridcolor\": \"white\", \"linecolor\": \"white\", \"ticks\": \"\"}}, \"scene\": {\"xaxis\": {\"backgroundcolor\": \"#E5ECF6\", \"gridcolor\": \"white\", \"gridwidth\": 2, \"linecolor\": \"white\", \"showbackground\": true, \"ticks\": \"\", \"zerolinecolor\": \"white\"}, \"yaxis\": {\"backgroundcolor\": \"#E5ECF6\", \"gridcolor\": \"white\", \"gridwidth\": 2, \"linecolor\": \"white\", \"showbackground\": true, \"ticks\": \"\", \"zerolinecolor\": \"white\"}, \"zaxis\": {\"backgroundcolor\": \"#E5ECF6\", \"gridcolor\": \"white\", \"gridwidth\": 2, \"linecolor\": \"white\", \"showbackground\": true, \"ticks\": \"\", \"zerolinecolor\": \"white\"}}, \"shapedefaults\": {\"line\": {\"color\": \"#2a3f5f\"}}, \"ternary\": {\"aaxis\": {\"gridcolor\": \"white\", \"linecolor\": \"white\", \"ticks\": \"\"}, \"baxis\": {\"gridcolor\": \"white\", \"linecolor\": \"white\", \"ticks\": \"\"}, \"bgcolor\": \"#E5ECF6\", \"caxis\": {\"gridcolor\": \"white\", \"linecolor\": \"white\", \"ticks\": \"\"}}, \"title\": {\"x\": 0.05}, \"xaxis\": {\"automargin\": true, \"gridcolor\": \"white\", \"linecolor\": \"white\", \"ticks\": \"\", \"zerolinecolor\": \"white\", \"zerolinewidth\": 2}, \"yaxis\": {\"automargin\": true, \"gridcolor\": \"white\", \"linecolor\": \"white\", \"ticks\": \"\", \"zerolinecolor\": \"white\", \"zerolinewidth\": 2}}}, \"title\": {\"text\": \"Shock scenarios (with lower bound)\", \"x\": 0.5, \"xanchor\": \"center\", \"y\": 0.9, \"yanchor\": \"top\"}, \"xaxis\": {\"title\": {\"text\": \"Expiry (in years)\"}}, \"yaxis\": {\"title\": {\"text\": \"Interest rate (in basis points)\"}}},\n",
       "                        {\"responsive\": true}\n",
       "                    ).then(function(){\n",
       "                            \n",
       "var gd = document.getElementById('21262eae-9712-4041-ab19-79264faec4a5');\n",
       "var x = new MutationObserver(function (mutations, observer) {{\n",
       "        var display = window.getComputedStyle(gd).display;\n",
       "        if (!display || display === 'none') {{\n",
       "            console.log([gd, 'removed!']);\n",
       "            Plotly.purge(gd);\n",
       "            observer.disconnect();\n",
       "        }}\n",
       "}});\n",
       "\n",
       "// Listen for the removal of the full notebook cells\n",
       "var notebookContainer = gd.closest('#notebook-container');\n",
       "if (notebookContainer) {{\n",
       "    x.observe(notebookContainer, {childList: true});\n",
       "}}\n",
       "\n",
       "// Listen for the clearing of the current output cell\n",
       "var outputEl = gd.closest('.output');\n",
       "if (outputEl) {{\n",
       "    x.observe(outputEl, {childList: true});\n",
       "}}\n",
       "\n",
       "                        })\n",
       "                };\n",
       "                });\n",
       "            </script>\n",
       "        </div>"
      ]
     },
     "metadata": {},
     "output_type": "display_data"
    }
   ],
   "source": [
    "# Plot the scenarios using a function defined above\n",
    "plot_shocked_interest_rates(\n",
    "    refdate_BaFin,\n",
    "    example_BaFin_sampling_points,\n",
    "    example_BaFin_interest_rate_basispoints,\n",
    "    analytics.DayCounter(default_daycounter_type),\n",
    "    shockparams_standard,\n",
    "    False\n",
    ")\n",
    "\n",
    "plot_shocked_interest_rates(\n",
    "    refdate_BaFin,\n",
    "    example_BaFin_sampling_points,\n",
    "    example_BaFin_interest_rate_basispoints,\n",
    "    analytics.DayCounter(default_daycounter_type),\n",
    "    shockparams_standard,\n",
    "    True\n",
    ")"
   ]
  },
  {
   "cell_type": "markdown",
   "metadata": {},
   "source": [
    "## Example (current market data)"
   ]
  },
  {
   "cell_type": "code",
   "execution_count": 15,
   "metadata": {
    "code_folding": [
     0,
     1
    ]
   },
   "outputs": [],
   "source": [
    "# Define the example data\n",
    "example_current_interest_rates = [\n",
    "    -0.45,\n",
    "    -0.423,\n",
    "    -0.3925,\n",
    "    -0.363,\n",
    "    -0.36517,\n",
    "    -0.36636,\n",
    "    -0.37028,\n",
    "    -0.37527,\n",
    "    -0.37887,\n",
    "    -0.38303,\n",
    "    -0.38643,\n",
    "    -0.38914,\n",
    "    -0.39686,\n",
    "    -0.396,\n",
    "    -0.379,\n",
    "    -0.342,\n",
    "    -0.298,\n",
    "    -0.252,\n",
    "    -0.203,\n",
    "    -0.154,\n",
    "    -0.107,\n",
    "    -0.057,\n",
    "    -0.01,\n",
    "    0.036,\n",
    "    0.07833,\n",
    "    0.11403,\n",
    "    0.145,\n",
    "    0.16381,\n",
    "    0.18032,\n",
    "    0.19499,\n",
    "    0.20824,\n",
    "    0.22,\n",
    "    0.213,\n",
    "    0.178\n",
    "    #,0.054\n",
    "]\n",
    "\n",
    "example_current_interest_rates_basispoints = [100*r for r in example_current_interest_rates]\n",
    "\n",
    "refdate_current = dt.datetime(year = 2020, month = 3 , day = 31)\n",
    "\n",
    "example_current_sampling_points = []\n",
    "example_current_sampling_points.append(refdate_current + dt.timedelta(days = 1))\n",
    "for i in range(11):\n",
    "    example_current_sampling_points.append(refdate_current + dt.timedelta(days = (i+1)*30))\n",
    "for i in range(20):\n",
    "    year = refdate_current.year + i + 1\n",
    "    month = refdate_current.month\n",
    "    day = refdate_current.day\n",
    "    example_current_sampling_points.append(\n",
    "        dt.datetime(year = year, month = month , day = day)\n",
    "    )\n",
    "for i in [25, 30]:#, 50]:\n",
    "    year = refdate_current.year + i\n",
    "    month = refdate_current.month\n",
    "    day = refdate_current.day\n",
    "    example_current_sampling_points.append(\n",
    "        dt.datetime(year = year, month = month , day = day)\n",
    "    )\n",
    "    "
   ]
  },
  {
   "cell_type": "markdown",
   "metadata": {},
   "source": [
    "### Plot all scenarios"
   ]
  },
  {
   "cell_type": "code",
   "execution_count": 16,
   "metadata": {
    "code_folding": [
     0
    ]
   },
   "outputs": [
    {
     "data": {
      "application/vnd.plotly.v1+json": {
       "config": {
        "plotlyServerURL": "https://plot.ly"
       },
       "data": [
        {
         "mode": "lines",
         "name": "Original",
         "type": "scatter",
         "x": [
          0.0027322404371584175,
          0.08196721311475402,
          0.16393442622950816,
          0.24590163934426224,
          0.3278688524590163,
          0.4098360655737704,
          0.4918032786885246,
          0.5737704918032787,
          0.6557377049180327,
          0.7377049180327868,
          0.8198517853132719,
          0.9020435661351898,
          0.9979339770940938,
          1.9979339770940938,
          2.997933977094094,
          4,
          4.997933977094093,
          5.997933977094093,
          6.997933977094093,
          7.999999999999999,
          8.997933977094092,
          9.997933977094092,
          10.997933977094092,
          12,
          12.997933977094092,
          13.997933977094092,
          14.997933977094092,
          16,
          16.997933977094096,
          17.997933977094096,
          18.997933977094096,
          20,
          24.997933977094096,
          29.997933977094096
         ],
         "y": [
          -45,
          -42.3,
          -39.25,
          -36.3,
          -36.516999999999996,
          -36.636,
          -37.028,
          -37.527,
          -37.887,
          -38.303,
          -38.643,
          -38.914,
          -39.686,
          -39.6,
          -37.9,
          -34.2,
          -29.799999999999997,
          -25.2,
          -20.3,
          -15.4,
          -10.7,
          -5.7,
          -1,
          3.5999999999999996,
          7.832999999999999,
          11.403,
          14.499999999999998,
          16.381,
          18.032,
          19.499,
          20.824,
          22,
          21.3,
          17.8
         ]
        },
        {
         "mode": "lines",
         "name": "ParallelUp",
         "type": "scatter",
         "x": [
          0.0027322404371584175,
          0.08196721311475402,
          0.16393442622950816,
          0.24590163934426224,
          0.3278688524590163,
          0.4098360655737704,
          0.4918032786885246,
          0.5737704918032787,
          0.6557377049180327,
          0.7377049180327868,
          0.8198517853132719,
          0.9020435661351898,
          0.9979339770940938,
          1.9979339770940938,
          2.997933977094094,
          4,
          4.997933977094093,
          5.997933977094093,
          6.997933977094093,
          7.999999999999999,
          8.997933977094092,
          9.997933977094092,
          10.997933977094092,
          12,
          12.997933977094092,
          13.997933977094092,
          14.997933977094092,
          16,
          16.997933977094096,
          17.997933977094096,
          18.997933977094096,
          20,
          24.997933977094096,
          29.997933977094096
         ],
         "y": [
          155,
          157.7,
          160.75,
          163.7,
          163.483,
          163.364,
          162.972,
          162.473,
          162.113,
          161.697,
          161.357,
          161.086,
          160.314,
          160.4,
          162.1,
          165.8,
          170.2,
          174.8,
          179.7,
          184.6,
          189.3,
          194.3,
          199,
          203.6,
          207.833,
          211.403,
          214.5,
          216.381,
          218.032,
          219.499,
          220.824,
          222,
          221.3,
          217.8
         ]
        },
        {
         "mode": "lines",
         "name": "ParallelDown",
         "type": "scatter",
         "x": [
          0.0027322404371584175,
          0.08196721311475402,
          0.16393442622950816,
          0.24590163934426224,
          0.3278688524590163,
          0.4098360655737704,
          0.4918032786885246,
          0.5737704918032787,
          0.6557377049180327,
          0.7377049180327868,
          0.8198517853132719,
          0.9020435661351898,
          0.9979339770940938,
          1.9979339770940938,
          2.997933977094094,
          4,
          4.997933977094093,
          5.997933977094093,
          6.997933977094093,
          7.999999999999999,
          8.997933977094092,
          9.997933977094092,
          10.997933977094092,
          12,
          12.997933977094092,
          13.997933977094092,
          14.997933977094092,
          16,
          16.997933977094096,
          17.997933977094096,
          18.997933977094096,
          20,
          24.997933977094096,
          29.997933977094096
         ],
         "y": [
          -245,
          -242.3,
          -239.25,
          -236.3,
          -236.517,
          -236.636,
          -237.028,
          -237.527,
          -237.887,
          -238.303,
          -238.643,
          -238.914,
          -239.686,
          -239.6,
          -237.9,
          -234.2,
          -229.8,
          -225.2,
          -220.3,
          -215.4,
          -210.7,
          -205.7,
          -201,
          -196.4,
          -192.167,
          -188.597,
          -185.5,
          -183.619,
          -181.968,
          -180.501,
          -179.176,
          -178,
          -178.7,
          -182.2
         ]
        },
        {
         "mode": "lines",
         "name": "ShortUp",
         "type": "scatter",
         "x": [
          0.0027322404371584175,
          0.08196721311475402,
          0.16393442622950816,
          0.24590163934426224,
          0.3278688524590163,
          0.4098360655737704,
          0.4918032786885246,
          0.5737704918032787,
          0.6557377049180327,
          0.7377049180327868,
          0.8198517853132719,
          0.9020435661351898,
          0.9979339770940938,
          1.9979339770940938,
          2.997933977094094,
          4,
          4.997933977094093,
          5.997933977094093,
          6.997933977094093,
          7.999999999999999,
          8.997933977094092,
          9.997933977094092,
          10.997933977094092,
          12,
          12.997933977094092,
          13.997933977094092,
          14.997933977094092,
          16,
          16.997933977094096,
          17.997933977094096,
          18.997933977094096,
          20,
          24.997933977094096,
          29.997933977094096
         ],
         "y": [
          204.82929328078998,
          202.62918172664524,
          200.71121624513597,
          198.79401736420687,
          193.80854120737965,
          189.0177853546808,
          184.048788001768,
          179.0656271361122,
          174.3124197298893,
          169.5923209492429,
          165.02637566121638,
          160.61309194407283,
          155.11478550926387,
          112.11100429753952,
          80.25264894747303,
          57.769860292860585,
          41.86320411290602,
          30.61135948053712,
          23.16593046772199,
          18.433820809153183,
          15.663419481610877,
          14.83185173671848,
          14.990222210462337,
          16.046767091965986,
          17.53156002626332,
          18.956246143118904,
          20.38247401099207,
          20.959909722183546,
          21.599900842629438,
          22.27768397016093,
          22.988041251869294,
          23.684486749771366,
          21.782862871097404,
          17.93834252879509
         ]
        },
        {
         "mode": "lines",
         "name": "ShortDown",
         "type": "scatter",
         "x": [
          0.0027322404371584175,
          0.08196721311475402,
          0.16393442622950816,
          0.24590163934426224,
          0.3278688524590163,
          0.4098360655737704,
          0.4918032786885246,
          0.5737704918032787,
          0.6557377049180327,
          0.7377049180327868,
          0.8198517853132719,
          0.9020435661351898,
          0.9979339770940938,
          1.9979339770940938,
          2.997933977094094,
          4,
          4.997933977094093,
          5.997933977094093,
          6.997933977094093,
          7.999999999999999,
          8.997933977094092,
          9.997933977094092,
          10.997933977094092,
          12,
          12.997933977094092,
          13.997933977094092,
          14.997933977094092,
          16,
          16.997933977094096,
          17.997933977094096,
          18.997933977094096,
          20,
          24.997933977094096,
          29.997933977094096
         ],
         "y": [
          -294.82929328079,
          -287.2291817266452,
          -279.211216245136,
          -271.3940173642069,
          -266.84254120737967,
          -262.2897853546808,
          -258.104788001768,
          -254.11962713611217,
          -250.08641972988931,
          -246.19832094924288,
          -242.31237566121638,
          -238.4410919440728,
          -234.48678550926388,
          -191.3110042975395,
          -156.05264894747302,
          -126.16986029286059,
          -101.46320411290601,
          -81.01135948053712,
          -63.76593046772199,
          -49.23382080915318,
          -37.06341948161088,
          -26.23185173671848,
          -16.990222210462335,
          -8.846767091965987,
          -1.8655600262633234,
          3.849753856881099,
          8.617525989007929,
          11.802090277816456,
          14.464099157370562,
          16.72031602983907,
          18.65995874813071,
          20.315513250228634,
          20.817137128902598,
          17.66165747120491
         ]
        },
        {
         "mode": "lines",
         "name": "LongUp",
         "type": "scatter",
         "x": [
          0.0027322404371584175,
          0.08196721311475402,
          0.16393442622950816,
          0.24590163934426224,
          0.3278688524590163,
          0.4098360655737704,
          0.4918032786885246,
          0.5737704918032787,
          0.6557377049180327,
          0.7377049180327868,
          0.8198517853132719,
          0.9020435661351898,
          0.9979339770940938,
          1.9979339770940938,
          2.997933977094094,
          4,
          4.997933977094093,
          5.997933977094093,
          6.997933977094093,
          7.999999999999999,
          8.997933977094092,
          9.997933977094092,
          10.997933977094092,
          12,
          12.997933977094092,
          13.997933977094092,
          14.997933977094092,
          16,
          16.997933977094096,
          17.997933977094096,
          18.997933977094096,
          20,
          24.997933977094096,
          29.997933977094096
         ],
         "y": [
          -44.931717312315996,
          -40.27167269065808,
          -35.23448649805439,
          -30.337606945682747,
          -28.64721648295185,
          -26.897514141872314,
          -25.458715200707196,
          -24.164050854444874,
          -22.766767891955727,
          -21.461128379697158,
          -20.11075026448655,
          -18.724836777629125,
          -17.606314203705555,
          -0.28440171901580413,
          14.838940421010797,
          29.012055882855762,
          41.53471835483761,
          52.47545620778516,
          62.31362781291121,
          71.06647167633872,
          78.75463220735566,
          86.0872593053126,
          92.60391111581507,
          98.6212931632136,
          103.95357598949467,
          108.38170154275245,
          112.14701039560317,
          114.54943611112658,
          116.60483966294822,
          118.38752641193562,
          119.95838349925229,
          121.32620530009146,
          121.10685485156102,
          117.74466298848196
         ]
        },
        {
         "mode": "lines",
         "name": "LongDown",
         "type": "scatter",
         "x": [
          0.0027322404371584175,
          0.08196721311475402,
          0.16393442622950816,
          0.24590163934426224,
          0.3278688524590163,
          0.4098360655737704,
          0.4918032786885246,
          0.5737704918032787,
          0.6557377049180327,
          0.7377049180327868,
          0.8198517853132719,
          0.9020435661351898,
          0.9979339770940938,
          1.9979339770940938,
          2.997933977094094,
          4,
          4.997933977094093,
          5.997933977094093,
          6.997933977094093,
          7.999999999999999,
          8.997933977094092,
          9.997933977094092,
          10.997933977094092,
          12,
          12.997933977094092,
          13.997933977094092,
          14.997933977094092,
          16,
          16.997933977094096,
          17.997933977094096,
          18.997933977094096,
          20,
          24.997933977094096,
          29.997933977094096
         ],
         "y": [
          -45.068282687684004,
          -44.328327309341915,
          -43.26551350194561,
          -42.26239305431724,
          -44.386783517048144,
          -46.37448585812769,
          -48.5972847992928,
          -50.88994914555513,
          -53.00723210804428,
          -55.14487162030284,
          -57.17524973551345,
          -59.10316322237088,
          -61.76568579629445,
          -78.9155982809842,
          -90.6389404210108,
          -97.41205588285577,
          -101.1347183548376,
          -102.87545620778516,
          -102.9136278129112,
          -101.86647167633873,
          -100.15463220735566,
          -97.4872593053126,
          -94.60391111581507,
          -91.4212931632136,
          -88.28757598949467,
          -85.57570154275244,
          -83.14701039560317,
          -81.78743611112658,
          -80.54083966294823,
          -79.38952641193563,
          -78.3103834992523,
          -77.32620530009146,
          -78.50685485156103,
          -82.14466298848197
         ]
        },
        {
         "mode": "lines",
         "name": "Flatten",
         "type": "scatter",
         "x": [
          0.0027322404371584175,
          0.08196721311475402,
          0.16393442622950816,
          0.24590163934426224,
          0.3278688524590163,
          0.4098360655737704,
          0.4918032786885246,
          0.5737704918032787,
          0.6557377049180327,
          0.7377049180327868,
          0.8198517853132719,
          0.9020435661351898,
          0.9979339770940938,
          1.9979339770940938,
          2.997933977094094,
          4,
          4.997933977094093,
          5.997933977094093,
          6.997933977094093,
          7.999999999999999,
          8.997933977094092,
          9.997933977094092,
          10.997933977094092,
          12,
          12.997933977094092,
          13.997933977094092,
          14.997933977094092,
          16,
          16.997933977094096,
          17.997933977094096,
          18.997933977094096,
          20,
          24.997933977094096,
          29.997933977094096
         ],
         "y": [
          154.82246501202158,
          152.42634899571107,
          150.30966489494142,
          148.19777805877516,
          143.02156285567486,
          138.04393676886804,
          132.8918595218387,
          127.72933222155667,
          122.8003965190849,
          117.90813378721262,
          113.17315068766504,
          108.59417562183573,
          102.90681692963443,
          58.1794444694411,
          24.97875490537195,
          1.4486547045750129,
          -15.270267722577742,
          -27.15618614024139,
          -35.095432313569134,
          -40.21282635848069,
          -43.28204373912469,
          -44.34687419381278,
          -44.37016890111917,
          -43.45536222435537,
          -42.08049757268614,
          -40.74162401115635,
          -39.382227028568245,
          -38.856933888929106,
          -38.25738312366539,
          -37.61116867103263,
          -36.92539709805594,
          -36.24813378023778,
          -38.197822614058694,
          -42.056123770053105
         ]
        },
        {
         "mode": "lines",
         "name": "Steepen",
         "type": "scatter",
         "x": [
          0.0027322404371584175,
          0.08196721311475402,
          0.16393442622950816,
          0.24590163934426224,
          0.3278688524590163,
          0.4098360655737704,
          0.4918032786885246,
          0.5737704918032787,
          0.6557377049180327,
          0.7377049180327868,
          0.8198517853132719,
          0.9020435661351898,
          0.9979339770940938,
          1.9979339770940938,
          2.997933977094094,
          4,
          4.997933977094093,
          5.997933977094093,
          6.997933977094093,
          7.999999999999999,
          8.997933977094092,
          9.997933977094092,
          10.997933977094092,
          12,
          12.997933977094092,
          13.997933977094092,
          14.997933977094092,
          16,
          16.997933977094096,
          17.997933977094096,
          18.997933977094096,
          20,
          24.997933977094096,
          29.997933977094096
         ],
         "y": [
          -207.32758621359787,
          -199.67847354391165,
          -191.61082840758732,
          -183.74495753784896,
          -179.14579661945345,
          -174.5463232082276,
          -170.31555588178568,
          -166.2855534074733,
          -162.20841392718822,
          -158.27727415873534,
          -154.34906941782856,
          -150.43636286351355,
          -146.43479336435652,
          -102.82811434051493,
          -67.23417543694774,
          -37.089558895789196,
          -12.179836154035065,
          8.43052692465751,
          25.7994102276008,
          40.42784098275529,
          52.67294632357303,
          63.56282974591433,
          72.84987556743305,
          81.02876523711434,
          88.03745437347405,
          93.77422139544993,
          98.558701248898,
          101.75630118059462,
          104.42842014894427,
          106.69252919013745,
          108.63831833561203,
          110.29866838273092,
          110.8123085001916,
          107.66027404591696
         ]
        }
       ],
       "layout": {
        "showlegend": true,
        "template": {
         "data": {
          "bar": [
           {
            "error_x": {
             "color": "#2a3f5f"
            },
            "error_y": {
             "color": "#2a3f5f"
            },
            "marker": {
             "line": {
              "color": "#E5ECF6",
              "width": 0.5
             }
            },
            "type": "bar"
           }
          ],
          "barpolar": [
           {
            "marker": {
             "line": {
              "color": "#E5ECF6",
              "width": 0.5
             }
            },
            "type": "barpolar"
           }
          ],
          "carpet": [
           {
            "aaxis": {
             "endlinecolor": "#2a3f5f",
             "gridcolor": "white",
             "linecolor": "white",
             "minorgridcolor": "white",
             "startlinecolor": "#2a3f5f"
            },
            "baxis": {
             "endlinecolor": "#2a3f5f",
             "gridcolor": "white",
             "linecolor": "white",
             "minorgridcolor": "white",
             "startlinecolor": "#2a3f5f"
            },
            "type": "carpet"
           }
          ],
          "choropleth": [
           {
            "colorbar": {
             "outlinewidth": 0,
             "ticks": ""
            },
            "type": "choropleth"
           }
          ],
          "contour": [
           {
            "colorbar": {
             "outlinewidth": 0,
             "ticks": ""
            },
            "colorscale": [
             [
              0,
              "#0d0887"
             ],
             [
              0.1111111111111111,
              "#46039f"
             ],
             [
              0.2222222222222222,
              "#7201a8"
             ],
             [
              0.3333333333333333,
              "#9c179e"
             ],
             [
              0.4444444444444444,
              "#bd3786"
             ],
             [
              0.5555555555555556,
              "#d8576b"
             ],
             [
              0.6666666666666666,
              "#ed7953"
             ],
             [
              0.7777777777777778,
              "#fb9f3a"
             ],
             [
              0.8888888888888888,
              "#fdca26"
             ],
             [
              1,
              "#f0f921"
             ]
            ],
            "type": "contour"
           }
          ],
          "contourcarpet": [
           {
            "colorbar": {
             "outlinewidth": 0,
             "ticks": ""
            },
            "type": "contourcarpet"
           }
          ],
          "heatmap": [
           {
            "colorbar": {
             "outlinewidth": 0,
             "ticks": ""
            },
            "colorscale": [
             [
              0,
              "#0d0887"
             ],
             [
              0.1111111111111111,
              "#46039f"
             ],
             [
              0.2222222222222222,
              "#7201a8"
             ],
             [
              0.3333333333333333,
              "#9c179e"
             ],
             [
              0.4444444444444444,
              "#bd3786"
             ],
             [
              0.5555555555555556,
              "#d8576b"
             ],
             [
              0.6666666666666666,
              "#ed7953"
             ],
             [
              0.7777777777777778,
              "#fb9f3a"
             ],
             [
              0.8888888888888888,
              "#fdca26"
             ],
             [
              1,
              "#f0f921"
             ]
            ],
            "type": "heatmap"
           }
          ],
          "heatmapgl": [
           {
            "colorbar": {
             "outlinewidth": 0,
             "ticks": ""
            },
            "colorscale": [
             [
              0,
              "#0d0887"
             ],
             [
              0.1111111111111111,
              "#46039f"
             ],
             [
              0.2222222222222222,
              "#7201a8"
             ],
             [
              0.3333333333333333,
              "#9c179e"
             ],
             [
              0.4444444444444444,
              "#bd3786"
             ],
             [
              0.5555555555555556,
              "#d8576b"
             ],
             [
              0.6666666666666666,
              "#ed7953"
             ],
             [
              0.7777777777777778,
              "#fb9f3a"
             ],
             [
              0.8888888888888888,
              "#fdca26"
             ],
             [
              1,
              "#f0f921"
             ]
            ],
            "type": "heatmapgl"
           }
          ],
          "histogram": [
           {
            "marker": {
             "colorbar": {
              "outlinewidth": 0,
              "ticks": ""
             }
            },
            "type": "histogram"
           }
          ],
          "histogram2d": [
           {
            "colorbar": {
             "outlinewidth": 0,
             "ticks": ""
            },
            "colorscale": [
             [
              0,
              "#0d0887"
             ],
             [
              0.1111111111111111,
              "#46039f"
             ],
             [
              0.2222222222222222,
              "#7201a8"
             ],
             [
              0.3333333333333333,
              "#9c179e"
             ],
             [
              0.4444444444444444,
              "#bd3786"
             ],
             [
              0.5555555555555556,
              "#d8576b"
             ],
             [
              0.6666666666666666,
              "#ed7953"
             ],
             [
              0.7777777777777778,
              "#fb9f3a"
             ],
             [
              0.8888888888888888,
              "#fdca26"
             ],
             [
              1,
              "#f0f921"
             ]
            ],
            "type": "histogram2d"
           }
          ],
          "histogram2dcontour": [
           {
            "colorbar": {
             "outlinewidth": 0,
             "ticks": ""
            },
            "colorscale": [
             [
              0,
              "#0d0887"
             ],
             [
              0.1111111111111111,
              "#46039f"
             ],
             [
              0.2222222222222222,
              "#7201a8"
             ],
             [
              0.3333333333333333,
              "#9c179e"
             ],
             [
              0.4444444444444444,
              "#bd3786"
             ],
             [
              0.5555555555555556,
              "#d8576b"
             ],
             [
              0.6666666666666666,
              "#ed7953"
             ],
             [
              0.7777777777777778,
              "#fb9f3a"
             ],
             [
              0.8888888888888888,
              "#fdca26"
             ],
             [
              1,
              "#f0f921"
             ]
            ],
            "type": "histogram2dcontour"
           }
          ],
          "mesh3d": [
           {
            "colorbar": {
             "outlinewidth": 0,
             "ticks": ""
            },
            "type": "mesh3d"
           }
          ],
          "parcoords": [
           {
            "line": {
             "colorbar": {
              "outlinewidth": 0,
              "ticks": ""
             }
            },
            "type": "parcoords"
           }
          ],
          "scatter": [
           {
            "marker": {
             "colorbar": {
              "outlinewidth": 0,
              "ticks": ""
             }
            },
            "type": "scatter"
           }
          ],
          "scatter3d": [
           {
            "line": {
             "colorbar": {
              "outlinewidth": 0,
              "ticks": ""
             }
            },
            "marker": {
             "colorbar": {
              "outlinewidth": 0,
              "ticks": ""
             }
            },
            "type": "scatter3d"
           }
          ],
          "scattercarpet": [
           {
            "marker": {
             "colorbar": {
              "outlinewidth": 0,
              "ticks": ""
             }
            },
            "type": "scattercarpet"
           }
          ],
          "scattergeo": [
           {
            "marker": {
             "colorbar": {
              "outlinewidth": 0,
              "ticks": ""
             }
            },
            "type": "scattergeo"
           }
          ],
          "scattergl": [
           {
            "marker": {
             "colorbar": {
              "outlinewidth": 0,
              "ticks": ""
             }
            },
            "type": "scattergl"
           }
          ],
          "scattermapbox": [
           {
            "marker": {
             "colorbar": {
              "outlinewidth": 0,
              "ticks": ""
             }
            },
            "type": "scattermapbox"
           }
          ],
          "scatterpolar": [
           {
            "marker": {
             "colorbar": {
              "outlinewidth": 0,
              "ticks": ""
             }
            },
            "type": "scatterpolar"
           }
          ],
          "scatterpolargl": [
           {
            "marker": {
             "colorbar": {
              "outlinewidth": 0,
              "ticks": ""
             }
            },
            "type": "scatterpolargl"
           }
          ],
          "scatterternary": [
           {
            "marker": {
             "colorbar": {
              "outlinewidth": 0,
              "ticks": ""
             }
            },
            "type": "scatterternary"
           }
          ],
          "surface": [
           {
            "colorbar": {
             "outlinewidth": 0,
             "ticks": ""
            },
            "colorscale": [
             [
              0,
              "#0d0887"
             ],
             [
              0.1111111111111111,
              "#46039f"
             ],
             [
              0.2222222222222222,
              "#7201a8"
             ],
             [
              0.3333333333333333,
              "#9c179e"
             ],
             [
              0.4444444444444444,
              "#bd3786"
             ],
             [
              0.5555555555555556,
              "#d8576b"
             ],
             [
              0.6666666666666666,
              "#ed7953"
             ],
             [
              0.7777777777777778,
              "#fb9f3a"
             ],
             [
              0.8888888888888888,
              "#fdca26"
             ],
             [
              1,
              "#f0f921"
             ]
            ],
            "type": "surface"
           }
          ],
          "table": [
           {
            "cells": {
             "fill": {
              "color": "#EBF0F8"
             },
             "line": {
              "color": "white"
             }
            },
            "header": {
             "fill": {
              "color": "#C8D4E3"
             },
             "line": {
              "color": "white"
             }
            },
            "type": "table"
           }
          ]
         },
         "layout": {
          "annotationdefaults": {
           "arrowcolor": "#2a3f5f",
           "arrowhead": 0,
           "arrowwidth": 1
          },
          "colorscale": {
           "diverging": [
            [
             0,
             "#8e0152"
            ],
            [
             0.1,
             "#c51b7d"
            ],
            [
             0.2,
             "#de77ae"
            ],
            [
             0.3,
             "#f1b6da"
            ],
            [
             0.4,
             "#fde0ef"
            ],
            [
             0.5,
             "#f7f7f7"
            ],
            [
             0.6,
             "#e6f5d0"
            ],
            [
             0.7,
             "#b8e186"
            ],
            [
             0.8,
             "#7fbc41"
            ],
            [
             0.9,
             "#4d9221"
            ],
            [
             1,
             "#276419"
            ]
           ],
           "sequential": [
            [
             0,
             "#0d0887"
            ],
            [
             0.1111111111111111,
             "#46039f"
            ],
            [
             0.2222222222222222,
             "#7201a8"
            ],
            [
             0.3333333333333333,
             "#9c179e"
            ],
            [
             0.4444444444444444,
             "#bd3786"
            ],
            [
             0.5555555555555556,
             "#d8576b"
            ],
            [
             0.6666666666666666,
             "#ed7953"
            ],
            [
             0.7777777777777778,
             "#fb9f3a"
            ],
            [
             0.8888888888888888,
             "#fdca26"
            ],
            [
             1,
             "#f0f921"
            ]
           ],
           "sequentialminus": [
            [
             0,
             "#0d0887"
            ],
            [
             0.1111111111111111,
             "#46039f"
            ],
            [
             0.2222222222222222,
             "#7201a8"
            ],
            [
             0.3333333333333333,
             "#9c179e"
            ],
            [
             0.4444444444444444,
             "#bd3786"
            ],
            [
             0.5555555555555556,
             "#d8576b"
            ],
            [
             0.6666666666666666,
             "#ed7953"
            ],
            [
             0.7777777777777778,
             "#fb9f3a"
            ],
            [
             0.8888888888888888,
             "#fdca26"
            ],
            [
             1,
             "#f0f921"
            ]
           ]
          },
          "colorway": [
           "#636efa",
           "#EF553B",
           "#00cc96",
           "#ab63fa",
           "#FFA15A",
           "#19d3f3",
           "#FF6692",
           "#B6E880",
           "#FF97FF",
           "#FECB52"
          ],
          "font": {
           "color": "#2a3f5f"
          },
          "geo": {
           "bgcolor": "white",
           "lakecolor": "white",
           "landcolor": "#E5ECF6",
           "showlakes": true,
           "showland": true,
           "subunitcolor": "white"
          },
          "hoverlabel": {
           "align": "left"
          },
          "hovermode": "closest",
          "mapbox": {
           "style": "light"
          },
          "paper_bgcolor": "white",
          "plot_bgcolor": "#E5ECF6",
          "polar": {
           "angularaxis": {
            "gridcolor": "white",
            "linecolor": "white",
            "ticks": ""
           },
           "bgcolor": "#E5ECF6",
           "radialaxis": {
            "gridcolor": "white",
            "linecolor": "white",
            "ticks": ""
           }
          },
          "scene": {
           "xaxis": {
            "backgroundcolor": "#E5ECF6",
            "gridcolor": "white",
            "gridwidth": 2,
            "linecolor": "white",
            "showbackground": true,
            "ticks": "",
            "zerolinecolor": "white"
           },
           "yaxis": {
            "backgroundcolor": "#E5ECF6",
            "gridcolor": "white",
            "gridwidth": 2,
            "linecolor": "white",
            "showbackground": true,
            "ticks": "",
            "zerolinecolor": "white"
           },
           "zaxis": {
            "backgroundcolor": "#E5ECF6",
            "gridcolor": "white",
            "gridwidth": 2,
            "linecolor": "white",
            "showbackground": true,
            "ticks": "",
            "zerolinecolor": "white"
           }
          },
          "shapedefaults": {
           "line": {
            "color": "#2a3f5f"
           }
          },
          "ternary": {
           "aaxis": {
            "gridcolor": "white",
            "linecolor": "white",
            "ticks": ""
           },
           "baxis": {
            "gridcolor": "white",
            "linecolor": "white",
            "ticks": ""
           },
           "bgcolor": "#E5ECF6",
           "caxis": {
            "gridcolor": "white",
            "linecolor": "white",
            "ticks": ""
           }
          },
          "title": {
           "x": 0.05
          },
          "xaxis": {
           "automargin": true,
           "gridcolor": "white",
           "linecolor": "white",
           "ticks": "",
           "zerolinecolor": "white",
           "zerolinewidth": 2
          },
          "yaxis": {
           "automargin": true,
           "gridcolor": "white",
           "linecolor": "white",
           "ticks": "",
           "zerolinecolor": "white",
           "zerolinewidth": 2
          }
         }
        },
        "title": {
         "text": "Shock scenarios (without lower bound)",
         "x": 0.5,
         "xanchor": "center",
         "y": 0.9,
         "yanchor": "top"
        },
        "xaxis": {
         "title": {
          "text": "Expiry (in years)"
         }
        },
        "yaxis": {
         "title": {
          "text": "Interest rate (in basis points)"
         }
        }
       }
      },
      "text/html": [
       "<div>\n",
       "        \n",
       "        \n",
       "            <div id=\"8acd5abc-02a6-49e4-836a-fb3f56ed2004\" class=\"plotly-graph-div\" style=\"height:525px; width:100%;\"></div>\n",
       "            <script type=\"text/javascript\">\n",
       "                require([\"plotly\"], function(Plotly) {\n",
       "                    window.PLOTLYENV=window.PLOTLYENV || {};\n",
       "                    \n",
       "                if (document.getElementById(\"8acd5abc-02a6-49e4-836a-fb3f56ed2004\")) {\n",
       "                    Plotly.newPlot(\n",
       "                        '8acd5abc-02a6-49e4-836a-fb3f56ed2004',\n",
       "                        [{\"mode\": \"lines\", \"name\": \"Original\", \"type\": \"scatter\", \"x\": [0.0027322404371584175, 0.08196721311475402, 0.16393442622950816, 0.24590163934426224, 0.3278688524590163, 0.4098360655737704, 0.4918032786885246, 0.5737704918032787, 0.6557377049180327, 0.7377049180327868, 0.8198517853132719, 0.9020435661351898, 0.9979339770940938, 1.9979339770940938, 2.997933977094094, 4.0, 4.997933977094093, 5.997933977094093, 6.997933977094093, 7.999999999999999, 8.997933977094092, 9.997933977094092, 10.997933977094092, 12.0, 12.997933977094092, 13.997933977094092, 14.997933977094092, 16.0, 16.997933977094096, 17.997933977094096, 18.997933977094096, 20.0, 24.997933977094096, 29.997933977094096], \"y\": [-45.0, -42.3, -39.25, -36.3, -36.516999999999996, -36.636, -37.028, -37.527, -37.887, -38.303, -38.643, -38.914, -39.686, -39.6, -37.9, -34.2, -29.799999999999997, -25.2, -20.3, -15.4, -10.7, -5.7, -1.0, 3.5999999999999996, 7.832999999999999, 11.403, 14.499999999999998, 16.381, 18.032, 19.499, 20.824, 22.0, 21.3, 17.8]}, {\"mode\": \"lines\", \"name\": \"ParallelUp\", \"type\": \"scatter\", \"x\": [0.0027322404371584175, 0.08196721311475402, 0.16393442622950816, 0.24590163934426224, 0.3278688524590163, 0.4098360655737704, 0.4918032786885246, 0.5737704918032787, 0.6557377049180327, 0.7377049180327868, 0.8198517853132719, 0.9020435661351898, 0.9979339770940938, 1.9979339770940938, 2.997933977094094, 4.0, 4.997933977094093, 5.997933977094093, 6.997933977094093, 7.999999999999999, 8.997933977094092, 9.997933977094092, 10.997933977094092, 12.0, 12.997933977094092, 13.997933977094092, 14.997933977094092, 16.0, 16.997933977094096, 17.997933977094096, 18.997933977094096, 20.0, 24.997933977094096, 29.997933977094096], \"y\": [155.0, 157.7, 160.75, 163.7, 163.483, 163.364, 162.972, 162.473, 162.113, 161.697, 161.357, 161.086, 160.314, 160.4, 162.1, 165.8, 170.2, 174.8, 179.7, 184.6, 189.3, 194.3, 199.0, 203.6, 207.833, 211.403, 214.5, 216.381, 218.032, 219.499, 220.824, 222.0, 221.3, 217.8]}, {\"mode\": \"lines\", \"name\": \"ParallelDown\", \"type\": \"scatter\", \"x\": [0.0027322404371584175, 0.08196721311475402, 0.16393442622950816, 0.24590163934426224, 0.3278688524590163, 0.4098360655737704, 0.4918032786885246, 0.5737704918032787, 0.6557377049180327, 0.7377049180327868, 0.8198517853132719, 0.9020435661351898, 0.9979339770940938, 1.9979339770940938, 2.997933977094094, 4.0, 4.997933977094093, 5.997933977094093, 6.997933977094093, 7.999999999999999, 8.997933977094092, 9.997933977094092, 10.997933977094092, 12.0, 12.997933977094092, 13.997933977094092, 14.997933977094092, 16.0, 16.997933977094096, 17.997933977094096, 18.997933977094096, 20.0, 24.997933977094096, 29.997933977094096], \"y\": [-245.0, -242.3, -239.25, -236.3, -236.517, -236.636, -237.028, -237.527, -237.887, -238.303, -238.643, -238.914, -239.686, -239.6, -237.9, -234.2, -229.8, -225.2, -220.3, -215.4, -210.7, -205.7, -201.0, -196.4, -192.167, -188.597, -185.5, -183.619, -181.968, -180.501, -179.176, -178.0, -178.7, -182.2]}, {\"mode\": \"lines\", \"name\": \"ShortUp\", \"type\": \"scatter\", \"x\": [0.0027322404371584175, 0.08196721311475402, 0.16393442622950816, 0.24590163934426224, 0.3278688524590163, 0.4098360655737704, 0.4918032786885246, 0.5737704918032787, 0.6557377049180327, 0.7377049180327868, 0.8198517853132719, 0.9020435661351898, 0.9979339770940938, 1.9979339770940938, 2.997933977094094, 4.0, 4.997933977094093, 5.997933977094093, 6.997933977094093, 7.999999999999999, 8.997933977094092, 9.997933977094092, 10.997933977094092, 12.0, 12.997933977094092, 13.997933977094092, 14.997933977094092, 16.0, 16.997933977094096, 17.997933977094096, 18.997933977094096, 20.0, 24.997933977094096, 29.997933977094096], \"y\": [204.82929328078998, 202.62918172664524, 200.71121624513597, 198.79401736420687, 193.80854120737965, 189.0177853546808, 184.048788001768, 179.0656271361122, 174.3124197298893, 169.5923209492429, 165.02637566121638, 160.61309194407283, 155.11478550926387, 112.11100429753952, 80.25264894747303, 57.769860292860585, 41.86320411290602, 30.61135948053712, 23.16593046772199, 18.433820809153183, 15.663419481610877, 14.83185173671848, 14.990222210462337, 16.046767091965986, 17.53156002626332, 18.956246143118904, 20.38247401099207, 20.959909722183546, 21.599900842629438, 22.27768397016093, 22.988041251869294, 23.684486749771366, 21.782862871097404, 17.93834252879509]}, {\"mode\": \"lines\", \"name\": \"ShortDown\", \"type\": \"scatter\", \"x\": [0.0027322404371584175, 0.08196721311475402, 0.16393442622950816, 0.24590163934426224, 0.3278688524590163, 0.4098360655737704, 0.4918032786885246, 0.5737704918032787, 0.6557377049180327, 0.7377049180327868, 0.8198517853132719, 0.9020435661351898, 0.9979339770940938, 1.9979339770940938, 2.997933977094094, 4.0, 4.997933977094093, 5.997933977094093, 6.997933977094093, 7.999999999999999, 8.997933977094092, 9.997933977094092, 10.997933977094092, 12.0, 12.997933977094092, 13.997933977094092, 14.997933977094092, 16.0, 16.997933977094096, 17.997933977094096, 18.997933977094096, 20.0, 24.997933977094096, 29.997933977094096], \"y\": [-294.82929328079, -287.2291817266452, -279.211216245136, -271.3940173642069, -266.84254120737967, -262.2897853546808, -258.104788001768, -254.11962713611217, -250.08641972988931, -246.19832094924288, -242.31237566121638, -238.4410919440728, -234.48678550926388, -191.3110042975395, -156.05264894747302, -126.16986029286059, -101.46320411290601, -81.01135948053712, -63.76593046772199, -49.23382080915318, -37.06341948161088, -26.23185173671848, -16.990222210462335, -8.846767091965987, -1.8655600262633234, 3.849753856881099, 8.617525989007929, 11.802090277816456, 14.464099157370562, 16.72031602983907, 18.65995874813071, 20.315513250228634, 20.817137128902598, 17.66165747120491]}, {\"mode\": \"lines\", \"name\": \"LongUp\", \"type\": \"scatter\", \"x\": [0.0027322404371584175, 0.08196721311475402, 0.16393442622950816, 0.24590163934426224, 0.3278688524590163, 0.4098360655737704, 0.4918032786885246, 0.5737704918032787, 0.6557377049180327, 0.7377049180327868, 0.8198517853132719, 0.9020435661351898, 0.9979339770940938, 1.9979339770940938, 2.997933977094094, 4.0, 4.997933977094093, 5.997933977094093, 6.997933977094093, 7.999999999999999, 8.997933977094092, 9.997933977094092, 10.997933977094092, 12.0, 12.997933977094092, 13.997933977094092, 14.997933977094092, 16.0, 16.997933977094096, 17.997933977094096, 18.997933977094096, 20.0, 24.997933977094096, 29.997933977094096], \"y\": [-44.931717312315996, -40.27167269065808, -35.23448649805439, -30.337606945682747, -28.64721648295185, -26.897514141872314, -25.458715200707196, -24.164050854444874, -22.766767891955727, -21.461128379697158, -20.11075026448655, -18.724836777629125, -17.606314203705555, -0.28440171901580413, 14.838940421010797, 29.012055882855762, 41.53471835483761, 52.47545620778516, 62.31362781291121, 71.06647167633872, 78.75463220735566, 86.0872593053126, 92.60391111581507, 98.6212931632136, 103.95357598949467, 108.38170154275245, 112.14701039560317, 114.54943611112658, 116.60483966294822, 118.38752641193562, 119.95838349925229, 121.32620530009146, 121.10685485156102, 117.74466298848196]}, {\"mode\": \"lines\", \"name\": \"LongDown\", \"type\": \"scatter\", \"x\": [0.0027322404371584175, 0.08196721311475402, 0.16393442622950816, 0.24590163934426224, 0.3278688524590163, 0.4098360655737704, 0.4918032786885246, 0.5737704918032787, 0.6557377049180327, 0.7377049180327868, 0.8198517853132719, 0.9020435661351898, 0.9979339770940938, 1.9979339770940938, 2.997933977094094, 4.0, 4.997933977094093, 5.997933977094093, 6.997933977094093, 7.999999999999999, 8.997933977094092, 9.997933977094092, 10.997933977094092, 12.0, 12.997933977094092, 13.997933977094092, 14.997933977094092, 16.0, 16.997933977094096, 17.997933977094096, 18.997933977094096, 20.0, 24.997933977094096, 29.997933977094096], \"y\": [-45.068282687684004, -44.328327309341915, -43.26551350194561, -42.26239305431724, -44.386783517048144, -46.37448585812769, -48.5972847992928, -50.88994914555513, -53.00723210804428, -55.14487162030284, -57.17524973551345, -59.10316322237088, -61.76568579629445, -78.9155982809842, -90.6389404210108, -97.41205588285577, -101.1347183548376, -102.87545620778516, -102.9136278129112, -101.86647167633873, -100.15463220735566, -97.4872593053126, -94.60391111581507, -91.4212931632136, -88.28757598949467, -85.57570154275244, -83.14701039560317, -81.78743611112658, -80.54083966294823, -79.38952641193563, -78.3103834992523, -77.32620530009146, -78.50685485156103, -82.14466298848197]}, {\"mode\": \"lines\", \"name\": \"Flatten\", \"type\": \"scatter\", \"x\": [0.0027322404371584175, 0.08196721311475402, 0.16393442622950816, 0.24590163934426224, 0.3278688524590163, 0.4098360655737704, 0.4918032786885246, 0.5737704918032787, 0.6557377049180327, 0.7377049180327868, 0.8198517853132719, 0.9020435661351898, 0.9979339770940938, 1.9979339770940938, 2.997933977094094, 4.0, 4.997933977094093, 5.997933977094093, 6.997933977094093, 7.999999999999999, 8.997933977094092, 9.997933977094092, 10.997933977094092, 12.0, 12.997933977094092, 13.997933977094092, 14.997933977094092, 16.0, 16.997933977094096, 17.997933977094096, 18.997933977094096, 20.0, 24.997933977094096, 29.997933977094096], \"y\": [154.82246501202158, 152.42634899571107, 150.30966489494142, 148.19777805877516, 143.02156285567486, 138.04393676886804, 132.8918595218387, 127.72933222155667, 122.8003965190849, 117.90813378721262, 113.17315068766504, 108.59417562183573, 102.90681692963443, 58.1794444694411, 24.97875490537195, 1.4486547045750129, -15.270267722577742, -27.15618614024139, -35.095432313569134, -40.21282635848069, -43.28204373912469, -44.34687419381278, -44.37016890111917, -43.45536222435537, -42.08049757268614, -40.74162401115635, -39.382227028568245, -38.856933888929106, -38.25738312366539, -37.61116867103263, -36.92539709805594, -36.24813378023778, -38.197822614058694, -42.056123770053105]}, {\"mode\": \"lines\", \"name\": \"Steepen\", \"type\": \"scatter\", \"x\": [0.0027322404371584175, 0.08196721311475402, 0.16393442622950816, 0.24590163934426224, 0.3278688524590163, 0.4098360655737704, 0.4918032786885246, 0.5737704918032787, 0.6557377049180327, 0.7377049180327868, 0.8198517853132719, 0.9020435661351898, 0.9979339770940938, 1.9979339770940938, 2.997933977094094, 4.0, 4.997933977094093, 5.997933977094093, 6.997933977094093, 7.999999999999999, 8.997933977094092, 9.997933977094092, 10.997933977094092, 12.0, 12.997933977094092, 13.997933977094092, 14.997933977094092, 16.0, 16.997933977094096, 17.997933977094096, 18.997933977094096, 20.0, 24.997933977094096, 29.997933977094096], \"y\": [-207.32758621359787, -199.67847354391165, -191.61082840758732, -183.74495753784896, -179.14579661945345, -174.5463232082276, -170.31555588178568, -166.2855534074733, -162.20841392718822, -158.27727415873534, -154.34906941782856, -150.43636286351355, -146.43479336435652, -102.82811434051493, -67.23417543694774, -37.089558895789196, -12.179836154035065, 8.43052692465751, 25.7994102276008, 40.42784098275529, 52.67294632357303, 63.56282974591433, 72.84987556743305, 81.02876523711434, 88.03745437347405, 93.77422139544993, 98.558701248898, 101.75630118059462, 104.42842014894427, 106.69252919013745, 108.63831833561203, 110.29866838273092, 110.8123085001916, 107.66027404591696]}],\n",
       "                        {\"showlegend\": true, \"template\": {\"data\": {\"bar\": [{\"error_x\": {\"color\": \"#2a3f5f\"}, \"error_y\": {\"color\": \"#2a3f5f\"}, \"marker\": {\"line\": {\"color\": \"#E5ECF6\", \"width\": 0.5}}, \"type\": \"bar\"}], \"barpolar\": [{\"marker\": {\"line\": {\"color\": \"#E5ECF6\", \"width\": 0.5}}, \"type\": \"barpolar\"}], \"carpet\": [{\"aaxis\": {\"endlinecolor\": \"#2a3f5f\", \"gridcolor\": \"white\", \"linecolor\": \"white\", \"minorgridcolor\": \"white\", \"startlinecolor\": \"#2a3f5f\"}, \"baxis\": {\"endlinecolor\": \"#2a3f5f\", \"gridcolor\": \"white\", \"linecolor\": \"white\", \"minorgridcolor\": \"white\", \"startlinecolor\": \"#2a3f5f\"}, \"type\": \"carpet\"}], \"choropleth\": [{\"colorbar\": {\"outlinewidth\": 0, \"ticks\": \"\"}, \"type\": \"choropleth\"}], \"contour\": [{\"colorbar\": {\"outlinewidth\": 0, \"ticks\": \"\"}, \"colorscale\": [[0.0, \"#0d0887\"], [0.1111111111111111, \"#46039f\"], [0.2222222222222222, \"#7201a8\"], [0.3333333333333333, \"#9c179e\"], [0.4444444444444444, \"#bd3786\"], [0.5555555555555556, \"#d8576b\"], [0.6666666666666666, \"#ed7953\"], [0.7777777777777778, \"#fb9f3a\"], [0.8888888888888888, \"#fdca26\"], [1.0, \"#f0f921\"]], \"type\": \"contour\"}], \"contourcarpet\": [{\"colorbar\": {\"outlinewidth\": 0, \"ticks\": \"\"}, \"type\": \"contourcarpet\"}], \"heatmap\": [{\"colorbar\": {\"outlinewidth\": 0, \"ticks\": \"\"}, \"colorscale\": [[0.0, \"#0d0887\"], [0.1111111111111111, \"#46039f\"], [0.2222222222222222, \"#7201a8\"], [0.3333333333333333, \"#9c179e\"], [0.4444444444444444, \"#bd3786\"], [0.5555555555555556, \"#d8576b\"], [0.6666666666666666, \"#ed7953\"], [0.7777777777777778, \"#fb9f3a\"], [0.8888888888888888, \"#fdca26\"], [1.0, \"#f0f921\"]], \"type\": \"heatmap\"}], \"heatmapgl\": [{\"colorbar\": {\"outlinewidth\": 0, \"ticks\": \"\"}, \"colorscale\": [[0.0, \"#0d0887\"], [0.1111111111111111, \"#46039f\"], [0.2222222222222222, \"#7201a8\"], [0.3333333333333333, \"#9c179e\"], [0.4444444444444444, \"#bd3786\"], [0.5555555555555556, \"#d8576b\"], [0.6666666666666666, \"#ed7953\"], [0.7777777777777778, \"#fb9f3a\"], [0.8888888888888888, \"#fdca26\"], [1.0, \"#f0f921\"]], \"type\": \"heatmapgl\"}], \"histogram\": [{\"marker\": {\"colorbar\": {\"outlinewidth\": 0, \"ticks\": \"\"}}, \"type\": \"histogram\"}], \"histogram2d\": [{\"colorbar\": {\"outlinewidth\": 0, \"ticks\": \"\"}, \"colorscale\": [[0.0, \"#0d0887\"], [0.1111111111111111, \"#46039f\"], [0.2222222222222222, \"#7201a8\"], [0.3333333333333333, \"#9c179e\"], [0.4444444444444444, \"#bd3786\"], [0.5555555555555556, \"#d8576b\"], [0.6666666666666666, \"#ed7953\"], [0.7777777777777778, \"#fb9f3a\"], [0.8888888888888888, \"#fdca26\"], [1.0, \"#f0f921\"]], \"type\": \"histogram2d\"}], \"histogram2dcontour\": [{\"colorbar\": {\"outlinewidth\": 0, \"ticks\": \"\"}, \"colorscale\": [[0.0, \"#0d0887\"], [0.1111111111111111, \"#46039f\"], [0.2222222222222222, \"#7201a8\"], [0.3333333333333333, \"#9c179e\"], [0.4444444444444444, \"#bd3786\"], [0.5555555555555556, \"#d8576b\"], [0.6666666666666666, \"#ed7953\"], [0.7777777777777778, \"#fb9f3a\"], [0.8888888888888888, \"#fdca26\"], [1.0, \"#f0f921\"]], \"type\": \"histogram2dcontour\"}], \"mesh3d\": [{\"colorbar\": {\"outlinewidth\": 0, \"ticks\": \"\"}, \"type\": \"mesh3d\"}], \"parcoords\": [{\"line\": {\"colorbar\": {\"outlinewidth\": 0, \"ticks\": \"\"}}, \"type\": \"parcoords\"}], \"scatter\": [{\"marker\": {\"colorbar\": {\"outlinewidth\": 0, \"ticks\": \"\"}}, \"type\": \"scatter\"}], \"scatter3d\": [{\"line\": {\"colorbar\": {\"outlinewidth\": 0, \"ticks\": \"\"}}, \"marker\": {\"colorbar\": {\"outlinewidth\": 0, \"ticks\": \"\"}}, \"type\": \"scatter3d\"}], \"scattercarpet\": [{\"marker\": {\"colorbar\": {\"outlinewidth\": 0, \"ticks\": \"\"}}, \"type\": \"scattercarpet\"}], \"scattergeo\": [{\"marker\": {\"colorbar\": {\"outlinewidth\": 0, \"ticks\": \"\"}}, \"type\": \"scattergeo\"}], \"scattergl\": [{\"marker\": {\"colorbar\": {\"outlinewidth\": 0, \"ticks\": \"\"}}, \"type\": \"scattergl\"}], \"scattermapbox\": [{\"marker\": {\"colorbar\": {\"outlinewidth\": 0, \"ticks\": \"\"}}, \"type\": \"scattermapbox\"}], \"scatterpolar\": [{\"marker\": {\"colorbar\": {\"outlinewidth\": 0, \"ticks\": \"\"}}, \"type\": \"scatterpolar\"}], \"scatterpolargl\": [{\"marker\": {\"colorbar\": {\"outlinewidth\": 0, \"ticks\": \"\"}}, \"type\": \"scatterpolargl\"}], \"scatterternary\": [{\"marker\": {\"colorbar\": {\"outlinewidth\": 0, \"ticks\": \"\"}}, \"type\": \"scatterternary\"}], \"surface\": [{\"colorbar\": {\"outlinewidth\": 0, \"ticks\": \"\"}, \"colorscale\": [[0.0, \"#0d0887\"], [0.1111111111111111, \"#46039f\"], [0.2222222222222222, \"#7201a8\"], [0.3333333333333333, \"#9c179e\"], [0.4444444444444444, \"#bd3786\"], [0.5555555555555556, \"#d8576b\"], [0.6666666666666666, \"#ed7953\"], [0.7777777777777778, \"#fb9f3a\"], [0.8888888888888888, \"#fdca26\"], [1.0, \"#f0f921\"]], \"type\": \"surface\"}], \"table\": [{\"cells\": {\"fill\": {\"color\": \"#EBF0F8\"}, \"line\": {\"color\": \"white\"}}, \"header\": {\"fill\": {\"color\": \"#C8D4E3\"}, \"line\": {\"color\": \"white\"}}, \"type\": \"table\"}]}, \"layout\": {\"annotationdefaults\": {\"arrowcolor\": \"#2a3f5f\", \"arrowhead\": 0, \"arrowwidth\": 1}, \"colorscale\": {\"diverging\": [[0, \"#8e0152\"], [0.1, \"#c51b7d\"], [0.2, \"#de77ae\"], [0.3, \"#f1b6da\"], [0.4, \"#fde0ef\"], [0.5, \"#f7f7f7\"], [0.6, \"#e6f5d0\"], [0.7, \"#b8e186\"], [0.8, \"#7fbc41\"], [0.9, \"#4d9221\"], [1, \"#276419\"]], \"sequential\": [[0.0, \"#0d0887\"], [0.1111111111111111, \"#46039f\"], [0.2222222222222222, \"#7201a8\"], [0.3333333333333333, \"#9c179e\"], [0.4444444444444444, \"#bd3786\"], [0.5555555555555556, \"#d8576b\"], [0.6666666666666666, \"#ed7953\"], [0.7777777777777778, \"#fb9f3a\"], [0.8888888888888888, \"#fdca26\"], [1.0, \"#f0f921\"]], \"sequentialminus\": [[0.0, \"#0d0887\"], [0.1111111111111111, \"#46039f\"], [0.2222222222222222, \"#7201a8\"], [0.3333333333333333, \"#9c179e\"], [0.4444444444444444, \"#bd3786\"], [0.5555555555555556, \"#d8576b\"], [0.6666666666666666, \"#ed7953\"], [0.7777777777777778, \"#fb9f3a\"], [0.8888888888888888, \"#fdca26\"], [1.0, \"#f0f921\"]]}, \"colorway\": [\"#636efa\", \"#EF553B\", \"#00cc96\", \"#ab63fa\", \"#FFA15A\", \"#19d3f3\", \"#FF6692\", \"#B6E880\", \"#FF97FF\", \"#FECB52\"], \"font\": {\"color\": \"#2a3f5f\"}, \"geo\": {\"bgcolor\": \"white\", \"lakecolor\": \"white\", \"landcolor\": \"#E5ECF6\", \"showlakes\": true, \"showland\": true, \"subunitcolor\": \"white\"}, \"hoverlabel\": {\"align\": \"left\"}, \"hovermode\": \"closest\", \"mapbox\": {\"style\": \"light\"}, \"paper_bgcolor\": \"white\", \"plot_bgcolor\": \"#E5ECF6\", \"polar\": {\"angularaxis\": {\"gridcolor\": \"white\", \"linecolor\": \"white\", \"ticks\": \"\"}, \"bgcolor\": \"#E5ECF6\", \"radialaxis\": {\"gridcolor\": \"white\", \"linecolor\": \"white\", \"ticks\": \"\"}}, \"scene\": {\"xaxis\": {\"backgroundcolor\": \"#E5ECF6\", \"gridcolor\": \"white\", \"gridwidth\": 2, \"linecolor\": \"white\", \"showbackground\": true, \"ticks\": \"\", \"zerolinecolor\": \"white\"}, \"yaxis\": {\"backgroundcolor\": \"#E5ECF6\", \"gridcolor\": \"white\", \"gridwidth\": 2, \"linecolor\": \"white\", \"showbackground\": true, \"ticks\": \"\", \"zerolinecolor\": \"white\"}, \"zaxis\": {\"backgroundcolor\": \"#E5ECF6\", \"gridcolor\": \"white\", \"gridwidth\": 2, \"linecolor\": \"white\", \"showbackground\": true, \"ticks\": \"\", \"zerolinecolor\": \"white\"}}, \"shapedefaults\": {\"line\": {\"color\": \"#2a3f5f\"}}, \"ternary\": {\"aaxis\": {\"gridcolor\": \"white\", \"linecolor\": \"white\", \"ticks\": \"\"}, \"baxis\": {\"gridcolor\": \"white\", \"linecolor\": \"white\", \"ticks\": \"\"}, \"bgcolor\": \"#E5ECF6\", \"caxis\": {\"gridcolor\": \"white\", \"linecolor\": \"white\", \"ticks\": \"\"}}, \"title\": {\"x\": 0.05}, \"xaxis\": {\"automargin\": true, \"gridcolor\": \"white\", \"linecolor\": \"white\", \"ticks\": \"\", \"zerolinecolor\": \"white\", \"zerolinewidth\": 2}, \"yaxis\": {\"automargin\": true, \"gridcolor\": \"white\", \"linecolor\": \"white\", \"ticks\": \"\", \"zerolinecolor\": \"white\", \"zerolinewidth\": 2}}}, \"title\": {\"text\": \"Shock scenarios (without lower bound)\", \"x\": 0.5, \"xanchor\": \"center\", \"y\": 0.9, \"yanchor\": \"top\"}, \"xaxis\": {\"title\": {\"text\": \"Expiry (in years)\"}}, \"yaxis\": {\"title\": {\"text\": \"Interest rate (in basis points)\"}}},\n",
       "                        {\"responsive\": true}\n",
       "                    ).then(function(){\n",
       "                            \n",
       "var gd = document.getElementById('8acd5abc-02a6-49e4-836a-fb3f56ed2004');\n",
       "var x = new MutationObserver(function (mutations, observer) {{\n",
       "        var display = window.getComputedStyle(gd).display;\n",
       "        if (!display || display === 'none') {{\n",
       "            console.log([gd, 'removed!']);\n",
       "            Plotly.purge(gd);\n",
       "            observer.disconnect();\n",
       "        }}\n",
       "}});\n",
       "\n",
       "// Listen for the removal of the full notebook cells\n",
       "var notebookContainer = gd.closest('#notebook-container');\n",
       "if (notebookContainer) {{\n",
       "    x.observe(notebookContainer, {childList: true});\n",
       "}}\n",
       "\n",
       "// Listen for the clearing of the current output cell\n",
       "var outputEl = gd.closest('.output');\n",
       "if (outputEl) {{\n",
       "    x.observe(outputEl, {childList: true});\n",
       "}}\n",
       "\n",
       "                        })\n",
       "                };\n",
       "                });\n",
       "            </script>\n",
       "        </div>"
      ]
     },
     "metadata": {},
     "output_type": "display_data"
    },
    {
     "data": {
      "application/vnd.plotly.v1+json": {
       "config": {
        "plotlyServerURL": "https://plot.ly"
       },
       "data": [
        {
         "mode": "lines",
         "name": "Original",
         "type": "scatter",
         "x": [
          0.0027322404371584175,
          0.08196721311475402,
          0.16393442622950816,
          0.24590163934426224,
          0.3278688524590163,
          0.4098360655737704,
          0.4918032786885246,
          0.5737704918032787,
          0.6557377049180327,
          0.7377049180327868,
          0.8198517853132719,
          0.9020435661351898,
          0.9979339770940938,
          1.9979339770940938,
          2.997933977094094,
          4,
          4.997933977094093,
          5.997933977094093,
          6.997933977094093,
          7.999999999999999,
          8.997933977094092,
          9.997933977094092,
          10.997933977094092,
          12,
          12.997933977094092,
          13.997933977094092,
          14.997933977094092,
          16,
          16.997933977094096,
          17.997933977094096,
          18.997933977094096,
          20,
          24.997933977094096,
          29.997933977094096
         ],
         "y": [
          -45,
          -42.3,
          -39.25,
          -36.3,
          -36.516999999999996,
          -36.636,
          -37.028,
          -37.527,
          -37.887,
          -38.303,
          -38.643,
          -38.914,
          -39.686,
          -39.6,
          -37.9,
          -34.2,
          -29.799999999999997,
          -25.2,
          -20.3,
          -15.4,
          -10.7,
          -5.7,
          -1,
          3.5999999999999996,
          7.832999999999999,
          11.403,
          14.499999999999998,
          16.381,
          18.032,
          19.499,
          20.824,
          22,
          21.3,
          17.8
         ]
        },
        {
         "mode": "lines",
         "name": "ParallelUp",
         "type": "scatter",
         "x": [
          0.0027322404371584175,
          0.08196721311475402,
          0.16393442622950816,
          0.24590163934426224,
          0.3278688524590163,
          0.4098360655737704,
          0.4918032786885246,
          0.5737704918032787,
          0.6557377049180327,
          0.7377049180327868,
          0.8198517853132719,
          0.9020435661351898,
          0.9979339770940938,
          1.9979339770940938,
          2.997933977094094,
          4,
          4.997933977094093,
          5.997933977094093,
          6.997933977094093,
          7.999999999999999,
          8.997933977094092,
          9.997933977094092,
          10.997933977094092,
          12,
          12.997933977094092,
          13.997933977094092,
          14.997933977094092,
          16,
          16.997933977094096,
          17.997933977094096,
          18.997933977094096,
          20,
          24.997933977094096,
          29.997933977094096
         ],
         "y": [
          155,
          157.7,
          160.75,
          163.7,
          163.483,
          163.364,
          162.972,
          162.473,
          162.113,
          161.697,
          161.357,
          161.086,
          160.314,
          160.4,
          162.1,
          165.8,
          170.2,
          174.8,
          179.7,
          184.6,
          189.3,
          194.3,
          199,
          203.6,
          207.833,
          211.403,
          214.5,
          216.381,
          218.032,
          219.499,
          220.824,
          222,
          221.3,
          217.8
         ]
        },
        {
         "mode": "lines",
         "name": "ParallelDown",
         "type": "scatter",
         "x": [
          0.0027322404371584175,
          0.08196721311475402,
          0.16393442622950816,
          0.24590163934426224,
          0.3278688524590163,
          0.4098360655737704,
          0.4918032786885246,
          0.5737704918032787,
          0.6557377049180327,
          0.7377049180327868,
          0.8198517853132719,
          0.9020435661351898,
          0.9979339770940938,
          1.9979339770940938,
          2.997933977094094,
          4,
          4.997933977094093,
          5.997933977094093,
          6.997933977094093,
          7.999999999999999,
          8.997933977094092,
          9.997933977094092,
          10.997933977094092,
          12,
          12.997933977094092,
          13.997933977094092,
          14.997933977094092,
          16,
          16.997933977094096,
          17.997933977094096,
          18.997933977094096,
          20,
          24.997933977094096,
          29.997933977094096
         ],
         "y": [
          -99.98633879781421,
          -99.59016393442623,
          -99.18032786885246,
          -98.77049180327869,
          -98.36065573770492,
          -97.95081967213115,
          -97.54098360655738,
          -97.1311475409836,
          -96.72131147540983,
          -96.31147540983606,
          -95.90074107343364,
          -95.48978216932406,
          -95.01033011452952,
          -90.01033011452952,
          -85.01033011452952,
          -80,
          -75.01033011452954,
          -70.01033011452954,
          -65.01033011452952,
          -60.00000000000001,
          -55.01033011452954,
          -50.01033011452954,
          -45.01033011452954,
          -40,
          -35.01033011452954,
          -30.010330114529538,
          -25.010330114529538,
          -20,
          -15.010330114529523,
          -10.010330114529523,
          -5.010330114529523,
          0,
          0,
          0
         ]
        },
        {
         "mode": "lines",
         "name": "ShortUp",
         "type": "scatter",
         "x": [
          0.0027322404371584175,
          0.08196721311475402,
          0.16393442622950816,
          0.24590163934426224,
          0.3278688524590163,
          0.4098360655737704,
          0.4918032786885246,
          0.5737704918032787,
          0.6557377049180327,
          0.7377049180327868,
          0.8198517853132719,
          0.9020435661351898,
          0.9979339770940938,
          1.9979339770940938,
          2.997933977094094,
          4,
          4.997933977094093,
          5.997933977094093,
          6.997933977094093,
          7.999999999999999,
          8.997933977094092,
          9.997933977094092,
          10.997933977094092,
          12,
          12.997933977094092,
          13.997933977094092,
          14.997933977094092,
          16,
          16.997933977094096,
          17.997933977094096,
          18.997933977094096,
          20,
          24.997933977094096,
          29.997933977094096
         ],
         "y": [
          204.82929328078998,
          202.62918172664524,
          200.71121624513597,
          198.79401736420687,
          193.80854120737965,
          189.0177853546808,
          184.048788001768,
          179.0656271361122,
          174.3124197298893,
          169.5923209492429,
          165.02637566121638,
          160.61309194407283,
          155.11478550926387,
          112.11100429753952,
          80.25264894747303,
          57.769860292860585,
          41.86320411290602,
          30.61135948053712,
          23.16593046772199,
          18.433820809153183,
          15.663419481610877,
          14.83185173671848,
          14.990222210462337,
          16.046767091965986,
          17.53156002626332,
          18.956246143118904,
          20.38247401099207,
          20.959909722183546,
          21.599900842629438,
          22.27768397016093,
          22.988041251869294,
          23.684486749771366,
          21.782862871097404,
          17.93834252879509
         ]
        },
        {
         "mode": "lines",
         "name": "ShortDown",
         "type": "scatter",
         "x": [
          0.0027322404371584175,
          0.08196721311475402,
          0.16393442622950816,
          0.24590163934426224,
          0.3278688524590163,
          0.4098360655737704,
          0.4918032786885246,
          0.5737704918032787,
          0.6557377049180327,
          0.7377049180327868,
          0.8198517853132719,
          0.9020435661351898,
          0.9979339770940938,
          1.9979339770940938,
          2.997933977094094,
          4,
          4.997933977094093,
          5.997933977094093,
          6.997933977094093,
          7.999999999999999,
          8.997933977094092,
          9.997933977094092,
          10.997933977094092,
          12,
          12.997933977094092,
          13.997933977094092,
          14.997933977094092,
          16,
          16.997933977094096,
          17.997933977094096,
          18.997933977094096,
          20,
          24.997933977094096,
          29.997933977094096
         ],
         "y": [
          -99.98633879781421,
          -99.59016393442623,
          -99.18032786885246,
          -98.77049180327869,
          -98.36065573770492,
          -97.95081967213115,
          -97.54098360655738,
          -97.1311475409836,
          -96.72131147540983,
          -96.31147540983606,
          -95.90074107343364,
          -95.48978216932406,
          -95.01033011452952,
          -90.01033011452952,
          -85.01033011452952,
          -80,
          -75.01033011452954,
          -70.01033011452954,
          -63.76593046772199,
          -49.23382080915318,
          -37.06341948161088,
          -26.23185173671848,
          -16.990222210462335,
          -8.846767091965987,
          -1.8655600262633234,
          3.849753856881099,
          8.617525989007929,
          11.802090277816456,
          14.464099157370562,
          16.72031602983907,
          18.65995874813071,
          20.315513250228634,
          20.817137128902598,
          17.66165747120491
         ]
        },
        {
         "mode": "lines",
         "name": "LongUp",
         "type": "scatter",
         "x": [
          0.0027322404371584175,
          0.08196721311475402,
          0.16393442622950816,
          0.24590163934426224,
          0.3278688524590163,
          0.4098360655737704,
          0.4918032786885246,
          0.5737704918032787,
          0.6557377049180327,
          0.7377049180327868,
          0.8198517853132719,
          0.9020435661351898,
          0.9979339770940938,
          1.9979339770940938,
          2.997933977094094,
          4,
          4.997933977094093,
          5.997933977094093,
          6.997933977094093,
          7.999999999999999,
          8.997933977094092,
          9.997933977094092,
          10.997933977094092,
          12,
          12.997933977094092,
          13.997933977094092,
          14.997933977094092,
          16,
          16.997933977094096,
          17.997933977094096,
          18.997933977094096,
          20,
          24.997933977094096,
          29.997933977094096
         ],
         "y": [
          -44.931717312315996,
          -40.27167269065808,
          -35.23448649805439,
          -30.337606945682747,
          -28.64721648295185,
          -26.897514141872314,
          -25.458715200707196,
          -24.164050854444874,
          -22.766767891955727,
          -21.461128379697158,
          -20.11075026448655,
          -18.724836777629125,
          -17.606314203705555,
          -0.28440171901580413,
          14.838940421010797,
          29.012055882855762,
          41.53471835483761,
          52.47545620778516,
          62.31362781291121,
          71.06647167633872,
          78.75463220735566,
          86.0872593053126,
          92.60391111581507,
          98.6212931632136,
          103.95357598949467,
          108.38170154275245,
          112.14701039560317,
          114.54943611112658,
          116.60483966294822,
          118.38752641193562,
          119.95838349925229,
          121.32620530009146,
          121.10685485156102,
          117.74466298848196
         ]
        },
        {
         "mode": "lines",
         "name": "LongDown",
         "type": "scatter",
         "x": [
          0.0027322404371584175,
          0.08196721311475402,
          0.16393442622950816,
          0.24590163934426224,
          0.3278688524590163,
          0.4098360655737704,
          0.4918032786885246,
          0.5737704918032787,
          0.6557377049180327,
          0.7377049180327868,
          0.8198517853132719,
          0.9020435661351898,
          0.9979339770940938,
          1.9979339770940938,
          2.997933977094094,
          4,
          4.997933977094093,
          5.997933977094093,
          6.997933977094093,
          7.999999999999999,
          8.997933977094092,
          9.997933977094092,
          10.997933977094092,
          12,
          12.997933977094092,
          13.997933977094092,
          14.997933977094092,
          16,
          16.997933977094096,
          17.997933977094096,
          18.997933977094096,
          20,
          24.997933977094096,
          29.997933977094096
         ],
         "y": [
          -45.068282687684004,
          -44.328327309341915,
          -43.26551350194561,
          -42.26239305431724,
          -44.386783517048144,
          -46.37448585812769,
          -48.5972847992928,
          -50.88994914555513,
          -53.00723210804428,
          -55.14487162030284,
          -57.17524973551345,
          -59.10316322237088,
          -61.76568579629445,
          -78.9155982809842,
          -85.01033011452952,
          -80,
          -75.01033011452954,
          -70.01033011452954,
          -65.01033011452952,
          -60.00000000000001,
          -55.01033011452954,
          -50.01033011452954,
          -45.01033011452954,
          -40,
          -35.01033011452954,
          -30.010330114529538,
          -25.010330114529538,
          -20,
          -15.010330114529523,
          -10.010330114529523,
          -5.010330114529523,
          0,
          0,
          0
         ]
        },
        {
         "mode": "lines",
         "name": "Flatten",
         "type": "scatter",
         "x": [
          0.0027322404371584175,
          0.08196721311475402,
          0.16393442622950816,
          0.24590163934426224,
          0.3278688524590163,
          0.4098360655737704,
          0.4918032786885246,
          0.5737704918032787,
          0.6557377049180327,
          0.7377049180327868,
          0.8198517853132719,
          0.9020435661351898,
          0.9979339770940938,
          1.9979339770940938,
          2.997933977094094,
          4,
          4.997933977094093,
          5.997933977094093,
          6.997933977094093,
          7.999999999999999,
          8.997933977094092,
          9.997933977094092,
          10.997933977094092,
          12,
          12.997933977094092,
          13.997933977094092,
          14.997933977094092,
          16,
          16.997933977094096,
          17.997933977094096,
          18.997933977094096,
          20,
          24.997933977094096,
          29.997933977094096
         ],
         "y": [
          154.82246501202158,
          152.42634899571107,
          150.30966489494142,
          148.19777805877516,
          143.02156285567486,
          138.04393676886804,
          132.8918595218387,
          127.72933222155667,
          122.8003965190849,
          117.90813378721262,
          113.17315068766504,
          108.59417562183573,
          102.90681692963443,
          58.1794444694411,
          24.97875490537195,
          1.4486547045750129,
          -15.270267722577742,
          -27.15618614024139,
          -35.095432313569134,
          -40.21282635848069,
          -43.28204373912469,
          -44.34687419381278,
          -44.37016890111917,
          -40,
          -35.01033011452954,
          -30.010330114529538,
          -25.010330114529538,
          -20,
          -15.010330114529523,
          -10.010330114529523,
          -5.010330114529523,
          0,
          0,
          0
         ]
        },
        {
         "mode": "lines",
         "name": "Steepen",
         "type": "scatter",
         "x": [
          0.0027322404371584175,
          0.08196721311475402,
          0.16393442622950816,
          0.24590163934426224,
          0.3278688524590163,
          0.4098360655737704,
          0.4918032786885246,
          0.5737704918032787,
          0.6557377049180327,
          0.7377049180327868,
          0.8198517853132719,
          0.9020435661351898,
          0.9979339770940938,
          1.9979339770940938,
          2.997933977094094,
          4,
          4.997933977094093,
          5.997933977094093,
          6.997933977094093,
          7.999999999999999,
          8.997933977094092,
          9.997933977094092,
          10.997933977094092,
          12,
          12.997933977094092,
          13.997933977094092,
          14.997933977094092,
          16,
          16.997933977094096,
          17.997933977094096,
          18.997933977094096,
          20,
          24.997933977094096,
          29.997933977094096
         ],
         "y": [
          -99.98633879781421,
          -99.59016393442623,
          -99.18032786885246,
          -98.77049180327869,
          -98.36065573770492,
          -97.95081967213115,
          -97.54098360655738,
          -97.1311475409836,
          -96.72131147540983,
          -96.31147540983606,
          -95.90074107343364,
          -95.48978216932406,
          -95.01033011452952,
          -90.01033011452952,
          -67.23417543694774,
          -37.089558895789196,
          -12.179836154035065,
          8.43052692465751,
          25.7994102276008,
          40.42784098275529,
          52.67294632357303,
          63.56282974591433,
          72.84987556743305,
          81.02876523711434,
          88.03745437347405,
          93.77422139544993,
          98.558701248898,
          101.75630118059462,
          104.42842014894427,
          106.69252919013745,
          108.63831833561203,
          110.29866838273092,
          110.8123085001916,
          107.66027404591696
         ]
        }
       ],
       "layout": {
        "showlegend": true,
        "template": {
         "data": {
          "bar": [
           {
            "error_x": {
             "color": "#2a3f5f"
            },
            "error_y": {
             "color": "#2a3f5f"
            },
            "marker": {
             "line": {
              "color": "#E5ECF6",
              "width": 0.5
             }
            },
            "type": "bar"
           }
          ],
          "barpolar": [
           {
            "marker": {
             "line": {
              "color": "#E5ECF6",
              "width": 0.5
             }
            },
            "type": "barpolar"
           }
          ],
          "carpet": [
           {
            "aaxis": {
             "endlinecolor": "#2a3f5f",
             "gridcolor": "white",
             "linecolor": "white",
             "minorgridcolor": "white",
             "startlinecolor": "#2a3f5f"
            },
            "baxis": {
             "endlinecolor": "#2a3f5f",
             "gridcolor": "white",
             "linecolor": "white",
             "minorgridcolor": "white",
             "startlinecolor": "#2a3f5f"
            },
            "type": "carpet"
           }
          ],
          "choropleth": [
           {
            "colorbar": {
             "outlinewidth": 0,
             "ticks": ""
            },
            "type": "choropleth"
           }
          ],
          "contour": [
           {
            "colorbar": {
             "outlinewidth": 0,
             "ticks": ""
            },
            "colorscale": [
             [
              0,
              "#0d0887"
             ],
             [
              0.1111111111111111,
              "#46039f"
             ],
             [
              0.2222222222222222,
              "#7201a8"
             ],
             [
              0.3333333333333333,
              "#9c179e"
             ],
             [
              0.4444444444444444,
              "#bd3786"
             ],
             [
              0.5555555555555556,
              "#d8576b"
             ],
             [
              0.6666666666666666,
              "#ed7953"
             ],
             [
              0.7777777777777778,
              "#fb9f3a"
             ],
             [
              0.8888888888888888,
              "#fdca26"
             ],
             [
              1,
              "#f0f921"
             ]
            ],
            "type": "contour"
           }
          ],
          "contourcarpet": [
           {
            "colorbar": {
             "outlinewidth": 0,
             "ticks": ""
            },
            "type": "contourcarpet"
           }
          ],
          "heatmap": [
           {
            "colorbar": {
             "outlinewidth": 0,
             "ticks": ""
            },
            "colorscale": [
             [
              0,
              "#0d0887"
             ],
             [
              0.1111111111111111,
              "#46039f"
             ],
             [
              0.2222222222222222,
              "#7201a8"
             ],
             [
              0.3333333333333333,
              "#9c179e"
             ],
             [
              0.4444444444444444,
              "#bd3786"
             ],
             [
              0.5555555555555556,
              "#d8576b"
             ],
             [
              0.6666666666666666,
              "#ed7953"
             ],
             [
              0.7777777777777778,
              "#fb9f3a"
             ],
             [
              0.8888888888888888,
              "#fdca26"
             ],
             [
              1,
              "#f0f921"
             ]
            ],
            "type": "heatmap"
           }
          ],
          "heatmapgl": [
           {
            "colorbar": {
             "outlinewidth": 0,
             "ticks": ""
            },
            "colorscale": [
             [
              0,
              "#0d0887"
             ],
             [
              0.1111111111111111,
              "#46039f"
             ],
             [
              0.2222222222222222,
              "#7201a8"
             ],
             [
              0.3333333333333333,
              "#9c179e"
             ],
             [
              0.4444444444444444,
              "#bd3786"
             ],
             [
              0.5555555555555556,
              "#d8576b"
             ],
             [
              0.6666666666666666,
              "#ed7953"
             ],
             [
              0.7777777777777778,
              "#fb9f3a"
             ],
             [
              0.8888888888888888,
              "#fdca26"
             ],
             [
              1,
              "#f0f921"
             ]
            ],
            "type": "heatmapgl"
           }
          ],
          "histogram": [
           {
            "marker": {
             "colorbar": {
              "outlinewidth": 0,
              "ticks": ""
             }
            },
            "type": "histogram"
           }
          ],
          "histogram2d": [
           {
            "colorbar": {
             "outlinewidth": 0,
             "ticks": ""
            },
            "colorscale": [
             [
              0,
              "#0d0887"
             ],
             [
              0.1111111111111111,
              "#46039f"
             ],
             [
              0.2222222222222222,
              "#7201a8"
             ],
             [
              0.3333333333333333,
              "#9c179e"
             ],
             [
              0.4444444444444444,
              "#bd3786"
             ],
             [
              0.5555555555555556,
              "#d8576b"
             ],
             [
              0.6666666666666666,
              "#ed7953"
             ],
             [
              0.7777777777777778,
              "#fb9f3a"
             ],
             [
              0.8888888888888888,
              "#fdca26"
             ],
             [
              1,
              "#f0f921"
             ]
            ],
            "type": "histogram2d"
           }
          ],
          "histogram2dcontour": [
           {
            "colorbar": {
             "outlinewidth": 0,
             "ticks": ""
            },
            "colorscale": [
             [
              0,
              "#0d0887"
             ],
             [
              0.1111111111111111,
              "#46039f"
             ],
             [
              0.2222222222222222,
              "#7201a8"
             ],
             [
              0.3333333333333333,
              "#9c179e"
             ],
             [
              0.4444444444444444,
              "#bd3786"
             ],
             [
              0.5555555555555556,
              "#d8576b"
             ],
             [
              0.6666666666666666,
              "#ed7953"
             ],
             [
              0.7777777777777778,
              "#fb9f3a"
             ],
             [
              0.8888888888888888,
              "#fdca26"
             ],
             [
              1,
              "#f0f921"
             ]
            ],
            "type": "histogram2dcontour"
           }
          ],
          "mesh3d": [
           {
            "colorbar": {
             "outlinewidth": 0,
             "ticks": ""
            },
            "type": "mesh3d"
           }
          ],
          "parcoords": [
           {
            "line": {
             "colorbar": {
              "outlinewidth": 0,
              "ticks": ""
             }
            },
            "type": "parcoords"
           }
          ],
          "scatter": [
           {
            "marker": {
             "colorbar": {
              "outlinewidth": 0,
              "ticks": ""
             }
            },
            "type": "scatter"
           }
          ],
          "scatter3d": [
           {
            "line": {
             "colorbar": {
              "outlinewidth": 0,
              "ticks": ""
             }
            },
            "marker": {
             "colorbar": {
              "outlinewidth": 0,
              "ticks": ""
             }
            },
            "type": "scatter3d"
           }
          ],
          "scattercarpet": [
           {
            "marker": {
             "colorbar": {
              "outlinewidth": 0,
              "ticks": ""
             }
            },
            "type": "scattercarpet"
           }
          ],
          "scattergeo": [
           {
            "marker": {
             "colorbar": {
              "outlinewidth": 0,
              "ticks": ""
             }
            },
            "type": "scattergeo"
           }
          ],
          "scattergl": [
           {
            "marker": {
             "colorbar": {
              "outlinewidth": 0,
              "ticks": ""
             }
            },
            "type": "scattergl"
           }
          ],
          "scattermapbox": [
           {
            "marker": {
             "colorbar": {
              "outlinewidth": 0,
              "ticks": ""
             }
            },
            "type": "scattermapbox"
           }
          ],
          "scatterpolar": [
           {
            "marker": {
             "colorbar": {
              "outlinewidth": 0,
              "ticks": ""
             }
            },
            "type": "scatterpolar"
           }
          ],
          "scatterpolargl": [
           {
            "marker": {
             "colorbar": {
              "outlinewidth": 0,
              "ticks": ""
             }
            },
            "type": "scatterpolargl"
           }
          ],
          "scatterternary": [
           {
            "marker": {
             "colorbar": {
              "outlinewidth": 0,
              "ticks": ""
             }
            },
            "type": "scatterternary"
           }
          ],
          "surface": [
           {
            "colorbar": {
             "outlinewidth": 0,
             "ticks": ""
            },
            "colorscale": [
             [
              0,
              "#0d0887"
             ],
             [
              0.1111111111111111,
              "#46039f"
             ],
             [
              0.2222222222222222,
              "#7201a8"
             ],
             [
              0.3333333333333333,
              "#9c179e"
             ],
             [
              0.4444444444444444,
              "#bd3786"
             ],
             [
              0.5555555555555556,
              "#d8576b"
             ],
             [
              0.6666666666666666,
              "#ed7953"
             ],
             [
              0.7777777777777778,
              "#fb9f3a"
             ],
             [
              0.8888888888888888,
              "#fdca26"
             ],
             [
              1,
              "#f0f921"
             ]
            ],
            "type": "surface"
           }
          ],
          "table": [
           {
            "cells": {
             "fill": {
              "color": "#EBF0F8"
             },
             "line": {
              "color": "white"
             }
            },
            "header": {
             "fill": {
              "color": "#C8D4E3"
             },
             "line": {
              "color": "white"
             }
            },
            "type": "table"
           }
          ]
         },
         "layout": {
          "annotationdefaults": {
           "arrowcolor": "#2a3f5f",
           "arrowhead": 0,
           "arrowwidth": 1
          },
          "colorscale": {
           "diverging": [
            [
             0,
             "#8e0152"
            ],
            [
             0.1,
             "#c51b7d"
            ],
            [
             0.2,
             "#de77ae"
            ],
            [
             0.3,
             "#f1b6da"
            ],
            [
             0.4,
             "#fde0ef"
            ],
            [
             0.5,
             "#f7f7f7"
            ],
            [
             0.6,
             "#e6f5d0"
            ],
            [
             0.7,
             "#b8e186"
            ],
            [
             0.8,
             "#7fbc41"
            ],
            [
             0.9,
             "#4d9221"
            ],
            [
             1,
             "#276419"
            ]
           ],
           "sequential": [
            [
             0,
             "#0d0887"
            ],
            [
             0.1111111111111111,
             "#46039f"
            ],
            [
             0.2222222222222222,
             "#7201a8"
            ],
            [
             0.3333333333333333,
             "#9c179e"
            ],
            [
             0.4444444444444444,
             "#bd3786"
            ],
            [
             0.5555555555555556,
             "#d8576b"
            ],
            [
             0.6666666666666666,
             "#ed7953"
            ],
            [
             0.7777777777777778,
             "#fb9f3a"
            ],
            [
             0.8888888888888888,
             "#fdca26"
            ],
            [
             1,
             "#f0f921"
            ]
           ],
           "sequentialminus": [
            [
             0,
             "#0d0887"
            ],
            [
             0.1111111111111111,
             "#46039f"
            ],
            [
             0.2222222222222222,
             "#7201a8"
            ],
            [
             0.3333333333333333,
             "#9c179e"
            ],
            [
             0.4444444444444444,
             "#bd3786"
            ],
            [
             0.5555555555555556,
             "#d8576b"
            ],
            [
             0.6666666666666666,
             "#ed7953"
            ],
            [
             0.7777777777777778,
             "#fb9f3a"
            ],
            [
             0.8888888888888888,
             "#fdca26"
            ],
            [
             1,
             "#f0f921"
            ]
           ]
          },
          "colorway": [
           "#636efa",
           "#EF553B",
           "#00cc96",
           "#ab63fa",
           "#FFA15A",
           "#19d3f3",
           "#FF6692",
           "#B6E880",
           "#FF97FF",
           "#FECB52"
          ],
          "font": {
           "color": "#2a3f5f"
          },
          "geo": {
           "bgcolor": "white",
           "lakecolor": "white",
           "landcolor": "#E5ECF6",
           "showlakes": true,
           "showland": true,
           "subunitcolor": "white"
          },
          "hoverlabel": {
           "align": "left"
          },
          "hovermode": "closest",
          "mapbox": {
           "style": "light"
          },
          "paper_bgcolor": "white",
          "plot_bgcolor": "#E5ECF6",
          "polar": {
           "angularaxis": {
            "gridcolor": "white",
            "linecolor": "white",
            "ticks": ""
           },
           "bgcolor": "#E5ECF6",
           "radialaxis": {
            "gridcolor": "white",
            "linecolor": "white",
            "ticks": ""
           }
          },
          "scene": {
           "xaxis": {
            "backgroundcolor": "#E5ECF6",
            "gridcolor": "white",
            "gridwidth": 2,
            "linecolor": "white",
            "showbackground": true,
            "ticks": "",
            "zerolinecolor": "white"
           },
           "yaxis": {
            "backgroundcolor": "#E5ECF6",
            "gridcolor": "white",
            "gridwidth": 2,
            "linecolor": "white",
            "showbackground": true,
            "ticks": "",
            "zerolinecolor": "white"
           },
           "zaxis": {
            "backgroundcolor": "#E5ECF6",
            "gridcolor": "white",
            "gridwidth": 2,
            "linecolor": "white",
            "showbackground": true,
            "ticks": "",
            "zerolinecolor": "white"
           }
          },
          "shapedefaults": {
           "line": {
            "color": "#2a3f5f"
           }
          },
          "ternary": {
           "aaxis": {
            "gridcolor": "white",
            "linecolor": "white",
            "ticks": ""
           },
           "baxis": {
            "gridcolor": "white",
            "linecolor": "white",
            "ticks": ""
           },
           "bgcolor": "#E5ECF6",
           "caxis": {
            "gridcolor": "white",
            "linecolor": "white",
            "ticks": ""
           }
          },
          "title": {
           "x": 0.05
          },
          "xaxis": {
           "automargin": true,
           "gridcolor": "white",
           "linecolor": "white",
           "ticks": "",
           "zerolinecolor": "white",
           "zerolinewidth": 2
          },
          "yaxis": {
           "automargin": true,
           "gridcolor": "white",
           "linecolor": "white",
           "ticks": "",
           "zerolinecolor": "white",
           "zerolinewidth": 2
          }
         }
        },
        "title": {
         "text": "Shock scenarios (with lower bound)",
         "x": 0.5,
         "xanchor": "center",
         "y": 0.9,
         "yanchor": "top"
        },
        "xaxis": {
         "title": {
          "text": "Expiry (in years)"
         }
        },
        "yaxis": {
         "title": {
          "text": "Interest rate (in basis points)"
         }
        }
       }
      },
      "text/html": [
       "<div>\n",
       "        \n",
       "        \n",
       "            <div id=\"9210f664-051b-4347-b5d5-8610936fd99c\" class=\"plotly-graph-div\" style=\"height:525px; width:100%;\"></div>\n",
       "            <script type=\"text/javascript\">\n",
       "                require([\"plotly\"], function(Plotly) {\n",
       "                    window.PLOTLYENV=window.PLOTLYENV || {};\n",
       "                    \n",
       "                if (document.getElementById(\"9210f664-051b-4347-b5d5-8610936fd99c\")) {\n",
       "                    Plotly.newPlot(\n",
       "                        '9210f664-051b-4347-b5d5-8610936fd99c',\n",
       "                        [{\"mode\": \"lines\", \"name\": \"Original\", \"type\": \"scatter\", \"x\": [0.0027322404371584175, 0.08196721311475402, 0.16393442622950816, 0.24590163934426224, 0.3278688524590163, 0.4098360655737704, 0.4918032786885246, 0.5737704918032787, 0.6557377049180327, 0.7377049180327868, 0.8198517853132719, 0.9020435661351898, 0.9979339770940938, 1.9979339770940938, 2.997933977094094, 4.0, 4.997933977094093, 5.997933977094093, 6.997933977094093, 7.999999999999999, 8.997933977094092, 9.997933977094092, 10.997933977094092, 12.0, 12.997933977094092, 13.997933977094092, 14.997933977094092, 16.0, 16.997933977094096, 17.997933977094096, 18.997933977094096, 20.0, 24.997933977094096, 29.997933977094096], \"y\": [-45.0, -42.3, -39.25, -36.3, -36.516999999999996, -36.636, -37.028, -37.527, -37.887, -38.303, -38.643, -38.914, -39.686, -39.6, -37.9, -34.2, -29.799999999999997, -25.2, -20.3, -15.4, -10.7, -5.7, -1.0, 3.5999999999999996, 7.832999999999999, 11.403, 14.499999999999998, 16.381, 18.032, 19.499, 20.824, 22.0, 21.3, 17.8]}, {\"mode\": \"lines\", \"name\": \"ParallelUp\", \"type\": \"scatter\", \"x\": [0.0027322404371584175, 0.08196721311475402, 0.16393442622950816, 0.24590163934426224, 0.3278688524590163, 0.4098360655737704, 0.4918032786885246, 0.5737704918032787, 0.6557377049180327, 0.7377049180327868, 0.8198517853132719, 0.9020435661351898, 0.9979339770940938, 1.9979339770940938, 2.997933977094094, 4.0, 4.997933977094093, 5.997933977094093, 6.997933977094093, 7.999999999999999, 8.997933977094092, 9.997933977094092, 10.997933977094092, 12.0, 12.997933977094092, 13.997933977094092, 14.997933977094092, 16.0, 16.997933977094096, 17.997933977094096, 18.997933977094096, 20.0, 24.997933977094096, 29.997933977094096], \"y\": [155.0, 157.7, 160.75, 163.7, 163.483, 163.364, 162.972, 162.473, 162.113, 161.697, 161.357, 161.086, 160.314, 160.4, 162.1, 165.8, 170.2, 174.8, 179.7, 184.6, 189.3, 194.3, 199.0, 203.6, 207.833, 211.403, 214.5, 216.381, 218.032, 219.499, 220.824, 222.0, 221.3, 217.8]}, {\"mode\": \"lines\", \"name\": \"ParallelDown\", \"type\": \"scatter\", \"x\": [0.0027322404371584175, 0.08196721311475402, 0.16393442622950816, 0.24590163934426224, 0.3278688524590163, 0.4098360655737704, 0.4918032786885246, 0.5737704918032787, 0.6557377049180327, 0.7377049180327868, 0.8198517853132719, 0.9020435661351898, 0.9979339770940938, 1.9979339770940938, 2.997933977094094, 4.0, 4.997933977094093, 5.997933977094093, 6.997933977094093, 7.999999999999999, 8.997933977094092, 9.997933977094092, 10.997933977094092, 12.0, 12.997933977094092, 13.997933977094092, 14.997933977094092, 16.0, 16.997933977094096, 17.997933977094096, 18.997933977094096, 20.0, 24.997933977094096, 29.997933977094096], \"y\": [-99.98633879781421, -99.59016393442623, -99.18032786885246, -98.77049180327869, -98.36065573770492, -97.95081967213115, -97.54098360655738, -97.1311475409836, -96.72131147540983, -96.31147540983606, -95.90074107343364, -95.48978216932406, -95.01033011452952, -90.01033011452952, -85.01033011452952, -80.0, -75.01033011452954, -70.01033011452954, -65.01033011452952, -60.00000000000001, -55.01033011452954, -50.01033011452954, -45.01033011452954, -40.0, -35.01033011452954, -30.010330114529538, -25.010330114529538, -20.0, -15.010330114529523, -10.010330114529523, -5.010330114529523, 0, 0, 0]}, {\"mode\": \"lines\", \"name\": \"ShortUp\", \"type\": \"scatter\", \"x\": [0.0027322404371584175, 0.08196721311475402, 0.16393442622950816, 0.24590163934426224, 0.3278688524590163, 0.4098360655737704, 0.4918032786885246, 0.5737704918032787, 0.6557377049180327, 0.7377049180327868, 0.8198517853132719, 0.9020435661351898, 0.9979339770940938, 1.9979339770940938, 2.997933977094094, 4.0, 4.997933977094093, 5.997933977094093, 6.997933977094093, 7.999999999999999, 8.997933977094092, 9.997933977094092, 10.997933977094092, 12.0, 12.997933977094092, 13.997933977094092, 14.997933977094092, 16.0, 16.997933977094096, 17.997933977094096, 18.997933977094096, 20.0, 24.997933977094096, 29.997933977094096], \"y\": [204.82929328078998, 202.62918172664524, 200.71121624513597, 198.79401736420687, 193.80854120737965, 189.0177853546808, 184.048788001768, 179.0656271361122, 174.3124197298893, 169.5923209492429, 165.02637566121638, 160.61309194407283, 155.11478550926387, 112.11100429753952, 80.25264894747303, 57.769860292860585, 41.86320411290602, 30.61135948053712, 23.16593046772199, 18.433820809153183, 15.663419481610877, 14.83185173671848, 14.990222210462337, 16.046767091965986, 17.53156002626332, 18.956246143118904, 20.38247401099207, 20.959909722183546, 21.599900842629438, 22.27768397016093, 22.988041251869294, 23.684486749771366, 21.782862871097404, 17.93834252879509]}, {\"mode\": \"lines\", \"name\": \"ShortDown\", \"type\": \"scatter\", \"x\": [0.0027322404371584175, 0.08196721311475402, 0.16393442622950816, 0.24590163934426224, 0.3278688524590163, 0.4098360655737704, 0.4918032786885246, 0.5737704918032787, 0.6557377049180327, 0.7377049180327868, 0.8198517853132719, 0.9020435661351898, 0.9979339770940938, 1.9979339770940938, 2.997933977094094, 4.0, 4.997933977094093, 5.997933977094093, 6.997933977094093, 7.999999999999999, 8.997933977094092, 9.997933977094092, 10.997933977094092, 12.0, 12.997933977094092, 13.997933977094092, 14.997933977094092, 16.0, 16.997933977094096, 17.997933977094096, 18.997933977094096, 20.0, 24.997933977094096, 29.997933977094096], \"y\": [-99.98633879781421, -99.59016393442623, -99.18032786885246, -98.77049180327869, -98.36065573770492, -97.95081967213115, -97.54098360655738, -97.1311475409836, -96.72131147540983, -96.31147540983606, -95.90074107343364, -95.48978216932406, -95.01033011452952, -90.01033011452952, -85.01033011452952, -80.0, -75.01033011452954, -70.01033011452954, -63.76593046772199, -49.23382080915318, -37.06341948161088, -26.23185173671848, -16.990222210462335, -8.846767091965987, -1.8655600262633234, 3.849753856881099, 8.617525989007929, 11.802090277816456, 14.464099157370562, 16.72031602983907, 18.65995874813071, 20.315513250228634, 20.817137128902598, 17.66165747120491]}, {\"mode\": \"lines\", \"name\": \"LongUp\", \"type\": \"scatter\", \"x\": [0.0027322404371584175, 0.08196721311475402, 0.16393442622950816, 0.24590163934426224, 0.3278688524590163, 0.4098360655737704, 0.4918032786885246, 0.5737704918032787, 0.6557377049180327, 0.7377049180327868, 0.8198517853132719, 0.9020435661351898, 0.9979339770940938, 1.9979339770940938, 2.997933977094094, 4.0, 4.997933977094093, 5.997933977094093, 6.997933977094093, 7.999999999999999, 8.997933977094092, 9.997933977094092, 10.997933977094092, 12.0, 12.997933977094092, 13.997933977094092, 14.997933977094092, 16.0, 16.997933977094096, 17.997933977094096, 18.997933977094096, 20.0, 24.997933977094096, 29.997933977094096], \"y\": [-44.931717312315996, -40.27167269065808, -35.23448649805439, -30.337606945682747, -28.64721648295185, -26.897514141872314, -25.458715200707196, -24.164050854444874, -22.766767891955727, -21.461128379697158, -20.11075026448655, -18.724836777629125, -17.606314203705555, -0.28440171901580413, 14.838940421010797, 29.012055882855762, 41.53471835483761, 52.47545620778516, 62.31362781291121, 71.06647167633872, 78.75463220735566, 86.0872593053126, 92.60391111581507, 98.6212931632136, 103.95357598949467, 108.38170154275245, 112.14701039560317, 114.54943611112658, 116.60483966294822, 118.38752641193562, 119.95838349925229, 121.32620530009146, 121.10685485156102, 117.74466298848196]}, {\"mode\": \"lines\", \"name\": \"LongDown\", \"type\": \"scatter\", \"x\": [0.0027322404371584175, 0.08196721311475402, 0.16393442622950816, 0.24590163934426224, 0.3278688524590163, 0.4098360655737704, 0.4918032786885246, 0.5737704918032787, 0.6557377049180327, 0.7377049180327868, 0.8198517853132719, 0.9020435661351898, 0.9979339770940938, 1.9979339770940938, 2.997933977094094, 4.0, 4.997933977094093, 5.997933977094093, 6.997933977094093, 7.999999999999999, 8.997933977094092, 9.997933977094092, 10.997933977094092, 12.0, 12.997933977094092, 13.997933977094092, 14.997933977094092, 16.0, 16.997933977094096, 17.997933977094096, 18.997933977094096, 20.0, 24.997933977094096, 29.997933977094096], \"y\": [-45.068282687684004, -44.328327309341915, -43.26551350194561, -42.26239305431724, -44.386783517048144, -46.37448585812769, -48.5972847992928, -50.88994914555513, -53.00723210804428, -55.14487162030284, -57.17524973551345, -59.10316322237088, -61.76568579629445, -78.9155982809842, -85.01033011452952, -80.0, -75.01033011452954, -70.01033011452954, -65.01033011452952, -60.00000000000001, -55.01033011452954, -50.01033011452954, -45.01033011452954, -40.0, -35.01033011452954, -30.010330114529538, -25.010330114529538, -20.0, -15.010330114529523, -10.010330114529523, -5.010330114529523, 0, 0, 0]}, {\"mode\": \"lines\", \"name\": \"Flatten\", \"type\": \"scatter\", \"x\": [0.0027322404371584175, 0.08196721311475402, 0.16393442622950816, 0.24590163934426224, 0.3278688524590163, 0.4098360655737704, 0.4918032786885246, 0.5737704918032787, 0.6557377049180327, 0.7377049180327868, 0.8198517853132719, 0.9020435661351898, 0.9979339770940938, 1.9979339770940938, 2.997933977094094, 4.0, 4.997933977094093, 5.997933977094093, 6.997933977094093, 7.999999999999999, 8.997933977094092, 9.997933977094092, 10.997933977094092, 12.0, 12.997933977094092, 13.997933977094092, 14.997933977094092, 16.0, 16.997933977094096, 17.997933977094096, 18.997933977094096, 20.0, 24.997933977094096, 29.997933977094096], \"y\": [154.82246501202158, 152.42634899571107, 150.30966489494142, 148.19777805877516, 143.02156285567486, 138.04393676886804, 132.8918595218387, 127.72933222155667, 122.8003965190849, 117.90813378721262, 113.17315068766504, 108.59417562183573, 102.90681692963443, 58.1794444694411, 24.97875490537195, 1.4486547045750129, -15.270267722577742, -27.15618614024139, -35.095432313569134, -40.21282635848069, -43.28204373912469, -44.34687419381278, -44.37016890111917, -40.0, -35.01033011452954, -30.010330114529538, -25.010330114529538, -20.0, -15.010330114529523, -10.010330114529523, -5.010330114529523, 0, 0, 0]}, {\"mode\": \"lines\", \"name\": \"Steepen\", \"type\": \"scatter\", \"x\": [0.0027322404371584175, 0.08196721311475402, 0.16393442622950816, 0.24590163934426224, 0.3278688524590163, 0.4098360655737704, 0.4918032786885246, 0.5737704918032787, 0.6557377049180327, 0.7377049180327868, 0.8198517853132719, 0.9020435661351898, 0.9979339770940938, 1.9979339770940938, 2.997933977094094, 4.0, 4.997933977094093, 5.997933977094093, 6.997933977094093, 7.999999999999999, 8.997933977094092, 9.997933977094092, 10.997933977094092, 12.0, 12.997933977094092, 13.997933977094092, 14.997933977094092, 16.0, 16.997933977094096, 17.997933977094096, 18.997933977094096, 20.0, 24.997933977094096, 29.997933977094096], \"y\": [-99.98633879781421, -99.59016393442623, -99.18032786885246, -98.77049180327869, -98.36065573770492, -97.95081967213115, -97.54098360655738, -97.1311475409836, -96.72131147540983, -96.31147540983606, -95.90074107343364, -95.48978216932406, -95.01033011452952, -90.01033011452952, -67.23417543694774, -37.089558895789196, -12.179836154035065, 8.43052692465751, 25.7994102276008, 40.42784098275529, 52.67294632357303, 63.56282974591433, 72.84987556743305, 81.02876523711434, 88.03745437347405, 93.77422139544993, 98.558701248898, 101.75630118059462, 104.42842014894427, 106.69252919013745, 108.63831833561203, 110.29866838273092, 110.8123085001916, 107.66027404591696]}],\n",
       "                        {\"showlegend\": true, \"template\": {\"data\": {\"bar\": [{\"error_x\": {\"color\": \"#2a3f5f\"}, \"error_y\": {\"color\": \"#2a3f5f\"}, \"marker\": {\"line\": {\"color\": \"#E5ECF6\", \"width\": 0.5}}, \"type\": \"bar\"}], \"barpolar\": [{\"marker\": {\"line\": {\"color\": \"#E5ECF6\", \"width\": 0.5}}, \"type\": \"barpolar\"}], \"carpet\": [{\"aaxis\": {\"endlinecolor\": \"#2a3f5f\", \"gridcolor\": \"white\", \"linecolor\": \"white\", \"minorgridcolor\": \"white\", \"startlinecolor\": \"#2a3f5f\"}, \"baxis\": {\"endlinecolor\": \"#2a3f5f\", \"gridcolor\": \"white\", \"linecolor\": \"white\", \"minorgridcolor\": \"white\", \"startlinecolor\": \"#2a3f5f\"}, \"type\": \"carpet\"}], \"choropleth\": [{\"colorbar\": {\"outlinewidth\": 0, \"ticks\": \"\"}, \"type\": \"choropleth\"}], \"contour\": [{\"colorbar\": {\"outlinewidth\": 0, \"ticks\": \"\"}, \"colorscale\": [[0.0, \"#0d0887\"], [0.1111111111111111, \"#46039f\"], [0.2222222222222222, \"#7201a8\"], [0.3333333333333333, \"#9c179e\"], [0.4444444444444444, \"#bd3786\"], [0.5555555555555556, \"#d8576b\"], [0.6666666666666666, \"#ed7953\"], [0.7777777777777778, \"#fb9f3a\"], [0.8888888888888888, \"#fdca26\"], [1.0, \"#f0f921\"]], \"type\": \"contour\"}], \"contourcarpet\": [{\"colorbar\": {\"outlinewidth\": 0, \"ticks\": \"\"}, \"type\": \"contourcarpet\"}], \"heatmap\": [{\"colorbar\": {\"outlinewidth\": 0, \"ticks\": \"\"}, \"colorscale\": [[0.0, \"#0d0887\"], [0.1111111111111111, \"#46039f\"], [0.2222222222222222, \"#7201a8\"], [0.3333333333333333, \"#9c179e\"], [0.4444444444444444, \"#bd3786\"], [0.5555555555555556, \"#d8576b\"], [0.6666666666666666, \"#ed7953\"], [0.7777777777777778, \"#fb9f3a\"], [0.8888888888888888, \"#fdca26\"], [1.0, \"#f0f921\"]], \"type\": \"heatmap\"}], \"heatmapgl\": [{\"colorbar\": {\"outlinewidth\": 0, \"ticks\": \"\"}, \"colorscale\": [[0.0, \"#0d0887\"], [0.1111111111111111, \"#46039f\"], [0.2222222222222222, \"#7201a8\"], [0.3333333333333333, \"#9c179e\"], [0.4444444444444444, \"#bd3786\"], [0.5555555555555556, \"#d8576b\"], [0.6666666666666666, \"#ed7953\"], [0.7777777777777778, \"#fb9f3a\"], [0.8888888888888888, \"#fdca26\"], [1.0, \"#f0f921\"]], \"type\": \"heatmapgl\"}], \"histogram\": [{\"marker\": {\"colorbar\": {\"outlinewidth\": 0, \"ticks\": \"\"}}, \"type\": \"histogram\"}], \"histogram2d\": [{\"colorbar\": {\"outlinewidth\": 0, \"ticks\": \"\"}, \"colorscale\": [[0.0, \"#0d0887\"], [0.1111111111111111, \"#46039f\"], [0.2222222222222222, \"#7201a8\"], [0.3333333333333333, \"#9c179e\"], [0.4444444444444444, \"#bd3786\"], [0.5555555555555556, \"#d8576b\"], [0.6666666666666666, \"#ed7953\"], [0.7777777777777778, \"#fb9f3a\"], [0.8888888888888888, \"#fdca26\"], [1.0, \"#f0f921\"]], \"type\": \"histogram2d\"}], \"histogram2dcontour\": [{\"colorbar\": {\"outlinewidth\": 0, \"ticks\": \"\"}, \"colorscale\": [[0.0, \"#0d0887\"], [0.1111111111111111, \"#46039f\"], [0.2222222222222222, \"#7201a8\"], [0.3333333333333333, \"#9c179e\"], [0.4444444444444444, \"#bd3786\"], [0.5555555555555556, \"#d8576b\"], [0.6666666666666666, \"#ed7953\"], [0.7777777777777778, \"#fb9f3a\"], [0.8888888888888888, \"#fdca26\"], [1.0, \"#f0f921\"]], \"type\": \"histogram2dcontour\"}], \"mesh3d\": [{\"colorbar\": {\"outlinewidth\": 0, \"ticks\": \"\"}, \"type\": \"mesh3d\"}], \"parcoords\": [{\"line\": {\"colorbar\": {\"outlinewidth\": 0, \"ticks\": \"\"}}, \"type\": \"parcoords\"}], \"scatter\": [{\"marker\": {\"colorbar\": {\"outlinewidth\": 0, \"ticks\": \"\"}}, \"type\": \"scatter\"}], \"scatter3d\": [{\"line\": {\"colorbar\": {\"outlinewidth\": 0, \"ticks\": \"\"}}, \"marker\": {\"colorbar\": {\"outlinewidth\": 0, \"ticks\": \"\"}}, \"type\": \"scatter3d\"}], \"scattercarpet\": [{\"marker\": {\"colorbar\": {\"outlinewidth\": 0, \"ticks\": \"\"}}, \"type\": \"scattercarpet\"}], \"scattergeo\": [{\"marker\": {\"colorbar\": {\"outlinewidth\": 0, \"ticks\": \"\"}}, \"type\": \"scattergeo\"}], \"scattergl\": [{\"marker\": {\"colorbar\": {\"outlinewidth\": 0, \"ticks\": \"\"}}, \"type\": \"scattergl\"}], \"scattermapbox\": [{\"marker\": {\"colorbar\": {\"outlinewidth\": 0, \"ticks\": \"\"}}, \"type\": \"scattermapbox\"}], \"scatterpolar\": [{\"marker\": {\"colorbar\": {\"outlinewidth\": 0, \"ticks\": \"\"}}, \"type\": \"scatterpolar\"}], \"scatterpolargl\": [{\"marker\": {\"colorbar\": {\"outlinewidth\": 0, \"ticks\": \"\"}}, \"type\": \"scatterpolargl\"}], \"scatterternary\": [{\"marker\": {\"colorbar\": {\"outlinewidth\": 0, \"ticks\": \"\"}}, \"type\": \"scatterternary\"}], \"surface\": [{\"colorbar\": {\"outlinewidth\": 0, \"ticks\": \"\"}, \"colorscale\": [[0.0, \"#0d0887\"], [0.1111111111111111, \"#46039f\"], [0.2222222222222222, \"#7201a8\"], [0.3333333333333333, \"#9c179e\"], [0.4444444444444444, \"#bd3786\"], [0.5555555555555556, \"#d8576b\"], [0.6666666666666666, \"#ed7953\"], [0.7777777777777778, \"#fb9f3a\"], [0.8888888888888888, \"#fdca26\"], [1.0, \"#f0f921\"]], \"type\": \"surface\"}], \"table\": [{\"cells\": {\"fill\": {\"color\": \"#EBF0F8\"}, \"line\": {\"color\": \"white\"}}, \"header\": {\"fill\": {\"color\": \"#C8D4E3\"}, \"line\": {\"color\": \"white\"}}, \"type\": \"table\"}]}, \"layout\": {\"annotationdefaults\": {\"arrowcolor\": \"#2a3f5f\", \"arrowhead\": 0, \"arrowwidth\": 1}, \"colorscale\": {\"diverging\": [[0, \"#8e0152\"], [0.1, \"#c51b7d\"], [0.2, \"#de77ae\"], [0.3, \"#f1b6da\"], [0.4, \"#fde0ef\"], [0.5, \"#f7f7f7\"], [0.6, \"#e6f5d0\"], [0.7, \"#b8e186\"], [0.8, \"#7fbc41\"], [0.9, \"#4d9221\"], [1, \"#276419\"]], \"sequential\": [[0.0, \"#0d0887\"], [0.1111111111111111, \"#46039f\"], [0.2222222222222222, \"#7201a8\"], [0.3333333333333333, \"#9c179e\"], [0.4444444444444444, \"#bd3786\"], [0.5555555555555556, \"#d8576b\"], [0.6666666666666666, \"#ed7953\"], [0.7777777777777778, \"#fb9f3a\"], [0.8888888888888888, \"#fdca26\"], [1.0, \"#f0f921\"]], \"sequentialminus\": [[0.0, \"#0d0887\"], [0.1111111111111111, \"#46039f\"], [0.2222222222222222, \"#7201a8\"], [0.3333333333333333, \"#9c179e\"], [0.4444444444444444, \"#bd3786\"], [0.5555555555555556, \"#d8576b\"], [0.6666666666666666, \"#ed7953\"], [0.7777777777777778, \"#fb9f3a\"], [0.8888888888888888, \"#fdca26\"], [1.0, \"#f0f921\"]]}, \"colorway\": [\"#636efa\", \"#EF553B\", \"#00cc96\", \"#ab63fa\", \"#FFA15A\", \"#19d3f3\", \"#FF6692\", \"#B6E880\", \"#FF97FF\", \"#FECB52\"], \"font\": {\"color\": \"#2a3f5f\"}, \"geo\": {\"bgcolor\": \"white\", \"lakecolor\": \"white\", \"landcolor\": \"#E5ECF6\", \"showlakes\": true, \"showland\": true, \"subunitcolor\": \"white\"}, \"hoverlabel\": {\"align\": \"left\"}, \"hovermode\": \"closest\", \"mapbox\": {\"style\": \"light\"}, \"paper_bgcolor\": \"white\", \"plot_bgcolor\": \"#E5ECF6\", \"polar\": {\"angularaxis\": {\"gridcolor\": \"white\", \"linecolor\": \"white\", \"ticks\": \"\"}, \"bgcolor\": \"#E5ECF6\", \"radialaxis\": {\"gridcolor\": \"white\", \"linecolor\": \"white\", \"ticks\": \"\"}}, \"scene\": {\"xaxis\": {\"backgroundcolor\": \"#E5ECF6\", \"gridcolor\": \"white\", \"gridwidth\": 2, \"linecolor\": \"white\", \"showbackground\": true, \"ticks\": \"\", \"zerolinecolor\": \"white\"}, \"yaxis\": {\"backgroundcolor\": \"#E5ECF6\", \"gridcolor\": \"white\", \"gridwidth\": 2, \"linecolor\": \"white\", \"showbackground\": true, \"ticks\": \"\", \"zerolinecolor\": \"white\"}, \"zaxis\": {\"backgroundcolor\": \"#E5ECF6\", \"gridcolor\": \"white\", \"gridwidth\": 2, \"linecolor\": \"white\", \"showbackground\": true, \"ticks\": \"\", \"zerolinecolor\": \"white\"}}, \"shapedefaults\": {\"line\": {\"color\": \"#2a3f5f\"}}, \"ternary\": {\"aaxis\": {\"gridcolor\": \"white\", \"linecolor\": \"white\", \"ticks\": \"\"}, \"baxis\": {\"gridcolor\": \"white\", \"linecolor\": \"white\", \"ticks\": \"\"}, \"bgcolor\": \"#E5ECF6\", \"caxis\": {\"gridcolor\": \"white\", \"linecolor\": \"white\", \"ticks\": \"\"}}, \"title\": {\"x\": 0.05}, \"xaxis\": {\"automargin\": true, \"gridcolor\": \"white\", \"linecolor\": \"white\", \"ticks\": \"\", \"zerolinecolor\": \"white\", \"zerolinewidth\": 2}, \"yaxis\": {\"automargin\": true, \"gridcolor\": \"white\", \"linecolor\": \"white\", \"ticks\": \"\", \"zerolinecolor\": \"white\", \"zerolinewidth\": 2}}}, \"title\": {\"text\": \"Shock scenarios (with lower bound)\", \"x\": 0.5, \"xanchor\": \"center\", \"y\": 0.9, \"yanchor\": \"top\"}, \"xaxis\": {\"title\": {\"text\": \"Expiry (in years)\"}}, \"yaxis\": {\"title\": {\"text\": \"Interest rate (in basis points)\"}}},\n",
       "                        {\"responsive\": true}\n",
       "                    ).then(function(){\n",
       "                            \n",
       "var gd = document.getElementById('9210f664-051b-4347-b5d5-8610936fd99c');\n",
       "var x = new MutationObserver(function (mutations, observer) {{\n",
       "        var display = window.getComputedStyle(gd).display;\n",
       "        if (!display || display === 'none') {{\n",
       "            console.log([gd, 'removed!']);\n",
       "            Plotly.purge(gd);\n",
       "            observer.disconnect();\n",
       "        }}\n",
       "}});\n",
       "\n",
       "// Listen for the removal of the full notebook cells\n",
       "var notebookContainer = gd.closest('#notebook-container');\n",
       "if (notebookContainer) {{\n",
       "    x.observe(notebookContainer, {childList: true});\n",
       "}}\n",
       "\n",
       "// Listen for the clearing of the current output cell\n",
       "var outputEl = gd.closest('.output');\n",
       "if (outputEl) {{\n",
       "    x.observe(outputEl, {childList: true});\n",
       "}}\n",
       "\n",
       "                        })\n",
       "                };\n",
       "                });\n",
       "            </script>\n",
       "        </div>"
      ]
     },
     "metadata": {},
     "output_type": "display_data"
    }
   ],
   "source": [
    "# Use a function defined above to plot the scenarios\n",
    "plot_shocked_interest_rates(\n",
    "    refdate_current,\n",
    "    example_current_sampling_points,\n",
    "    example_current_interest_rates_basispoints,\n",
    "    analytics.DayCounter(default_daycounter_type),\n",
    "    shockparams_standard,\n",
    "    False\n",
    ")\n",
    "\n",
    "plot_shocked_interest_rates(\n",
    "    refdate_current,\n",
    "    example_current_sampling_points,\n",
    "    example_current_interest_rates_basispoints,\n",
    "    analytics.DayCounter(default_daycounter_type),\n",
    "    shockparams_standard,\n",
    "    True\n",
    ")"
   ]
  },
  {
   "cell_type": "markdown",
   "metadata": {},
   "source": [
    "## Interactive Plot"
   ]
  },
  {
   "cell_type": "code",
   "execution_count": 17,
   "metadata": {
    "code_folding": [
     0
    ]
   },
   "outputs": [],
   "source": [
    "# Define a function, which applies and then plots a single scenario\n",
    "\n",
    "def plot_shocked_interest_rates_single(\n",
    "    name,\n",
    "    fig,\n",
    "    showPlot,\n",
    "    refdate,\n",
    "    dates,\n",
    "    interestRates,\n",
    "    daycounter,\n",
    "    shockScenario,\n",
    "    shockParams,\n",
    "    useLowerBound = True,\n",
    "    plotOriginal = True,\n",
    "    plotLowerBound = True\n",
    "):\n",
    "    parallel = shockParams['Parallel']\n",
    "    short = shockParams['Short']\n",
    "    long = shockParams['Long']\n",
    "    \n",
    "    \n",
    "    year_fractions = []\n",
    "    for i in range(len(dates)):\n",
    "        year_fractions.append(daycounter.yf(refdate, dates[i]))\n",
    "    \n",
    "    if showPlot:\n",
    "        visible = True\n",
    "    else:\n",
    "        visible = 'legendonly'\n",
    "        \n",
    "    if plotOriginal:\n",
    "        fig.add_trace(go.Scatter(x = year_fractions, y = interestRates, name = name + ' (Original)', mode = default_plotly_scatter_mode, visible = visible))\n",
    "\n",
    "        \n",
    "    # plot chosen scenario  \n",
    "    if shockScenario != '' and shockScenario != 'Original':\n",
    "        ir = getShockedInterestRates(\n",
    "            refdate,\n",
    "            dates,\n",
    "            interestRates,\n",
    "            daycounter,\n",
    "            shockScenario,\n",
    "            parallel,\n",
    "            short,\n",
    "            long,\n",
    "            useLowerBound\n",
    "        )\n",
    "        fig.add_trace(go.Scatter(x = year_fractions, y = ir, name = name + ' (' + shockScenario + ')', mode = default_plotly_scatter_mode, visible = visible))\n",
    "\n",
    "    \n",
    "    return year_fractions;"
   ]
  },
  {
   "cell_type": "code",
   "execution_count": 18,
   "metadata": {
    "code_folding": [
     0
    ]
   },
   "outputs": [],
   "source": [
    "# Define the function, which we're going to use in combination with widgets in order to plot\n",
    "# the scenario specified by the user.\n",
    "\n",
    "def showPlot(\n",
    "    shockScenario = 'Original',\n",
    "    useLowerBound = True\n",
    "):\n",
    "    yf_bafin = []\n",
    "    yf_current = []\n",
    "    yf_constant = []\n",
    "    \n",
    "    showExampleConstant = False\n",
    "    showExampleBaFin = True\n",
    "    showExampleCurrent = False\n",
    "    \n",
    "    fig = go.Figure()\n",
    "    \n",
    "    yf_constant = plot_shocked_interest_rates_single(\n",
    "        'Constant 0',\n",
    "        fig,\n",
    "        showExampleConstant,\n",
    "        refdate = refdate_scenarios,\n",
    "        dates = sampling_points_simple_example,\n",
    "        interestRates = interestRates,\n",
    "        daycounter = analytics.DayCounter(default_daycounter_type),\n",
    "        shockScenario = shockScenario,\n",
    "        shockParams = shockparams_standard,\n",
    "        useLowerBound = useLowerBound,\n",
    "        plotOriginal = True,\n",
    "        plotLowerBound = useLowerBound\n",
    "    )\n",
    "\n",
    "    yf_bafin = plot_shocked_interest_rates_single(\n",
    "        'BaFin',\n",
    "        fig,\n",
    "        showExampleBaFin,\n",
    "        refdate = refdate_BaFin,\n",
    "        dates = example_BaFin_sampling_points,\n",
    "        interestRates = example_BaFin_interest_rate_basispoints,\n",
    "        daycounter = analytics.DayCounter(default_daycounter_type),\n",
    "        shockScenario = shockScenario,\n",
    "        shockParams = shockparams_standard,\n",
    "        useLowerBound = useLowerBound,\n",
    "        plotOriginal = True,\n",
    "        plotLowerBound = useLowerBound\n",
    "    )\n",
    "\n",
    "    yf_current = plot_shocked_interest_rates_single(\n",
    "        'Current',\n",
    "        fig,\n",
    "        showExampleCurrent,\n",
    "        refdate = refdate_current,\n",
    "        dates = example_current_sampling_points,\n",
    "        interestRates = example_current_interest_rates_basispoints,\n",
    "        daycounter = analytics.DayCounter(default_daycounter_type),\n",
    "        shockScenario = shockScenario,\n",
    "        shockParams = shockparams_standard,\n",
    "        useLowerBound = useLowerBound,\n",
    "        plotOriginal = True,\n",
    "        plotLowerBound = useLowerBound\n",
    "    )\n",
    "    \n",
    "    \n",
    "    year_fractions = []\n",
    "    year_fractions.extend(t for t in yf_bafin if t not in year_fractions)\n",
    "    year_fractions.extend(t for t in yf_current if t not in year_fractions)\n",
    "    year_fractions.extend(t for t in yf_constant if t not in year_fractions)\n",
    "    year_fractions = sorted(year_fractions)\n",
    "    \n",
    "    if useLowerBound:\n",
    "        fig.add_trace(go.Scatter(x = year_fractions, y = lowerBound(year_fractions), name = 'Lower Bound', mode = default_plotly_scatter_mode))\n",
    "    \n",
    "    if  useLowerBound:\n",
    "        title_figure = 'Shock scenarios (with lower bound)'\n",
    "    else :\n",
    "        title_figure = 'Shock scenarios (without lower bound)'\n",
    "    \n",
    "    fig.update_layout(\n",
    "        showlegend=True,\n",
    "        xaxis = dict(title_text = \"Expiry (in years)\"),\n",
    "        yaxis = dict(title_text = \"Interest rate (in basis points)\"),\n",
    "        title={\n",
    "            'text': title_figure,\n",
    "            'y':0.9,\n",
    "            'x':0.5,\n",
    "            'xanchor': 'center',\n",
    "            'yanchor': 'top'}\n",
    "    )\n",
    "\n",
    "    fig.show()"
   ]
  },
  {
   "cell_type": "code",
   "execution_count": 19,
   "metadata": {
    "code_folding": [
     0
    ]
   },
   "outputs": [
    {
     "data": {
      "application/vnd.jupyter.widget-view+json": {
       "model_id": "8195f607a6ea4194855eea6737e53b8c",
       "version_major": 2,
       "version_minor": 0
      },
      "text/plain": [
       "interactive(children=(Combobox(value='', description='Scenario:', ensure_option=True, options=('ParallelUp', '…"
      ]
     },
     "metadata": {},
     "output_type": "display_data"
    }
   ],
   "source": [
    "# Use widgets to make the plot interactive\n",
    "\n",
    "combobox_scenario = widgets.Combobox(\n",
    "    # value='Flatten',\n",
    "    placeholder='Choose Scenario',\n",
    "    options=['ParallelUp', 'ParallelDown', 'ShortUp', 'ShortDown', 'LongUp', 'LongDown', 'Flatten', 'Steepen'],\n",
    "    description='Scenario:',\n",
    "    ensure_option=True,\n",
    "    disabled=False\n",
    ")\n",
    "\n",
    "checkbox_lower_bound = widgets.Checkbox(\n",
    "    value=False,\n",
    "    description='Use lower bound',\n",
    "    disabled=False,\n",
    "    indent=True\n",
    ")\n",
    "\n",
    "widgets.interact(\n",
    "    showPlot,\n",
    "    shockScenario = combobox_scenario,\n",
    "    shockParams = shockparams_standard,\n",
    "    useLowerBound = checkbox_lower_bound\n",
    ");"
   ]
  },
  {
   "cell_type": "markdown",
   "metadata": {},
   "source": [
    "# TODO"
   ]
  },
  {
   "cell_type": "markdown",
   "metadata": {},
   "source": [
    "- XXXX"
   ]
  },
  {
   "cell_type": "code",
   "execution_count": null,
   "metadata": {},
   "outputs": [],
   "source": []
  }
 ],
 "metadata": {
  "kernelspec": {
   "display_name": "Python 3",
   "language": "python",
   "name": "python3"
  },
  "language_info": {
   "codemirror_mode": {
    "name": "ipython",
    "version": 3
   },
   "file_extension": ".py",
   "mimetype": "text/x-python",
   "name": "python",
   "nbconvert_exporter": "python",
   "pygments_lexer": "ipython3",
   "version": "3.6.9"
  },
  "toc": {
   "base_numbering": 1,
   "nav_menu": {},
   "number_sections": true,
   "sideBar": true,
   "skip_h1_title": false,
   "title_cell": "Table of Contents",
   "title_sidebar": "Contents",
   "toc_cell": false,
   "toc_position": {
    "height": "calc(100% - 180px)",
    "left": "10px",
    "top": "150px",
    "width": "268.253px"
   },
   "toc_section_display": true,
   "toc_window_display": true
  },
  "varInspector": {
   "cols": {
    "lenName": 16,
    "lenType": 16,
    "lenVar": 40
   },
   "kernels_config": {
    "python": {
     "delete_cmd_postfix": "",
     "delete_cmd_prefix": "del ",
     "library": "var_list.py",
     "varRefreshCmd": "print(var_dic_list())"
    },
    "r": {
     "delete_cmd_postfix": ") ",
     "delete_cmd_prefix": "rm(",
     "library": "var_list.r",
     "varRefreshCmd": "cat(var_dic_list()) "
    }
   },
   "types_to_exclude": [
    "module",
    "function",
    "builtin_function_or_method",
    "instance",
    "_Feature"
   ],
   "window_display": false
  }
 },
 "nbformat": 4,
 "nbformat_minor": 2
}
