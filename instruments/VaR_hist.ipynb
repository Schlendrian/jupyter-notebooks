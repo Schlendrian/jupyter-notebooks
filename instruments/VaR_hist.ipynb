{
 "cells": [
  {
   "cell_type": "code",
   "execution_count": 1,
   "metadata": {},
   "outputs": [
    {
     "name": "stderr",
     "output_type": "stream",
     "text": [
      "C:\\Users\\Anwender\\.conda\\envs\\python36\\lib\\site-packages\\pyvacon\\__init__.py:10: UserWarning: Imported pyvacon is just beta version.\n",
      "  warnings.warn('Imported pyvacon is just beta version.')\n"
     ]
    }
   ],
   "source": [
    "import pyvacon\n",
    "import datetime as dt\n",
    "import math\n",
    "\n",
    "import pyvacon.marketdata.testdata as mkt_testdata\n",
    "import pyvacon.tools.enums as enums\n",
    "import pyvacon.marketdata.plot as mkt_plot\n",
    "import pyvacon.models.plot as model_plot\n",
    "import pyvacon.models.tools as model_tools\n",
    "\n",
    "import pyvacon.analytics as analytics\n",
    "import pyvacon.tools.converter as converter\n",
    "\n",
    "\n",
    "import matplotlib.pyplot as plt\n",
    "%matplotlib inline\n",
    "\n",
    "\n",
    "import matplotlib.pyplot as plt\n",
    "import matplotlib.ticker as ticker\n",
    "import matplotlib.dates as mdates\n",
    "import matplotlib.transforms as mtransforms\n",
    "%matplotlib inline\n",
    "import numpy as np\n",
    "\n",
    "import pandas as pd\n",
    "\n",
    "from pandas.plotting import register_matplotlib_converters\n",
    "register_matplotlib_converters()"
   ]
  },
  {
   "cell_type": "markdown",
   "metadata": {},
   "source": [
    "# Generate Scenarios"
   ]
  },
  {
   "cell_type": "code",
   "execution_count": 2,
   "metadata": {},
   "outputs": [],
   "source": [
    "# load test data from an Excel file\n",
    "xl = pd.ExcelFile('TestDaten.xlsx')\n",
    "#print(xl.sheet_names)"
   ]
  },
  {
   "cell_type": "code",
   "execution_count": 3,
   "metadata": {},
   "outputs": [],
   "source": [
    "dfEONIA = xl.parse('EONIA')\n",
    "dfEONIA = pd.DataFrame(dfEONIA,\n",
    "                       columns = [\n",
    "                           'stichtag6',\n",
    "                           'prz_bs1j',\n",
    "                           'prz_bs2j',\n",
    "                           'prz_bs3j',\n",
    "                           'prz_bs4j',\n",
    "                           'prz_bs5j',\n",
    "                           'prz_bs6j',\n",
    "                           'prz_bs7j',\n",
    "                           'prz_bs8j',\n",
    "                           'prz_bs9j',\n",
    "                           'prz_bs10j'\n",
    "                       ])\n",
    "\n",
    "# convert Excel dates to a human-readable format and add them to the data frame as a new column\n",
    "dfEONIA['datum'] = pd.TimedeltaIndex(dfEONIA['stichtag6'], unit='d') + dt.datetime(1899, 12, 30)\n",
    "#print(dfEONIA)"
   ]
  },
  {
   "cell_type": "code",
   "execution_count": 4,
   "metadata": {},
   "outputs": [],
   "source": [
    "# absolute Differenzen berechnen\n",
    "timeinterval = 1 # number of business days (TARGET2), i.e. the number of rows in the Excel sheet\n",
    "\n",
    "# restrict to certain columns\n",
    "dfDiffs = pd.DataFrame(dfEONIA,\n",
    "                       columns = [\n",
    "                           'prz_bs1j',\n",
    "                           'prz_bs2j',\n",
    "                           'prz_bs3j',\n",
    "                           'prz_bs4j',\n",
    "                           'prz_bs5j',\n",
    "                           'prz_bs6j',\n",
    "                           'prz_bs7j',\n",
    "                           'prz_bs8j',\n",
    "                           'prz_bs9j',\n",
    "                           'prz_bs10j'\n",
    "                       ])\n",
    "#print(dfDiffs)\n",
    "\n",
    "# save the current market data in a pandas.series\n",
    "sCurrent = dfDiffs.iloc[0,:]\n",
    "#print(sCurrent)\n",
    "\n",
    "# Compute the elementwise difference (diff) of rows in the data frame (DF)\n",
    "# diff[i] = DF[i]-DF[i-n]\n",
    "# In words: For n = 1 we subtract from the values of any given row the values of the preceeding row\n",
    "dfDiffs = dfDiffs.diff(periods=timeinterval)\n",
    "#print(dfDiffs)\n",
    "\n",
    "# Since we want\n",
    "# diff[i] = DF[i-n]-DF[i], so that DF[i]+diff[i] = DF[i-n],\n",
    "# we need to multiply by -1\n",
    "dfDiffs = dfDiffs * (-1)\n",
    "#print(dfDiffs)\n",
    "\n",
    "# Get rid of the NaN rows\n",
    "dfDiffs = dfDiffs.iloc[timeinterval:, :]\n",
    "#print(dfDiffs)\n",
    "\n",
    "# Compute the scenarios by adding the diffs to the current market data\n",
    "dfScenarios = dfDiffs + sCurrent\n",
    "#print(dfScenarios)\n",
    "#print(sCurrent)\n",
    "#print(dfDiffs.iloc[71,:])\n",
    "#print(dfScenarios.iloc[71,:])"
   ]
  },
  {
   "cell_type": "markdown",
   "metadata": {},
   "source": [
    "# Define a Portfolio\n",
    "Start with one simple bond."
   ]
  },
  {
   "cell_type": "code",
   "execution_count": 5,
   "metadata": {},
   "outputs": [],
   "source": [
    "# define the reference date as the date of the first market data sample (rows are ordered by date desc)\n",
    "refdate = dt.datetime(year = dfEONIA.iloc[0]['datum'].year, month = dfEONIA.iloc[0]['datum'].month, day = dfEONIA.iloc[0]['datum'].day)\n",
    "\n",
    "duration = 10\n",
    "maturity = dt.datetime(year = refdate.year + duration, month = refdate.month, day = refdate.day)\n",
    "#print(refdate)\n",
    "#print(maturity)\n",
    "\n",
    "# Generate the coupon payment schedule as a vector of datetimes\n",
    "coupon_dates = []\n",
    "for i in range(duration):\n",
    "    coupon_dates.append(dt.datetime(year = refdate.year + i + 1, month = refdate.month, day = refdate.day))\n",
    "#print(coupon_dates)\n",
    "\n",
    "# We now use these dates to define a fixed coupon bond\n",
    "principal = 100.0\n",
    "coupon_rates = [0.05]*len(coupon_dates)\n",
    "coupon_payments = [0.05*principal]*len(coupon_dates)\n",
    "\n",
    "fixed_coupon_bond = pyvacon.instruments.BondSpecification('Fixed_Coupon', 'DBK', enums.SecuritizationLevel.NONE, 'EUR',\n",
    "    maturity, refdate, principal, enums.DayCounter.ACTACT, coupon_dates, coupon_rates, '', [], [])"
   ]
  },
  {
   "cell_type": "code",
   "execution_count": null,
   "metadata": {},
   "outputs": [],
   "source": []
  },
  {
   "cell_type": "markdown",
   "metadata": {},
   "source": [
    "# Compute Portfolio Values"
   ]
  },
  {
   "cell_type": "code",
   "execution_count": 6,
   "metadata": {},
   "outputs": [],
   "source": [
    "# Define the pricer, we're going to use to price our bond\n",
    "pricing_data_simple = pyvacon.pricing.BondPricingData()\n",
    "pricing_data_simple.param = pyvacon.pricing.BondPricingParameter()\n",
    "pricing_data_simple.param.useJLT = False\n",
    "pricing_data_simple.pricingRequest = pyvacon.pricing.PricingRequest()\n",
    "pricing_data_simple.pricingRequest.setCleanPrice(True)\n",
    "pricing_data_simple.pricer = 'BondPricer'"
   ]
  },
  {
   "cell_type": "code",
   "execution_count": 7,
   "metadata": {},
   "outputs": [],
   "source": [
    "# We want to compute the value of our portfolio after the timeinterval (in days) defined above\n",
    "valDate = refdate + dt.timedelta(days = timeinterval)\n",
    "\n",
    "\n",
    "# our market data contains the fixed swap rates for durations of 1 through 10 years\n",
    "samplingPointsEONIA = []\n",
    "for i in range(10):\n",
    "    samplingPointsEONIA.append(dt.datetime(year = refdate.year + i + 1, month = refdate.month, day = refdate.day))\n",
    "    \n",
    "# convert to a format the DiscountCurve constructor understands\n",
    "samplingPointsEONIA = converter.createPTimeList(refdate, samplingPointsEONIA)\n"
   ]
  },
  {
   "cell_type": "code",
   "execution_count": 8,
   "metadata": {},
   "outputs": [],
   "source": [
    "# Compute the price of the fixed coupon bond at the valuation date defined above\n",
    "# Repeat for every scenario\n",
    "pricing_data_simple.spec = fixed_coupon_bond\n",
    "pricing_data_simple.valDate = valDate\n",
    "resultsDirty = []\n",
    "resultsClean = []\n",
    "for index, scenario in dfScenarios.iterrows():\n",
    "    # create DC defined by the scenario\n",
    "    dsc_fac = analytics.vectorDouble()\n",
    "    for i in range(len(scenario)):\n",
    "            dsc_fac.append(math.exp(-scenario.iloc[i]/100*i)) # t = i years  # market data is given in base points -> /100  \n",
    "            \n",
    "    discountCurve = analytics.DiscountCurve('dc_linear', refdate, samplingPointsEONIA, dsc_fac, enums.DayCounter.ACTACT, enums.InterpolationType.LINEAR, enums.ExtrapolationType.NONE)\n",
    "    pricing_data_simple.discountCurve = discountCurve\n",
    "    \n",
    "    results = pyvacon.pricing.price(pricing_data_simple)\n",
    "    resultsDirty.append(results.getPrice())\n",
    "    resultsClean.append(results.getCleanPrice())\n",
    "    #print(pricing_data_simple.spec.getObjectId() + ', dirty price: ' + str(results.getPrice()) + \",  clean price: \" + str(results.getCleanPrice()))\n",
    "    "
   ]
  },
  {
   "cell_type": "code",
   "execution_count": 9,
   "metadata": {},
   "outputs": [
    {
     "name": "stdout",
     "output_type": "stream",
     "text": [
      "148.83609423120254\n",
      "150.85265031654404\n"
     ]
    }
   ],
   "source": [
    "#print(scenario)\n",
    "#print(scenario.to_numpy())\n",
    "#print(resultsDirty)\n",
    "#print(resultsClean)\n",
    "\n",
    "minIndex = resultsDirty.index(min(resultsDirty))\n",
    "#print(minIndex)\n",
    "#print(resultsClean.index(min(resultsClean)))\n",
    "print(resultsDirty[minIndex])\n",
    "#print(resultsClean[minIndex])\n",
    "#print(dfScenarios.iloc[minIndex])\n",
    "\n",
    "\n",
    "maxIndex = resultsDirty.index(max(resultsDirty))\n",
    "#print(maxIndex)\n",
    "#print(resultsClean.index(max(resultsClean)))\n",
    "print(resultsDirty[maxIndex])\n",
    "#print(resultsClean[maxIndex])\n",
    "#print(dfScenarios.iloc[maxIndex])"
   ]
  },
  {
   "cell_type": "code",
   "execution_count": 10,
   "metadata": {},
   "outputs": [
    {
     "name": "stdout",
     "output_type": "stream",
     "text": [
      "149.90089841782418\n"
     ]
    }
   ],
   "source": [
    "# compute the current value\n",
    "\n",
    "\n",
    "# create DC defined by the scenario\n",
    "dsc_fac = analytics.vectorDouble()\n",
    "for i in range(len(scenario)):\n",
    "        dsc_fac.append(math.exp(-sCurrent.iloc[i]/100*i)) # t = i years  # market data is given in base points -> /100  \n",
    "\n",
    "discountCurve = analytics.DiscountCurve('dc_linear', refdate, samplingPointsEONIA, dsc_fac, enums.DayCounter.ACTACT, enums.InterpolationType.LINEAR, enums.ExtrapolationType.NONE)\n",
    "pricing_data_simple.discountCurve = discountCurve\n",
    "results = pyvacon.pricing.price(pricing_data_simple)\n",
    "currentPriceDirty = results.getPrice()\n",
    "currentPriceClean = results.getCleanPrice()\n",
    "print(currentPriceDirty)\n",
    "#print(currentPriceClean)"
   ]
  },
  {
   "cell_type": "code",
   "execution_count": null,
   "metadata": {},
   "outputs": [],
   "source": []
  },
  {
   "cell_type": "markdown",
   "metadata": {},
   "source": [
    "# Plot pricing results"
   ]
  },
  {
   "cell_type": "code",
   "execution_count": 11,
   "metadata": {},
   "outputs": [
    {
     "data": {
      "image/png": "[encoded data removed]",
      "text/plain": [
       "<Figure size 1152x576 with 1 Axes>"
      ]
     },
     "metadata": {
      "needs_background": "light"
     },
     "output_type": "display_data"
    }
   ],
   "source": [
    "resultsDirty = np.sort(resultsDirty)\n",
    "#resultsClean = np.sort(resultsClean)\n",
    "\n",
    "# Histogramm\n",
    "# Setup the graph\n",
    "fig_values = plt.figure(figsize=(16,8))\n",
    "ax = fig_values.gca()\n",
    "#bx = ax.twinx()\n",
    "\n",
    "colorHist = 'tab:blue'\n",
    "colorCurrent = 'tab:orange'\n",
    "#ax.plot(valDates, resultsDirtyFCB, '.', label = 'Dirty Price', color = colorPrice, zorder = 20)\n",
    "ax.hist(resultsDirty, bins=60, label = 'Dirty Price', color = colorHist, zorder = 20, edgecolor='w')\n",
    "ax.axvline(x=currentPriceDirty, ymin=0, ymax=1, color=colorCurrent, zorder = 30)\n",
    "\n",
    "plt.show()\n"
   ]
  },
  {
   "cell_type": "code",
   "execution_count": 12,
   "metadata": {},
   "outputs": [
    {
     "data": {
      "image/png": "[encoded data removed]",
      "text/plain": [
       "<Figure size 1152x576 with 1 Axes>"
      ]
     },
     "metadata": {
      "needs_background": "light"
     },
     "output_type": "display_data"
    }
   ],
   "source": [
    "# Histogramm of the changes/differences in value\n",
    "valDiffsDirty = resultsDirty - currentPriceDirty\n",
    "fig_diff = plt.figure(figsize=(16,8))\n",
    "ax = fig_diff.gca()\n",
    "#bx = ax.twinx()\n",
    "\n",
    "colorHist = 'tab:blue'\n",
    "colorCurrent = 'tab:orange'\n",
    "#ax.plot(valDates, resultsDirtyFCB, '.', label = 'Dirty Price', color = colorPrice, zorder = 20)\n",
    "ax.hist(valDiffsDirty, bins=60, label = 'Dirty Price', color = colorHist, zorder = 20, edgecolor='w')\n",
    "ax.axvline(x=0, ymin=0, ymax=1, color=colorCurrent, zorder = 30)\n",
    "\n",
    "plt.show()"
   ]
  },
  {
   "cell_type": "markdown",
   "metadata": {},
   "source": [
    "# Compute Value at Risk"
   ]
  },
  {
   "cell_type": "code",
   "execution_count": 13,
   "metadata": {},
   "outputs": [
    {
     "name": "stdout",
     "output_type": "stream",
     "text": [
      "With a probability of 99.19678714859438%\n",
      "the value of our portfolio is not going to shrink by more than 0.7220727813180474\n",
      "in the next 1 day(s)\n"
     ]
    }
   ],
   "source": [
    "valDiffsDirty = -np.sort(-valDiffsDirty)\n",
    "quantile = 0.99\n",
    "#print(np.quantile(valDiffsDirty, 1-quantile, interpolation='higher')) # apparently always uses ascending order\n",
    "\n",
    "# Compute the number of the entry corresponding to the quantile defined above\n",
    "quantileIndex = np.ceil(len(valDiffsDirty)*quantile).astype(int)\n",
    "#print(quantileIndex)\n",
    "#print(quantile * len(valDiffsDirty))\n",
    "\n",
    "# To get the index of this entry, we have to subtract 1\n",
    "quantileIndex -= 1\n",
    "\n",
    "print('With a probability of ' + ((quantileIndex + 1)/len(valDiffsDirty)*100).astype('str') + '%')\n",
    "print('the value of our portfolio is not going to shrink by more than ' + (-1 * valDiffsDirty[quantileIndex]).astype('str'))\n",
    "print('in the next ' + str(timeinterval) + ' day(s)')\n",
    "\n",
    "# Check correctness\n",
    "#print('--------------')\n",
    "#print(valDiffsDirty[quantileIndex-1])\n",
    "#print((quantileIndex)/len(valDiffsDirty))\n",
    "#print('--------------')\n",
    "#print(valDiffsDirty[quantileIndex])\n",
    "#print((quantileIndex + 1)/len(valDiffsDirty))\n",
    "#print('--------------')\n",
    "#print(valDiffsDirty[quantileIndex+1])\n",
    "#print((quantileIndex + 2)/len(valDiffsDirty))\n",
    "#print('--------------')\n"
   ]
  },
  {
   "cell_type": "code",
   "execution_count": null,
   "metadata": {},
   "outputs": [],
   "source": []
  }
 ],
 "metadata": {
  "kernelspec": {
   "display_name": "Python 3",
   "language": "python",
   "name": "python3"
  },
  "language_info": {
   "codemirror_mode": {
    "name": "ipython",
    "version": 3
   },
   "file_extension": ".py",
   "mimetype": "text/x-python",
   "name": "python",
   "nbconvert_exporter": "python",
   "pygments_lexer": "ipython3",
   "version": "3.6.9"
  }
 },
 "nbformat": 4,
 "nbformat_minor": 2
}
